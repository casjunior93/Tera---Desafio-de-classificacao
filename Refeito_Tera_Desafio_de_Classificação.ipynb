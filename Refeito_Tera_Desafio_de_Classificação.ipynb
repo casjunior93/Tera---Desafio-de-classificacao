{
  "nbformat": 4,
  "nbformat_minor": 0,
  "metadata": {
    "colab": {
      "name": "Refeito - Tera - Desafio de Classificação.ipynb",
      "provenance": [],
      "collapsed_sections": [],
      "authorship_tag": "ABX9TyMzMypnuep+luk06RIHHti+",
      "include_colab_link": true
    },
    "kernelspec": {
      "name": "python3",
      "display_name": "Python 3"
    },
    "language_info": {
      "name": "python"
    }
  },
  "cells": [
    {
      "cell_type": "markdown",
      "metadata": {
        "id": "view-in-github",
        "colab_type": "text"
      },
      "source": [
        "<a href=\"https://colab.research.google.com/github/casjunior93/Tera---Desafio-de-classificacao/blob/main/Refeito_Tera_Desafio_de_Classifica%C3%A7%C3%A3o.ipynb\" target=\"_parent\"><img src=\"https://colab.research.google.com/assets/colab-badge.svg\" alt=\"Open In Colab\"/></a>"
      ]
    },
    {
      "cell_type": "markdown",
      "source": [
        "# Desafio de Detecção e Redução de Fraudes no Setor Financeiro"
      ],
      "metadata": {
        "id": "zfV-2NZll7Ge"
      }
    },
    {
      "cell_type": "code",
      "execution_count": 1,
      "metadata": {
        "colab": {
          "base_uri": "https://localhost:8080/"
        },
        "id": "zsXxUM66lk9R",
        "outputId": "97616fc8-c736-4ebc-db0b-2f52319f2f73"
      },
      "outputs": [
        {
          "output_type": "stream",
          "name": "stdout",
          "text": [
            "Drive already mounted at /content/drive; to attempt to forcibly remount, call drive.mount(\"/content/drive\", force_remount=True).\n"
          ]
        }
      ],
      "source": [
        "from google.colab import drive\n",
        "drive.mount('/content/drive')"
      ]
    },
    {
      "cell_type": "markdown",
      "source": [
        "Para este trabalho, achei interessante utilizar o Ciclo de Vida Analítico, indicado pela SAS Institute (https://www.sas.com/pt_br/insights/analytics/analytics.html). Ela recomenda a segmentação da jornada analítica em passos mais detalhados e iterativos. São eles:\n",
        "\n",
        "* Identifique o problema.\n",
        "* Prepare os dados para análise.\n",
        "* Explore os dados.\n",
        "* Transforme os dados e crie modelos.\n",
        "* Teste e valide modelos.\n",
        "* Implemente modelos.\n",
        "* Monitore e avalie modelos.\n",
        "\n",
        "Aqui, seguirei os 5 primeiros passos."
      ],
      "metadata": {
        "id": "zcJk-rCC-2eV"
      }
    },
    {
      "cell_type": "markdown",
      "source": [
        "# Passo 1: Identifique o problema"
      ],
      "metadata": {
        "id": "edkfT_XBAA7C"
      }
    },
    {
      "cell_type": "markdown",
      "source": [
        "O desafio é propor uma solução para detecção e análise de fraudes que possam reduzir os riscos da empresa de crédito em que trabalho e garantir margens saudáveis.\n",
        "\n",
        "Link do dataset: https://drive.google.com/file/d/1zjK8zQK5zvhR_r2chWI5dCjeOwASlPfb/view"
      ],
      "metadata": {
        "id": "co1RVbeCmOll"
      }
    },
    {
      "cell_type": "markdown",
      "source": [
        "# **Passo 2: Prepare os dados para análise**\n",
        "\n",
        "Vou começar importando as bibliotecas iniciais:"
      ],
      "metadata": {
        "id": "uLyjd_rUAMm4"
      }
    },
    {
      "cell_type": "code",
      "source": [
        "%%time\n",
        "import pandas as pd\n",
        "import seaborn as sns\n",
        "import matplotlib.pyplot as plt\n",
        "import warnings\n",
        "warnings.filterwarnings('ignore')\n",
        "\n",
        "# Evita que o pandas apresente valores em notação científica\n",
        "pd.set_option('display.float_format', lambda x: '%.5f' % x)"
      ],
      "metadata": {
        "id": "8pbaowK1mN3y",
        "colab": {
          "base_uri": "https://localhost:8080/"
        },
        "outputId": "4c3b1cad-9ab2-4410-cec6-17ad926e2a8b"
      },
      "execution_count": 2,
      "outputs": [
        {
          "output_type": "stream",
          "name": "stdout",
          "text": [
            "CPU times: user 837 ms, sys: 198 ms, total: 1.03 s\n",
            "Wall time: 1.68 s\n"
          ]
        }
      ]
    },
    {
      "cell_type": "markdown",
      "source": [
        "Agora importo os dados:"
      ],
      "metadata": {
        "id": "4HLFfCHcmcgr"
      }
    },
    {
      "cell_type": "code",
      "source": [
        "%%time\n",
        "df = pd.read_csv('/content/drive/MyDrive/Tera/DESAFIO CLASSIFICAÇÃO/fraud_detection_dataset.csv')"
      ],
      "metadata": {
        "id": "X7sDGBADmULh",
        "colab": {
          "base_uri": "https://localhost:8080/"
        },
        "outputId": "3da80c5b-2502-43d9-d098-8ebdda6df5fb"
      },
      "execution_count": 3,
      "outputs": [
        {
          "output_type": "stream",
          "name": "stdout",
          "text": [
            "CPU times: user 14.8 s, sys: 2.21 s, total: 17 s\n",
            "Wall time: 23 s\n"
          ]
        }
      ]
    },
    {
      "cell_type": "code",
      "source": [
        "%%time\n",
        "df.sample(5)"
      ],
      "metadata": {
        "colab": {
          "base_uri": "https://localhost:8080/",
          "height": 241
        },
        "id": "m0abH6XMm5UT",
        "outputId": "50f37e0b-2693-4cc4-c86b-9c4d0780e5b8"
      },
      "execution_count": 4,
      "outputs": [
        {
          "output_type": "stream",
          "name": "stdout",
          "text": [
            "CPU times: user 412 ms, sys: 3.82 ms, total: 416 ms\n",
            "Wall time: 415 ms\n"
          ]
        },
        {
          "output_type": "execute_result",
          "data": {
            "text/html": [
              "\n",
              "  <div id=\"df-77493701-1fb6-487a-8719-ffec7fd9ec6c\">\n",
              "    <div class=\"colab-df-container\">\n",
              "      <div>\n",
              "<style scoped>\n",
              "    .dataframe tbody tr th:only-of-type {\n",
              "        vertical-align: middle;\n",
              "    }\n",
              "\n",
              "    .dataframe tbody tr th {\n",
              "        vertical-align: top;\n",
              "    }\n",
              "\n",
              "    .dataframe thead th {\n",
              "        text-align: right;\n",
              "    }\n",
              "</style>\n",
              "<table border=\"1\" class=\"dataframe\">\n",
              "  <thead>\n",
              "    <tr style=\"text-align: right;\">\n",
              "      <th></th>\n",
              "      <th>step</th>\n",
              "      <th>type</th>\n",
              "      <th>amount</th>\n",
              "      <th>nameOrig</th>\n",
              "      <th>oldbalanceOrg</th>\n",
              "      <th>newbalanceOrig</th>\n",
              "      <th>nameDest</th>\n",
              "      <th>oldbalanceDest</th>\n",
              "      <th>newbalanceDest</th>\n",
              "      <th>isFraud</th>\n",
              "      <th>isFlaggedFraud</th>\n",
              "    </tr>\n",
              "  </thead>\n",
              "  <tbody>\n",
              "    <tr>\n",
              "      <th>2578727</th>\n",
              "      <td>207</td>\n",
              "      <td>PAYMENT</td>\n",
              "      <td>16256.81000</td>\n",
              "      <td>C1993263065</td>\n",
              "      <td>60267.00000</td>\n",
              "      <td>44010.19000</td>\n",
              "      <td>M943448099</td>\n",
              "      <td>0.00000</td>\n",
              "      <td>0.00000</td>\n",
              "      <td>0</td>\n",
              "      <td>0</td>\n",
              "    </tr>\n",
              "    <tr>\n",
              "      <th>1800177</th>\n",
              "      <td>162</td>\n",
              "      <td>CASH_IN</td>\n",
              "      <td>142288.61000</td>\n",
              "      <td>C1615495351</td>\n",
              "      <td>0.00000</td>\n",
              "      <td>142288.61000</td>\n",
              "      <td>C1815757225</td>\n",
              "      <td>151118.76000</td>\n",
              "      <td>8830.15000</td>\n",
              "      <td>0</td>\n",
              "      <td>0</td>\n",
              "    </tr>\n",
              "    <tr>\n",
              "      <th>4892908</th>\n",
              "      <td>349</td>\n",
              "      <td>CASH_IN</td>\n",
              "      <td>5114.64000</td>\n",
              "      <td>C1918750760</td>\n",
              "      <td>204552.37000</td>\n",
              "      <td>209667.01000</td>\n",
              "      <td>C579203723</td>\n",
              "      <td>5750556.84000</td>\n",
              "      <td>5745442.20000</td>\n",
              "      <td>0</td>\n",
              "      <td>0</td>\n",
              "    </tr>\n",
              "    <tr>\n",
              "      <th>6248828</th>\n",
              "      <td>596</td>\n",
              "      <td>PAYMENT</td>\n",
              "      <td>10698.18000</td>\n",
              "      <td>C2111914582</td>\n",
              "      <td>495978.71000</td>\n",
              "      <td>485280.54000</td>\n",
              "      <td>M1545180337</td>\n",
              "      <td>0.00000</td>\n",
              "      <td>0.00000</td>\n",
              "      <td>0</td>\n",
              "      <td>0</td>\n",
              "    </tr>\n",
              "    <tr>\n",
              "      <th>6237968</th>\n",
              "      <td>594</td>\n",
              "      <td>PAYMENT</td>\n",
              "      <td>2076.36000</td>\n",
              "      <td>C1278866311</td>\n",
              "      <td>0.00000</td>\n",
              "      <td>0.00000</td>\n",
              "      <td>M1069219847</td>\n",
              "      <td>0.00000</td>\n",
              "      <td>0.00000</td>\n",
              "      <td>0</td>\n",
              "      <td>0</td>\n",
              "    </tr>\n",
              "  </tbody>\n",
              "</table>\n",
              "</div>\n",
              "      <button class=\"colab-df-convert\" onclick=\"convertToInteractive('df-77493701-1fb6-487a-8719-ffec7fd9ec6c')\"\n",
              "              title=\"Convert this dataframe to an interactive table.\"\n",
              "              style=\"display:none;\">\n",
              "        \n",
              "  <svg xmlns=\"http://www.w3.org/2000/svg\" height=\"24px\"viewBox=\"0 0 24 24\"\n",
              "       width=\"24px\">\n",
              "    <path d=\"M0 0h24v24H0V0z\" fill=\"none\"/>\n",
              "    <path d=\"M18.56 5.44l.94 2.06.94-2.06 2.06-.94-2.06-.94-.94-2.06-.94 2.06-2.06.94zm-11 1L8.5 8.5l.94-2.06 2.06-.94-2.06-.94L8.5 2.5l-.94 2.06-2.06.94zm10 10l.94 2.06.94-2.06 2.06-.94-2.06-.94-.94-2.06-.94 2.06-2.06.94z\"/><path d=\"M17.41 7.96l-1.37-1.37c-.4-.4-.92-.59-1.43-.59-.52 0-1.04.2-1.43.59L10.3 9.45l-7.72 7.72c-.78.78-.78 2.05 0 2.83L4 21.41c.39.39.9.59 1.41.59.51 0 1.02-.2 1.41-.59l7.78-7.78 2.81-2.81c.8-.78.8-2.07 0-2.86zM5.41 20L4 18.59l7.72-7.72 1.47 1.35L5.41 20z\"/>\n",
              "  </svg>\n",
              "      </button>\n",
              "      \n",
              "  <style>\n",
              "    .colab-df-container {\n",
              "      display:flex;\n",
              "      flex-wrap:wrap;\n",
              "      gap: 12px;\n",
              "    }\n",
              "\n",
              "    .colab-df-convert {\n",
              "      background-color: #E8F0FE;\n",
              "      border: none;\n",
              "      border-radius: 50%;\n",
              "      cursor: pointer;\n",
              "      display: none;\n",
              "      fill: #1967D2;\n",
              "      height: 32px;\n",
              "      padding: 0 0 0 0;\n",
              "      width: 32px;\n",
              "    }\n",
              "\n",
              "    .colab-df-convert:hover {\n",
              "      background-color: #E2EBFA;\n",
              "      box-shadow: 0px 1px 2px rgba(60, 64, 67, 0.3), 0px 1px 3px 1px rgba(60, 64, 67, 0.15);\n",
              "      fill: #174EA6;\n",
              "    }\n",
              "\n",
              "    [theme=dark] .colab-df-convert {\n",
              "      background-color: #3B4455;\n",
              "      fill: #D2E3FC;\n",
              "    }\n",
              "\n",
              "    [theme=dark] .colab-df-convert:hover {\n",
              "      background-color: #434B5C;\n",
              "      box-shadow: 0px 1px 3px 1px rgba(0, 0, 0, 0.15);\n",
              "      filter: drop-shadow(0px 1px 2px rgba(0, 0, 0, 0.3));\n",
              "      fill: #FFFFFF;\n",
              "    }\n",
              "  </style>\n",
              "\n",
              "      <script>\n",
              "        const buttonEl =\n",
              "          document.querySelector('#df-77493701-1fb6-487a-8719-ffec7fd9ec6c button.colab-df-convert');\n",
              "        buttonEl.style.display =\n",
              "          google.colab.kernel.accessAllowed ? 'block' : 'none';\n",
              "\n",
              "        async function convertToInteractive(key) {\n",
              "          const element = document.querySelector('#df-77493701-1fb6-487a-8719-ffec7fd9ec6c');\n",
              "          const dataTable =\n",
              "            await google.colab.kernel.invokeFunction('convertToInteractive',\n",
              "                                                     [key], {});\n",
              "          if (!dataTable) return;\n",
              "\n",
              "          const docLinkHtml = 'Like what you see? Visit the ' +\n",
              "            '<a target=\"_blank\" href=https://colab.research.google.com/notebooks/data_table.ipynb>data table notebook</a>'\n",
              "            + ' to learn more about interactive tables.';\n",
              "          element.innerHTML = '';\n",
              "          dataTable['output_type'] = 'display_data';\n",
              "          await google.colab.output.renderOutput(dataTable, element);\n",
              "          const docLink = document.createElement('div');\n",
              "          docLink.innerHTML = docLinkHtml;\n",
              "          element.appendChild(docLink);\n",
              "        }\n",
              "      </script>\n",
              "    </div>\n",
              "  </div>\n",
              "  "
            ],
            "text/plain": [
              "         step     type       amount     nameOrig  oldbalanceOrg  \\\n",
              "2578727   207  PAYMENT  16256.81000  C1993263065    60267.00000   \n",
              "1800177   162  CASH_IN 142288.61000  C1615495351        0.00000   \n",
              "4892908   349  CASH_IN   5114.64000  C1918750760   204552.37000   \n",
              "6248828   596  PAYMENT  10698.18000  C2111914582   495978.71000   \n",
              "6237968   594  PAYMENT   2076.36000  C1278866311        0.00000   \n",
              "\n",
              "         newbalanceOrig     nameDest  oldbalanceDest  newbalanceDest  isFraud  \\\n",
              "2578727     44010.19000   M943448099         0.00000         0.00000        0   \n",
              "1800177    142288.61000  C1815757225    151118.76000      8830.15000        0   \n",
              "4892908    209667.01000   C579203723   5750556.84000   5745442.20000        0   \n",
              "6248828    485280.54000  M1545180337         0.00000         0.00000        0   \n",
              "6237968         0.00000  M1069219847         0.00000         0.00000        0   \n",
              "\n",
              "         isFlaggedFraud  \n",
              "2578727               0  \n",
              "1800177               0  \n",
              "4892908               0  \n",
              "6248828               0  \n",
              "6237968               0  "
            ]
          },
          "metadata": {},
          "execution_count": 4
        }
      ]
    },
    {
      "cell_type": "markdown",
      "source": [
        "## Conhecendo as features deste dataset"
      ],
      "metadata": {
        "id": "rTniTIxYmmeK"
      }
    },
    {
      "cell_type": "markdown",
      "source": [
        "* `step` - Passo: representa o total de horas transcorrido desde o início da simulação. Esta feature vai variar entre 1 e 744 (30 dias);\n",
        "\n",
        "* `type` - Tipo: tipo de transação (depósito, saque, débito, pagamento e transferência);\n",
        "\n",
        "* `amount` - Quantia: total que foi transacionado;\n",
        "\n",
        "* `nameOrig` - ClienteOrigem: cliente que iniciou a transação\n",
        "\n",
        "* `oldbalanceOrg` - SaldoInicialOrigem: saldo da conta de origem antes da transação;\n",
        "\n",
        "* `newbalanceOrig` - SaldoFinalOrigem: saldo da conta de origem após a transação;\n",
        "\n",
        "* `nameDest` - ClienteDestino: cliente de destino da transação;\n",
        "\n",
        "* `oldbalanceDest` - SaldoInicialDestino: saldo da conta de destino antes da transação;\n",
        "\n",
        "* `newbalanceDest` - SaldoFinalDestino: saldo da conta de destino após a transação;\n",
        "\n",
        "* `isFraud` - ÉFraude: flag que define se a transação é fraudulenta ou não. Nesta simulação o objetivo da fraude é assumir a conta do usuário, esvaziá-la transferindo para outra conta e então sacando o dinheiro.\n",
        "\n",
        "* `isFlaggedFraud` - SinalizadaComoFraude: automaticamente marcadas pelo banco como fraude por tentarem transferir mais de 200.000 em uma única transação."
      ],
      "metadata": {
        "id": "B9d-4bIrmtLq"
      }
    },
    {
      "cell_type": "markdown",
      "source": [
        "## Renomeando as features"
      ],
      "metadata": {
        "id": "cSAKgjNSnFLb"
      }
    },
    {
      "cell_type": "markdown",
      "source": [
        "Primeiro vou renomear os rótulos das colunas para facilitar a análise."
      ],
      "metadata": {
        "id": "LddwV-QwpSnY"
      }
    },
    {
      "cell_type": "code",
      "source": [
        "%%time\n",
        "df = df.rename(\n",
        "    columns={\"step\":\"totalHoras\", \"type\": \"tipoTransacao\", \"amount\": \"quantia\",\n",
        "             \"nameOrig\": \"clienteOrigem\", \"oldbalanceOrg\": \"saldoInicialOrigem\",\n",
        "             \"newbalanceOrig\": \"saldoFinalOrigem\", \"nameDest\": \"clienteDestino\",\n",
        "             \"oldbalanceDest\": \"saldoInicialDestino\", \"newbalanceDest\": \"saldoFinalDestino\",\n",
        "             \"isFraud\": \"ehFraude\", \"isFlaggedFraud\": \"sinalizadaComoFraude\"\n",
        "             })\n",
        "df.head(3)"
      ],
      "metadata": {
        "colab": {
          "base_uri": "https://localhost:8080/"
        },
        "id": "NKgQUV7mpThb",
        "outputId": "95ef11ab-7e58-4e05-93ab-f03c2f12ff86"
      },
      "execution_count": 5,
      "outputs": [
        {
          "output_type": "stream",
          "name": "stdout",
          "text": [
            "CPU times: user 267 ms, sys: 1.86 ms, total: 268 ms\n",
            "Wall time: 269 ms\n"
          ]
        }
      ]
    },
    {
      "cell_type": "markdown",
      "source": [
        "Análise descritiva:"
      ],
      "metadata": {
        "id": "Fh-f4Wk-o8KX"
      }
    },
    {
      "cell_type": "code",
      "source": [
        "%%time\n",
        "df.describe(include='all')"
      ],
      "metadata": {
        "colab": {
          "base_uri": "https://localhost:8080/",
          "height": 493
        },
        "id": "bKtg2hLSmfVe",
        "outputId": "2dc9048c-e8b9-4f89-bf0d-c1dd8d0d74e2"
      },
      "execution_count": 6,
      "outputs": [
        {
          "output_type": "stream",
          "name": "stdout",
          "text": [
            "CPU times: user 22.7 s, sys: 543 ms, total: 23.2 s\n",
            "Wall time: 23 s\n"
          ]
        },
        {
          "output_type": "execute_result",
          "data": {
            "text/html": [
              "\n",
              "  <div id=\"df-c65be8ca-e104-4b08-87cc-f6aa3cf468b5\">\n",
              "    <div class=\"colab-df-container\">\n",
              "      <div>\n",
              "<style scoped>\n",
              "    .dataframe tbody tr th:only-of-type {\n",
              "        vertical-align: middle;\n",
              "    }\n",
              "\n",
              "    .dataframe tbody tr th {\n",
              "        vertical-align: top;\n",
              "    }\n",
              "\n",
              "    .dataframe thead th {\n",
              "        text-align: right;\n",
              "    }\n",
              "</style>\n",
              "<table border=\"1\" class=\"dataframe\">\n",
              "  <thead>\n",
              "    <tr style=\"text-align: right;\">\n",
              "      <th></th>\n",
              "      <th>totalHoras</th>\n",
              "      <th>tipoTransacao</th>\n",
              "      <th>quantia</th>\n",
              "      <th>clienteOrigem</th>\n",
              "      <th>saldoInicialOrigem</th>\n",
              "      <th>saldoFinalOrigem</th>\n",
              "      <th>clienteDestino</th>\n",
              "      <th>saldoInicialDestino</th>\n",
              "      <th>saldoFinalDestino</th>\n",
              "      <th>ehFraude</th>\n",
              "      <th>sinalizadaComoFraude</th>\n",
              "    </tr>\n",
              "  </thead>\n",
              "  <tbody>\n",
              "    <tr>\n",
              "      <th>count</th>\n",
              "      <td>6362620.00000</td>\n",
              "      <td>6362620</td>\n",
              "      <td>6362620.00000</td>\n",
              "      <td>6362620</td>\n",
              "      <td>6362620.00000</td>\n",
              "      <td>6362620.00000</td>\n",
              "      <td>6362620</td>\n",
              "      <td>6362620.00000</td>\n",
              "      <td>6362620.00000</td>\n",
              "      <td>6362620.00000</td>\n",
              "      <td>6362620.00000</td>\n",
              "    </tr>\n",
              "    <tr>\n",
              "      <th>unique</th>\n",
              "      <td>NaN</td>\n",
              "      <td>5</td>\n",
              "      <td>NaN</td>\n",
              "      <td>6353307</td>\n",
              "      <td>NaN</td>\n",
              "      <td>NaN</td>\n",
              "      <td>2722362</td>\n",
              "      <td>NaN</td>\n",
              "      <td>NaN</td>\n",
              "      <td>NaN</td>\n",
              "      <td>NaN</td>\n",
              "    </tr>\n",
              "    <tr>\n",
              "      <th>top</th>\n",
              "      <td>NaN</td>\n",
              "      <td>CASH_OUT</td>\n",
              "      <td>NaN</td>\n",
              "      <td>C1902386530</td>\n",
              "      <td>NaN</td>\n",
              "      <td>NaN</td>\n",
              "      <td>C1286084959</td>\n",
              "      <td>NaN</td>\n",
              "      <td>NaN</td>\n",
              "      <td>NaN</td>\n",
              "      <td>NaN</td>\n",
              "    </tr>\n",
              "    <tr>\n",
              "      <th>freq</th>\n",
              "      <td>NaN</td>\n",
              "      <td>2237500</td>\n",
              "      <td>NaN</td>\n",
              "      <td>3</td>\n",
              "      <td>NaN</td>\n",
              "      <td>NaN</td>\n",
              "      <td>113</td>\n",
              "      <td>NaN</td>\n",
              "      <td>NaN</td>\n",
              "      <td>NaN</td>\n",
              "      <td>NaN</td>\n",
              "    </tr>\n",
              "    <tr>\n",
              "      <th>mean</th>\n",
              "      <td>243.39725</td>\n",
              "      <td>NaN</td>\n",
              "      <td>179861.90355</td>\n",
              "      <td>NaN</td>\n",
              "      <td>833883.10407</td>\n",
              "      <td>855113.66858</td>\n",
              "      <td>NaN</td>\n",
              "      <td>1100701.66652</td>\n",
              "      <td>1224996.39820</td>\n",
              "      <td>0.00129</td>\n",
              "      <td>0.00000</td>\n",
              "    </tr>\n",
              "    <tr>\n",
              "      <th>std</th>\n",
              "      <td>142.33197</td>\n",
              "      <td>NaN</td>\n",
              "      <td>603858.23146</td>\n",
              "      <td>NaN</td>\n",
              "      <td>2888242.67301</td>\n",
              "      <td>2924048.50297</td>\n",
              "      <td>NaN</td>\n",
              "      <td>3399180.11297</td>\n",
              "      <td>3674128.94209</td>\n",
              "      <td>0.03590</td>\n",
              "      <td>0.00159</td>\n",
              "    </tr>\n",
              "    <tr>\n",
              "      <th>min</th>\n",
              "      <td>1.00000</td>\n",
              "      <td>NaN</td>\n",
              "      <td>0.00000</td>\n",
              "      <td>NaN</td>\n",
              "      <td>0.00000</td>\n",
              "      <td>0.00000</td>\n",
              "      <td>NaN</td>\n",
              "      <td>0.00000</td>\n",
              "      <td>0.00000</td>\n",
              "      <td>0.00000</td>\n",
              "      <td>0.00000</td>\n",
              "    </tr>\n",
              "    <tr>\n",
              "      <th>25%</th>\n",
              "      <td>156.00000</td>\n",
              "      <td>NaN</td>\n",
              "      <td>13389.57000</td>\n",
              "      <td>NaN</td>\n",
              "      <td>0.00000</td>\n",
              "      <td>0.00000</td>\n",
              "      <td>NaN</td>\n",
              "      <td>0.00000</td>\n",
              "      <td>0.00000</td>\n",
              "      <td>0.00000</td>\n",
              "      <td>0.00000</td>\n",
              "    </tr>\n",
              "    <tr>\n",
              "      <th>50%</th>\n",
              "      <td>239.00000</td>\n",
              "      <td>NaN</td>\n",
              "      <td>74871.94000</td>\n",
              "      <td>NaN</td>\n",
              "      <td>14208.00000</td>\n",
              "      <td>0.00000</td>\n",
              "      <td>NaN</td>\n",
              "      <td>132705.66500</td>\n",
              "      <td>214661.44000</td>\n",
              "      <td>0.00000</td>\n",
              "      <td>0.00000</td>\n",
              "    </tr>\n",
              "    <tr>\n",
              "      <th>75%</th>\n",
              "      <td>335.00000</td>\n",
              "      <td>NaN</td>\n",
              "      <td>208721.47750</td>\n",
              "      <td>NaN</td>\n",
              "      <td>107315.17500</td>\n",
              "      <td>144258.41000</td>\n",
              "      <td>NaN</td>\n",
              "      <td>943036.70750</td>\n",
              "      <td>1111909.25000</td>\n",
              "      <td>0.00000</td>\n",
              "      <td>0.00000</td>\n",
              "    </tr>\n",
              "    <tr>\n",
              "      <th>max</th>\n",
              "      <td>743.00000</td>\n",
              "      <td>NaN</td>\n",
              "      <td>92445516.64000</td>\n",
              "      <td>NaN</td>\n",
              "      <td>59585040.37000</td>\n",
              "      <td>49585040.37000</td>\n",
              "      <td>NaN</td>\n",
              "      <td>356015889.35000</td>\n",
              "      <td>356179278.92000</td>\n",
              "      <td>1.00000</td>\n",
              "      <td>1.00000</td>\n",
              "    </tr>\n",
              "  </tbody>\n",
              "</table>\n",
              "</div>\n",
              "      <button class=\"colab-df-convert\" onclick=\"convertToInteractive('df-c65be8ca-e104-4b08-87cc-f6aa3cf468b5')\"\n",
              "              title=\"Convert this dataframe to an interactive table.\"\n",
              "              style=\"display:none;\">\n",
              "        \n",
              "  <svg xmlns=\"http://www.w3.org/2000/svg\" height=\"24px\"viewBox=\"0 0 24 24\"\n",
              "       width=\"24px\">\n",
              "    <path d=\"M0 0h24v24H0V0z\" fill=\"none\"/>\n",
              "    <path d=\"M18.56 5.44l.94 2.06.94-2.06 2.06-.94-2.06-.94-.94-2.06-.94 2.06-2.06.94zm-11 1L8.5 8.5l.94-2.06 2.06-.94-2.06-.94L8.5 2.5l-.94 2.06-2.06.94zm10 10l.94 2.06.94-2.06 2.06-.94-2.06-.94-.94-2.06-.94 2.06-2.06.94z\"/><path d=\"M17.41 7.96l-1.37-1.37c-.4-.4-.92-.59-1.43-.59-.52 0-1.04.2-1.43.59L10.3 9.45l-7.72 7.72c-.78.78-.78 2.05 0 2.83L4 21.41c.39.39.9.59 1.41.59.51 0 1.02-.2 1.41-.59l7.78-7.78 2.81-2.81c.8-.78.8-2.07 0-2.86zM5.41 20L4 18.59l7.72-7.72 1.47 1.35L5.41 20z\"/>\n",
              "  </svg>\n",
              "      </button>\n",
              "      \n",
              "  <style>\n",
              "    .colab-df-container {\n",
              "      display:flex;\n",
              "      flex-wrap:wrap;\n",
              "      gap: 12px;\n",
              "    }\n",
              "\n",
              "    .colab-df-convert {\n",
              "      background-color: #E8F0FE;\n",
              "      border: none;\n",
              "      border-radius: 50%;\n",
              "      cursor: pointer;\n",
              "      display: none;\n",
              "      fill: #1967D2;\n",
              "      height: 32px;\n",
              "      padding: 0 0 0 0;\n",
              "      width: 32px;\n",
              "    }\n",
              "\n",
              "    .colab-df-convert:hover {\n",
              "      background-color: #E2EBFA;\n",
              "      box-shadow: 0px 1px 2px rgba(60, 64, 67, 0.3), 0px 1px 3px 1px rgba(60, 64, 67, 0.15);\n",
              "      fill: #174EA6;\n",
              "    }\n",
              "\n",
              "    [theme=dark] .colab-df-convert {\n",
              "      background-color: #3B4455;\n",
              "      fill: #D2E3FC;\n",
              "    }\n",
              "\n",
              "    [theme=dark] .colab-df-convert:hover {\n",
              "      background-color: #434B5C;\n",
              "      box-shadow: 0px 1px 3px 1px rgba(0, 0, 0, 0.15);\n",
              "      filter: drop-shadow(0px 1px 2px rgba(0, 0, 0, 0.3));\n",
              "      fill: #FFFFFF;\n",
              "    }\n",
              "  </style>\n",
              "\n",
              "      <script>\n",
              "        const buttonEl =\n",
              "          document.querySelector('#df-c65be8ca-e104-4b08-87cc-f6aa3cf468b5 button.colab-df-convert');\n",
              "        buttonEl.style.display =\n",
              "          google.colab.kernel.accessAllowed ? 'block' : 'none';\n",
              "\n",
              "        async function convertToInteractive(key) {\n",
              "          const element = document.querySelector('#df-c65be8ca-e104-4b08-87cc-f6aa3cf468b5');\n",
              "          const dataTable =\n",
              "            await google.colab.kernel.invokeFunction('convertToInteractive',\n",
              "                                                     [key], {});\n",
              "          if (!dataTable) return;\n",
              "\n",
              "          const docLinkHtml = 'Like what you see? Visit the ' +\n",
              "            '<a target=\"_blank\" href=https://colab.research.google.com/notebooks/data_table.ipynb>data table notebook</a>'\n",
              "            + ' to learn more about interactive tables.';\n",
              "          element.innerHTML = '';\n",
              "          dataTable['output_type'] = 'display_data';\n",
              "          await google.colab.output.renderOutput(dataTable, element);\n",
              "          const docLink = document.createElement('div');\n",
              "          docLink.innerHTML = docLinkHtml;\n",
              "          element.appendChild(docLink);\n",
              "        }\n",
              "      </script>\n",
              "    </div>\n",
              "  </div>\n",
              "  "
            ],
            "text/plain": [
              "          totalHoras tipoTransacao        quantia clienteOrigem  \\\n",
              "count  6362620.00000       6362620  6362620.00000       6362620   \n",
              "unique           NaN             5            NaN       6353307   \n",
              "top              NaN      CASH_OUT            NaN   C1902386530   \n",
              "freq             NaN       2237500            NaN             3   \n",
              "mean       243.39725           NaN   179861.90355           NaN   \n",
              "std        142.33197           NaN   603858.23146           NaN   \n",
              "min          1.00000           NaN        0.00000           NaN   \n",
              "25%        156.00000           NaN    13389.57000           NaN   \n",
              "50%        239.00000           NaN    74871.94000           NaN   \n",
              "75%        335.00000           NaN   208721.47750           NaN   \n",
              "max        743.00000           NaN 92445516.64000           NaN   \n",
              "\n",
              "        saldoInicialOrigem  saldoFinalOrigem clienteDestino  \\\n",
              "count        6362620.00000     6362620.00000        6362620   \n",
              "unique                 NaN               NaN        2722362   \n",
              "top                    NaN               NaN    C1286084959   \n",
              "freq                   NaN               NaN            113   \n",
              "mean          833883.10407      855113.66858            NaN   \n",
              "std          2888242.67301     2924048.50297            NaN   \n",
              "min                0.00000           0.00000            NaN   \n",
              "25%                0.00000           0.00000            NaN   \n",
              "50%            14208.00000           0.00000            NaN   \n",
              "75%           107315.17500      144258.41000            NaN   \n",
              "max         59585040.37000    49585040.37000            NaN   \n",
              "\n",
              "        saldoInicialDestino  saldoFinalDestino      ehFraude  \\\n",
              "count         6362620.00000      6362620.00000 6362620.00000   \n",
              "unique                  NaN                NaN           NaN   \n",
              "top                     NaN                NaN           NaN   \n",
              "freq                    NaN                NaN           NaN   \n",
              "mean          1100701.66652      1224996.39820       0.00129   \n",
              "std           3399180.11297      3674128.94209       0.03590   \n",
              "min                 0.00000            0.00000       0.00000   \n",
              "25%                 0.00000            0.00000       0.00000   \n",
              "50%            132705.66500       214661.44000       0.00000   \n",
              "75%            943036.70750      1111909.25000       0.00000   \n",
              "max         356015889.35000    356179278.92000       1.00000   \n",
              "\n",
              "        sinalizadaComoFraude  \n",
              "count          6362620.00000  \n",
              "unique                   NaN  \n",
              "top                      NaN  \n",
              "freq                     NaN  \n",
              "mean                 0.00000  \n",
              "std                  0.00159  \n",
              "min                  0.00000  \n",
              "25%                  0.00000  \n",
              "50%                  0.00000  \n",
              "75%                  0.00000  \n",
              "max                  1.00000  "
            ]
          },
          "metadata": {},
          "execution_count": 6
        }
      ]
    },
    {
      "cell_type": "markdown",
      "source": [
        "Informações:\n",
        "* Tenho 5 tipos de transação e o tipoTransacao mais frequente é CASH_OUT, com 2237500 transações.\n",
        "* O cliente destino C1286084959 recebeu 113 transações no período."
      ],
      "metadata": {
        "id": "P8uP8xmZr-qj"
      }
    },
    {
      "cell_type": "markdown",
      "source": [
        "Verificando a distribuição dos dados para analisar se são simétricos:"
      ],
      "metadata": {
        "id": "_mK2GQ_2t4Ym"
      }
    },
    {
      "cell_type": "code",
      "source": [
        "%%time\n",
        "df.skew()"
      ],
      "metadata": {
        "colab": {
          "base_uri": "https://localhost:8080/"
        },
        "id": "rmID8F0Gt7Mf",
        "outputId": "052d1e0f-2ae4-46bc-f38a-50e733eff084"
      },
      "execution_count": 7,
      "outputs": [
        {
          "output_type": "stream",
          "name": "stdout",
          "text": [
            "CPU times: user 1.55 s, sys: 110 ms, total: 1.66 s\n",
            "Wall time: 1.65 s\n"
          ]
        },
        {
          "output_type": "execute_result",
          "data": {
            "text/plain": [
              "totalHoras               0.37518\n",
              "quantia                 30.99395\n",
              "saldoInicialOrigem       5.24914\n",
              "saldoFinalOrigem         5.17688\n",
              "saldoInicialDestino     19.92176\n",
              "saldoFinalDestino       19.35230\n",
              "ehFraude                27.77954\n",
              "sinalizadaComoFraude   630.60363\n",
              "dtype: float64"
            ]
          },
          "metadata": {},
          "execution_count": 7
        }
      ]
    },
    {
      "cell_type": "markdown",
      "source": [
        "A análise de assimetria indica que as variáveis apresentam uma assimetria positiva, ou seja, elas contém mais valores acima da média. "
      ],
      "metadata": {
        "id": "LfNLyy9DugjR"
      }
    },
    {
      "cell_type": "markdown",
      "source": [
        "Mais informações sobre os dados:"
      ],
      "metadata": {
        "id": "UBudarFWz1PZ"
      }
    },
    {
      "cell_type": "code",
      "source": [
        "%%time\n",
        "df.info()"
      ],
      "metadata": {
        "id": "cu__5Dm6z4BK",
        "outputId": "7a32a432-1dd7-41eb-82dd-e238745e3bbc",
        "colab": {
          "base_uri": "https://localhost:8080/"
        }
      },
      "execution_count": 8,
      "outputs": [
        {
          "output_type": "stream",
          "name": "stdout",
          "text": [
            "<class 'pandas.core.frame.DataFrame'>\n",
            "RangeIndex: 6362620 entries, 0 to 6362619\n",
            "Data columns (total 11 columns):\n",
            " #   Column                Dtype  \n",
            "---  ------                -----  \n",
            " 0   totalHoras            int64  \n",
            " 1   tipoTransacao         object \n",
            " 2   quantia               float64\n",
            " 3   clienteOrigem         object \n",
            " 4   saldoInicialOrigem    float64\n",
            " 5   saldoFinalOrigem      float64\n",
            " 6   clienteDestino        object \n",
            " 7   saldoInicialDestino   float64\n",
            " 8   saldoFinalDestino     float64\n",
            " 9   ehFraude              int64  \n",
            " 10  sinalizadaComoFraude  int64  \n",
            "dtypes: float64(5), int64(3), object(3)\n",
            "memory usage: 534.0+ MB\n",
            "CPU times: user 14.7 ms, sys: 995 µs, total: 15.7 ms\n",
            "Wall time: 25.7 ms\n"
          ]
        }
      ]
    },
    {
      "cell_type": "markdown",
      "source": [
        "Tem dados faltantes?"
      ],
      "metadata": {
        "id": "VNngtW6-0Ahh"
      }
    },
    {
      "cell_type": "code",
      "source": [
        "%%time\n",
        "df.isnull().sum()"
      ],
      "metadata": {
        "id": "i9HtrjATz4zF",
        "outputId": "8adc5a25-1ac4-4d96-bd28-ed5bb6ad132a",
        "colab": {
          "base_uri": "https://localhost:8080/"
        }
      },
      "execution_count": 9,
      "outputs": [
        {
          "output_type": "stream",
          "name": "stdout",
          "text": [
            "CPU times: user 1.02 s, sys: 15.3 ms, total: 1.04 s\n",
            "Wall time: 1.04 s\n"
          ]
        },
        {
          "output_type": "execute_result",
          "data": {
            "text/plain": [
              "totalHoras              0\n",
              "tipoTransacao           0\n",
              "quantia                 0\n",
              "clienteOrigem           0\n",
              "saldoInicialOrigem      0\n",
              "saldoFinalOrigem        0\n",
              "clienteDestino          0\n",
              "saldoInicialDestino     0\n",
              "saldoFinalDestino       0\n",
              "ehFraude                0\n",
              "sinalizadaComoFraude    0\n",
              "dtype: int64"
            ]
          },
          "metadata": {},
          "execution_count": 9
        }
      ]
    },
    {
      "cell_type": "markdown",
      "source": [
        "Não existem dados faltantes."
      ],
      "metadata": {
        "id": "EHfKVGZb2j78"
      }
    },
    {
      "cell_type": "markdown",
      "source": [
        "Excluindo dados duplicados:"
      ],
      "metadata": {
        "id": "ekmnC4GgKbS1"
      }
    },
    {
      "cell_type": "code",
      "source": [
        "%%time\n",
        "df.drop_duplicates(keep=False, inplace=True)"
      ],
      "metadata": {
        "colab": {
          "base_uri": "https://localhost:8080/"
        },
        "id": "yQldSRfXKeaq",
        "outputId": "256c6d8b-ceca-49c1-e714-d1575f4ca351"
      },
      "execution_count": 10,
      "outputs": [
        {
          "output_type": "stream",
          "name": "stdout",
          "text": [
            "CPU times: user 18.4 s, sys: 353 ms, total: 18.7 s\n",
            "Wall time: 18.6 s\n"
          ]
        }
      ]
    },
    {
      "cell_type": "markdown",
      "source": [
        "# **Passo 3: Explore os dados**"
      ],
      "metadata": {
        "id": "DwHQb7ZaEA9W"
      }
    },
    {
      "cell_type": "markdown",
      "source": [
        "* Visualizando alguns dados:"
      ],
      "metadata": {
        "id": "hGLLidGOE0Th"
      }
    },
    {
      "cell_type": "code",
      "source": [
        "%%time\n",
        "df.sample(3)"
      ],
      "metadata": {
        "id": "dAU2p7rI2iAe",
        "colab": {
          "base_uri": "https://localhost:8080/",
          "height": 242
        },
        "outputId": "0a4a49ab-e206-4119-d902-9433ec03681a"
      },
      "execution_count": 11,
      "outputs": [
        {
          "output_type": "stream",
          "name": "stdout",
          "text": [
            "CPU times: user 396 ms, sys: 2.04 ms, total: 398 ms\n",
            "Wall time: 403 ms\n"
          ]
        },
        {
          "output_type": "execute_result",
          "data": {
            "text/html": [
              "\n",
              "  <div id=\"df-ecb2dfa5-f1b8-4144-b744-0059ee3ea6a7\">\n",
              "    <div class=\"colab-df-container\">\n",
              "      <div>\n",
              "<style scoped>\n",
              "    .dataframe tbody tr th:only-of-type {\n",
              "        vertical-align: middle;\n",
              "    }\n",
              "\n",
              "    .dataframe tbody tr th {\n",
              "        vertical-align: top;\n",
              "    }\n",
              "\n",
              "    .dataframe thead th {\n",
              "        text-align: right;\n",
              "    }\n",
              "</style>\n",
              "<table border=\"1\" class=\"dataframe\">\n",
              "  <thead>\n",
              "    <tr style=\"text-align: right;\">\n",
              "      <th></th>\n",
              "      <th>totalHoras</th>\n",
              "      <th>tipoTransacao</th>\n",
              "      <th>quantia</th>\n",
              "      <th>clienteOrigem</th>\n",
              "      <th>saldoInicialOrigem</th>\n",
              "      <th>saldoFinalOrigem</th>\n",
              "      <th>clienteDestino</th>\n",
              "      <th>saldoInicialDestino</th>\n",
              "      <th>saldoFinalDestino</th>\n",
              "      <th>ehFraude</th>\n",
              "      <th>sinalizadaComoFraude</th>\n",
              "    </tr>\n",
              "  </thead>\n",
              "  <tbody>\n",
              "    <tr>\n",
              "      <th>3011794</th>\n",
              "      <td>232</td>\n",
              "      <td>PAYMENT</td>\n",
              "      <td>8381.29000</td>\n",
              "      <td>C2115225472</td>\n",
              "      <td>0.00000</td>\n",
              "      <td>0.00000</td>\n",
              "      <td>M620600240</td>\n",
              "      <td>0.00000</td>\n",
              "      <td>0.00000</td>\n",
              "      <td>0</td>\n",
              "      <td>0</td>\n",
              "    </tr>\n",
              "    <tr>\n",
              "      <th>1466750</th>\n",
              "      <td>140</td>\n",
              "      <td>CASH_IN</td>\n",
              "      <td>193312.30000</td>\n",
              "      <td>C387324782</td>\n",
              "      <td>103241.00000</td>\n",
              "      <td>296553.30000</td>\n",
              "      <td>C445927907</td>\n",
              "      <td>0.00000</td>\n",
              "      <td>0.00000</td>\n",
              "      <td>0</td>\n",
              "      <td>0</td>\n",
              "    </tr>\n",
              "    <tr>\n",
              "      <th>2739276</th>\n",
              "      <td>212</td>\n",
              "      <td>TRANSFER</td>\n",
              "      <td>1217057.04000</td>\n",
              "      <td>C623988332</td>\n",
              "      <td>0.00000</td>\n",
              "      <td>0.00000</td>\n",
              "      <td>C1262738276</td>\n",
              "      <td>1294644.82000</td>\n",
              "      <td>2511701.86000</td>\n",
              "      <td>0</td>\n",
              "      <td>0</td>\n",
              "    </tr>\n",
              "  </tbody>\n",
              "</table>\n",
              "</div>\n",
              "      <button class=\"colab-df-convert\" onclick=\"convertToInteractive('df-ecb2dfa5-f1b8-4144-b744-0059ee3ea6a7')\"\n",
              "              title=\"Convert this dataframe to an interactive table.\"\n",
              "              style=\"display:none;\">\n",
              "        \n",
              "  <svg xmlns=\"http://www.w3.org/2000/svg\" height=\"24px\"viewBox=\"0 0 24 24\"\n",
              "       width=\"24px\">\n",
              "    <path d=\"M0 0h24v24H0V0z\" fill=\"none\"/>\n",
              "    <path d=\"M18.56 5.44l.94 2.06.94-2.06 2.06-.94-2.06-.94-.94-2.06-.94 2.06-2.06.94zm-11 1L8.5 8.5l.94-2.06 2.06-.94-2.06-.94L8.5 2.5l-.94 2.06-2.06.94zm10 10l.94 2.06.94-2.06 2.06-.94-2.06-.94-.94-2.06-.94 2.06-2.06.94z\"/><path d=\"M17.41 7.96l-1.37-1.37c-.4-.4-.92-.59-1.43-.59-.52 0-1.04.2-1.43.59L10.3 9.45l-7.72 7.72c-.78.78-.78 2.05 0 2.83L4 21.41c.39.39.9.59 1.41.59.51 0 1.02-.2 1.41-.59l7.78-7.78 2.81-2.81c.8-.78.8-2.07 0-2.86zM5.41 20L4 18.59l7.72-7.72 1.47 1.35L5.41 20z\"/>\n",
              "  </svg>\n",
              "      </button>\n",
              "      \n",
              "  <style>\n",
              "    .colab-df-container {\n",
              "      display:flex;\n",
              "      flex-wrap:wrap;\n",
              "      gap: 12px;\n",
              "    }\n",
              "\n",
              "    .colab-df-convert {\n",
              "      background-color: #E8F0FE;\n",
              "      border: none;\n",
              "      border-radius: 50%;\n",
              "      cursor: pointer;\n",
              "      display: none;\n",
              "      fill: #1967D2;\n",
              "      height: 32px;\n",
              "      padding: 0 0 0 0;\n",
              "      width: 32px;\n",
              "    }\n",
              "\n",
              "    .colab-df-convert:hover {\n",
              "      background-color: #E2EBFA;\n",
              "      box-shadow: 0px 1px 2px rgba(60, 64, 67, 0.3), 0px 1px 3px 1px rgba(60, 64, 67, 0.15);\n",
              "      fill: #174EA6;\n",
              "    }\n",
              "\n",
              "    [theme=dark] .colab-df-convert {\n",
              "      background-color: #3B4455;\n",
              "      fill: #D2E3FC;\n",
              "    }\n",
              "\n",
              "    [theme=dark] .colab-df-convert:hover {\n",
              "      background-color: #434B5C;\n",
              "      box-shadow: 0px 1px 3px 1px rgba(0, 0, 0, 0.15);\n",
              "      filter: drop-shadow(0px 1px 2px rgba(0, 0, 0, 0.3));\n",
              "      fill: #FFFFFF;\n",
              "    }\n",
              "  </style>\n",
              "\n",
              "      <script>\n",
              "        const buttonEl =\n",
              "          document.querySelector('#df-ecb2dfa5-f1b8-4144-b744-0059ee3ea6a7 button.colab-df-convert');\n",
              "        buttonEl.style.display =\n",
              "          google.colab.kernel.accessAllowed ? 'block' : 'none';\n",
              "\n",
              "        async function convertToInteractive(key) {\n",
              "          const element = document.querySelector('#df-ecb2dfa5-f1b8-4144-b744-0059ee3ea6a7');\n",
              "          const dataTable =\n",
              "            await google.colab.kernel.invokeFunction('convertToInteractive',\n",
              "                                                     [key], {});\n",
              "          if (!dataTable) return;\n",
              "\n",
              "          const docLinkHtml = 'Like what you see? Visit the ' +\n",
              "            '<a target=\"_blank\" href=https://colab.research.google.com/notebooks/data_table.ipynb>data table notebook</a>'\n",
              "            + ' to learn more about interactive tables.';\n",
              "          element.innerHTML = '';\n",
              "          dataTable['output_type'] = 'display_data';\n",
              "          await google.colab.output.renderOutput(dataTable, element);\n",
              "          const docLink = document.createElement('div');\n",
              "          docLink.innerHTML = docLinkHtml;\n",
              "          element.appendChild(docLink);\n",
              "        }\n",
              "      </script>\n",
              "    </div>\n",
              "  </div>\n",
              "  "
            ],
            "text/plain": [
              "         totalHoras tipoTransacao       quantia clienteOrigem  \\\n",
              "3011794         232       PAYMENT    8381.29000   C2115225472   \n",
              "1466750         140       CASH_IN  193312.30000    C387324782   \n",
              "2739276         212      TRANSFER 1217057.04000    C623988332   \n",
              "\n",
              "         saldoInicialOrigem  saldoFinalOrigem clienteDestino  \\\n",
              "3011794             0.00000           0.00000     M620600240   \n",
              "1466750        103241.00000      296553.30000     C445927907   \n",
              "2739276             0.00000           0.00000    C1262738276   \n",
              "\n",
              "         saldoInicialDestino  saldoFinalDestino  ehFraude  \\\n",
              "3011794              0.00000            0.00000         0   \n",
              "1466750              0.00000            0.00000         0   \n",
              "2739276        1294644.82000      2511701.86000         0   \n",
              "\n",
              "         sinalizadaComoFraude  \n",
              "3011794                     0  \n",
              "1466750                     0  \n",
              "2739276                     0  "
            ]
          },
          "metadata": {},
          "execution_count": 11
        }
      ]
    },
    {
      "cell_type": "markdown",
      "source": [
        "* Explorando a feature tipoTransacao:"
      ],
      "metadata": {
        "id": "4vsDk-LCFKiN"
      }
    },
    {
      "cell_type": "code",
      "source": [
        "%%time\n",
        "sns.countplot(x=\"tipoTransacao\", data=df)\n",
        "print(df.tipoTransacao.value_counts())"
      ],
      "metadata": {
        "colab": {
          "base_uri": "https://localhost:8080/",
          "height": 430
        },
        "id": "8aVua0ajE5oW",
        "outputId": "40e2fe2c-5468-4312-9387-df2c8f3ac955"
      },
      "execution_count": 12,
      "outputs": [
        {
          "output_type": "stream",
          "name": "stdout",
          "text": [
            "CASH_OUT    2237500\n",
            "PAYMENT     2151495\n",
            "CASH_IN     1399284\n",
            "TRANSFER     532909\n",
            "DEBIT         41432\n",
            "Name: tipoTransacao, dtype: int64\n",
            "CPU times: user 4.31 s, sys: 91.1 ms, total: 4.4 s\n",
            "Wall time: 4.39 s\n"
          ]
        },
        {
          "output_type": "display_data",
          "data": {
            "image/png": "[encoded data removed]",
            "text/plain": [
              "<Figure size 432x288 with 1 Axes>"
            ]
          },
          "metadata": {
            "needs_background": "light"
          }
        }
      ]
    },
    {
      "cell_type": "markdown",
      "source": [
        "* Explorando a feature ehFraude:"
      ],
      "metadata": {
        "id": "1lg_PCKaGvim"
      }
    },
    {
      "cell_type": "code",
      "source": [
        "%%time\n",
        "sns.countplot(x=\"ehFraude\", data=df)\n",
        "print(df.ehFraude.value_counts())"
      ],
      "metadata": {
        "colab": {
          "base_uri": "https://localhost:8080/",
          "height": 377
        },
        "id": "V1zboM92Fkmg",
        "outputId": "ca87351d-1753-4a4f-9f39-68ea26560cfe"
      },
      "execution_count": 13,
      "outputs": [
        {
          "output_type": "stream",
          "name": "stdout",
          "text": [
            "0    6354407\n",
            "1       8213\n",
            "Name: ehFraude, dtype: int64\n",
            "CPU times: user 571 ms, sys: 45.1 ms, total: 616 ms\n",
            "Wall time: 624 ms\n"
          ]
        },
        {
          "output_type": "display_data",
          "data": {
            "image/png": "[encoded data removed]",
            "text/plain": [
              "<Figure size 432x288 with 1 Axes>"
            ]
          },
          "metadata": {
            "needs_background": "light"
          }
        }
      ]
    },
    {
      "cell_type": "markdown",
      "source": [
        "Há um grande desbalanceamento nos valores da feature ehFraude."
      ],
      "metadata": {
        "id": "P9oPe7uEH0cf"
      }
    },
    {
      "cell_type": "markdown",
      "source": [
        "* Explorando a feature sinalizadaComoFraude:"
      ],
      "metadata": {
        "id": "kmFumZKdJEt0"
      }
    },
    {
      "cell_type": "code",
      "source": [
        "%%time\n",
        "sns.countplot(x=\"sinalizadaComoFraude\", data=df)\n",
        "print(df.sinalizadaComoFraude.value_counts())"
      ],
      "metadata": {
        "colab": {
          "base_uri": "https://localhost:8080/",
          "height": 377
        },
        "id": "suzsD6iBGZeu",
        "outputId": "faa3b6e3-0068-4920-e447-5aacfe0683c5"
      },
      "execution_count": 14,
      "outputs": [
        {
          "output_type": "stream",
          "name": "stdout",
          "text": [
            "0    6362604\n",
            "1         16\n",
            "Name: sinalizadaComoFraude, dtype: int64\n",
            "CPU times: user 574 ms, sys: 42 ms, total: 616 ms\n",
            "Wall time: 618 ms\n"
          ]
        },
        {
          "output_type": "display_data",
          "data": {
            "image/png": "[encoded data removed]",
            "text/plain": [
              "<Figure size 432x288 with 1 Axes>"
            ]
          },
          "metadata": {
            "needs_background": "light"
          }
        }
      ]
    },
    {
      "cell_type": "markdown",
      "source": [
        "Também há um grande desbalanceamento entre os valores da feature sinalizadaComoFraude."
      ],
      "metadata": {
        "id": "iiyv4qi7JUL0"
      }
    }
  ]
}