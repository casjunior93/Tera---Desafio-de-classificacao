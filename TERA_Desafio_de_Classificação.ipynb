{
 "cells": [
  {
   "cell_type": "markdown",
   "metadata": {
    "colab_type": "text",
    "id": "view-in-github"
   },
   "source": [
    "<a href=\"https://colab.research.google.com/github/casjunior93/Tera---Desafio-de-classificacao/blob/main/TERA_Desafio_de_Classifica%C3%A7%C3%A3o.ipynb\" target=\"_parent\"><img src=\"https://colab.research.google.com/assets/colab-badge.svg\" alt=\"Open In Colab\"/></a>"
   ]
  },
  {
   "cell_type": "markdown",
   "metadata": {
    "id": "zVRVZ8x1cuiu"
   },
   "source": [
    "# **Desafio de Detecção e Redução de Fraudes no Setor Financeiro**"
   ]
  },
  {
   "cell_type": "markdown",
   "metadata": {
    "id": "6AuXuZcbcw2r"
   },
   "source": [
    "O desafio é propor uma solução para detecção e análise de fraudes que possam reduzir os riscos da empresa de crédito em que trabalho e garantir margens saudáveis.\n",
    "\n",
    "Link do dataset: https://drive.google.com/file/d/1zjK8zQK5zvhR_r2chWI5dCjeOwASlPfb/view"
   ]
  },
  {
   "cell_type": "markdown",
   "metadata": {
    "id": "Wlgu4C3gdjb8"
   },
   "source": [
    "Vou começar importando as bibliotecas iniciais:"
   ]
  },
  {
   "cell_type": "code",
   "execution_count": 1,
   "metadata": {
    "id": "Oabe_59mc_5d"
   },
   "outputs": [],
   "source": [
    "import pandas as pd\n",
    "import warnings\n",
    "warnings.filterwarnings('ignore')"
   ]
  },
  {
   "cell_type": "markdown",
   "metadata": {
    "id": "Nq8UgH0Gdxjz"
   },
   "source": [
    "Agora importo os dados:"
   ]
  },
  {
   "cell_type": "code",
   "execution_count": 2,
   "metadata": {
    "id": "QK9Hi-FyduwV"
   },
   "outputs": [],
   "source": [
    "df = pd.read_csv('./fraud_detection_dataset.csv')"
   ]
  },
  {
   "cell_type": "markdown",
   "metadata": {
    "id": "3yRcT8qaYcRx"
   },
   "source": [
    "Visualizo as dimensões do dataframe:"
   ]
  },
  {
   "cell_type": "code",
   "execution_count": 3,
   "metadata": {
    "colab": {
     "base_uri": "https://localhost:8080/"
    },
    "id": "kitKcSXXYWYi",
    "outputId": "2b105e13-21b1-4b3c-9bd4-ce871e329a28"
   },
   "outputs": [
    {
     "data": {
      "text/plain": [
       "(6362620, 11)"
      ]
     },
     "execution_count": 3,
     "metadata": {},
     "output_type": "execute_result"
    }
   ],
   "source": [
    "df.shape"
   ]
  },
  {
   "cell_type": "markdown",
   "metadata": {
    "id": "E1BpG80oeU91"
   },
   "source": [
    "Vou retornar 10 linhas aleatórias para visualizar o dataframe:"
   ]
  },
  {
   "cell_type": "code",
   "execution_count": 4,
   "metadata": {
    "colab": {
     "base_uri": "https://localhost:8080/",
     "height": 427
    },
    "id": "1ABq7uTAeB-P",
    "outputId": "cecc3032-692a-4801-b83d-c3b837eeea35"
   },
   "outputs": [
    {
     "data": {
      "text/html": [
       "<div>\n",
       "<style scoped>\n",
       "    .dataframe tbody tr th:only-of-type {\n",
       "        vertical-align: middle;\n",
       "    }\n",
       "\n",
       "    .dataframe tbody tr th {\n",
       "        vertical-align: top;\n",
       "    }\n",
       "\n",
       "    .dataframe thead th {\n",
       "        text-align: right;\n",
       "    }\n",
       "</style>\n",
       "<table border=\"1\" class=\"dataframe\">\n",
       "  <thead>\n",
       "    <tr style=\"text-align: right;\">\n",
       "      <th></th>\n",
       "      <th>step</th>\n",
       "      <th>type</th>\n",
       "      <th>amount</th>\n",
       "      <th>nameOrig</th>\n",
       "      <th>oldbalanceOrg</th>\n",
       "      <th>newbalanceOrig</th>\n",
       "      <th>nameDest</th>\n",
       "      <th>oldbalanceDest</th>\n",
       "      <th>newbalanceDest</th>\n",
       "      <th>isFraud</th>\n",
       "      <th>isFlaggedFraud</th>\n",
       "    </tr>\n",
       "  </thead>\n",
       "  <tbody>\n",
       "    <tr>\n",
       "      <th>1972852</th>\n",
       "      <td>178</td>\n",
       "      <td>CASH_IN</td>\n",
       "      <td>95464.46</td>\n",
       "      <td>C147504212</td>\n",
       "      <td>30699.0</td>\n",
       "      <td>126163.46</td>\n",
       "      <td>C1907559960</td>\n",
       "      <td>298347.53</td>\n",
       "      <td>202883.07</td>\n",
       "      <td>0</td>\n",
       "      <td>0</td>\n",
       "    </tr>\n",
       "    <tr>\n",
       "      <th>4854962</th>\n",
       "      <td>347</td>\n",
       "      <td>CASH_IN</td>\n",
       "      <td>237724.49</td>\n",
       "      <td>C1471333108</td>\n",
       "      <td>42234.0</td>\n",
       "      <td>279958.49</td>\n",
       "      <td>C1893884359</td>\n",
       "      <td>62341.50</td>\n",
       "      <td>0.00</td>\n",
       "      <td>0</td>\n",
       "      <td>0</td>\n",
       "    </tr>\n",
       "    <tr>\n",
       "      <th>5487273</th>\n",
       "      <td>380</td>\n",
       "      <td>PAYMENT</td>\n",
       "      <td>13819.13</td>\n",
       "      <td>C1542626392</td>\n",
       "      <td>28782.0</td>\n",
       "      <td>14962.87</td>\n",
       "      <td>M1809623307</td>\n",
       "      <td>0.00</td>\n",
       "      <td>0.00</td>\n",
       "      <td>0</td>\n",
       "      <td>0</td>\n",
       "    </tr>\n",
       "    <tr>\n",
       "      <th>4628929</th>\n",
       "      <td>329</td>\n",
       "      <td>CASH_OUT</td>\n",
       "      <td>420914.50</td>\n",
       "      <td>C1153582992</td>\n",
       "      <td>161.0</td>\n",
       "      <td>0.00</td>\n",
       "      <td>C1888641457</td>\n",
       "      <td>991360.84</td>\n",
       "      <td>1412275.34</td>\n",
       "      <td>0</td>\n",
       "      <td>0</td>\n",
       "    </tr>\n",
       "    <tr>\n",
       "      <th>4416519</th>\n",
       "      <td>322</td>\n",
       "      <td>CASH_IN</td>\n",
       "      <td>202325.98</td>\n",
       "      <td>C1200529749</td>\n",
       "      <td>34602.0</td>\n",
       "      <td>236927.98</td>\n",
       "      <td>C1507955018</td>\n",
       "      <td>47136.63</td>\n",
       "      <td>0.00</td>\n",
       "      <td>0</td>\n",
       "      <td>0</td>\n",
       "    </tr>\n",
       "    <tr>\n",
       "      <th>4106769</th>\n",
       "      <td>302</td>\n",
       "      <td>CASH_OUT</td>\n",
       "      <td>241156.70</td>\n",
       "      <td>C1597962167</td>\n",
       "      <td>0.0</td>\n",
       "      <td>0.00</td>\n",
       "      <td>C634632814</td>\n",
       "      <td>495991.64</td>\n",
       "      <td>737148.34</td>\n",
       "      <td>0</td>\n",
       "      <td>0</td>\n",
       "    </tr>\n",
       "    <tr>\n",
       "      <th>3774179</th>\n",
       "      <td>280</td>\n",
       "      <td>CASH_OUT</td>\n",
       "      <td>73337.73</td>\n",
       "      <td>C1523450434</td>\n",
       "      <td>0.0</td>\n",
       "      <td>0.00</td>\n",
       "      <td>C884170743</td>\n",
       "      <td>1232853.19</td>\n",
       "      <td>1306190.92</td>\n",
       "      <td>0</td>\n",
       "      <td>0</td>\n",
       "    </tr>\n",
       "    <tr>\n",
       "      <th>5944258</th>\n",
       "      <td>405</td>\n",
       "      <td>TRANSFER</td>\n",
       "      <td>212554.40</td>\n",
       "      <td>C671103737</td>\n",
       "      <td>29961.0</td>\n",
       "      <td>0.00</td>\n",
       "      <td>C335696016</td>\n",
       "      <td>182417.73</td>\n",
       "      <td>394972.13</td>\n",
       "      <td>0</td>\n",
       "      <td>0</td>\n",
       "    </tr>\n",
       "    <tr>\n",
       "      <th>1712705</th>\n",
       "      <td>160</td>\n",
       "      <td>CASH_OUT</td>\n",
       "      <td>131318.49</td>\n",
       "      <td>C1166168395</td>\n",
       "      <td>0.0</td>\n",
       "      <td>0.00</td>\n",
       "      <td>C62817561</td>\n",
       "      <td>1247626.44</td>\n",
       "      <td>1378944.93</td>\n",
       "      <td>0</td>\n",
       "      <td>0</td>\n",
       "    </tr>\n",
       "    <tr>\n",
       "      <th>6160670</th>\n",
       "      <td>549</td>\n",
       "      <td>PAYMENT</td>\n",
       "      <td>2087.38</td>\n",
       "      <td>C1481547206</td>\n",
       "      <td>0.0</td>\n",
       "      <td>0.00</td>\n",
       "      <td>M459601948</td>\n",
       "      <td>0.00</td>\n",
       "      <td>0.00</td>\n",
       "      <td>0</td>\n",
       "      <td>0</td>\n",
       "    </tr>\n",
       "  </tbody>\n",
       "</table>\n",
       "</div>"
      ],
      "text/plain": [
       "         step      type     amount     nameOrig  oldbalanceOrg  \\\n",
       "1972852   178   CASH_IN   95464.46   C147504212        30699.0   \n",
       "4854962   347   CASH_IN  237724.49  C1471333108        42234.0   \n",
       "5487273   380   PAYMENT   13819.13  C1542626392        28782.0   \n",
       "4628929   329  CASH_OUT  420914.50  C1153582992          161.0   \n",
       "4416519   322   CASH_IN  202325.98  C1200529749        34602.0   \n",
       "4106769   302  CASH_OUT  241156.70  C1597962167            0.0   \n",
       "3774179   280  CASH_OUT   73337.73  C1523450434            0.0   \n",
       "5944258   405  TRANSFER  212554.40   C671103737        29961.0   \n",
       "1712705   160  CASH_OUT  131318.49  C1166168395            0.0   \n",
       "6160670   549   PAYMENT    2087.38  C1481547206            0.0   \n",
       "\n",
       "         newbalanceOrig     nameDest  oldbalanceDest  newbalanceDest  isFraud  \\\n",
       "1972852       126163.46  C1907559960       298347.53       202883.07        0   \n",
       "4854962       279958.49  C1893884359        62341.50            0.00        0   \n",
       "5487273        14962.87  M1809623307            0.00            0.00        0   \n",
       "4628929            0.00  C1888641457       991360.84      1412275.34        0   \n",
       "4416519       236927.98  C1507955018        47136.63            0.00        0   \n",
       "4106769            0.00   C634632814       495991.64       737148.34        0   \n",
       "3774179            0.00   C884170743      1232853.19      1306190.92        0   \n",
       "5944258            0.00   C335696016       182417.73       394972.13        0   \n",
       "1712705            0.00    C62817561      1247626.44      1378944.93        0   \n",
       "6160670            0.00   M459601948            0.00            0.00        0   \n",
       "\n",
       "         isFlaggedFraud  \n",
       "1972852               0  \n",
       "4854962               0  \n",
       "5487273               0  \n",
       "4628929               0  \n",
       "4416519               0  \n",
       "4106769               0  \n",
       "3774179               0  \n",
       "5944258               0  \n",
       "1712705               0  \n",
       "6160670               0  "
      ]
     },
     "execution_count": 4,
     "metadata": {},
     "output_type": "execute_result"
    }
   ],
   "source": [
    "df.sample(10)"
   ]
  },
  {
   "cell_type": "markdown",
   "metadata": {
    "id": "aFV46AkEee5O"
   },
   "source": [
    "## Conhecendo as features deste dataset:"
   ]
  },
  {
   "cell_type": "markdown",
   "metadata": {
    "id": "BQVm2kesepRb"
   },
   "source": [
    "* `step` - Passo: representa o total de horas transcorrido desde o início da simulação. Esta feature vai variar entre 1 e 744 (30 dias);\n",
    "\n",
    "* `type` - Tipo: tipo de transação (depósito, saque, débito, pagamento e transferência);\n",
    "\n",
    "* `amount` - Quantia: total que foi transacionado;\n",
    "\n",
    "* `nameOrig` - ClienteOrigem: cliente que iniciou a transação\n",
    "\n",
    "* `oldbalanceOrg` - SaldoInicialOrigem: saldo da conta de origem antes da transação;\n",
    "\n",
    "* `newbalanceOrig` - SaldoFinalOrigem: saldo da conta de origem após a transação;\n",
    "\n",
    "* `nameDest` - ClienteDestino: cliente de destino da transação;\n",
    "\n",
    "* `oldbalanceDest` - SaldoInicialDestino: saldo da conta de destino antes da transação;\n",
    "\n",
    "* `newbalanceDest` - SaldoFinalDestino: saldo da conta de destino após a transação;\n",
    "\n",
    "* `isFraud` - ÉFraude: flag que define se a transação é fraudulenta ou não. Nesta simulação o objetivo da fraude é assumir a conta do usuário, esvaziá-la transferindo para outra conta e então sacando o dinheiro.\n",
    "\n",
    "* `isFlaggedFraud` - SinalizadaComoFraude: automaticamente marcadas pelo banco como fraude por tentarem transferir mais de 200.000 em uma única transação."
   ]
  },
  {
   "cell_type": "markdown",
   "metadata": {
    "id": "VtHX3AuWe7Lt"
   },
   "source": [
    "# Pré-análise dos dados com SeetViz"
   ]
  },
  {
   "cell_type": "markdown",
   "metadata": {
    "id": "PaN7Km6CqJTl"
   },
   "source": [
    "Primeiro vou renomear as tabelas para facilitar a análise."
   ]
  },
  {
   "cell_type": "code",
   "execution_count": 5,
   "metadata": {
    "colab": {
     "base_uri": "https://localhost:8080/",
     "height": 207
    },
    "id": "Jmf8Pu9SqQUZ",
    "outputId": "ab94a29e-7ac7-42d5-c5b5-9a7fb8dff6a0"
   },
   "outputs": [
    {
     "data": {
      "text/html": [
       "<div>\n",
       "<style scoped>\n",
       "    .dataframe tbody tr th:only-of-type {\n",
       "        vertical-align: middle;\n",
       "    }\n",
       "\n",
       "    .dataframe tbody tr th {\n",
       "        vertical-align: top;\n",
       "    }\n",
       "\n",
       "    .dataframe thead th {\n",
       "        text-align: right;\n",
       "    }\n",
       "</style>\n",
       "<table border=\"1\" class=\"dataframe\">\n",
       "  <thead>\n",
       "    <tr style=\"text-align: right;\">\n",
       "      <th></th>\n",
       "      <th>totalHoras</th>\n",
       "      <th>tipoTransacao</th>\n",
       "      <th>quantia</th>\n",
       "      <th>clienteOrigem</th>\n",
       "      <th>saldoInicialOrigem</th>\n",
       "      <th>saldoFinalOrigem</th>\n",
       "      <th>clienteDestino</th>\n",
       "      <th>saldoInicialDestino</th>\n",
       "      <th>saldoFinalDestino</th>\n",
       "      <th>ehFraude</th>\n",
       "      <th>sinalizadaComoFraude</th>\n",
       "    </tr>\n",
       "  </thead>\n",
       "  <tbody>\n",
       "    <tr>\n",
       "      <th>0</th>\n",
       "      <td>1</td>\n",
       "      <td>PAYMENT</td>\n",
       "      <td>9839.64</td>\n",
       "      <td>C1231006815</td>\n",
       "      <td>170136.0</td>\n",
       "      <td>160296.36</td>\n",
       "      <td>M1979787155</td>\n",
       "      <td>0.0</td>\n",
       "      <td>0.0</td>\n",
       "      <td>0</td>\n",
       "      <td>0</td>\n",
       "    </tr>\n",
       "    <tr>\n",
       "      <th>1</th>\n",
       "      <td>1</td>\n",
       "      <td>PAYMENT</td>\n",
       "      <td>1864.28</td>\n",
       "      <td>C1666544295</td>\n",
       "      <td>21249.0</td>\n",
       "      <td>19384.72</td>\n",
       "      <td>M2044282225</td>\n",
       "      <td>0.0</td>\n",
       "      <td>0.0</td>\n",
       "      <td>0</td>\n",
       "      <td>0</td>\n",
       "    </tr>\n",
       "    <tr>\n",
       "      <th>2</th>\n",
       "      <td>1</td>\n",
       "      <td>TRANSFER</td>\n",
       "      <td>181.00</td>\n",
       "      <td>C1305486145</td>\n",
       "      <td>181.0</td>\n",
       "      <td>0.00</td>\n",
       "      <td>C553264065</td>\n",
       "      <td>0.0</td>\n",
       "      <td>0.0</td>\n",
       "      <td>1</td>\n",
       "      <td>0</td>\n",
       "    </tr>\n",
       "  </tbody>\n",
       "</table>\n",
       "</div>"
      ],
      "text/plain": [
       "   totalHoras tipoTransacao  quantia clienteOrigem  saldoInicialOrigem  \\\n",
       "0           1       PAYMENT  9839.64   C1231006815            170136.0   \n",
       "1           1       PAYMENT  1864.28   C1666544295             21249.0   \n",
       "2           1      TRANSFER   181.00   C1305486145               181.0   \n",
       "\n",
       "   saldoFinalOrigem clienteDestino  saldoInicialDestino  saldoFinalDestino  \\\n",
       "0         160296.36    M1979787155                  0.0                0.0   \n",
       "1          19384.72    M2044282225                  0.0                0.0   \n",
       "2              0.00     C553264065                  0.0                0.0   \n",
       "\n",
       "   ehFraude  sinalizadaComoFraude  \n",
       "0         0                     0  \n",
       "1         0                     0  \n",
       "2         1                     0  "
      ]
     },
     "execution_count": 5,
     "metadata": {},
     "output_type": "execute_result"
    }
   ],
   "source": [
    "df = df.rename(\n",
    "    columns={\"step\":\"totalHoras\", \"type\": \"tipoTransacao\", \"amount\": \"quantia\",\n",
    "             \"nameOrig\": \"clienteOrigem\", \"oldbalanceOrg\": \"saldoInicialOrigem\",\n",
    "             \"newbalanceOrig\": \"saldoFinalOrigem\", \"nameDest\": \"clienteDestino\",\n",
    "             \"oldbalanceDest\": \"saldoInicialDestino\", \"newbalanceDest\": \"saldoFinalDestino\",\n",
    "             \"isFraud\": \"ehFraude\", \"isFlaggedFraud\": \"sinalizadaComoFraude\"\n",
    "\n",
    "             })\n",
    "df.head(3)"
   ]
  },
  {
   "cell_type": "markdown",
   "metadata": {
    "id": "OKqsqg7Lt_2o"
   },
   "source": [
    "Agora importo o SweetViz"
   ]
  },
  {
   "cell_type": "code",
   "execution_count": 6,
   "metadata": {
    "colab": {
     "base_uri": "https://localhost:8080/"
    },
    "id": "JQIaOF_Df7kc",
    "outputId": "28eb488a-4594-4bac-cb62-8a0a954b040d"
   },
   "outputs": [],
   "source": [
    "#!pip install sweetviz\n",
    "#import sweetviz"
   ]
  },
  {
   "cell_type": "markdown",
   "metadata": {
    "id": "DHgYnKsfkA33"
   },
   "source": [
    "O SeetViz gera um relatório em HTML com várias informações sobre as features do dataset."
   ]
  },
  {
   "cell_type": "code",
   "execution_count": 7,
   "metadata": {
    "id": "ZvBqlCdZkqj5"
   },
   "outputs": [],
   "source": [
    "#analise=sweetviz.analyze(df)\n",
    "#analise.show_html()"
   ]
  },
  {
   "cell_type": "markdown",
   "metadata": {
    "id": "0x7_zh_wuC9l"
   },
   "source": [
    "Ao analisar o relatório do SweetViz, vi que o dataset tem 3 features categóricas (tipoTransacao, ehFraude e sinalizadaComoFraude), 6 numéricas (totalHoras, quantia, saldoInicialOrigem, saldoFinalOrigem, saldoInicialDestino e saldoFinalDestino) e 2 textuais (clienteOrigem, clienteDestino). Nenhuma feature tem valores faltantes."
   ]
  },
  {
   "cell_type": "markdown",
   "metadata": {
    "id": "LUnvtAZfyCMk"
   },
   "source": [
    "# Tratamento de Dados"
   ]
  },
  {
   "cell_type": "markdown",
   "metadata": {
    "id": "guJ7c7bmyErB"
   },
   "source": [
    "Vou tratar a feature categórica tipoTransacao com o método get_dummies do Pandas."
   ]
  },
  {
   "cell_type": "code",
   "execution_count": 8,
   "metadata": {
    "colab": {
     "base_uri": "https://localhost:8080/"
    },
    "id": "V8Gck2wKyqW0",
    "outputId": "7cbd5ab0-4125-40b8-ecd8-4757b8534c09"
   },
   "outputs": [
    {
     "data": {
      "text/plain": [
       "array(['PAYMENT', 'TRANSFER', 'CASH_OUT', 'DEBIT', 'CASH_IN'],\n",
       "      dtype=object)"
      ]
     },
     "execution_count": 8,
     "metadata": {},
     "output_type": "execute_result"
    }
   ],
   "source": [
    "df.tipoTransacao.unique()"
   ]
  },
  {
   "cell_type": "code",
   "execution_count": 9,
   "metadata": {
    "id": "xONY_P65k3vu"
   },
   "outputs": [],
   "source": [
    "df2 = pd.get_dummies(df.tipoTransacao)"
   ]
  },
  {
   "cell_type": "markdown",
   "metadata": {
    "id": "cUNSU_1xyxcx"
   },
   "source": [
    "A coluna tipoTransacao tem 5 valores únicos. Com o método get_dummies será criado uma coluna em um novo dataframe para cada valor único. Para cada transação, o tipo dessa transação vai receber o valor 1."
   ]
  },
  {
   "cell_type": "code",
   "execution_count": 10,
   "metadata": {
    "colab": {
     "base_uri": "https://localhost:8080/",
     "height": 206
    },
    "id": "_BPdGXb_wAAG",
    "outputId": "fc73ffc4-5efd-46cb-86d9-05ac98d8c10e"
   },
   "outputs": [
    {
     "data": {
      "text/html": [
       "<div>\n",
       "<style scoped>\n",
       "    .dataframe tbody tr th:only-of-type {\n",
       "        vertical-align: middle;\n",
       "    }\n",
       "\n",
       "    .dataframe tbody tr th {\n",
       "        vertical-align: top;\n",
       "    }\n",
       "\n",
       "    .dataframe thead th {\n",
       "        text-align: right;\n",
       "    }\n",
       "</style>\n",
       "<table border=\"1\" class=\"dataframe\">\n",
       "  <thead>\n",
       "    <tr style=\"text-align: right;\">\n",
       "      <th></th>\n",
       "      <th>CASH_IN</th>\n",
       "      <th>CASH_OUT</th>\n",
       "      <th>DEBIT</th>\n",
       "      <th>PAYMENT</th>\n",
       "      <th>TRANSFER</th>\n",
       "    </tr>\n",
       "  </thead>\n",
       "  <tbody>\n",
       "    <tr>\n",
       "      <th>0</th>\n",
       "      <td>0</td>\n",
       "      <td>0</td>\n",
       "      <td>0</td>\n",
       "      <td>1</td>\n",
       "      <td>0</td>\n",
       "    </tr>\n",
       "    <tr>\n",
       "      <th>1</th>\n",
       "      <td>0</td>\n",
       "      <td>0</td>\n",
       "      <td>0</td>\n",
       "      <td>1</td>\n",
       "      <td>0</td>\n",
       "    </tr>\n",
       "    <tr>\n",
       "      <th>2</th>\n",
       "      <td>0</td>\n",
       "      <td>0</td>\n",
       "      <td>0</td>\n",
       "      <td>0</td>\n",
       "      <td>1</td>\n",
       "    </tr>\n",
       "    <tr>\n",
       "      <th>3</th>\n",
       "      <td>0</td>\n",
       "      <td>1</td>\n",
       "      <td>0</td>\n",
       "      <td>0</td>\n",
       "      <td>0</td>\n",
       "    </tr>\n",
       "    <tr>\n",
       "      <th>4</th>\n",
       "      <td>0</td>\n",
       "      <td>0</td>\n",
       "      <td>0</td>\n",
       "      <td>1</td>\n",
       "      <td>0</td>\n",
       "    </tr>\n",
       "  </tbody>\n",
       "</table>\n",
       "</div>"
      ],
      "text/plain": [
       "   CASH_IN  CASH_OUT  DEBIT  PAYMENT  TRANSFER\n",
       "0        0         0      0        1         0\n",
       "1        0         0      0        1         0\n",
       "2        0         0      0        0         1\n",
       "3        0         1      0        0         0\n",
       "4        0         0      0        1         0"
      ]
     },
     "execution_count": 10,
     "metadata": {},
     "output_type": "execute_result"
    }
   ],
   "source": [
    "df2.head()"
   ]
  },
  {
   "cell_type": "markdown",
   "metadata": {
    "id": "PdOJs5RAzrGs"
   },
   "source": [
    "Agora concateno o df2 com o dataframe original df."
   ]
  },
  {
   "cell_type": "code",
   "execution_count": 11,
   "metadata": {
    "colab": {
     "base_uri": "https://localhost:8080/",
     "height": 427
    },
    "id": "fXLbwuoQzmgl",
    "outputId": "3cc5f5f3-e5fe-4708-d9ad-b9c5eb231b20"
   },
   "outputs": [
    {
     "data": {
      "text/html": [
       "<div>\n",
       "<style scoped>\n",
       "    .dataframe tbody tr th:only-of-type {\n",
       "        vertical-align: middle;\n",
       "    }\n",
       "\n",
       "    .dataframe tbody tr th {\n",
       "        vertical-align: top;\n",
       "    }\n",
       "\n",
       "    .dataframe thead th {\n",
       "        text-align: right;\n",
       "    }\n",
       "</style>\n",
       "<table border=\"1\" class=\"dataframe\">\n",
       "  <thead>\n",
       "    <tr style=\"text-align: right;\">\n",
       "      <th></th>\n",
       "      <th>totalHoras</th>\n",
       "      <th>tipoTransacao</th>\n",
       "      <th>quantia</th>\n",
       "      <th>clienteOrigem</th>\n",
       "      <th>saldoInicialOrigem</th>\n",
       "      <th>saldoFinalOrigem</th>\n",
       "      <th>clienteDestino</th>\n",
       "      <th>saldoInicialDestino</th>\n",
       "      <th>saldoFinalDestino</th>\n",
       "      <th>ehFraude</th>\n",
       "      <th>sinalizadaComoFraude</th>\n",
       "      <th>CASH_IN</th>\n",
       "      <th>CASH_OUT</th>\n",
       "      <th>DEBIT</th>\n",
       "      <th>PAYMENT</th>\n",
       "      <th>TRANSFER</th>\n",
       "    </tr>\n",
       "  </thead>\n",
       "  <tbody>\n",
       "    <tr>\n",
       "      <th>1441394</th>\n",
       "      <td>140</td>\n",
       "      <td>CASH_OUT</td>\n",
       "      <td>131651.54</td>\n",
       "      <td>C1259296380</td>\n",
       "      <td>0.00</td>\n",
       "      <td>0.00</td>\n",
       "      <td>C634490530</td>\n",
       "      <td>157686.50</td>\n",
       "      <td>289338.04</td>\n",
       "      <td>0</td>\n",
       "      <td>0</td>\n",
       "      <td>0</td>\n",
       "      <td>1</td>\n",
       "      <td>0</td>\n",
       "      <td>0</td>\n",
       "      <td>0</td>\n",
       "    </tr>\n",
       "    <tr>\n",
       "      <th>1372760</th>\n",
       "      <td>138</td>\n",
       "      <td>CASH_OUT</td>\n",
       "      <td>243702.08</td>\n",
       "      <td>C46273318</td>\n",
       "      <td>0.00</td>\n",
       "      <td>0.00</td>\n",
       "      <td>C1635437135</td>\n",
       "      <td>247122.19</td>\n",
       "      <td>552047.25</td>\n",
       "      <td>0</td>\n",
       "      <td>0</td>\n",
       "      <td>0</td>\n",
       "      <td>1</td>\n",
       "      <td>0</td>\n",
       "      <td>0</td>\n",
       "      <td>0</td>\n",
       "    </tr>\n",
       "    <tr>\n",
       "      <th>4964331</th>\n",
       "      <td>351</td>\n",
       "      <td>CASH_OUT</td>\n",
       "      <td>284255.79</td>\n",
       "      <td>C1559776679</td>\n",
       "      <td>20909.00</td>\n",
       "      <td>0.00</td>\n",
       "      <td>C1262421210</td>\n",
       "      <td>5014496.64</td>\n",
       "      <td>5298752.43</td>\n",
       "      <td>0</td>\n",
       "      <td>0</td>\n",
       "      <td>0</td>\n",
       "      <td>1</td>\n",
       "      <td>0</td>\n",
       "      <td>0</td>\n",
       "      <td>0</td>\n",
       "    </tr>\n",
       "    <tr>\n",
       "      <th>1754289</th>\n",
       "      <td>161</td>\n",
       "      <td>CASH_OUT</td>\n",
       "      <td>338101.02</td>\n",
       "      <td>C105050418</td>\n",
       "      <td>0.00</td>\n",
       "      <td>0.00</td>\n",
       "      <td>C1835980384</td>\n",
       "      <td>538773.62</td>\n",
       "      <td>876874.64</td>\n",
       "      <td>0</td>\n",
       "      <td>0</td>\n",
       "      <td>0</td>\n",
       "      <td>1</td>\n",
       "      <td>0</td>\n",
       "      <td>0</td>\n",
       "      <td>0</td>\n",
       "    </tr>\n",
       "    <tr>\n",
       "      <th>5256239</th>\n",
       "      <td>371</td>\n",
       "      <td>CASH_IN</td>\n",
       "      <td>153375.71</td>\n",
       "      <td>C785337113</td>\n",
       "      <td>40533.00</td>\n",
       "      <td>193908.71</td>\n",
       "      <td>C961601121</td>\n",
       "      <td>0.00</td>\n",
       "      <td>0.00</td>\n",
       "      <td>0</td>\n",
       "      <td>0</td>\n",
       "      <td>1</td>\n",
       "      <td>0</td>\n",
       "      <td>0</td>\n",
       "      <td>0</td>\n",
       "      <td>0</td>\n",
       "    </tr>\n",
       "    <tr>\n",
       "      <th>570995</th>\n",
       "      <td>23</td>\n",
       "      <td>PAYMENT</td>\n",
       "      <td>7051.58</td>\n",
       "      <td>C1095356539</td>\n",
       "      <td>0.00</td>\n",
       "      <td>0.00</td>\n",
       "      <td>M117250379</td>\n",
       "      <td>0.00</td>\n",
       "      <td>0.00</td>\n",
       "      <td>0</td>\n",
       "      <td>0</td>\n",
       "      <td>0</td>\n",
       "      <td>0</td>\n",
       "      <td>0</td>\n",
       "      <td>1</td>\n",
       "      <td>0</td>\n",
       "    </tr>\n",
       "    <tr>\n",
       "      <th>4004030</th>\n",
       "      <td>298</td>\n",
       "      <td>CASH_IN</td>\n",
       "      <td>565964.01</td>\n",
       "      <td>C259958371</td>\n",
       "      <td>30714.00</td>\n",
       "      <td>596678.01</td>\n",
       "      <td>C1546125501</td>\n",
       "      <td>176942.43</td>\n",
       "      <td>0.00</td>\n",
       "      <td>0</td>\n",
       "      <td>0</td>\n",
       "      <td>1</td>\n",
       "      <td>0</td>\n",
       "      <td>0</td>\n",
       "      <td>0</td>\n",
       "      <td>0</td>\n",
       "    </tr>\n",
       "    <tr>\n",
       "      <th>2001064</th>\n",
       "      <td>179</td>\n",
       "      <td>PAYMENT</td>\n",
       "      <td>8047.99</td>\n",
       "      <td>C939240150</td>\n",
       "      <td>0.00</td>\n",
       "      <td>0.00</td>\n",
       "      <td>M524609326</td>\n",
       "      <td>0.00</td>\n",
       "      <td>0.00</td>\n",
       "      <td>0</td>\n",
       "      <td>0</td>\n",
       "      <td>0</td>\n",
       "      <td>0</td>\n",
       "      <td>0</td>\n",
       "      <td>1</td>\n",
       "      <td>0</td>\n",
       "    </tr>\n",
       "    <tr>\n",
       "      <th>1124273</th>\n",
       "      <td>130</td>\n",
       "      <td>CASH_OUT</td>\n",
       "      <td>369781.26</td>\n",
       "      <td>C403436093</td>\n",
       "      <td>5002.00</td>\n",
       "      <td>0.00</td>\n",
       "      <td>C1695007132</td>\n",
       "      <td>0.00</td>\n",
       "      <td>369781.26</td>\n",
       "      <td>0</td>\n",
       "      <td>0</td>\n",
       "      <td>0</td>\n",
       "      <td>1</td>\n",
       "      <td>0</td>\n",
       "      <td>0</td>\n",
       "      <td>0</td>\n",
       "    </tr>\n",
       "    <tr>\n",
       "      <th>5891749</th>\n",
       "      <td>403</td>\n",
       "      <td>CASH_IN</td>\n",
       "      <td>646088.04</td>\n",
       "      <td>C1707613441</td>\n",
       "      <td>2971672.47</td>\n",
       "      <td>3617760.50</td>\n",
       "      <td>C1996231083</td>\n",
       "      <td>4896789.07</td>\n",
       "      <td>4250701.04</td>\n",
       "      <td>0</td>\n",
       "      <td>0</td>\n",
       "      <td>1</td>\n",
       "      <td>0</td>\n",
       "      <td>0</td>\n",
       "      <td>0</td>\n",
       "      <td>0</td>\n",
       "    </tr>\n",
       "  </tbody>\n",
       "</table>\n",
       "</div>"
      ],
      "text/plain": [
       "         totalHoras tipoTransacao    quantia clienteOrigem  \\\n",
       "1441394         140      CASH_OUT  131651.54   C1259296380   \n",
       "1372760         138      CASH_OUT  243702.08     C46273318   \n",
       "4964331         351      CASH_OUT  284255.79   C1559776679   \n",
       "1754289         161      CASH_OUT  338101.02    C105050418   \n",
       "5256239         371       CASH_IN  153375.71    C785337113   \n",
       "570995           23       PAYMENT    7051.58   C1095356539   \n",
       "4004030         298       CASH_IN  565964.01    C259958371   \n",
       "2001064         179       PAYMENT    8047.99    C939240150   \n",
       "1124273         130      CASH_OUT  369781.26    C403436093   \n",
       "5891749         403       CASH_IN  646088.04   C1707613441   \n",
       "\n",
       "         saldoInicialOrigem  saldoFinalOrigem clienteDestino  \\\n",
       "1441394                0.00              0.00     C634490530   \n",
       "1372760                0.00              0.00    C1635437135   \n",
       "4964331            20909.00              0.00    C1262421210   \n",
       "1754289                0.00              0.00    C1835980384   \n",
       "5256239            40533.00         193908.71     C961601121   \n",
       "570995                 0.00              0.00     M117250379   \n",
       "4004030            30714.00         596678.01    C1546125501   \n",
       "2001064                0.00              0.00     M524609326   \n",
       "1124273             5002.00              0.00    C1695007132   \n",
       "5891749          2971672.47        3617760.50    C1996231083   \n",
       "\n",
       "         saldoInicialDestino  saldoFinalDestino  ehFraude  \\\n",
       "1441394            157686.50          289338.04         0   \n",
       "1372760            247122.19          552047.25         0   \n",
       "4964331           5014496.64         5298752.43         0   \n",
       "1754289            538773.62          876874.64         0   \n",
       "5256239                 0.00               0.00         0   \n",
       "570995                  0.00               0.00         0   \n",
       "4004030            176942.43               0.00         0   \n",
       "2001064                 0.00               0.00         0   \n",
       "1124273                 0.00          369781.26         0   \n",
       "5891749           4896789.07         4250701.04         0   \n",
       "\n",
       "         sinalizadaComoFraude  CASH_IN  CASH_OUT  DEBIT  PAYMENT  TRANSFER  \n",
       "1441394                     0        0         1      0        0         0  \n",
       "1372760                     0        0         1      0        0         0  \n",
       "4964331                     0        0         1      0        0         0  \n",
       "1754289                     0        0         1      0        0         0  \n",
       "5256239                     0        1         0      0        0         0  \n",
       "570995                      0        0         0      0        1         0  \n",
       "4004030                     0        1         0      0        0         0  \n",
       "2001064                     0        0         0      0        1         0  \n",
       "1124273                     0        0         1      0        0         0  \n",
       "5891749                     0        1         0      0        0         0  "
      ]
     },
     "execution_count": 11,
     "metadata": {},
     "output_type": "execute_result"
    }
   ],
   "source": [
    "df3 = pd.concat([df, df2], axis='columns')\n",
    "df3.sample(10)"
   ]
  },
  {
   "cell_type": "markdown",
   "metadata": {
    "id": "M1BLzMxI1g6y"
   },
   "source": [
    "Agora vou dropar a coluna tipoTransacao."
   ]
  },
  {
   "cell_type": "code",
   "execution_count": 12,
   "metadata": {
    "colab": {
     "base_uri": "https://localhost:8080/",
     "height": 207
    },
    "id": "9FWmgLJRz8cq",
    "outputId": "60a3ec8b-b10f-4eab-d3b9-d558675e67eb"
   },
   "outputs": [
    {
     "data": {
      "text/html": [
       "<div>\n",
       "<style scoped>\n",
       "    .dataframe tbody tr th:only-of-type {\n",
       "        vertical-align: middle;\n",
       "    }\n",
       "\n",
       "    .dataframe tbody tr th {\n",
       "        vertical-align: top;\n",
       "    }\n",
       "\n",
       "    .dataframe thead th {\n",
       "        text-align: right;\n",
       "    }\n",
       "</style>\n",
       "<table border=\"1\" class=\"dataframe\">\n",
       "  <thead>\n",
       "    <tr style=\"text-align: right;\">\n",
       "      <th></th>\n",
       "      <th>totalHoras</th>\n",
       "      <th>quantia</th>\n",
       "      <th>clienteOrigem</th>\n",
       "      <th>saldoInicialOrigem</th>\n",
       "      <th>saldoFinalOrigem</th>\n",
       "      <th>clienteDestino</th>\n",
       "      <th>saldoInicialDestino</th>\n",
       "      <th>saldoFinalDestino</th>\n",
       "      <th>ehFraude</th>\n",
       "      <th>sinalizadaComoFraude</th>\n",
       "      <th>CASH_IN</th>\n",
       "      <th>CASH_OUT</th>\n",
       "      <th>DEBIT</th>\n",
       "      <th>PAYMENT</th>\n",
       "      <th>TRANSFER</th>\n",
       "    </tr>\n",
       "  </thead>\n",
       "  <tbody>\n",
       "    <tr>\n",
       "      <th>1797048</th>\n",
       "      <td>162</td>\n",
       "      <td>872.22</td>\n",
       "      <td>C71349789</td>\n",
       "      <td>0.0</td>\n",
       "      <td>0.00</td>\n",
       "      <td>C1138397323</td>\n",
       "      <td>380298.33</td>\n",
       "      <td>381170.54</td>\n",
       "      <td>0</td>\n",
       "      <td>0</td>\n",
       "      <td>0</td>\n",
       "      <td>1</td>\n",
       "      <td>0</td>\n",
       "      <td>0</td>\n",
       "      <td>0</td>\n",
       "    </tr>\n",
       "    <tr>\n",
       "      <th>391289</th>\n",
       "      <td>17</td>\n",
       "      <td>371979.08</td>\n",
       "      <td>C213114754</td>\n",
       "      <td>335707.3</td>\n",
       "      <td>0.00</td>\n",
       "      <td>C280328448</td>\n",
       "      <td>0.00</td>\n",
       "      <td>371979.08</td>\n",
       "      <td>0</td>\n",
       "      <td>0</td>\n",
       "      <td>0</td>\n",
       "      <td>1</td>\n",
       "      <td>0</td>\n",
       "      <td>0</td>\n",
       "      <td>0</td>\n",
       "    </tr>\n",
       "    <tr>\n",
       "      <th>1678372</th>\n",
       "      <td>159</td>\n",
       "      <td>80733.59</td>\n",
       "      <td>C708305558</td>\n",
       "      <td>401727.0</td>\n",
       "      <td>482460.59</td>\n",
       "      <td>C1605366554</td>\n",
       "      <td>0.00</td>\n",
       "      <td>287042.75</td>\n",
       "      <td>0</td>\n",
       "      <td>0</td>\n",
       "      <td>1</td>\n",
       "      <td>0</td>\n",
       "      <td>0</td>\n",
       "      <td>0</td>\n",
       "      <td>0</td>\n",
       "    </tr>\n",
       "  </tbody>\n",
       "</table>\n",
       "</div>"
      ],
      "text/plain": [
       "         totalHoras    quantia clienteOrigem  saldoInicialOrigem  \\\n",
       "1797048         162     872.22     C71349789                 0.0   \n",
       "391289           17  371979.08    C213114754            335707.3   \n",
       "1678372         159   80733.59    C708305558            401727.0   \n",
       "\n",
       "         saldoFinalOrigem clienteDestino  saldoInicialDestino  \\\n",
       "1797048              0.00    C1138397323            380298.33   \n",
       "391289               0.00     C280328448                 0.00   \n",
       "1678372         482460.59    C1605366554                 0.00   \n",
       "\n",
       "         saldoFinalDestino  ehFraude  sinalizadaComoFraude  CASH_IN  CASH_OUT  \\\n",
       "1797048          381170.54         0                     0        0         1   \n",
       "391289           371979.08         0                     0        0         1   \n",
       "1678372          287042.75         0                     0        1         0   \n",
       "\n",
       "         DEBIT  PAYMENT  TRANSFER  \n",
       "1797048      0        0         0  \n",
       "391289       0        0         0  \n",
       "1678372      0        0         0  "
      ]
     },
     "execution_count": 12,
     "metadata": {},
     "output_type": "execute_result"
    }
   ],
   "source": [
    "df3.drop('tipoTransacao', axis='columns', inplace=True)\n",
    "df3.sample(3)"
   ]
  },
  {
   "cell_type": "markdown",
   "metadata": {
    "id": "-Mg-2Yu8gJU7"
   },
   "source": [
    "E renomear as novas colunas"
   ]
  },
  {
   "cell_type": "code",
   "execution_count": 13,
   "metadata": {
    "colab": {
     "base_uri": "https://localhost:8080/",
     "height": 207
    },
    "id": "gVWt7vILgH2b",
    "outputId": "33bc5f8f-8839-4f4c-cf2c-e360f718d17f"
   },
   "outputs": [
    {
     "data": {
      "text/html": [
       "<div>\n",
       "<style scoped>\n",
       "    .dataframe tbody tr th:only-of-type {\n",
       "        vertical-align: middle;\n",
       "    }\n",
       "\n",
       "    .dataframe tbody tr th {\n",
       "        vertical-align: top;\n",
       "    }\n",
       "\n",
       "    .dataframe thead th {\n",
       "        text-align: right;\n",
       "    }\n",
       "</style>\n",
       "<table border=\"1\" class=\"dataframe\">\n",
       "  <thead>\n",
       "    <tr style=\"text-align: right;\">\n",
       "      <th></th>\n",
       "      <th>totalHoras</th>\n",
       "      <th>quantia</th>\n",
       "      <th>clienteOrigem</th>\n",
       "      <th>saldoInicialOrigem</th>\n",
       "      <th>saldoFinalOrigem</th>\n",
       "      <th>clienteDestino</th>\n",
       "      <th>saldoInicialDestino</th>\n",
       "      <th>saldoFinalDestino</th>\n",
       "      <th>ehFraude</th>\n",
       "      <th>sinalizadaComoFraude</th>\n",
       "      <th>deposito</th>\n",
       "      <th>saque</th>\n",
       "      <th>debito</th>\n",
       "      <th>pagamento</th>\n",
       "      <th>transferencia</th>\n",
       "    </tr>\n",
       "  </thead>\n",
       "  <tbody>\n",
       "    <tr>\n",
       "      <th>0</th>\n",
       "      <td>1</td>\n",
       "      <td>9839.64</td>\n",
       "      <td>C1231006815</td>\n",
       "      <td>170136.0</td>\n",
       "      <td>160296.36</td>\n",
       "      <td>M1979787155</td>\n",
       "      <td>0.0</td>\n",
       "      <td>0.0</td>\n",
       "      <td>0</td>\n",
       "      <td>0</td>\n",
       "      <td>0</td>\n",
       "      <td>0</td>\n",
       "      <td>0</td>\n",
       "      <td>1</td>\n",
       "      <td>0</td>\n",
       "    </tr>\n",
       "    <tr>\n",
       "      <th>1</th>\n",
       "      <td>1</td>\n",
       "      <td>1864.28</td>\n",
       "      <td>C1666544295</td>\n",
       "      <td>21249.0</td>\n",
       "      <td>19384.72</td>\n",
       "      <td>M2044282225</td>\n",
       "      <td>0.0</td>\n",
       "      <td>0.0</td>\n",
       "      <td>0</td>\n",
       "      <td>0</td>\n",
       "      <td>0</td>\n",
       "      <td>0</td>\n",
       "      <td>0</td>\n",
       "      <td>1</td>\n",
       "      <td>0</td>\n",
       "    </tr>\n",
       "    <tr>\n",
       "      <th>2</th>\n",
       "      <td>1</td>\n",
       "      <td>181.00</td>\n",
       "      <td>C1305486145</td>\n",
       "      <td>181.0</td>\n",
       "      <td>0.00</td>\n",
       "      <td>C553264065</td>\n",
       "      <td>0.0</td>\n",
       "      <td>0.0</td>\n",
       "      <td>1</td>\n",
       "      <td>0</td>\n",
       "      <td>0</td>\n",
       "      <td>0</td>\n",
       "      <td>0</td>\n",
       "      <td>0</td>\n",
       "      <td>1</td>\n",
       "    </tr>\n",
       "  </tbody>\n",
       "</table>\n",
       "</div>"
      ],
      "text/plain": [
       "   totalHoras  quantia clienteOrigem  saldoInicialOrigem  saldoFinalOrigem  \\\n",
       "0           1  9839.64   C1231006815            170136.0         160296.36   \n",
       "1           1  1864.28   C1666544295             21249.0          19384.72   \n",
       "2           1   181.00   C1305486145               181.0              0.00   \n",
       "\n",
       "  clienteDestino  saldoInicialDestino  saldoFinalDestino  ehFraude  \\\n",
       "0    M1979787155                  0.0                0.0         0   \n",
       "1    M2044282225                  0.0                0.0         0   \n",
       "2     C553264065                  0.0                0.0         1   \n",
       "\n",
       "   sinalizadaComoFraude  deposito  saque  debito  pagamento  transferencia  \n",
       "0                     0         0      0       0          1              0  \n",
       "1                     0         0      0       0          1              0  \n",
       "2                     0         0      0       0          0              1  "
      ]
     },
     "execution_count": 13,
     "metadata": {},
     "output_type": "execute_result"
    }
   ],
   "source": [
    "df3 = df3.rename(\n",
    "    columns={\"CASH_IN\":\"deposito\", \"CASH_OUT\": \"saque\", \"DEBIT\": \"debito\",\n",
    "             \"PAYMENT\": \"pagamento\", \"TRANSFER\": \"transferencia\",\n",
    "             })\n",
    "df3.head(3)"
   ]
  },
  {
   "cell_type": "markdown",
   "metadata": {},
   "source": [
    "Criando uma nova coluna. Percebi que na metade das transações marcadas como fraude, o valor de saldoFinalOrigem acaba ficando menor que o valor de saldoFinalDestino."
   ]
  },
  {
   "cell_type": "code",
   "execution_count": 14,
   "metadata": {},
   "outputs": [
    {
     "name": "stdout",
     "output_type": "stream",
     "text": [
      "(Soma das fraudes: 8213)\n",
      "Soma das fraudes onde o saldoFinalDestino é maior que saldoFinalOrigem: 4122\n"
     ]
    }
   ],
   "source": [
    "print(f'(Soma das fraudes: {df3.ehFraude.loc[df3.ehFraude == 1].count()})')\n",
    "print(f'Soma das fraudes onde o saldoFinalDestino é maior que saldoFinalOrigem: {df3.ehFraude.loc[(df3.saldoFinalDestino > df3.saldoFinalOrigem) & df3.ehFraude == 1].count()}')"
   ]
  },
  {
   "cell_type": "code",
   "execution_count": 15,
   "metadata": {},
   "outputs": [],
   "source": [
    "df3['saldoFinalDestinoMenosSaldoFinalOrigem'] = df3['saldoFinalDestino'] - df3['saldoFinalOrigem']"
   ]
  },
  {
   "cell_type": "markdown",
   "metadata": {},
   "source": [
    "Criando outra nova coluna com o número de transações que o clienteOrigem iniciou no período e outra com o número de transações que um clienteDestino pode ter participado."
   ]
  },
  {
   "cell_type": "code",
   "execution_count": 16,
   "metadata": {},
   "outputs": [],
   "source": [
    "clienteOrigemNP = df3.clienteOrigem.to_numpy()\n",
    "clienteDestinoNP = df3.clienteDestino.to_numpy()"
   ]
  },
  {
   "cell_type": "code",
   "execution_count": 17,
   "metadata": {},
   "outputs": [],
   "source": [
    "from collections import Counter"
   ]
  },
  {
   "cell_type": "code",
   "execution_count": 18,
   "metadata": {},
   "outputs": [],
   "source": [
    "contadorCO = Counter(clienteOrigemNP)\n",
    "contadorCD = Counter(clienteDestinoNP)"
   ]
  },
  {
   "cell_type": "code",
   "execution_count": 19,
   "metadata": {},
   "outputs": [
    {
     "data": {
      "text/html": [
       "<div>\n",
       "<style scoped>\n",
       "    .dataframe tbody tr th:only-of-type {\n",
       "        vertical-align: middle;\n",
       "    }\n",
       "\n",
       "    .dataframe tbody tr th {\n",
       "        vertical-align: top;\n",
       "    }\n",
       "\n",
       "    .dataframe thead th {\n",
       "        text-align: right;\n",
       "    }\n",
       "</style>\n",
       "<table border=\"1\" class=\"dataframe\">\n",
       "  <thead>\n",
       "    <tr style=\"text-align: right;\">\n",
       "      <th></th>\n",
       "      <th>contador</th>\n",
       "    </tr>\n",
       "    <tr>\n",
       "      <th>index</th>\n",
       "      <th></th>\n",
       "    </tr>\n",
       "  </thead>\n",
       "  <tbody>\n",
       "    <tr>\n",
       "      <th>C1231006815</th>\n",
       "      <td>1</td>\n",
       "    </tr>\n",
       "    <tr>\n",
       "      <th>C1666544295</th>\n",
       "      <td>1</td>\n",
       "    </tr>\n",
       "    <tr>\n",
       "      <th>C1305486145</th>\n",
       "      <td>1</td>\n",
       "    </tr>\n",
       "    <tr>\n",
       "      <th>C840083671</th>\n",
       "      <td>1</td>\n",
       "    </tr>\n",
       "    <tr>\n",
       "      <th>C2048537720</th>\n",
       "      <td>1</td>\n",
       "    </tr>\n",
       "    <tr>\n",
       "      <th>C90045638</th>\n",
       "      <td>1</td>\n",
       "    </tr>\n",
       "    <tr>\n",
       "      <th>C154988899</th>\n",
       "      <td>1</td>\n",
       "    </tr>\n",
       "    <tr>\n",
       "      <th>C1912850431</th>\n",
       "      <td>1</td>\n",
       "    </tr>\n",
       "    <tr>\n",
       "      <th>C1265012928</th>\n",
       "      <td>1</td>\n",
       "    </tr>\n",
       "    <tr>\n",
       "      <th>C712410124</th>\n",
       "      <td>1</td>\n",
       "    </tr>\n",
       "  </tbody>\n",
       "</table>\n",
       "</div>"
      ],
      "text/plain": [
       "             contador\n",
       "index                \n",
       "C1231006815         1\n",
       "C1666544295         1\n",
       "C1305486145         1\n",
       "C840083671          1\n",
       "C2048537720         1\n",
       "C90045638           1\n",
       "C154988899          1\n",
       "C1912850431         1\n",
       "C1265012928         1\n",
       "C712410124          1"
      ]
     },
     "execution_count": 19,
     "metadata": {},
     "output_type": "execute_result"
    }
   ],
   "source": [
    "df_contadorCO = pd.DataFrame.from_dict(contadorCO, orient='index').reset_index()\n",
    "df_contadorCO = df_contadorCO.rename(columns={ 0:'contador'})\n",
    "df_contadorCO.set_index('index',inplace=True)\n",
    "df_contadorCO.head(10)"
   ]
  },
  {
   "cell_type": "code",
   "execution_count": 20,
   "metadata": {},
   "outputs": [
    {
     "data": {
      "text/html": [
       "<div>\n",
       "<style scoped>\n",
       "    .dataframe tbody tr th:only-of-type {\n",
       "        vertical-align: middle;\n",
       "    }\n",
       "\n",
       "    .dataframe tbody tr th {\n",
       "        vertical-align: top;\n",
       "    }\n",
       "\n",
       "    .dataframe thead th {\n",
       "        text-align: right;\n",
       "    }\n",
       "</style>\n",
       "<table border=\"1\" class=\"dataframe\">\n",
       "  <thead>\n",
       "    <tr style=\"text-align: right;\">\n",
       "      <th></th>\n",
       "      <th>contador</th>\n",
       "    </tr>\n",
       "    <tr>\n",
       "      <th>index</th>\n",
       "      <th></th>\n",
       "    </tr>\n",
       "  </thead>\n",
       "  <tbody>\n",
       "    <tr>\n",
       "      <th>M1979787155</th>\n",
       "      <td>1</td>\n",
       "    </tr>\n",
       "    <tr>\n",
       "      <th>M2044282225</th>\n",
       "      <td>1</td>\n",
       "    </tr>\n",
       "    <tr>\n",
       "      <th>C553264065</th>\n",
       "      <td>44</td>\n",
       "    </tr>\n",
       "    <tr>\n",
       "      <th>C38997010</th>\n",
       "      <td>41</td>\n",
       "    </tr>\n",
       "    <tr>\n",
       "      <th>M1230701703</th>\n",
       "      <td>1</td>\n",
       "    </tr>\n",
       "    <tr>\n",
       "      <th>M573487274</th>\n",
       "      <td>1</td>\n",
       "    </tr>\n",
       "    <tr>\n",
       "      <th>M408069119</th>\n",
       "      <td>1</td>\n",
       "    </tr>\n",
       "    <tr>\n",
       "      <th>M633326333</th>\n",
       "      <td>1</td>\n",
       "    </tr>\n",
       "    <tr>\n",
       "      <th>M1176932104</th>\n",
       "      <td>1</td>\n",
       "    </tr>\n",
       "    <tr>\n",
       "      <th>C195600860</th>\n",
       "      <td>34</td>\n",
       "    </tr>\n",
       "  </tbody>\n",
       "</table>\n",
       "</div>"
      ],
      "text/plain": [
       "             contador\n",
       "index                \n",
       "M1979787155         1\n",
       "M2044282225         1\n",
       "C553264065         44\n",
       "C38997010          41\n",
       "M1230701703         1\n",
       "M573487274          1\n",
       "M408069119          1\n",
       "M633326333          1\n",
       "M1176932104         1\n",
       "C195600860         34"
      ]
     },
     "execution_count": 20,
     "metadata": {},
     "output_type": "execute_result"
    }
   ],
   "source": [
    "df_contadorCD = pd.DataFrame.from_dict(contadorCD, orient='index').reset_index()\n",
    "df_contadorCD = df_contadorCD.rename(columns={0:'contador'})\n",
    "df_contadorCD.set_index('index',inplace=True)\n",
    "df_contadorCD.head(10)"
   ]
  },
  {
   "cell_type": "code",
   "execution_count": 21,
   "metadata": {},
   "outputs": [
    {
     "name": "stdout",
     "output_type": "stream",
     "text": [
      "1\n",
      "44\n"
     ]
    }
   ],
   "source": [
    "print(contadorCO['C1305486145'])\n",
    "print(contadorCD['C553264065'])"
   ]
  },
  {
   "cell_type": "code",
   "execution_count": 22,
   "metadata": {},
   "outputs": [],
   "source": [
    "def retorna_transacoes_por_periodo_cliente_origem(df):\n",
    "    return contadorCO[df.clienteOrigem]"
   ]
  },
  {
   "cell_type": "code",
   "execution_count": 23,
   "metadata": {
    "scrolled": true
   },
   "outputs": [
    {
     "name": "stdout",
     "output_type": "stream",
     "text": [
      "Wall time: 3min 25s\n"
     ]
    }
   ],
   "source": [
    "%%time\n",
    "df3['transacoesClienteOrigemPeriodo'] = df3.apply(retorna_transacoes_por_periodo_cliente_origem, axis=1)"
   ]
  },
  {
   "cell_type": "markdown",
   "metadata": {},
   "source": [
    "Criando outra coluna para o número de transações que o clienteDestino participou."
   ]
  },
  {
   "cell_type": "code",
   "execution_count": 24,
   "metadata": {},
   "outputs": [],
   "source": [
    "def retorna_transacoes_por_periodo_cliente_destino(df):\n",
    "    return contadorCD[df.clienteDestino]"
   ]
  },
  {
   "cell_type": "code",
   "execution_count": 25,
   "metadata": {},
   "outputs": [
    {
     "ename": "KeyboardInterrupt",
     "evalue": "",
     "output_type": "error",
     "traceback": [
      "\u001b[1;31m---------------------------------------------------------------------------\u001b[0m",
      "\u001b[1;31mKeyboardInterrupt\u001b[0m                         Traceback (most recent call last)",
      "\u001b[1;32m<timed exec>\u001b[0m in \u001b[0;36m<module>\u001b[1;34m\u001b[0m\n",
      "\u001b[1;32m~\\anaconda3\\lib\\site-packages\\pandas\\core\\frame.py\u001b[0m in \u001b[0;36mapply\u001b[1;34m(self, func, axis, raw, result_type, args, **kwargs)\u001b[0m\n\u001b[0;32m   8738\u001b[0m             \u001b[0mkwargs\u001b[0m\u001b[1;33m=\u001b[0m\u001b[0mkwargs\u001b[0m\u001b[1;33m,\u001b[0m\u001b[1;33m\u001b[0m\u001b[1;33m\u001b[0m\u001b[0m\n\u001b[0;32m   8739\u001b[0m         )\n\u001b[1;32m-> 8740\u001b[1;33m         \u001b[1;32mreturn\u001b[0m \u001b[0mop\u001b[0m\u001b[1;33m.\u001b[0m\u001b[0mapply\u001b[0m\u001b[1;33m(\u001b[0m\u001b[1;33m)\u001b[0m\u001b[1;33m\u001b[0m\u001b[1;33m\u001b[0m\u001b[0m\n\u001b[0m\u001b[0;32m   8741\u001b[0m \u001b[1;33m\u001b[0m\u001b[0m\n\u001b[0;32m   8742\u001b[0m     def applymap(\n",
      "\u001b[1;32m~\\anaconda3\\lib\\site-packages\\pandas\\core\\apply.py\u001b[0m in \u001b[0;36mapply\u001b[1;34m(self)\u001b[0m\n\u001b[0;32m    686\u001b[0m             \u001b[1;32mreturn\u001b[0m \u001b[0mself\u001b[0m\u001b[1;33m.\u001b[0m\u001b[0mapply_raw\u001b[0m\u001b[1;33m(\u001b[0m\u001b[1;33m)\u001b[0m\u001b[1;33m\u001b[0m\u001b[1;33m\u001b[0m\u001b[0m\n\u001b[0;32m    687\u001b[0m \u001b[1;33m\u001b[0m\u001b[0m\n\u001b[1;32m--> 688\u001b[1;33m         \u001b[1;32mreturn\u001b[0m \u001b[0mself\u001b[0m\u001b[1;33m.\u001b[0m\u001b[0mapply_standard\u001b[0m\u001b[1;33m(\u001b[0m\u001b[1;33m)\u001b[0m\u001b[1;33m\u001b[0m\u001b[1;33m\u001b[0m\u001b[0m\n\u001b[0m\u001b[0;32m    689\u001b[0m \u001b[1;33m\u001b[0m\u001b[0m\n\u001b[0;32m    690\u001b[0m     \u001b[1;32mdef\u001b[0m \u001b[0magg\u001b[0m\u001b[1;33m(\u001b[0m\u001b[0mself\u001b[0m\u001b[1;33m)\u001b[0m\u001b[1;33m:\u001b[0m\u001b[1;33m\u001b[0m\u001b[1;33m\u001b[0m\u001b[0m\n",
      "\u001b[1;32m~\\anaconda3\\lib\\site-packages\\pandas\\core\\apply.py\u001b[0m in \u001b[0;36mapply_standard\u001b[1;34m(self)\u001b[0m\n\u001b[0;32m    810\u001b[0m \u001b[1;33m\u001b[0m\u001b[0m\n\u001b[0;32m    811\u001b[0m     \u001b[1;32mdef\u001b[0m \u001b[0mapply_standard\u001b[0m\u001b[1;33m(\u001b[0m\u001b[0mself\u001b[0m\u001b[1;33m)\u001b[0m\u001b[1;33m:\u001b[0m\u001b[1;33m\u001b[0m\u001b[1;33m\u001b[0m\u001b[0m\n\u001b[1;32m--> 812\u001b[1;33m         \u001b[0mresults\u001b[0m\u001b[1;33m,\u001b[0m \u001b[0mres_index\u001b[0m \u001b[1;33m=\u001b[0m \u001b[0mself\u001b[0m\u001b[1;33m.\u001b[0m\u001b[0mapply_series_generator\u001b[0m\u001b[1;33m(\u001b[0m\u001b[1;33m)\u001b[0m\u001b[1;33m\u001b[0m\u001b[1;33m\u001b[0m\u001b[0m\n\u001b[0m\u001b[0;32m    813\u001b[0m \u001b[1;33m\u001b[0m\u001b[0m\n\u001b[0;32m    814\u001b[0m         \u001b[1;31m# wrap results\u001b[0m\u001b[1;33m\u001b[0m\u001b[1;33m\u001b[0m\u001b[0m\n",
      "\u001b[1;32m~\\anaconda3\\lib\\site-packages\\pandas\\core\\apply.py\u001b[0m in \u001b[0;36mapply_series_generator\u001b[1;34m(self)\u001b[0m\n\u001b[0;32m    826\u001b[0m             \u001b[1;32mfor\u001b[0m \u001b[0mi\u001b[0m\u001b[1;33m,\u001b[0m \u001b[0mv\u001b[0m \u001b[1;32min\u001b[0m \u001b[0menumerate\u001b[0m\u001b[1;33m(\u001b[0m\u001b[0mseries_gen\u001b[0m\u001b[1;33m)\u001b[0m\u001b[1;33m:\u001b[0m\u001b[1;33m\u001b[0m\u001b[1;33m\u001b[0m\u001b[0m\n\u001b[0;32m    827\u001b[0m                 \u001b[1;31m# ignore SettingWithCopy here in case the user mutates\u001b[0m\u001b[1;33m\u001b[0m\u001b[1;33m\u001b[0m\u001b[0m\n\u001b[1;32m--> 828\u001b[1;33m                 \u001b[0mresults\u001b[0m\u001b[1;33m[\u001b[0m\u001b[0mi\u001b[0m\u001b[1;33m]\u001b[0m \u001b[1;33m=\u001b[0m \u001b[0mself\u001b[0m\u001b[1;33m.\u001b[0m\u001b[0mf\u001b[0m\u001b[1;33m(\u001b[0m\u001b[0mv\u001b[0m\u001b[1;33m)\u001b[0m\u001b[1;33m\u001b[0m\u001b[1;33m\u001b[0m\u001b[0m\n\u001b[0m\u001b[0;32m    829\u001b[0m                 \u001b[1;32mif\u001b[0m \u001b[0misinstance\u001b[0m\u001b[1;33m(\u001b[0m\u001b[0mresults\u001b[0m\u001b[1;33m[\u001b[0m\u001b[0mi\u001b[0m\u001b[1;33m]\u001b[0m\u001b[1;33m,\u001b[0m \u001b[0mABCSeries\u001b[0m\u001b[1;33m)\u001b[0m\u001b[1;33m:\u001b[0m\u001b[1;33m\u001b[0m\u001b[1;33m\u001b[0m\u001b[0m\n\u001b[0;32m    830\u001b[0m                     \u001b[1;31m# If we have a view on v, we need to make a copy because\u001b[0m\u001b[1;33m\u001b[0m\u001b[1;33m\u001b[0m\u001b[0m\n",
      "\u001b[1;32m~\\AppData\\Local\\Temp/ipykernel_8636/1962150402.py\u001b[0m in \u001b[0;36mretorna_transacoes_por_periodo_cliente_destino\u001b[1;34m(df)\u001b[0m\n\u001b[0;32m      1\u001b[0m \u001b[1;32mdef\u001b[0m \u001b[0mretorna_transacoes_por_periodo_cliente_destino\u001b[0m\u001b[1;33m(\u001b[0m\u001b[0mdf\u001b[0m\u001b[1;33m)\u001b[0m\u001b[1;33m:\u001b[0m\u001b[1;33m\u001b[0m\u001b[1;33m\u001b[0m\u001b[0m\n\u001b[1;32m----> 2\u001b[1;33m     \u001b[1;32mreturn\u001b[0m \u001b[0mcontadorCD\u001b[0m\u001b[1;33m[\u001b[0m\u001b[0mdf\u001b[0m\u001b[1;33m.\u001b[0m\u001b[0mclienteDestino\u001b[0m\u001b[1;33m]\u001b[0m\u001b[1;33m\u001b[0m\u001b[1;33m\u001b[0m\u001b[0m\n\u001b[0m",
      "\u001b[1;32m~\\anaconda3\\lib\\site-packages\\pandas\\core\\generic.py\u001b[0m in \u001b[0;36m__getattr__\u001b[1;34m(self, name)\u001b[0m\n\u001b[0;32m   5480\u001b[0m         if (\n\u001b[0;32m   5481\u001b[0m             \u001b[0mname\u001b[0m \u001b[1;32mnot\u001b[0m \u001b[1;32min\u001b[0m \u001b[0mself\u001b[0m\u001b[1;33m.\u001b[0m\u001b[0m_internal_names_set\u001b[0m\u001b[1;33m\u001b[0m\u001b[1;33m\u001b[0m\u001b[0m\n\u001b[1;32m-> 5482\u001b[1;33m             \u001b[1;32mand\u001b[0m \u001b[0mname\u001b[0m \u001b[1;32mnot\u001b[0m \u001b[1;32min\u001b[0m \u001b[0mself\u001b[0m\u001b[1;33m.\u001b[0m\u001b[0m_metadata\u001b[0m\u001b[1;33m\u001b[0m\u001b[1;33m\u001b[0m\u001b[0m\n\u001b[0m\u001b[0;32m   5483\u001b[0m             \u001b[1;32mand\u001b[0m \u001b[0mname\u001b[0m \u001b[1;32mnot\u001b[0m \u001b[1;32min\u001b[0m \u001b[0mself\u001b[0m\u001b[1;33m.\u001b[0m\u001b[0m_accessors\u001b[0m\u001b[1;33m\u001b[0m\u001b[1;33m\u001b[0m\u001b[0m\n\u001b[0;32m   5484\u001b[0m             \u001b[1;32mand\u001b[0m \u001b[0mself\u001b[0m\u001b[1;33m.\u001b[0m\u001b[0m_info_axis\u001b[0m\u001b[1;33m.\u001b[0m\u001b[0m_can_hold_identifiers_and_holds_name\u001b[0m\u001b[1;33m(\u001b[0m\u001b[0mname\u001b[0m\u001b[1;33m)\u001b[0m\u001b[1;33m\u001b[0m\u001b[1;33m\u001b[0m\u001b[0m\n",
      "\u001b[1;31mKeyboardInterrupt\u001b[0m: "
     ]
    }
   ],
   "source": [
    "%%time\n",
    "df3['transacoesClienteDestinoPeriodo'] = df3.apply(retorna_transacoes_por_periodo_cliente_destino, axis=1)"
   ]
  },
  {
   "cell_type": "markdown",
   "metadata": {},
   "source": [
    "Exportando o dataset com as novas features em csv para não ter que ficar horas esperando para montá-lo novamente:"
   ]
  },
  {
   "cell_type": "code",
   "execution_count": 26,
   "metadata": {},
   "outputs": [
    {
     "name": "stdout",
     "output_type": "stream",
     "text": [
      "Wall time: 0 ns\n"
     ]
    }
   ],
   "source": [
    "%%time\n",
    "#df3.to_csv('df3_novas_features.csv', index=False)"
   ]
  },
  {
   "cell_type": "markdown",
   "metadata": {},
   "source": [
    "Testando as novas features:"
   ]
  },
  {
   "cell_type": "code",
   "execution_count": 27,
   "metadata": {},
   "outputs": [
    {
     "name": "stdout",
     "output_type": "stream",
     "text": [
      "Quantas transações o cliente C553264065 recebeu: 44\n",
      "No dicionário do contador: 44\n",
      "Em linhas do novo dataframe:\n"
     ]
    },
    {
     "data": {
      "text/html": [
       "<div>\n",
       "<style scoped>\n",
       "    .dataframe tbody tr th:only-of-type {\n",
       "        vertical-align: middle;\n",
       "    }\n",
       "\n",
       "    .dataframe tbody tr th {\n",
       "        vertical-align: top;\n",
       "    }\n",
       "\n",
       "    .dataframe thead th {\n",
       "        text-align: right;\n",
       "    }\n",
       "</style>\n",
       "<table border=\"1\" class=\"dataframe\">\n",
       "  <thead>\n",
       "    <tr style=\"text-align: right;\">\n",
       "      <th></th>\n",
       "      <th>totalHoras</th>\n",
       "      <th>quantia</th>\n",
       "      <th>clienteOrigem</th>\n",
       "      <th>saldoInicialOrigem</th>\n",
       "      <th>saldoFinalOrigem</th>\n",
       "      <th>clienteDestino</th>\n",
       "      <th>saldoInicialDestino</th>\n",
       "      <th>saldoFinalDestino</th>\n",
       "      <th>ehFraude</th>\n",
       "      <th>sinalizadaComoFraude</th>\n",
       "      <th>deposito</th>\n",
       "      <th>saque</th>\n",
       "      <th>debito</th>\n",
       "      <th>pagamento</th>\n",
       "      <th>transferencia</th>\n",
       "      <th>saldoFinalDestinoMenosSaldoFinalOrigem</th>\n",
       "      <th>transacoesClienteOrigemPeriodo</th>\n",
       "    </tr>\n",
       "  </thead>\n",
       "  <tbody>\n",
       "    <tr>\n",
       "      <th>2</th>\n",
       "      <td>1</td>\n",
       "      <td>181.00</td>\n",
       "      <td>C1305486145</td>\n",
       "      <td>181.00</td>\n",
       "      <td>0.00</td>\n",
       "      <td>C553264065</td>\n",
       "      <td>0.00</td>\n",
       "      <td>0.00</td>\n",
       "      <td>1</td>\n",
       "      <td>0</td>\n",
       "      <td>0</td>\n",
       "      <td>0</td>\n",
       "      <td>0</td>\n",
       "      <td>0</td>\n",
       "      <td>1</td>\n",
       "      <td>0.00</td>\n",
       "      <td>1</td>\n",
       "    </tr>\n",
       "    <tr>\n",
       "      <th>6167</th>\n",
       "      <td>6</td>\n",
       "      <td>109985.65</td>\n",
       "      <td>C570434649</td>\n",
       "      <td>41851.00</td>\n",
       "      <td>0.00</td>\n",
       "      <td>C553264065</td>\n",
       "      <td>0.00</td>\n",
       "      <td>109985.65</td>\n",
       "      <td>0</td>\n",
       "      <td>0</td>\n",
       "      <td>0</td>\n",
       "      <td>0</td>\n",
       "      <td>0</td>\n",
       "      <td>0</td>\n",
       "      <td>1</td>\n",
       "      <td>109985.65</td>\n",
       "      <td>1</td>\n",
       "    </tr>\n",
       "    <tr>\n",
       "      <th>7903</th>\n",
       "      <td>7</td>\n",
       "      <td>10256.20</td>\n",
       "      <td>C111105514</td>\n",
       "      <td>3766080.24</td>\n",
       "      <td>3776336.45</td>\n",
       "      <td>C553264065</td>\n",
       "      <td>109985.65</td>\n",
       "      <td>99729.44</td>\n",
       "      <td>0</td>\n",
       "      <td>0</td>\n",
       "      <td>1</td>\n",
       "      <td>0</td>\n",
       "      <td>0</td>\n",
       "      <td>0</td>\n",
       "      <td>0</td>\n",
       "      <td>-3676607.01</td>\n",
       "      <td>2</td>\n",
       "    </tr>\n",
       "    <tr>\n",
       "      <th>16381</th>\n",
       "      <td>8</td>\n",
       "      <td>111622.39</td>\n",
       "      <td>C1457214570</td>\n",
       "      <td>2347.00</td>\n",
       "      <td>0.00</td>\n",
       "      <td>C553264065</td>\n",
       "      <td>99729.44</td>\n",
       "      <td>5254.44</td>\n",
       "      <td>0</td>\n",
       "      <td>0</td>\n",
       "      <td>0</td>\n",
       "      <td>1</td>\n",
       "      <td>0</td>\n",
       "      <td>0</td>\n",
       "      <td>0</td>\n",
       "      <td>5254.44</td>\n",
       "      <td>1</td>\n",
       "    </tr>\n",
       "    <tr>\n",
       "      <th>20003</th>\n",
       "      <td>8</td>\n",
       "      <td>206097.39</td>\n",
       "      <td>C161724858</td>\n",
       "      <td>1991.12</td>\n",
       "      <td>208088.52</td>\n",
       "      <td>C553264065</td>\n",
       "      <td>211351.84</td>\n",
       "      <td>5254.44</td>\n",
       "      <td>0</td>\n",
       "      <td>0</td>\n",
       "      <td>1</td>\n",
       "      <td>0</td>\n",
       "      <td>0</td>\n",
       "      <td>0</td>\n",
       "      <td>0</td>\n",
       "      <td>-202834.08</td>\n",
       "      <td>1</td>\n",
       "    </tr>\n",
       "  </tbody>\n",
       "</table>\n",
       "</div>"
      ],
      "text/plain": [
       "       totalHoras    quantia clienteOrigem  saldoInicialOrigem  \\\n",
       "2               1     181.00   C1305486145              181.00   \n",
       "6167            6  109985.65    C570434649            41851.00   \n",
       "7903            7   10256.20    C111105514          3766080.24   \n",
       "16381           8  111622.39   C1457214570             2347.00   \n",
       "20003           8  206097.39    C161724858             1991.12   \n",
       "\n",
       "       saldoFinalOrigem clienteDestino  saldoInicialDestino  \\\n",
       "2                  0.00     C553264065                 0.00   \n",
       "6167               0.00     C553264065                 0.00   \n",
       "7903         3776336.45     C553264065            109985.65   \n",
       "16381              0.00     C553264065             99729.44   \n",
       "20003         208088.52     C553264065            211351.84   \n",
       "\n",
       "       saldoFinalDestino  ehFraude  sinalizadaComoFraude  deposito  saque  \\\n",
       "2                   0.00         1                     0         0      0   \n",
       "6167           109985.65         0                     0         0      0   \n",
       "7903            99729.44         0                     0         1      0   \n",
       "16381            5254.44         0                     0         0      1   \n",
       "20003            5254.44         0                     0         1      0   \n",
       "\n",
       "       debito  pagamento  transferencia  \\\n",
       "2           0          0              1   \n",
       "6167        0          0              1   \n",
       "7903        0          0              0   \n",
       "16381       0          0              0   \n",
       "20003       0          0              0   \n",
       "\n",
       "       saldoFinalDestinoMenosSaldoFinalOrigem  transacoesClienteOrigemPeriodo  \n",
       "2                                        0.00                               1  \n",
       "6167                                109985.65                               1  \n",
       "7903                              -3676607.01                               2  \n",
       "16381                                 5254.44                               1  \n",
       "20003                              -202834.08                               1  "
      ]
     },
     "execution_count": 27,
     "metadata": {},
     "output_type": "execute_result"
    }
   ],
   "source": [
    "total = df3.clienteDestino.loc[df3['clienteDestino'] == 'C553264065'].count()\n",
    "total_contadorCD = contadorCD['C553264065']\n",
    "print(f'Quantas transações o cliente C553264065 recebeu: {total}')\n",
    "print(f'No dicionário do contador: {total_contadorCD}')\n",
    "print(f'Em linhas do novo dataframe:')\n",
    "df3.loc[df3['clienteDestino'] == 'C553264065'].head(5)"
   ]
  },
  {
   "cell_type": "markdown",
   "metadata": {
    "id": "6Q5OYGDyXi--"
   },
   "source": [
    "# Análise exploratória dos dados"
   ]
  },
  {
   "cell_type": "markdown",
   "metadata": {
    "id": "MkDT-r9xhoVD"
   },
   "source": [
    "Visualização das Features x ehFraude"
   ]
  },
  {
   "cell_type": "code",
   "execution_count": 28,
   "metadata": {
    "id": "tY3XS7bEpfEp"
   },
   "outputs": [],
   "source": [
    "import seaborn as sns\n",
    "import matplotlib.pyplot as plt\n",
    "#sns.pairplot(df3, x_vars=['ehFraude'], y_vars=['saldoInicialOrigemPorQuantia'], hue='ehFraude');"
   ]
  },
  {
   "cell_type": "markdown",
   "metadata": {},
   "source": [
    "<div>\n",
    "    <div  style=\"display: flex;\">\n",
    "        <img src=\"./graficos/totalHoras-ehFraude.png\" style=\"height: 250px;\">\n",
    "        <img src=\"./graficos/quantia-ehFraude.png\" style=\"height: 250px;\">\n",
    "        <img src=\"./graficos/saldoInicialOrigem-ehFraude.png\" style=\"height: 250px;\">\n",
    "    </div>\n",
    "    <div style=\"display: flex;\">\n",
    "        <img src=\"./graficos/saldoFinalOrigem-ehFraude.png\" style=\"height: 250px;\">\n",
    "        <img src=\"./graficos/saldoInicialDestino-ehFraude.png\" style=\"height: 250px;\">\n",
    "        <img src=\"./graficos/saldoFinalDestino-ehFraude.png\" style=\"height: 250px;\">\n",
    "    </div>\n",
    "    <div style=\"display: flex;\">\n",
    "        <img src=\"./graficos/saldoFinalDestinoMenosSaldoFinalOrigem-ehFraude.png\" style=\"height: 250px;\">\n",
    "    </div>\n",
    "</div>"
   ]
  },
  {
   "cell_type": "markdown",
   "metadata": {},
   "source": [
    "Visualização da discrepância entre as classes da feature ehFraude. Será necessário um balanceamento."
   ]
  },
  {
   "cell_type": "code",
   "execution_count": 29,
   "metadata": {},
   "outputs": [
    {
     "data": {
      "image/png": "[encoded data removed]",
      "text/plain": [
       "<Figure size 432x288 with 1 Axes>"
      ]
     },
     "metadata": {
      "needs_background": "light"
     },
     "output_type": "display_data"
    }
   ],
   "source": [
    "g = sns.countplot(df3.ehFraude)\n",
    "g.set_xticklabels(['Não é fraude', 'É fraude'])\n",
    "plt.show();"
   ]
  },
  {
   "cell_type": "markdown",
   "metadata": {},
   "source": [
    "Identificando correlações entre variáveis através de um mapa de calor."
   ]
  },
  {
   "cell_type": "code",
   "execution_count": 30,
   "metadata": {},
   "outputs": [
    {
     "data": {
      "image/png": "[encoded data removed]",
      "text/plain": [
       "<Figure size 3600x1800 with 2 Axes>"
      ]
     },
     "metadata": {
      "needs_background": "light"
     },
     "output_type": "display_data"
    }
   ],
   "source": [
    "import numpy as np\n",
    "\n",
    "mask = np.triu(np.ones_like(df3.corr(), dtype=np.bool))\n",
    "plt.figure(figsize=(50,25))\n",
    "sns.heatmap(df3.corr(), mask=mask, square = True, annot=True, vmin=-1, vmax=1, linewidths=1.5)\n",
    "plt.show();"
   ]
  },
  {
   "cell_type": "markdown",
   "metadata": {},
   "source": [
    "As features saldoFinalOrigem e saldoInicialOrigem tem um forte correlação (~1) enquanto saldoFinalDestino e saldoInicialDestino também tem uma forte correlação (0.98). A feature saldoFinalDestinoMenosSaldoFinalOrigem que criei também tem uma alta correlação com as features saldoInicialDestino e saldoFinalDestino, 0.74 e 0.77, respectivamente."
   ]
  },
  {
   "cell_type": "markdown",
   "metadata": {},
   "source": [
    "# Dividindo o dataset em treino e teste"
   ]
  },
  {
   "cell_type": "markdown",
   "metadata": {},
   "source": [
    "Definindo as colunas que vamos usar e a variável target."
   ]
  },
  {
   "cell_type": "code",
   "execution_count": 31,
   "metadata": {},
   "outputs": [
    {
     "ename": "KeyError",
     "evalue": "\"['transacoesClienteDestinoPeriodo'] not in index\"",
     "output_type": "error",
     "traceback": [
      "\u001b[1;31m---------------------------------------------------------------------------\u001b[0m",
      "\u001b[1;31mKeyError\u001b[0m                                  Traceback (most recent call last)",
      "\u001b[1;32m~\\AppData\\Local\\Temp/ipykernel_8636/1970872033.py\u001b[0m in \u001b[0;36m<module>\u001b[1;34m\u001b[0m\n\u001b[1;32m----> 1\u001b[1;33m \u001b[0mvariaveis\u001b[0m \u001b[1;33m=\u001b[0m \u001b[0mdf3\u001b[0m\u001b[1;33m[\u001b[0m\u001b[1;33m[\u001b[0m\u001b[1;34m\"totalHoras\"\u001b[0m\u001b[1;33m,\u001b[0m \u001b[1;34m\"quantia\"\u001b[0m\u001b[1;33m,\u001b[0m \u001b[1;34m\"saldoFinalOrigem\"\u001b[0m\u001b[1;33m,\u001b[0m \u001b[1;34m\"saldoFinalDestino\"\u001b[0m\u001b[1;33m,\u001b[0m \u001b[1;34m\"sinalizadaComoFraude\"\u001b[0m\u001b[1;33m,\u001b[0m \u001b[1;34m\"saque\"\u001b[0m\u001b[1;33m,\u001b[0m \u001b[1;34m\"deposito\"\u001b[0m\u001b[1;33m,\u001b[0m \u001b[1;34m\"pagamento\"\u001b[0m\u001b[1;33m,\u001b[0m \u001b[1;34m\"debito\"\u001b[0m\u001b[1;33m,\u001b[0m \u001b[1;34m\"transferencia\"\u001b[0m\u001b[1;33m,\u001b[0m \u001b[1;34m\"transacoesClienteDestinoPeriodo\"\u001b[0m\u001b[1;33m,\u001b[0m \u001b[1;34m\"transacoesClienteOrigemPeriodo\"\u001b[0m\u001b[1;33m]\u001b[0m\u001b[1;33m]\u001b[0m\u001b[1;33m\u001b[0m\u001b[1;33m\u001b[0m\u001b[0m\n\u001b[0m\u001b[0;32m      2\u001b[0m \u001b[0mtarget\u001b[0m \u001b[1;33m=\u001b[0m \u001b[0mdf3\u001b[0m\u001b[1;33m.\u001b[0m\u001b[0mehFraude\u001b[0m\u001b[1;33m\u001b[0m\u001b[1;33m\u001b[0m\u001b[0m\n",
      "\u001b[1;32m~\\anaconda3\\lib\\site-packages\\pandas\\core\\frame.py\u001b[0m in \u001b[0;36m__getitem__\u001b[1;34m(self, key)\u001b[0m\n\u001b[0;32m   3462\u001b[0m             \u001b[1;32mif\u001b[0m \u001b[0mis_iterator\u001b[0m\u001b[1;33m(\u001b[0m\u001b[0mkey\u001b[0m\u001b[1;33m)\u001b[0m\u001b[1;33m:\u001b[0m\u001b[1;33m\u001b[0m\u001b[1;33m\u001b[0m\u001b[0m\n\u001b[0;32m   3463\u001b[0m                 \u001b[0mkey\u001b[0m \u001b[1;33m=\u001b[0m \u001b[0mlist\u001b[0m\u001b[1;33m(\u001b[0m\u001b[0mkey\u001b[0m\u001b[1;33m)\u001b[0m\u001b[1;33m\u001b[0m\u001b[1;33m\u001b[0m\u001b[0m\n\u001b[1;32m-> 3464\u001b[1;33m             \u001b[0mindexer\u001b[0m \u001b[1;33m=\u001b[0m \u001b[0mself\u001b[0m\u001b[1;33m.\u001b[0m\u001b[0mloc\u001b[0m\u001b[1;33m.\u001b[0m\u001b[0m_get_listlike_indexer\u001b[0m\u001b[1;33m(\u001b[0m\u001b[0mkey\u001b[0m\u001b[1;33m,\u001b[0m \u001b[0maxis\u001b[0m\u001b[1;33m=\u001b[0m\u001b[1;36m1\u001b[0m\u001b[1;33m)\u001b[0m\u001b[1;33m[\u001b[0m\u001b[1;36m1\u001b[0m\u001b[1;33m]\u001b[0m\u001b[1;33m\u001b[0m\u001b[1;33m\u001b[0m\u001b[0m\n\u001b[0m\u001b[0;32m   3465\u001b[0m \u001b[1;33m\u001b[0m\u001b[0m\n\u001b[0;32m   3466\u001b[0m         \u001b[1;31m# take() does not accept boolean indexers\u001b[0m\u001b[1;33m\u001b[0m\u001b[1;33m\u001b[0m\u001b[0m\n",
      "\u001b[1;32m~\\anaconda3\\lib\\site-packages\\pandas\\core\\indexing.py\u001b[0m in \u001b[0;36m_get_listlike_indexer\u001b[1;34m(self, key, axis)\u001b[0m\n\u001b[0;32m   1312\u001b[0m             \u001b[0mkeyarr\u001b[0m\u001b[1;33m,\u001b[0m \u001b[0mindexer\u001b[0m\u001b[1;33m,\u001b[0m \u001b[0mnew_indexer\u001b[0m \u001b[1;33m=\u001b[0m \u001b[0max\u001b[0m\u001b[1;33m.\u001b[0m\u001b[0m_reindex_non_unique\u001b[0m\u001b[1;33m(\u001b[0m\u001b[0mkeyarr\u001b[0m\u001b[1;33m)\u001b[0m\u001b[1;33m\u001b[0m\u001b[1;33m\u001b[0m\u001b[0m\n\u001b[0;32m   1313\u001b[0m \u001b[1;33m\u001b[0m\u001b[0m\n\u001b[1;32m-> 1314\u001b[1;33m         \u001b[0mself\u001b[0m\u001b[1;33m.\u001b[0m\u001b[0m_validate_read_indexer\u001b[0m\u001b[1;33m(\u001b[0m\u001b[0mkeyarr\u001b[0m\u001b[1;33m,\u001b[0m \u001b[0mindexer\u001b[0m\u001b[1;33m,\u001b[0m \u001b[0maxis\u001b[0m\u001b[1;33m)\u001b[0m\u001b[1;33m\u001b[0m\u001b[1;33m\u001b[0m\u001b[0m\n\u001b[0m\u001b[0;32m   1315\u001b[0m \u001b[1;33m\u001b[0m\u001b[0m\n\u001b[0;32m   1316\u001b[0m         if needs_i8_conversion(ax.dtype) or isinstance(\n",
      "\u001b[1;32m~\\anaconda3\\lib\\site-packages\\pandas\\core\\indexing.py\u001b[0m in \u001b[0;36m_validate_read_indexer\u001b[1;34m(self, key, indexer, axis)\u001b[0m\n\u001b[0;32m   1375\u001b[0m \u001b[1;33m\u001b[0m\u001b[0m\n\u001b[0;32m   1376\u001b[0m             \u001b[0mnot_found\u001b[0m \u001b[1;33m=\u001b[0m \u001b[0mlist\u001b[0m\u001b[1;33m(\u001b[0m\u001b[0mensure_index\u001b[0m\u001b[1;33m(\u001b[0m\u001b[0mkey\u001b[0m\u001b[1;33m)\u001b[0m\u001b[1;33m[\u001b[0m\u001b[0mmissing_mask\u001b[0m\u001b[1;33m.\u001b[0m\u001b[0mnonzero\u001b[0m\u001b[1;33m(\u001b[0m\u001b[1;33m)\u001b[0m\u001b[1;33m[\u001b[0m\u001b[1;36m0\u001b[0m\u001b[1;33m]\u001b[0m\u001b[1;33m]\u001b[0m\u001b[1;33m.\u001b[0m\u001b[0munique\u001b[0m\u001b[1;33m(\u001b[0m\u001b[1;33m)\u001b[0m\u001b[1;33m)\u001b[0m\u001b[1;33m\u001b[0m\u001b[1;33m\u001b[0m\u001b[0m\n\u001b[1;32m-> 1377\u001b[1;33m             \u001b[1;32mraise\u001b[0m \u001b[0mKeyError\u001b[0m\u001b[1;33m(\u001b[0m\u001b[1;34mf\"{not_found} not in index\"\u001b[0m\u001b[1;33m)\u001b[0m\u001b[1;33m\u001b[0m\u001b[1;33m\u001b[0m\u001b[0m\n\u001b[0m\u001b[0;32m   1378\u001b[0m \u001b[1;33m\u001b[0m\u001b[0m\n\u001b[0;32m   1379\u001b[0m \u001b[1;33m\u001b[0m\u001b[0m\n",
      "\u001b[1;31mKeyError\u001b[0m: \"['transacoesClienteDestinoPeriodo'] not in index\""
     ]
    }
   ],
   "source": [
    "variaveis = df3[[\"totalHoras\", \"quantia\", \"saldoFinalOrigem\", \"saldoFinalDestino\", \"sinalizadaComoFraude\", \"saque\", \"deposito\", \"pagamento\", \"debito\", \"transferencia\", \"transacoesClienteDestinoPeriodo\", \"transacoesClienteOrigemPeriodo\"]]\n",
    "target = df3.ehFraude"
   ]
  },
  {
   "cell_type": "code",
   "execution_count": null,
   "metadata": {},
   "outputs": [],
   "source": [
    "from sklearn.model_selection import train_test_split\n",
    "\n",
    "X_train, X_test, y_train, y_test = train_test_split(variaveis, target, test_size=0.25, random_state=101)"
   ]
  },
  {
   "cell_type": "markdown",
   "metadata": {},
   "source": [
    "# Balanceamento da base de treino"
   ]
  },
  {
   "cell_type": "markdown",
   "metadata": {},
   "source": [
    "Importando os recursos necessários"
   ]
  },
  {
   "cell_type": "code",
   "execution_count": null,
   "metadata": {},
   "outputs": [],
   "source": [
    "from sklearn.linear_model import LogisticRegression\n",
    "from sklearn.datasets import make_classification\n",
    "from sklearn.metrics import confusion_matrix\n",
    "from sklearn.metrics import classification_report\n",
    "from sklearn import metrics"
   ]
  },
  {
   "cell_type": "markdown",
   "metadata": {},
   "source": [
    "## Logistic Regression - Baseline"
   ]
  },
  {
   "cell_type": "code",
   "execution_count": null,
   "metadata": {},
   "outputs": [],
   "source": [
    "logreg_baseline = LogisticRegression(max_iter=200)\n",
    "logreg_baseline.fit(X_train, y_train)\n",
    "y_pred_baseline = logreg_baseline.predict(X_test)\n",
    "confusion_matrix(y_test, y_pred_baseline)"
   ]
  },
  {
   "cell_type": "code",
   "execution_count": null,
   "metadata": {},
   "outputs": [],
   "source": [
    "print(classification_report(y_test, y_pred_baseline, target_names=['Não Fraude', 'Fraude']))"
   ]
  },
  {
   "cell_type": "code",
   "execution_count": null,
   "metadata": {},
   "outputs": [],
   "source": [
    "metrics.plot_roc_curve(logreg_baseline, X_train, y_train, name='Baseline')\n",
    "plt.show()"
   ]
  },
  {
   "cell_type": "code",
   "execution_count": null,
   "metadata": {},
   "outputs": [],
   "source": [
    "metrics.plot_roc_curve(logreg_baseline, X_test, y_test, name='Baseline')\n",
    "plt.show()"
   ]
  },
  {
   "cell_type": "markdown",
   "metadata": {},
   "source": [
    "## Logistic Regression - Classes Weights ('balanced')"
   ]
  },
  {
   "cell_type": "code",
   "execution_count": null,
   "metadata": {},
   "outputs": [],
   "source": [
    "logreg_balanced = LogisticRegression(class_weight='balanced')\n",
    "logreg_balanced.fit(X_train, y_train)\n",
    "y_pred = logreg_balanced.predict(X_test)\n",
    "confusion_matrix(y_test, y_pred)"
   ]
  },
  {
   "cell_type": "code",
   "execution_count": null,
   "metadata": {},
   "outputs": [],
   "source": [
    "print(classification_report(y_test, y_pred, target_names=['Não Fraude', 'Fraude']))"
   ]
  },
  {
   "cell_type": "code",
   "execution_count": null,
   "metadata": {},
   "outputs": [],
   "source": [
    "metrics.plot_roc_curve(logreg_balanced, X_train, y_train, name='Baseline')\n",
    "plt.show()"
   ]
  },
  {
   "cell_type": "code",
   "execution_count": null,
   "metadata": {},
   "outputs": [],
   "source": [
    "metrics.plot_roc_curve(logreg_balanced, X_test, y_test, name='Baseline')\n",
    "plt.show()"
   ]
  },
  {
   "cell_type": "markdown",
   "metadata": {},
   "source": [
    "## Logistic Regression - Classes Weights (custom)"
   ]
  },
  {
   "cell_type": "code",
   "execution_count": null,
   "metadata": {},
   "outputs": [],
   "source": [
    "logreg_balanced_custom = LogisticRegression(class_weight={0: 0.15,1: 0.85})\n",
    "logreg_balanced_custom.fit(X_train, y_train)\n",
    "y_pred = logreg_balanced_custom.predict(X_test)\n",
    "confusion_matrix(y_test, y_pred)"
   ]
  },
  {
   "cell_type": "code",
   "execution_count": null,
   "metadata": {},
   "outputs": [],
   "source": [
    "print(classification_report(y_test, y_pred, target_names=['Não Fraude', 'Fraude']))"
   ]
  },
  {
   "cell_type": "code",
   "execution_count": null,
   "metadata": {},
   "outputs": [],
   "source": [
    "metrics.plot_roc_curve(logreg_balanced_custom, X_test, y_test, name='Baseline')\n",
    "plt.show()"
   ]
  },
  {
   "cell_type": "markdown",
   "metadata": {},
   "source": [
    "## Logistic Regression - Over-sampling"
   ]
  },
  {
   "cell_type": "markdown",
   "metadata": {
    "tags": []
   },
   "source": [
    "### Random"
   ]
  },
  {
   "cell_type": "code",
   "execution_count": null,
   "metadata": {
    "scrolled": true
   },
   "outputs": [],
   "source": [
    "from imblearn.over_sampling import RandomOverSampler"
   ]
  },
  {
   "cell_type": "code",
   "execution_count": null,
   "metadata": {},
   "outputs": [],
   "source": [
    "sm = RandomOverSampler(random_state=42, sampling_strategy=0.22)\n",
    "X_over, y_over = sm.fit_resample(X_train, y_train)\n",
    "print('Resultado após o oversampling %s' % Counter(y_over))"
   ]
  },
  {
   "cell_type": "code",
   "execution_count": null,
   "metadata": {},
   "outputs": [],
   "source": [
    "logreg = LogisticRegression()\n",
    "logreg.fit(X_over, y_over)\n",
    "y_pred = logreg.predict(X_test)\n",
    "confusion_matrix(y_test, y_pred)"
   ]
  },
  {
   "cell_type": "code",
   "execution_count": null,
   "metadata": {},
   "outputs": [],
   "source": [
    "print(classification_report(y_test, y_pred, target_names=['Não Fraude', 'Fraude']))"
   ]
  },
  {
   "cell_type": "code",
   "execution_count": null,
   "metadata": {},
   "outputs": [],
   "source": [
    "metrics.plot_roc_curve(logreg, X_test, y_test)\n",
    "plt.title(\"Dataset com Over-Sampling Randômico\")\n",
    "plt.show()"
   ]
  },
  {
   "cell_type": "markdown",
   "metadata": {},
   "source": [
    "### ADASYN"
   ]
  },
  {
   "cell_type": "code",
   "execution_count": null,
   "metadata": {},
   "outputs": [],
   "source": [
    "from imblearn.over_sampling import ADASYN\n",
    "\n",
    "sm = ADASYN(random_state=42, sampling_strategy=0.22)\n",
    "X_over, y_over = sm.fit_resample(X_train, y_train)\n",
    "print('Resultado após o oversampling %s' % Counter(y_over))"
   ]
  },
  {
   "cell_type": "code",
   "execution_count": null,
   "metadata": {},
   "outputs": [],
   "source": [
    "logreg = LogisticRegression()\n",
    "logreg.fit(X_over, y_over)\n",
    "y_pred = logreg.predict(X_test)"
   ]
  },
  {
   "cell_type": "code",
   "execution_count": null,
   "metadata": {},
   "outputs": [],
   "source": [
    "confusion_matrix(y_test, y_pred)"
   ]
  },
  {
   "cell_type": "code",
   "execution_count": null,
   "metadata": {},
   "outputs": [],
   "source": [
    "print(classification_report(y_test, y_pred, target_names=['Não Fraude', 'Fraude']))"
   ]
  },
  {
   "cell_type": "code",
   "execution_count": null,
   "metadata": {},
   "outputs": [],
   "source": [
    "metrics.plot_roc_curve(logreg, X_test, y_test)\n",
    "plt.title(\"Dataset com Over-Sampling ADASYN\")\n",
    "plt.show()"
   ]
  },
  {
   "cell_type": "markdown",
   "metadata": {},
   "source": [
    "### SMOTE"
   ]
  },
  {
   "cell_type": "code",
   "execution_count": null,
   "metadata": {},
   "outputs": [],
   "source": [
    "from imblearn.over_sampling import SMOTE\n",
    "\n",
    "sm = SMOTE(random_state=42, sampling_strategy=0.22)\n",
    "X_over, y_over = sm.fit_resample(X_train, y_train)\n",
    "print('Resultado após o oversampling %s' % Counter(y_over))"
   ]
  },
  {
   "cell_type": "code",
   "execution_count": null,
   "metadata": {},
   "outputs": [],
   "source": [
    "logreg = LogisticRegression()\n",
    "logreg.fit(X_over, y_over)\n",
    "y_pred = logreg.predict(X_test)\n",
    "confusion_matrix(y_test, y_pred)"
   ]
  },
  {
   "cell_type": "code",
   "execution_count": null,
   "metadata": {},
   "outputs": [],
   "source": [
    "print(classification_report(y_test, y_pred, target_names=['Não Fraude', 'Fraude']))"
   ]
  },
  {
   "cell_type": "code",
   "execution_count": null,
   "metadata": {},
   "outputs": [],
   "source": [
    "metrics.plot_roc_curve(logreg, X_test, y_test)\n",
    "plt.title(\"Dataset com Over-Sampling SMOTE\")\n",
    "plt.show()"
   ]
  },
  {
   "cell_type": "markdown",
   "metadata": {},
   "source": [
    "## Logistic Regression - Under-sampling"
   ]
  },
  {
   "cell_type": "markdown",
   "metadata": {},
   "source": [
    "### Cluster Centroids"
   ]
  },
  {
   "cell_type": "code",
   "execution_count": null,
   "metadata": {},
   "outputs": [],
   "source": [
    "from imblearn.under_sampling import ClusterCentroids \n",
    "\n",
    "print('Antes %s' % Counter(y_train))\n",
    "cc = ClusterCentroids(random_state=42, sampling_strategy=0.35)\n",
    "X_under, y_under = cc.fit_resample(X_train, y_train)\n",
    "print('Resultado após o under sampling %s' % Counter(y_under))"
   ]
  },
  {
   "cell_type": "code",
   "execution_count": null,
   "metadata": {},
   "outputs": [],
   "source": [
    "confusion_matrix(y_test, y_pred)"
   ]
  },
  {
   "cell_type": "code",
   "execution_count": null,
   "metadata": {},
   "outputs": [],
   "source": [
    "print(classification_report(y_test, y_pred, target_names=['Não Fraude', 'Fraude']))"
   ]
  },
  {
   "cell_type": "code",
   "execution_count": null,
   "metadata": {},
   "outputs": [],
   "source": [
    "logreg_balanced_disp = metrics.plot_roc_curve(logreg, X_test, y_test, \n",
    "                                              name='Under-sampling - Centroids')"
   ]
  },
  {
   "cell_type": "markdown",
   "metadata": {},
   "source": [
    "### Randômico"
   ]
  },
  {
   "cell_type": "code",
   "execution_count": null,
   "metadata": {},
   "outputs": [],
   "source": [
    "from imblearn.under_sampling import RandomUnderSampler \n",
    "\n",
    "print('Antes %s' % Counter(y_train))\n",
    "cc = RandomUnderSampler(random_state=42, sampling_strategy=0.35)\n",
    "X_under, y_under = cc.fit_resample(X_train, y_train)\n",
    "print('Resultado após o under sampling %s' % Counter(y_under))"
   ]
  },
  {
   "cell_type": "code",
   "execution_count": null,
   "metadata": {},
   "outputs": [],
   "source": [
    "logreg = LogisticRegression()\n",
    "logreg.fit(X_under, y_under)\n",
    "y_pred = logreg.predict(X_test)"
   ]
  },
  {
   "cell_type": "code",
   "execution_count": null,
   "metadata": {},
   "outputs": [],
   "source": [
    "confusion_matrix(y_test, y_pred)"
   ]
  },
  {
   "cell_type": "code",
   "execution_count": null,
   "metadata": {},
   "outputs": [],
   "source": [
    "print(classification_report(y_test, y_pred, target_names=['Não Fraude', 'Fraude']))"
   ]
  },
  {
   "cell_type": "code",
   "execution_count": null,
   "metadata": {},
   "outputs": [],
   "source": [
    "logreg_balanced_disp = metrics.plot_roc_curve(logreg, X_test, y_test, \n",
    "                                              name='Random')"
   ]
  },
  {
   "cell_type": "markdown",
   "metadata": {},
   "source": [
    "## Over sampling e Under sampling"
   ]
  },
  {
   "cell_type": "markdown",
   "metadata": {},
   "source": [
    "### Proporção de 1:2"
   ]
  },
  {
   "cell_type": "code",
   "execution_count": null,
   "metadata": {},
   "outputs": [],
   "source": [
    "from imblearn.combine import SMOTEENN \n",
    "\n",
    "sme = SMOTEENN(random_state=42, sampling_strategy=0.5)\n",
    "\n",
    "print('Antes %s' % Counter(y_train))\n",
    "\n",
    "X_res, y_res = sme.fit_resample(X_train, y_train)\n",
    "print('Resultado após a aplicação das duas estratégias combinadas %s' % Counter(y_res))"
   ]
  },
  {
   "cell_type": "code",
   "execution_count": null,
   "metadata": {},
   "outputs": [],
   "source": [
    "logreg = LogisticRegression()\n",
    "logreg.fit(X_res, y_res)\n",
    "y_pred = logreg.predict(X_test)\n",
    "confusion_matrix(y_test, y_pred)"
   ]
  },
  {
   "cell_type": "code",
   "execution_count": null,
   "metadata": {},
   "outputs": [],
   "source": [
    "print(classification_report(y_test, y_pred, target_names=['Não Fraude', 'Fraude']))"
   ]
  },
  {
   "cell_type": "code",
   "execution_count": null,
   "metadata": {},
   "outputs": [],
   "source": [
    "metrics.plot_roc_curve(logreg, X_test, y_test, name='Baseline')\n",
    "plt.show()"
   ]
  },
  {
   "cell_type": "markdown",
   "metadata": {},
   "source": [
    "### Proporção de 1:10"
   ]
  },
  {
   "cell_type": "code",
   "execution_count": null,
   "metadata": {},
   "outputs": [],
   "source": [
    "from imblearn.combine import SMOTEENN \n",
    "\n",
    "sme = SMOTEENN(random_state=42, sampling_strategy=0.1)\n",
    "\n",
    "print('Antes %s' % Counter(y_train))\n",
    "\n",
    "X_res, y_res = sme.fit_resample(X_train, y_train)\n",
    "print('Resultado após a aplicação das duas estratégias combinadas %s' % Counter(y_res))"
   ]
  },
  {
   "cell_type": "code",
   "execution_count": null,
   "metadata": {},
   "outputs": [],
   "source": [
    "logreg = LogisticRegression()\n",
    "logreg.fit(X_res, y_res)\n",
    "y_pred = logreg.predict(X_test)\n",
    "confusion_matrix(y_test, y_pred)"
   ]
  },
  {
   "cell_type": "code",
   "execution_count": null,
   "metadata": {},
   "outputs": [],
   "source": [
    "print(classification_report(y_test, y_pred, target_names=['Não Fraude', 'Fraude']))"
   ]
  },
  {
   "cell_type": "code",
   "execution_count": null,
   "metadata": {},
   "outputs": [],
   "source": [
    "metrics.plot_roc_curve(logreg, X_test, y_test, name='Baseline')\n",
    "plt.show()"
   ]
  },
  {
   "cell_type": "code",
   "execution_count": null,
   "metadata": {},
   "outputs": [],
   "source": []
  }
 ],
 "metadata": {
  "colab": {
   "authorship_tag": "ABX9TyMMlO4JxWK6PvB/rk1gFuQR",
   "collapsed_sections": [],
   "include_colab_link": true,
   "mount_file_id": "1Xd-cKCvSj_ViwjjR7uO4H5f7hf62CjZa",
   "name": "TERA - Desafio de Classificação.ipynb",
   "provenance": []
  },
  "kernelspec": {
   "display_name": "Python 3 (ipykernel)",
   "language": "python",
   "name": "python3"
  },
  "language_info": {
   "codemirror_mode": {
    "name": "ipython",
    "version": 3
   },
   "file_extension": ".py",
   "mimetype": "text/x-python",
   "name": "python",
   "nbconvert_exporter": "python",
   "pygments_lexer": "ipython3",
   "version": "3.9.7"
  }
 },
 "nbformat": 4,
 "nbformat_minor": 4
}
