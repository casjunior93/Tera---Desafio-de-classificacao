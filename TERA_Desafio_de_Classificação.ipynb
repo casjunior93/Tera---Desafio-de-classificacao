{
  "cells": [
    {
      "cell_type": "markdown",
      "metadata": {
        "id": "view-in-github",
        "colab_type": "text"
      },
      "source": [
        "<a href=\"https://colab.research.google.com/github/casjunior93/Tera---Desafio-de-classificacao/blob/main/TERA_Desafio_de_Classifica%C3%A7%C3%A3o.ipynb\" target=\"_parent\"><img src=\"https://colab.research.google.com/assets/colab-badge.svg\" alt=\"Open In Colab\"/></a>"
      ]
    },
    {
      "cell_type": "markdown",
      "metadata": {
        "id": "zVRVZ8x1cuiu"
      },
      "source": [
        "# **Desafio de Detecção e Redução de Fraudes no Setor Financeiro**"
      ]
    },
    {
      "cell_type": "code",
      "source": [
        "from google.colab import drive\n",
        "drive.mount('/content/drive')"
      ],
      "metadata": {
        "id": "H9FO0VkQ6ZTH",
        "outputId": "0a81d9b1-80f5-42f2-ec29-0f92b2594066",
        "colab": {
          "base_uri": "https://localhost:8080/"
        }
      },
      "execution_count": 1,
      "outputs": [
        {
          "output_type": "stream",
          "name": "stdout",
          "text": [
            "Mounted at /content/drive\n"
          ]
        }
      ]
    },
    {
      "cell_type": "markdown",
      "metadata": {
        "id": "6AuXuZcbcw2r"
      },
      "source": [
        "O desafio é propor uma solução para detecção e análise de fraudes que possam reduzir os riscos da empresa de crédito em que trabalho e garantir margens saudáveis.\n",
        "\n",
        "Link do dataset: https://drive.google.com/file/d/1zjK8zQK5zvhR_r2chWI5dCjeOwASlPfb/view"
      ]
    },
    {
      "cell_type": "markdown",
      "metadata": {
        "id": "Wlgu4C3gdjb8"
      },
      "source": [
        "Vou começar importando as bibliotecas iniciais:"
      ]
    },
    {
      "cell_type": "code",
      "execution_count": 2,
      "metadata": {
        "id": "Oabe_59mc_5d"
      },
      "outputs": [],
      "source": [
        "import pandas as pd\n",
        "import warnings\n",
        "warnings.filterwarnings('ignore')"
      ]
    },
    {
      "cell_type": "markdown",
      "metadata": {
        "id": "Nq8UgH0Gdxjz"
      },
      "source": [
        "Agora importo os dados:"
      ]
    },
    {
      "cell_type": "code",
      "execution_count": 3,
      "metadata": {
        "id": "QK9Hi-FyduwV"
      },
      "outputs": [],
      "source": [
        "df = pd.read_csv('/content/drive/MyDrive/Tera/DESAFIO CLASSIFICAÇÃO/fraud_detection_dataset.csv')"
      ]
    },
    {
      "cell_type": "markdown",
      "metadata": {
        "id": "3yRcT8qaYcRx"
      },
      "source": [
        "Visualizo as dimensões do dataframe:"
      ]
    },
    {
      "cell_type": "code",
      "execution_count": 4,
      "metadata": {
        "colab": {
          "base_uri": "https://localhost:8080/"
        },
        "id": "kitKcSXXYWYi",
        "outputId": "345789dc-f1c1-4644-edf8-ee514a73ff71"
      },
      "outputs": [
        {
          "output_type": "execute_result",
          "data": {
            "text/plain": [
              "(6362620, 11)"
            ]
          },
          "metadata": {},
          "execution_count": 4
        }
      ],
      "source": [
        "df.shape"
      ]
    },
    {
      "cell_type": "markdown",
      "metadata": {
        "id": "E1BpG80oeU91"
      },
      "source": [
        "Vou retornar 10 linhas aleatórias para visualizar o dataframe:"
      ]
    },
    {
      "cell_type": "code",
      "execution_count": 5,
      "metadata": {
        "colab": {
          "base_uri": "https://localhost:8080/",
          "height": 363
        },
        "id": "1ABq7uTAeB-P",
        "outputId": "9d250cf1-f56f-42c2-bd94-c7adb7f753a8"
      },
      "outputs": [
        {
          "output_type": "execute_result",
          "data": {
            "text/html": [
              "\n",
              "  <div id=\"df-0a3c222f-b7e0-49db-a12b-c933d2830605\">\n",
              "    <div class=\"colab-df-container\">\n",
              "      <div>\n",
              "<style scoped>\n",
              "    .dataframe tbody tr th:only-of-type {\n",
              "        vertical-align: middle;\n",
              "    }\n",
              "\n",
              "    .dataframe tbody tr th {\n",
              "        vertical-align: top;\n",
              "    }\n",
              "\n",
              "    .dataframe thead th {\n",
              "        text-align: right;\n",
              "    }\n",
              "</style>\n",
              "<table border=\"1\" class=\"dataframe\">\n",
              "  <thead>\n",
              "    <tr style=\"text-align: right;\">\n",
              "      <th></th>\n",
              "      <th>step</th>\n",
              "      <th>type</th>\n",
              "      <th>amount</th>\n",
              "      <th>nameOrig</th>\n",
              "      <th>oldbalanceOrg</th>\n",
              "      <th>newbalanceOrig</th>\n",
              "      <th>nameDest</th>\n",
              "      <th>oldbalanceDest</th>\n",
              "      <th>newbalanceDest</th>\n",
              "      <th>isFraud</th>\n",
              "      <th>isFlaggedFraud</th>\n",
              "    </tr>\n",
              "  </thead>\n",
              "  <tbody>\n",
              "    <tr>\n",
              "      <th>870984</th>\n",
              "      <td>42</td>\n",
              "      <td>PAYMENT</td>\n",
              "      <td>4776.35</td>\n",
              "      <td>C1230126239</td>\n",
              "      <td>26884.00</td>\n",
              "      <td>22107.65</td>\n",
              "      <td>M186658405</td>\n",
              "      <td>0.00</td>\n",
              "      <td>0.00</td>\n",
              "      <td>0</td>\n",
              "      <td>0</td>\n",
              "    </tr>\n",
              "    <tr>\n",
              "      <th>1423518</th>\n",
              "      <td>139</td>\n",
              "      <td>PAYMENT</td>\n",
              "      <td>4431.28</td>\n",
              "      <td>C901670124</td>\n",
              "      <td>0.00</td>\n",
              "      <td>0.00</td>\n",
              "      <td>M550541666</td>\n",
              "      <td>0.00</td>\n",
              "      <td>0.00</td>\n",
              "      <td>0</td>\n",
              "      <td>0</td>\n",
              "    </tr>\n",
              "    <tr>\n",
              "      <th>2399505</th>\n",
              "      <td>201</td>\n",
              "      <td>PAYMENT</td>\n",
              "      <td>2601.26</td>\n",
              "      <td>C1148125120</td>\n",
              "      <td>23546.00</td>\n",
              "      <td>20944.74</td>\n",
              "      <td>M295466231</td>\n",
              "      <td>0.00</td>\n",
              "      <td>0.00</td>\n",
              "      <td>0</td>\n",
              "      <td>0</td>\n",
              "    </tr>\n",
              "    <tr>\n",
              "      <th>3350756</th>\n",
              "      <td>253</td>\n",
              "      <td>CASH_OUT</td>\n",
              "      <td>476228.28</td>\n",
              "      <td>C1511883349</td>\n",
              "      <td>181.00</td>\n",
              "      <td>0.00</td>\n",
              "      <td>C2042350227</td>\n",
              "      <td>113978.03</td>\n",
              "      <td>590206.31</td>\n",
              "      <td>0</td>\n",
              "      <td>0</td>\n",
              "    </tr>\n",
              "    <tr>\n",
              "      <th>1405392</th>\n",
              "      <td>139</td>\n",
              "      <td>PAYMENT</td>\n",
              "      <td>18373.84</td>\n",
              "      <td>C915035903</td>\n",
              "      <td>40958.00</td>\n",
              "      <td>22584.16</td>\n",
              "      <td>M156346656</td>\n",
              "      <td>0.00</td>\n",
              "      <td>0.00</td>\n",
              "      <td>0</td>\n",
              "      <td>0</td>\n",
              "    </tr>\n",
              "    <tr>\n",
              "      <th>1202677</th>\n",
              "      <td>133</td>\n",
              "      <td>CASH_OUT</td>\n",
              "      <td>236699.28</td>\n",
              "      <td>C1323389735</td>\n",
              "      <td>212441.75</td>\n",
              "      <td>0.00</td>\n",
              "      <td>C1469084143</td>\n",
              "      <td>5728162.72</td>\n",
              "      <td>5964861.99</td>\n",
              "      <td>0</td>\n",
              "      <td>0</td>\n",
              "    </tr>\n",
              "    <tr>\n",
              "      <th>1498802</th>\n",
              "      <td>143</td>\n",
              "      <td>PAYMENT</td>\n",
              "      <td>2142.84</td>\n",
              "      <td>C1246497844</td>\n",
              "      <td>45659.00</td>\n",
              "      <td>43516.16</td>\n",
              "      <td>M2065554207</td>\n",
              "      <td>0.00</td>\n",
              "      <td>0.00</td>\n",
              "      <td>0</td>\n",
              "      <td>0</td>\n",
              "    </tr>\n",
              "    <tr>\n",
              "      <th>4213213</th>\n",
              "      <td>305</td>\n",
              "      <td>CASH_OUT</td>\n",
              "      <td>26869.28</td>\n",
              "      <td>C1211475405</td>\n",
              "      <td>0.00</td>\n",
              "      <td>0.00</td>\n",
              "      <td>C196053080</td>\n",
              "      <td>188600.00</td>\n",
              "      <td>215469.27</td>\n",
              "      <td>0</td>\n",
              "      <td>0</td>\n",
              "    </tr>\n",
              "    <tr>\n",
              "      <th>2645100</th>\n",
              "      <td>209</td>\n",
              "      <td>CASH_OUT</td>\n",
              "      <td>109281.49</td>\n",
              "      <td>C1474984696</td>\n",
              "      <td>0.00</td>\n",
              "      <td>0.00</td>\n",
              "      <td>C151880748</td>\n",
              "      <td>1011244.59</td>\n",
              "      <td>1120526.08</td>\n",
              "      <td>0</td>\n",
              "      <td>0</td>\n",
              "    </tr>\n",
              "    <tr>\n",
              "      <th>5146509</th>\n",
              "      <td>356</td>\n",
              "      <td>CASH_IN</td>\n",
              "      <td>135043.48</td>\n",
              "      <td>C1194515139</td>\n",
              "      <td>7806118.23</td>\n",
              "      <td>7941161.71</td>\n",
              "      <td>C1695763340</td>\n",
              "      <td>396132.57</td>\n",
              "      <td>261089.09</td>\n",
              "      <td>0</td>\n",
              "      <td>0</td>\n",
              "    </tr>\n",
              "  </tbody>\n",
              "</table>\n",
              "</div>\n",
              "      <button class=\"colab-df-convert\" onclick=\"convertToInteractive('df-0a3c222f-b7e0-49db-a12b-c933d2830605')\"\n",
              "              title=\"Convert this dataframe to an interactive table.\"\n",
              "              style=\"display:none;\">\n",
              "        \n",
              "  <svg xmlns=\"http://www.w3.org/2000/svg\" height=\"24px\"viewBox=\"0 0 24 24\"\n",
              "       width=\"24px\">\n",
              "    <path d=\"M0 0h24v24H0V0z\" fill=\"none\"/>\n",
              "    <path d=\"M18.56 5.44l.94 2.06.94-2.06 2.06-.94-2.06-.94-.94-2.06-.94 2.06-2.06.94zm-11 1L8.5 8.5l.94-2.06 2.06-.94-2.06-.94L8.5 2.5l-.94 2.06-2.06.94zm10 10l.94 2.06.94-2.06 2.06-.94-2.06-.94-.94-2.06-.94 2.06-2.06.94z\"/><path d=\"M17.41 7.96l-1.37-1.37c-.4-.4-.92-.59-1.43-.59-.52 0-1.04.2-1.43.59L10.3 9.45l-7.72 7.72c-.78.78-.78 2.05 0 2.83L4 21.41c.39.39.9.59 1.41.59.51 0 1.02-.2 1.41-.59l7.78-7.78 2.81-2.81c.8-.78.8-2.07 0-2.86zM5.41 20L4 18.59l7.72-7.72 1.47 1.35L5.41 20z\"/>\n",
              "  </svg>\n",
              "      </button>\n",
              "      \n",
              "  <style>\n",
              "    .colab-df-container {\n",
              "      display:flex;\n",
              "      flex-wrap:wrap;\n",
              "      gap: 12px;\n",
              "    }\n",
              "\n",
              "    .colab-df-convert {\n",
              "      background-color: #E8F0FE;\n",
              "      border: none;\n",
              "      border-radius: 50%;\n",
              "      cursor: pointer;\n",
              "      display: none;\n",
              "      fill: #1967D2;\n",
              "      height: 32px;\n",
              "      padding: 0 0 0 0;\n",
              "      width: 32px;\n",
              "    }\n",
              "\n",
              "    .colab-df-convert:hover {\n",
              "      background-color: #E2EBFA;\n",
              "      box-shadow: 0px 1px 2px rgba(60, 64, 67, 0.3), 0px 1px 3px 1px rgba(60, 64, 67, 0.15);\n",
              "      fill: #174EA6;\n",
              "    }\n",
              "\n",
              "    [theme=dark] .colab-df-convert {\n",
              "      background-color: #3B4455;\n",
              "      fill: #D2E3FC;\n",
              "    }\n",
              "\n",
              "    [theme=dark] .colab-df-convert:hover {\n",
              "      background-color: #434B5C;\n",
              "      box-shadow: 0px 1px 3px 1px rgba(0, 0, 0, 0.15);\n",
              "      filter: drop-shadow(0px 1px 2px rgba(0, 0, 0, 0.3));\n",
              "      fill: #FFFFFF;\n",
              "    }\n",
              "  </style>\n",
              "\n",
              "      <script>\n",
              "        const buttonEl =\n",
              "          document.querySelector('#df-0a3c222f-b7e0-49db-a12b-c933d2830605 button.colab-df-convert');\n",
              "        buttonEl.style.display =\n",
              "          google.colab.kernel.accessAllowed ? 'block' : 'none';\n",
              "\n",
              "        async function convertToInteractive(key) {\n",
              "          const element = document.querySelector('#df-0a3c222f-b7e0-49db-a12b-c933d2830605');\n",
              "          const dataTable =\n",
              "            await google.colab.kernel.invokeFunction('convertToInteractive',\n",
              "                                                     [key], {});\n",
              "          if (!dataTable) return;\n",
              "\n",
              "          const docLinkHtml = 'Like what you see? Visit the ' +\n",
              "            '<a target=\"_blank\" href=https://colab.research.google.com/notebooks/data_table.ipynb>data table notebook</a>'\n",
              "            + ' to learn more about interactive tables.';\n",
              "          element.innerHTML = '';\n",
              "          dataTable['output_type'] = 'display_data';\n",
              "          await google.colab.output.renderOutput(dataTable, element);\n",
              "          const docLink = document.createElement('div');\n",
              "          docLink.innerHTML = docLinkHtml;\n",
              "          element.appendChild(docLink);\n",
              "        }\n",
              "      </script>\n",
              "    </div>\n",
              "  </div>\n",
              "  "
            ],
            "text/plain": [
              "         step      type     amount  ... newbalanceDest  isFraud  isFlaggedFraud\n",
              "870984     42   PAYMENT    4776.35  ...           0.00        0               0\n",
              "1423518   139   PAYMENT    4431.28  ...           0.00        0               0\n",
              "2399505   201   PAYMENT    2601.26  ...           0.00        0               0\n",
              "3350756   253  CASH_OUT  476228.28  ...      590206.31        0               0\n",
              "1405392   139   PAYMENT   18373.84  ...           0.00        0               0\n",
              "1202677   133  CASH_OUT  236699.28  ...     5964861.99        0               0\n",
              "1498802   143   PAYMENT    2142.84  ...           0.00        0               0\n",
              "4213213   305  CASH_OUT   26869.28  ...      215469.27        0               0\n",
              "2645100   209  CASH_OUT  109281.49  ...     1120526.08        0               0\n",
              "5146509   356   CASH_IN  135043.48  ...      261089.09        0               0\n",
              "\n",
              "[10 rows x 11 columns]"
            ]
          },
          "metadata": {},
          "execution_count": 5
        }
      ],
      "source": [
        "df.sample(10)"
      ]
    },
    {
      "cell_type": "markdown",
      "metadata": {
        "id": "aFV46AkEee5O"
      },
      "source": [
        "## Conhecendo as features deste dataset:"
      ]
    },
    {
      "cell_type": "markdown",
      "metadata": {
        "id": "BQVm2kesepRb"
      },
      "source": [
        "* `step` - Passo: representa o total de horas transcorrido desde o início da simulação. Esta feature vai variar entre 1 e 744 (30 dias);\n",
        "\n",
        "* `type` - Tipo: tipo de transação (depósito, saque, débito, pagamento e transferência);\n",
        "\n",
        "* `amount` - Quantia: total que foi transacionado;\n",
        "\n",
        "* `nameOrig` - ClienteOrigem: cliente que iniciou a transação\n",
        "\n",
        "* `oldbalanceOrg` - SaldoInicialOrigem: saldo da conta de origem antes da transação;\n",
        "\n",
        "* `newbalanceOrig` - SaldoFinalOrigem: saldo da conta de origem após a transação;\n",
        "\n",
        "* `nameDest` - ClienteDestino: cliente de destino da transação;\n",
        "\n",
        "* `oldbalanceDest` - SaldoInicialDestino: saldo da conta de destino antes da transação;\n",
        "\n",
        "* `newbalanceDest` - SaldoFinalDestino: saldo da conta de destino após a transação;\n",
        "\n",
        "* `isFraud` - ÉFraude: flag que define se a transação é fraudulenta ou não. Nesta simulação o objetivo da fraude é assumir a conta do usuário, esvaziá-la transferindo para outra conta e então sacando o dinheiro.\n",
        "\n",
        "* `isFlaggedFraud` - SinalizadaComoFraude: automaticamente marcadas pelo banco como fraude por tentarem transferir mais de 200.000 em uma única transação."
      ]
    },
    {
      "cell_type": "markdown",
      "metadata": {
        "id": "VtHX3AuWe7Lt"
      },
      "source": [
        "# Pré-análise dos dados com SeetViz"
      ]
    },
    {
      "cell_type": "markdown",
      "metadata": {
        "id": "PaN7Km6CqJTl"
      },
      "source": [
        "Primeiro vou renomear as tabelas para facilitar a análise."
      ]
    },
    {
      "cell_type": "code",
      "execution_count": 6,
      "metadata": {
        "colab": {
          "base_uri": "https://localhost:8080/",
          "height": 207
        },
        "id": "Jmf8Pu9SqQUZ",
        "outputId": "a8b069d7-953d-4a28-905e-3b86c886bcfe"
      },
      "outputs": [
        {
          "output_type": "execute_result",
          "data": {
            "text/html": [
              "\n",
              "  <div id=\"df-5f4f09f3-99fb-4565-a370-87fbbb4a4713\">\n",
              "    <div class=\"colab-df-container\">\n",
              "      <div>\n",
              "<style scoped>\n",
              "    .dataframe tbody tr th:only-of-type {\n",
              "        vertical-align: middle;\n",
              "    }\n",
              "\n",
              "    .dataframe tbody tr th {\n",
              "        vertical-align: top;\n",
              "    }\n",
              "\n",
              "    .dataframe thead th {\n",
              "        text-align: right;\n",
              "    }\n",
              "</style>\n",
              "<table border=\"1\" class=\"dataframe\">\n",
              "  <thead>\n",
              "    <tr style=\"text-align: right;\">\n",
              "      <th></th>\n",
              "      <th>totalHoras</th>\n",
              "      <th>tipoTransacao</th>\n",
              "      <th>quantia</th>\n",
              "      <th>clienteOrigem</th>\n",
              "      <th>saldoInicialOrigem</th>\n",
              "      <th>saldoFinalOrigem</th>\n",
              "      <th>clienteDestino</th>\n",
              "      <th>saldoInicialDestino</th>\n",
              "      <th>saldoFinalDestino</th>\n",
              "      <th>ehFraude</th>\n",
              "      <th>sinalizadaComoFraude</th>\n",
              "    </tr>\n",
              "  </thead>\n",
              "  <tbody>\n",
              "    <tr>\n",
              "      <th>0</th>\n",
              "      <td>1</td>\n",
              "      <td>PAYMENT</td>\n",
              "      <td>9839.64</td>\n",
              "      <td>C1231006815</td>\n",
              "      <td>170136.0</td>\n",
              "      <td>160296.36</td>\n",
              "      <td>M1979787155</td>\n",
              "      <td>0.0</td>\n",
              "      <td>0.0</td>\n",
              "      <td>0</td>\n",
              "      <td>0</td>\n",
              "    </tr>\n",
              "    <tr>\n",
              "      <th>1</th>\n",
              "      <td>1</td>\n",
              "      <td>PAYMENT</td>\n",
              "      <td>1864.28</td>\n",
              "      <td>C1666544295</td>\n",
              "      <td>21249.0</td>\n",
              "      <td>19384.72</td>\n",
              "      <td>M2044282225</td>\n",
              "      <td>0.0</td>\n",
              "      <td>0.0</td>\n",
              "      <td>0</td>\n",
              "      <td>0</td>\n",
              "    </tr>\n",
              "    <tr>\n",
              "      <th>2</th>\n",
              "      <td>1</td>\n",
              "      <td>TRANSFER</td>\n",
              "      <td>181.00</td>\n",
              "      <td>C1305486145</td>\n",
              "      <td>181.0</td>\n",
              "      <td>0.00</td>\n",
              "      <td>C553264065</td>\n",
              "      <td>0.0</td>\n",
              "      <td>0.0</td>\n",
              "      <td>1</td>\n",
              "      <td>0</td>\n",
              "    </tr>\n",
              "  </tbody>\n",
              "</table>\n",
              "</div>\n",
              "      <button class=\"colab-df-convert\" onclick=\"convertToInteractive('df-5f4f09f3-99fb-4565-a370-87fbbb4a4713')\"\n",
              "              title=\"Convert this dataframe to an interactive table.\"\n",
              "              style=\"display:none;\">\n",
              "        \n",
              "  <svg xmlns=\"http://www.w3.org/2000/svg\" height=\"24px\"viewBox=\"0 0 24 24\"\n",
              "       width=\"24px\">\n",
              "    <path d=\"M0 0h24v24H0V0z\" fill=\"none\"/>\n",
              "    <path d=\"M18.56 5.44l.94 2.06.94-2.06 2.06-.94-2.06-.94-.94-2.06-.94 2.06-2.06.94zm-11 1L8.5 8.5l.94-2.06 2.06-.94-2.06-.94L8.5 2.5l-.94 2.06-2.06.94zm10 10l.94 2.06.94-2.06 2.06-.94-2.06-.94-.94-2.06-.94 2.06-2.06.94z\"/><path d=\"M17.41 7.96l-1.37-1.37c-.4-.4-.92-.59-1.43-.59-.52 0-1.04.2-1.43.59L10.3 9.45l-7.72 7.72c-.78.78-.78 2.05 0 2.83L4 21.41c.39.39.9.59 1.41.59.51 0 1.02-.2 1.41-.59l7.78-7.78 2.81-2.81c.8-.78.8-2.07 0-2.86zM5.41 20L4 18.59l7.72-7.72 1.47 1.35L5.41 20z\"/>\n",
              "  </svg>\n",
              "      </button>\n",
              "      \n",
              "  <style>\n",
              "    .colab-df-container {\n",
              "      display:flex;\n",
              "      flex-wrap:wrap;\n",
              "      gap: 12px;\n",
              "    }\n",
              "\n",
              "    .colab-df-convert {\n",
              "      background-color: #E8F0FE;\n",
              "      border: none;\n",
              "      border-radius: 50%;\n",
              "      cursor: pointer;\n",
              "      display: none;\n",
              "      fill: #1967D2;\n",
              "      height: 32px;\n",
              "      padding: 0 0 0 0;\n",
              "      width: 32px;\n",
              "    }\n",
              "\n",
              "    .colab-df-convert:hover {\n",
              "      background-color: #E2EBFA;\n",
              "      box-shadow: 0px 1px 2px rgba(60, 64, 67, 0.3), 0px 1px 3px 1px rgba(60, 64, 67, 0.15);\n",
              "      fill: #174EA6;\n",
              "    }\n",
              "\n",
              "    [theme=dark] .colab-df-convert {\n",
              "      background-color: #3B4455;\n",
              "      fill: #D2E3FC;\n",
              "    }\n",
              "\n",
              "    [theme=dark] .colab-df-convert:hover {\n",
              "      background-color: #434B5C;\n",
              "      box-shadow: 0px 1px 3px 1px rgba(0, 0, 0, 0.15);\n",
              "      filter: drop-shadow(0px 1px 2px rgba(0, 0, 0, 0.3));\n",
              "      fill: #FFFFFF;\n",
              "    }\n",
              "  </style>\n",
              "\n",
              "      <script>\n",
              "        const buttonEl =\n",
              "          document.querySelector('#df-5f4f09f3-99fb-4565-a370-87fbbb4a4713 button.colab-df-convert');\n",
              "        buttonEl.style.display =\n",
              "          google.colab.kernel.accessAllowed ? 'block' : 'none';\n",
              "\n",
              "        async function convertToInteractive(key) {\n",
              "          const element = document.querySelector('#df-5f4f09f3-99fb-4565-a370-87fbbb4a4713');\n",
              "          const dataTable =\n",
              "            await google.colab.kernel.invokeFunction('convertToInteractive',\n",
              "                                                     [key], {});\n",
              "          if (!dataTable) return;\n",
              "\n",
              "          const docLinkHtml = 'Like what you see? Visit the ' +\n",
              "            '<a target=\"_blank\" href=https://colab.research.google.com/notebooks/data_table.ipynb>data table notebook</a>'\n",
              "            + ' to learn more about interactive tables.';\n",
              "          element.innerHTML = '';\n",
              "          dataTable['output_type'] = 'display_data';\n",
              "          await google.colab.output.renderOutput(dataTable, element);\n",
              "          const docLink = document.createElement('div');\n",
              "          docLink.innerHTML = docLinkHtml;\n",
              "          element.appendChild(docLink);\n",
              "        }\n",
              "      </script>\n",
              "    </div>\n",
              "  </div>\n",
              "  "
            ],
            "text/plain": [
              "   totalHoras tipoTransacao  ...  ehFraude sinalizadaComoFraude\n",
              "0           1       PAYMENT  ...         0                    0\n",
              "1           1       PAYMENT  ...         0                    0\n",
              "2           1      TRANSFER  ...         1                    0\n",
              "\n",
              "[3 rows x 11 columns]"
            ]
          },
          "metadata": {},
          "execution_count": 6
        }
      ],
      "source": [
        "df = df.rename(\n",
        "    columns={\"step\":\"totalHoras\", \"type\": \"tipoTransacao\", \"amount\": \"quantia\",\n",
        "             \"nameOrig\": \"clienteOrigem\", \"oldbalanceOrg\": \"saldoInicialOrigem\",\n",
        "             \"newbalanceOrig\": \"saldoFinalOrigem\", \"nameDest\": \"clienteDestino\",\n",
        "             \"oldbalanceDest\": \"saldoInicialDestino\", \"newbalanceDest\": \"saldoFinalDestino\",\n",
        "             \"isFraud\": \"ehFraude\", \"isFlaggedFraud\": \"sinalizadaComoFraude\"\n",
        "\n",
        "             })\n",
        "df.head(3)"
      ]
    },
    {
      "cell_type": "markdown",
      "metadata": {
        "id": "OKqsqg7Lt_2o"
      },
      "source": [
        "Agora importo o SweetViz"
      ]
    },
    {
      "cell_type": "code",
      "execution_count": 7,
      "metadata": {
        "id": "JQIaOF_Df7kc"
      },
      "outputs": [],
      "source": [
        "#!pip install sweetviz\n",
        "#import sweetviz"
      ]
    },
    {
      "cell_type": "markdown",
      "metadata": {
        "id": "DHgYnKsfkA33"
      },
      "source": [
        "O SeetViz gera um relatório em HTML com várias informações sobre as features do dataset."
      ]
    },
    {
      "cell_type": "code",
      "execution_count": 8,
      "metadata": {
        "id": "ZvBqlCdZkqj5"
      },
      "outputs": [],
      "source": [
        "#analise=sweetviz.analyze(df)\n",
        "#analise.show_html()"
      ]
    },
    {
      "cell_type": "markdown",
      "metadata": {
        "id": "0x7_zh_wuC9l"
      },
      "source": [
        "Ao analisar o relatório do SweetViz, vi que o dataset tem 3 features categóricas (tipoTransacao, ehFraude e sinalizadaComoFraude), 6 numéricas (totalHoras, quantia, saldoInicialOrigem, saldoFinalOrigem, saldoInicialDestino e saldoFinalDestino) e 2 textuais (clienteOrigem, clienteDestino). Nenhuma feature tem valores faltantes."
      ]
    },
    {
      "cell_type": "markdown",
      "metadata": {
        "id": "LUnvtAZfyCMk"
      },
      "source": [
        "# Tratamento de Dados"
      ]
    },
    {
      "cell_type": "markdown",
      "metadata": {
        "id": "guJ7c7bmyErB"
      },
      "source": [
        "Vou tratar a feature categórica tipoTransacao com o método get_dummies do Pandas."
      ]
    },
    {
      "cell_type": "code",
      "execution_count": 9,
      "metadata": {
        "colab": {
          "base_uri": "https://localhost:8080/"
        },
        "id": "V8Gck2wKyqW0",
        "outputId": "d74c88b5-acef-4f6e-baf2-7870fe6ead4c"
      },
      "outputs": [
        {
          "output_type": "execute_result",
          "data": {
            "text/plain": [
              "array(['PAYMENT', 'TRANSFER', 'CASH_OUT', 'DEBIT', 'CASH_IN'],\n",
              "      dtype=object)"
            ]
          },
          "metadata": {},
          "execution_count": 9
        }
      ],
      "source": [
        "df.tipoTransacao.unique()"
      ]
    },
    {
      "cell_type": "code",
      "execution_count": 10,
      "metadata": {
        "id": "xONY_P65k3vu"
      },
      "outputs": [],
      "source": [
        "df2 = pd.get_dummies(df.tipoTransacao)"
      ]
    },
    {
      "cell_type": "markdown",
      "metadata": {
        "id": "cUNSU_1xyxcx"
      },
      "source": [
        "A coluna tipoTransacao tem 5 valores únicos. Com o método get_dummies será criado uma coluna em um novo dataframe para cada valor único. Para cada transação, o tipo dessa transação vai receber o valor 1."
      ]
    },
    {
      "cell_type": "code",
      "execution_count": 11,
      "metadata": {
        "colab": {
          "base_uri": "https://localhost:8080/",
          "height": 206
        },
        "id": "_BPdGXb_wAAG",
        "outputId": "f75b5f17-67c9-4819-d5cd-651c3e9a2de6"
      },
      "outputs": [
        {
          "output_type": "execute_result",
          "data": {
            "text/html": [
              "\n",
              "  <div id=\"df-a7a06719-64fa-46c7-b209-1e895e62a16a\">\n",
              "    <div class=\"colab-df-container\">\n",
              "      <div>\n",
              "<style scoped>\n",
              "    .dataframe tbody tr th:only-of-type {\n",
              "        vertical-align: middle;\n",
              "    }\n",
              "\n",
              "    .dataframe tbody tr th {\n",
              "        vertical-align: top;\n",
              "    }\n",
              "\n",
              "    .dataframe thead th {\n",
              "        text-align: right;\n",
              "    }\n",
              "</style>\n",
              "<table border=\"1\" class=\"dataframe\">\n",
              "  <thead>\n",
              "    <tr style=\"text-align: right;\">\n",
              "      <th></th>\n",
              "      <th>CASH_IN</th>\n",
              "      <th>CASH_OUT</th>\n",
              "      <th>DEBIT</th>\n",
              "      <th>PAYMENT</th>\n",
              "      <th>TRANSFER</th>\n",
              "    </tr>\n",
              "  </thead>\n",
              "  <tbody>\n",
              "    <tr>\n",
              "      <th>0</th>\n",
              "      <td>0</td>\n",
              "      <td>0</td>\n",
              "      <td>0</td>\n",
              "      <td>1</td>\n",
              "      <td>0</td>\n",
              "    </tr>\n",
              "    <tr>\n",
              "      <th>1</th>\n",
              "      <td>0</td>\n",
              "      <td>0</td>\n",
              "      <td>0</td>\n",
              "      <td>1</td>\n",
              "      <td>0</td>\n",
              "    </tr>\n",
              "    <tr>\n",
              "      <th>2</th>\n",
              "      <td>0</td>\n",
              "      <td>0</td>\n",
              "      <td>0</td>\n",
              "      <td>0</td>\n",
              "      <td>1</td>\n",
              "    </tr>\n",
              "    <tr>\n",
              "      <th>3</th>\n",
              "      <td>0</td>\n",
              "      <td>1</td>\n",
              "      <td>0</td>\n",
              "      <td>0</td>\n",
              "      <td>0</td>\n",
              "    </tr>\n",
              "    <tr>\n",
              "      <th>4</th>\n",
              "      <td>0</td>\n",
              "      <td>0</td>\n",
              "      <td>0</td>\n",
              "      <td>1</td>\n",
              "      <td>0</td>\n",
              "    </tr>\n",
              "  </tbody>\n",
              "</table>\n",
              "</div>\n",
              "      <button class=\"colab-df-convert\" onclick=\"convertToInteractive('df-a7a06719-64fa-46c7-b209-1e895e62a16a')\"\n",
              "              title=\"Convert this dataframe to an interactive table.\"\n",
              "              style=\"display:none;\">\n",
              "        \n",
              "  <svg xmlns=\"http://www.w3.org/2000/svg\" height=\"24px\"viewBox=\"0 0 24 24\"\n",
              "       width=\"24px\">\n",
              "    <path d=\"M0 0h24v24H0V0z\" fill=\"none\"/>\n",
              "    <path d=\"M18.56 5.44l.94 2.06.94-2.06 2.06-.94-2.06-.94-.94-2.06-.94 2.06-2.06.94zm-11 1L8.5 8.5l.94-2.06 2.06-.94-2.06-.94L8.5 2.5l-.94 2.06-2.06.94zm10 10l.94 2.06.94-2.06 2.06-.94-2.06-.94-.94-2.06-.94 2.06-2.06.94z\"/><path d=\"M17.41 7.96l-1.37-1.37c-.4-.4-.92-.59-1.43-.59-.52 0-1.04.2-1.43.59L10.3 9.45l-7.72 7.72c-.78.78-.78 2.05 0 2.83L4 21.41c.39.39.9.59 1.41.59.51 0 1.02-.2 1.41-.59l7.78-7.78 2.81-2.81c.8-.78.8-2.07 0-2.86zM5.41 20L4 18.59l7.72-7.72 1.47 1.35L5.41 20z\"/>\n",
              "  </svg>\n",
              "      </button>\n",
              "      \n",
              "  <style>\n",
              "    .colab-df-container {\n",
              "      display:flex;\n",
              "      flex-wrap:wrap;\n",
              "      gap: 12px;\n",
              "    }\n",
              "\n",
              "    .colab-df-convert {\n",
              "      background-color: #E8F0FE;\n",
              "      border: none;\n",
              "      border-radius: 50%;\n",
              "      cursor: pointer;\n",
              "      display: none;\n",
              "      fill: #1967D2;\n",
              "      height: 32px;\n",
              "      padding: 0 0 0 0;\n",
              "      width: 32px;\n",
              "    }\n",
              "\n",
              "    .colab-df-convert:hover {\n",
              "      background-color: #E2EBFA;\n",
              "      box-shadow: 0px 1px 2px rgba(60, 64, 67, 0.3), 0px 1px 3px 1px rgba(60, 64, 67, 0.15);\n",
              "      fill: #174EA6;\n",
              "    }\n",
              "\n",
              "    [theme=dark] .colab-df-convert {\n",
              "      background-color: #3B4455;\n",
              "      fill: #D2E3FC;\n",
              "    }\n",
              "\n",
              "    [theme=dark] .colab-df-convert:hover {\n",
              "      background-color: #434B5C;\n",
              "      box-shadow: 0px 1px 3px 1px rgba(0, 0, 0, 0.15);\n",
              "      filter: drop-shadow(0px 1px 2px rgba(0, 0, 0, 0.3));\n",
              "      fill: #FFFFFF;\n",
              "    }\n",
              "  </style>\n",
              "\n",
              "      <script>\n",
              "        const buttonEl =\n",
              "          document.querySelector('#df-a7a06719-64fa-46c7-b209-1e895e62a16a button.colab-df-convert');\n",
              "        buttonEl.style.display =\n",
              "          google.colab.kernel.accessAllowed ? 'block' : 'none';\n",
              "\n",
              "        async function convertToInteractive(key) {\n",
              "          const element = document.querySelector('#df-a7a06719-64fa-46c7-b209-1e895e62a16a');\n",
              "          const dataTable =\n",
              "            await google.colab.kernel.invokeFunction('convertToInteractive',\n",
              "                                                     [key], {});\n",
              "          if (!dataTable) return;\n",
              "\n",
              "          const docLinkHtml = 'Like what you see? Visit the ' +\n",
              "            '<a target=\"_blank\" href=https://colab.research.google.com/notebooks/data_table.ipynb>data table notebook</a>'\n",
              "            + ' to learn more about interactive tables.';\n",
              "          element.innerHTML = '';\n",
              "          dataTable['output_type'] = 'display_data';\n",
              "          await google.colab.output.renderOutput(dataTable, element);\n",
              "          const docLink = document.createElement('div');\n",
              "          docLink.innerHTML = docLinkHtml;\n",
              "          element.appendChild(docLink);\n",
              "        }\n",
              "      </script>\n",
              "    </div>\n",
              "  </div>\n",
              "  "
            ],
            "text/plain": [
              "   CASH_IN  CASH_OUT  DEBIT  PAYMENT  TRANSFER\n",
              "0        0         0      0        1         0\n",
              "1        0         0      0        1         0\n",
              "2        0         0      0        0         1\n",
              "3        0         1      0        0         0\n",
              "4        0         0      0        1         0"
            ]
          },
          "metadata": {},
          "execution_count": 11
        }
      ],
      "source": [
        "df2.head()"
      ]
    },
    {
      "cell_type": "markdown",
      "metadata": {
        "id": "PdOJs5RAzrGs"
      },
      "source": [
        "Agora concateno o df2 com o dataframe original df."
      ]
    },
    {
      "cell_type": "code",
      "execution_count": 12,
      "metadata": {
        "colab": {
          "base_uri": "https://localhost:8080/",
          "height": 427
        },
        "id": "fXLbwuoQzmgl",
        "outputId": "009baec3-557c-43da-88ef-7696697378ad"
      },
      "outputs": [
        {
          "output_type": "execute_result",
          "data": {
            "text/html": [
              "\n",
              "  <div id=\"df-99d1ef77-8e03-4118-a7fd-f4ae8be301f1\">\n",
              "    <div class=\"colab-df-container\">\n",
              "      <div>\n",
              "<style scoped>\n",
              "    .dataframe tbody tr th:only-of-type {\n",
              "        vertical-align: middle;\n",
              "    }\n",
              "\n",
              "    .dataframe tbody tr th {\n",
              "        vertical-align: top;\n",
              "    }\n",
              "\n",
              "    .dataframe thead th {\n",
              "        text-align: right;\n",
              "    }\n",
              "</style>\n",
              "<table border=\"1\" class=\"dataframe\">\n",
              "  <thead>\n",
              "    <tr style=\"text-align: right;\">\n",
              "      <th></th>\n",
              "      <th>totalHoras</th>\n",
              "      <th>tipoTransacao</th>\n",
              "      <th>quantia</th>\n",
              "      <th>clienteOrigem</th>\n",
              "      <th>saldoInicialOrigem</th>\n",
              "      <th>saldoFinalOrigem</th>\n",
              "      <th>clienteDestino</th>\n",
              "      <th>saldoInicialDestino</th>\n",
              "      <th>saldoFinalDestino</th>\n",
              "      <th>ehFraude</th>\n",
              "      <th>sinalizadaComoFraude</th>\n",
              "      <th>CASH_IN</th>\n",
              "      <th>CASH_OUT</th>\n",
              "      <th>DEBIT</th>\n",
              "      <th>PAYMENT</th>\n",
              "      <th>TRANSFER</th>\n",
              "    </tr>\n",
              "  </thead>\n",
              "  <tbody>\n",
              "    <tr>\n",
              "      <th>2199577</th>\n",
              "      <td>185</td>\n",
              "      <td>CASH_IN</td>\n",
              "      <td>30546.27</td>\n",
              "      <td>C640294319</td>\n",
              "      <td>41481.00</td>\n",
              "      <td>72027.27</td>\n",
              "      <td>C1833275561</td>\n",
              "      <td>1208682.31</td>\n",
              "      <td>1178136.04</td>\n",
              "      <td>0</td>\n",
              "      <td>0</td>\n",
              "      <td>1</td>\n",
              "      <td>0</td>\n",
              "      <td>0</td>\n",
              "      <td>0</td>\n",
              "      <td>0</td>\n",
              "    </tr>\n",
              "    <tr>\n",
              "      <th>5199926</th>\n",
              "      <td>369</td>\n",
              "      <td>CASH_IN</td>\n",
              "      <td>154053.71</td>\n",
              "      <td>C1876221993</td>\n",
              "      <td>4699870.52</td>\n",
              "      <td>4853924.23</td>\n",
              "      <td>C996655057</td>\n",
              "      <td>1678852.18</td>\n",
              "      <td>1524798.47</td>\n",
              "      <td>0</td>\n",
              "      <td>0</td>\n",
              "      <td>1</td>\n",
              "      <td>0</td>\n",
              "      <td>0</td>\n",
              "      <td>0</td>\n",
              "      <td>0</td>\n",
              "    </tr>\n",
              "    <tr>\n",
              "      <th>4047465</th>\n",
              "      <td>300</td>\n",
              "      <td>CASH_OUT</td>\n",
              "      <td>55722.21</td>\n",
              "      <td>C317236156</td>\n",
              "      <td>97963.00</td>\n",
              "      <td>42240.79</td>\n",
              "      <td>C971954069</td>\n",
              "      <td>73601.26</td>\n",
              "      <td>129323.47</td>\n",
              "      <td>0</td>\n",
              "      <td>0</td>\n",
              "      <td>0</td>\n",
              "      <td>1</td>\n",
              "      <td>0</td>\n",
              "      <td>0</td>\n",
              "      <td>0</td>\n",
              "    </tr>\n",
              "    <tr>\n",
              "      <th>1968579</th>\n",
              "      <td>178</td>\n",
              "      <td>TRANSFER</td>\n",
              "      <td>334980.49</td>\n",
              "      <td>C1237508861</td>\n",
              "      <td>446958.70</td>\n",
              "      <td>111978.22</td>\n",
              "      <td>C1679254873</td>\n",
              "      <td>4073262.19</td>\n",
              "      <td>4408242.67</td>\n",
              "      <td>0</td>\n",
              "      <td>0</td>\n",
              "      <td>0</td>\n",
              "      <td>0</td>\n",
              "      <td>0</td>\n",
              "      <td>0</td>\n",
              "      <td>1</td>\n",
              "    </tr>\n",
              "    <tr>\n",
              "      <th>2035557</th>\n",
              "      <td>180</td>\n",
              "      <td>CASH_OUT</td>\n",
              "      <td>125974.44</td>\n",
              "      <td>C1490122392</td>\n",
              "      <td>0.00</td>\n",
              "      <td>0.00</td>\n",
              "      <td>C248226755</td>\n",
              "      <td>476686.94</td>\n",
              "      <td>602661.38</td>\n",
              "      <td>0</td>\n",
              "      <td>0</td>\n",
              "      <td>0</td>\n",
              "      <td>1</td>\n",
              "      <td>0</td>\n",
              "      <td>0</td>\n",
              "      <td>0</td>\n",
              "    </tr>\n",
              "    <tr>\n",
              "      <th>3735630</th>\n",
              "      <td>278</td>\n",
              "      <td>PAYMENT</td>\n",
              "      <td>4639.18</td>\n",
              "      <td>C950166401</td>\n",
              "      <td>0.00</td>\n",
              "      <td>0.00</td>\n",
              "      <td>M1101148729</td>\n",
              "      <td>0.00</td>\n",
              "      <td>0.00</td>\n",
              "      <td>0</td>\n",
              "      <td>0</td>\n",
              "      <td>0</td>\n",
              "      <td>0</td>\n",
              "      <td>0</td>\n",
              "      <td>1</td>\n",
              "      <td>0</td>\n",
              "    </tr>\n",
              "    <tr>\n",
              "      <th>4476142</th>\n",
              "      <td>324</td>\n",
              "      <td>CASH_OUT</td>\n",
              "      <td>290447.71</td>\n",
              "      <td>C284617697</td>\n",
              "      <td>0.00</td>\n",
              "      <td>0.00</td>\n",
              "      <td>C1828914674</td>\n",
              "      <td>523867.90</td>\n",
              "      <td>814315.61</td>\n",
              "      <td>0</td>\n",
              "      <td>0</td>\n",
              "      <td>0</td>\n",
              "      <td>1</td>\n",
              "      <td>0</td>\n",
              "      <td>0</td>\n",
              "      <td>0</td>\n",
              "    </tr>\n",
              "    <tr>\n",
              "      <th>272344</th>\n",
              "      <td>15</td>\n",
              "      <td>PAYMENT</td>\n",
              "      <td>13074.95</td>\n",
              "      <td>C1957949036</td>\n",
              "      <td>2712.00</td>\n",
              "      <td>0.00</td>\n",
              "      <td>M1262827329</td>\n",
              "      <td>0.00</td>\n",
              "      <td>0.00</td>\n",
              "      <td>0</td>\n",
              "      <td>0</td>\n",
              "      <td>0</td>\n",
              "      <td>0</td>\n",
              "      <td>0</td>\n",
              "      <td>1</td>\n",
              "      <td>0</td>\n",
              "    </tr>\n",
              "    <tr>\n",
              "      <th>3903906</th>\n",
              "      <td>284</td>\n",
              "      <td>CASH_IN</td>\n",
              "      <td>78968.42</td>\n",
              "      <td>C377545747</td>\n",
              "      <td>4158244.13</td>\n",
              "      <td>4237212.55</td>\n",
              "      <td>C2122777781</td>\n",
              "      <td>367637.58</td>\n",
              "      <td>288669.16</td>\n",
              "      <td>0</td>\n",
              "      <td>0</td>\n",
              "      <td>1</td>\n",
              "      <td>0</td>\n",
              "      <td>0</td>\n",
              "      <td>0</td>\n",
              "      <td>0</td>\n",
              "    </tr>\n",
              "    <tr>\n",
              "      <th>909120</th>\n",
              "      <td>43</td>\n",
              "      <td>PAYMENT</td>\n",
              "      <td>1085.75</td>\n",
              "      <td>C636599544</td>\n",
              "      <td>0.00</td>\n",
              "      <td>0.00</td>\n",
              "      <td>M1461521563</td>\n",
              "      <td>0.00</td>\n",
              "      <td>0.00</td>\n",
              "      <td>0</td>\n",
              "      <td>0</td>\n",
              "      <td>0</td>\n",
              "      <td>0</td>\n",
              "      <td>0</td>\n",
              "      <td>1</td>\n",
              "      <td>0</td>\n",
              "    </tr>\n",
              "  </tbody>\n",
              "</table>\n",
              "</div>\n",
              "      <button class=\"colab-df-convert\" onclick=\"convertToInteractive('df-99d1ef77-8e03-4118-a7fd-f4ae8be301f1')\"\n",
              "              title=\"Convert this dataframe to an interactive table.\"\n",
              "              style=\"display:none;\">\n",
              "        \n",
              "  <svg xmlns=\"http://www.w3.org/2000/svg\" height=\"24px\"viewBox=\"0 0 24 24\"\n",
              "       width=\"24px\">\n",
              "    <path d=\"M0 0h24v24H0V0z\" fill=\"none\"/>\n",
              "    <path d=\"M18.56 5.44l.94 2.06.94-2.06 2.06-.94-2.06-.94-.94-2.06-.94 2.06-2.06.94zm-11 1L8.5 8.5l.94-2.06 2.06-.94-2.06-.94L8.5 2.5l-.94 2.06-2.06.94zm10 10l.94 2.06.94-2.06 2.06-.94-2.06-.94-.94-2.06-.94 2.06-2.06.94z\"/><path d=\"M17.41 7.96l-1.37-1.37c-.4-.4-.92-.59-1.43-.59-.52 0-1.04.2-1.43.59L10.3 9.45l-7.72 7.72c-.78.78-.78 2.05 0 2.83L4 21.41c.39.39.9.59 1.41.59.51 0 1.02-.2 1.41-.59l7.78-7.78 2.81-2.81c.8-.78.8-2.07 0-2.86zM5.41 20L4 18.59l7.72-7.72 1.47 1.35L5.41 20z\"/>\n",
              "  </svg>\n",
              "      </button>\n",
              "      \n",
              "  <style>\n",
              "    .colab-df-container {\n",
              "      display:flex;\n",
              "      flex-wrap:wrap;\n",
              "      gap: 12px;\n",
              "    }\n",
              "\n",
              "    .colab-df-convert {\n",
              "      background-color: #E8F0FE;\n",
              "      border: none;\n",
              "      border-radius: 50%;\n",
              "      cursor: pointer;\n",
              "      display: none;\n",
              "      fill: #1967D2;\n",
              "      height: 32px;\n",
              "      padding: 0 0 0 0;\n",
              "      width: 32px;\n",
              "    }\n",
              "\n",
              "    .colab-df-convert:hover {\n",
              "      background-color: #E2EBFA;\n",
              "      box-shadow: 0px 1px 2px rgba(60, 64, 67, 0.3), 0px 1px 3px 1px rgba(60, 64, 67, 0.15);\n",
              "      fill: #174EA6;\n",
              "    }\n",
              "\n",
              "    [theme=dark] .colab-df-convert {\n",
              "      background-color: #3B4455;\n",
              "      fill: #D2E3FC;\n",
              "    }\n",
              "\n",
              "    [theme=dark] .colab-df-convert:hover {\n",
              "      background-color: #434B5C;\n",
              "      box-shadow: 0px 1px 3px 1px rgba(0, 0, 0, 0.15);\n",
              "      filter: drop-shadow(0px 1px 2px rgba(0, 0, 0, 0.3));\n",
              "      fill: #FFFFFF;\n",
              "    }\n",
              "  </style>\n",
              "\n",
              "      <script>\n",
              "        const buttonEl =\n",
              "          document.querySelector('#df-99d1ef77-8e03-4118-a7fd-f4ae8be301f1 button.colab-df-convert');\n",
              "        buttonEl.style.display =\n",
              "          google.colab.kernel.accessAllowed ? 'block' : 'none';\n",
              "\n",
              "        async function convertToInteractive(key) {\n",
              "          const element = document.querySelector('#df-99d1ef77-8e03-4118-a7fd-f4ae8be301f1');\n",
              "          const dataTable =\n",
              "            await google.colab.kernel.invokeFunction('convertToInteractive',\n",
              "                                                     [key], {});\n",
              "          if (!dataTable) return;\n",
              "\n",
              "          const docLinkHtml = 'Like what you see? Visit the ' +\n",
              "            '<a target=\"_blank\" href=https://colab.research.google.com/notebooks/data_table.ipynb>data table notebook</a>'\n",
              "            + ' to learn more about interactive tables.';\n",
              "          element.innerHTML = '';\n",
              "          dataTable['output_type'] = 'display_data';\n",
              "          await google.colab.output.renderOutput(dataTable, element);\n",
              "          const docLink = document.createElement('div');\n",
              "          docLink.innerHTML = docLinkHtml;\n",
              "          element.appendChild(docLink);\n",
              "        }\n",
              "      </script>\n",
              "    </div>\n",
              "  </div>\n",
              "  "
            ],
            "text/plain": [
              "         totalHoras tipoTransacao    quantia  ... DEBIT  PAYMENT  TRANSFER\n",
              "2199577         185       CASH_IN   30546.27  ...     0        0         0\n",
              "5199926         369       CASH_IN  154053.71  ...     0        0         0\n",
              "4047465         300      CASH_OUT   55722.21  ...     0        0         0\n",
              "1968579         178      TRANSFER  334980.49  ...     0        0         1\n",
              "2035557         180      CASH_OUT  125974.44  ...     0        0         0\n",
              "3735630         278       PAYMENT    4639.18  ...     0        1         0\n",
              "4476142         324      CASH_OUT  290447.71  ...     0        0         0\n",
              "272344           15       PAYMENT   13074.95  ...     0        1         0\n",
              "3903906         284       CASH_IN   78968.42  ...     0        0         0\n",
              "909120           43       PAYMENT    1085.75  ...     0        1         0\n",
              "\n",
              "[10 rows x 16 columns]"
            ]
          },
          "metadata": {},
          "execution_count": 12
        }
      ],
      "source": [
        "df3 = pd.concat([df, df2], axis='columns')\n",
        "df3.sample(10)"
      ]
    },
    {
      "cell_type": "markdown",
      "metadata": {
        "id": "M1BLzMxI1g6y"
      },
      "source": [
        "Agora vou dropar a coluna tipoTransacao."
      ]
    },
    {
      "cell_type": "code",
      "execution_count": 13,
      "metadata": {
        "colab": {
          "base_uri": "https://localhost:8080/",
          "height": 207
        },
        "id": "9FWmgLJRz8cq",
        "outputId": "c89704ba-86db-4a02-fd7e-beb7b76ec1e9"
      },
      "outputs": [
        {
          "output_type": "execute_result",
          "data": {
            "text/html": [
              "\n",
              "  <div id=\"df-375f22fc-9c51-4be9-9200-7f74a31af19d\">\n",
              "    <div class=\"colab-df-container\">\n",
              "      <div>\n",
              "<style scoped>\n",
              "    .dataframe tbody tr th:only-of-type {\n",
              "        vertical-align: middle;\n",
              "    }\n",
              "\n",
              "    .dataframe tbody tr th {\n",
              "        vertical-align: top;\n",
              "    }\n",
              "\n",
              "    .dataframe thead th {\n",
              "        text-align: right;\n",
              "    }\n",
              "</style>\n",
              "<table border=\"1\" class=\"dataframe\">\n",
              "  <thead>\n",
              "    <tr style=\"text-align: right;\">\n",
              "      <th></th>\n",
              "      <th>totalHoras</th>\n",
              "      <th>quantia</th>\n",
              "      <th>clienteOrigem</th>\n",
              "      <th>saldoInicialOrigem</th>\n",
              "      <th>saldoFinalOrigem</th>\n",
              "      <th>clienteDestino</th>\n",
              "      <th>saldoInicialDestino</th>\n",
              "      <th>saldoFinalDestino</th>\n",
              "      <th>ehFraude</th>\n",
              "      <th>sinalizadaComoFraude</th>\n",
              "      <th>CASH_IN</th>\n",
              "      <th>CASH_OUT</th>\n",
              "      <th>DEBIT</th>\n",
              "      <th>PAYMENT</th>\n",
              "      <th>TRANSFER</th>\n",
              "    </tr>\n",
              "  </thead>\n",
              "  <tbody>\n",
              "    <tr>\n",
              "      <th>2716578</th>\n",
              "      <td>211</td>\n",
              "      <td>279953.90</td>\n",
              "      <td>C1514894423</td>\n",
              "      <td>20206457.45</td>\n",
              "      <td>20486411.35</td>\n",
              "      <td>C719819184</td>\n",
              "      <td>611313.29</td>\n",
              "      <td>331359.39</td>\n",
              "      <td>0</td>\n",
              "      <td>0</td>\n",
              "      <td>1</td>\n",
              "      <td>0</td>\n",
              "      <td>0</td>\n",
              "      <td>0</td>\n",
              "      <td>0</td>\n",
              "    </tr>\n",
              "    <tr>\n",
              "      <th>1221970</th>\n",
              "      <td>133</td>\n",
              "      <td>271587.68</td>\n",
              "      <td>C216628720</td>\n",
              "      <td>10303.00</td>\n",
              "      <td>0.00</td>\n",
              "      <td>C1158848029</td>\n",
              "      <td>363850.37</td>\n",
              "      <td>635438.04</td>\n",
              "      <td>0</td>\n",
              "      <td>0</td>\n",
              "      <td>0</td>\n",
              "      <td>1</td>\n",
              "      <td>0</td>\n",
              "      <td>0</td>\n",
              "      <td>0</td>\n",
              "    </tr>\n",
              "    <tr>\n",
              "      <th>3076030</th>\n",
              "      <td>235</td>\n",
              "      <td>1151725.30</td>\n",
              "      <td>C1864151749</td>\n",
              "      <td>21363.00</td>\n",
              "      <td>0.00</td>\n",
              "      <td>C408803417</td>\n",
              "      <td>2159680.57</td>\n",
              "      <td>3311405.87</td>\n",
              "      <td>0</td>\n",
              "      <td>0</td>\n",
              "      <td>0</td>\n",
              "      <td>0</td>\n",
              "      <td>0</td>\n",
              "      <td>0</td>\n",
              "      <td>1</td>\n",
              "    </tr>\n",
              "  </tbody>\n",
              "</table>\n",
              "</div>\n",
              "      <button class=\"colab-df-convert\" onclick=\"convertToInteractive('df-375f22fc-9c51-4be9-9200-7f74a31af19d')\"\n",
              "              title=\"Convert this dataframe to an interactive table.\"\n",
              "              style=\"display:none;\">\n",
              "        \n",
              "  <svg xmlns=\"http://www.w3.org/2000/svg\" height=\"24px\"viewBox=\"0 0 24 24\"\n",
              "       width=\"24px\">\n",
              "    <path d=\"M0 0h24v24H0V0z\" fill=\"none\"/>\n",
              "    <path d=\"M18.56 5.44l.94 2.06.94-2.06 2.06-.94-2.06-.94-.94-2.06-.94 2.06-2.06.94zm-11 1L8.5 8.5l.94-2.06 2.06-.94-2.06-.94L8.5 2.5l-.94 2.06-2.06.94zm10 10l.94 2.06.94-2.06 2.06-.94-2.06-.94-.94-2.06-.94 2.06-2.06.94z\"/><path d=\"M17.41 7.96l-1.37-1.37c-.4-.4-.92-.59-1.43-.59-.52 0-1.04.2-1.43.59L10.3 9.45l-7.72 7.72c-.78.78-.78 2.05 0 2.83L4 21.41c.39.39.9.59 1.41.59.51 0 1.02-.2 1.41-.59l7.78-7.78 2.81-2.81c.8-.78.8-2.07 0-2.86zM5.41 20L4 18.59l7.72-7.72 1.47 1.35L5.41 20z\"/>\n",
              "  </svg>\n",
              "      </button>\n",
              "      \n",
              "  <style>\n",
              "    .colab-df-container {\n",
              "      display:flex;\n",
              "      flex-wrap:wrap;\n",
              "      gap: 12px;\n",
              "    }\n",
              "\n",
              "    .colab-df-convert {\n",
              "      background-color: #E8F0FE;\n",
              "      border: none;\n",
              "      border-radius: 50%;\n",
              "      cursor: pointer;\n",
              "      display: none;\n",
              "      fill: #1967D2;\n",
              "      height: 32px;\n",
              "      padding: 0 0 0 0;\n",
              "      width: 32px;\n",
              "    }\n",
              "\n",
              "    .colab-df-convert:hover {\n",
              "      background-color: #E2EBFA;\n",
              "      box-shadow: 0px 1px 2px rgba(60, 64, 67, 0.3), 0px 1px 3px 1px rgba(60, 64, 67, 0.15);\n",
              "      fill: #174EA6;\n",
              "    }\n",
              "\n",
              "    [theme=dark] .colab-df-convert {\n",
              "      background-color: #3B4455;\n",
              "      fill: #D2E3FC;\n",
              "    }\n",
              "\n",
              "    [theme=dark] .colab-df-convert:hover {\n",
              "      background-color: #434B5C;\n",
              "      box-shadow: 0px 1px 3px 1px rgba(0, 0, 0, 0.15);\n",
              "      filter: drop-shadow(0px 1px 2px rgba(0, 0, 0, 0.3));\n",
              "      fill: #FFFFFF;\n",
              "    }\n",
              "  </style>\n",
              "\n",
              "      <script>\n",
              "        const buttonEl =\n",
              "          document.querySelector('#df-375f22fc-9c51-4be9-9200-7f74a31af19d button.colab-df-convert');\n",
              "        buttonEl.style.display =\n",
              "          google.colab.kernel.accessAllowed ? 'block' : 'none';\n",
              "\n",
              "        async function convertToInteractive(key) {\n",
              "          const element = document.querySelector('#df-375f22fc-9c51-4be9-9200-7f74a31af19d');\n",
              "          const dataTable =\n",
              "            await google.colab.kernel.invokeFunction('convertToInteractive',\n",
              "                                                     [key], {});\n",
              "          if (!dataTable) return;\n",
              "\n",
              "          const docLinkHtml = 'Like what you see? Visit the ' +\n",
              "            '<a target=\"_blank\" href=https://colab.research.google.com/notebooks/data_table.ipynb>data table notebook</a>'\n",
              "            + ' to learn more about interactive tables.';\n",
              "          element.innerHTML = '';\n",
              "          dataTable['output_type'] = 'display_data';\n",
              "          await google.colab.output.renderOutput(dataTable, element);\n",
              "          const docLink = document.createElement('div');\n",
              "          docLink.innerHTML = docLinkHtml;\n",
              "          element.appendChild(docLink);\n",
              "        }\n",
              "      </script>\n",
              "    </div>\n",
              "  </div>\n",
              "  "
            ],
            "text/plain": [
              "         totalHoras     quantia clienteOrigem  ...  DEBIT  PAYMENT TRANSFER\n",
              "2716578         211   279953.90   C1514894423  ...      0        0        0\n",
              "1221970         133   271587.68    C216628720  ...      0        0        0\n",
              "3076030         235  1151725.30   C1864151749  ...      0        0        1\n",
              "\n",
              "[3 rows x 15 columns]"
            ]
          },
          "metadata": {},
          "execution_count": 13
        }
      ],
      "source": [
        "df3.drop('tipoTransacao', axis='columns', inplace=True)\n",
        "df3.sample(3)"
      ]
    },
    {
      "cell_type": "markdown",
      "metadata": {
        "id": "-Mg-2Yu8gJU7"
      },
      "source": [
        "E renomear as novas colunas"
      ]
    },
    {
      "cell_type": "code",
      "execution_count": 14,
      "metadata": {
        "colab": {
          "base_uri": "https://localhost:8080/",
          "height": 207
        },
        "id": "gVWt7vILgH2b",
        "outputId": "9cfbe449-2c69-4356-f63f-6d0e550af3b1"
      },
      "outputs": [
        {
          "output_type": "execute_result",
          "data": {
            "text/html": [
              "\n",
              "  <div id=\"df-0622a9da-f144-414c-b4a3-ccbb36e06c22\">\n",
              "    <div class=\"colab-df-container\">\n",
              "      <div>\n",
              "<style scoped>\n",
              "    .dataframe tbody tr th:only-of-type {\n",
              "        vertical-align: middle;\n",
              "    }\n",
              "\n",
              "    .dataframe tbody tr th {\n",
              "        vertical-align: top;\n",
              "    }\n",
              "\n",
              "    .dataframe thead th {\n",
              "        text-align: right;\n",
              "    }\n",
              "</style>\n",
              "<table border=\"1\" class=\"dataframe\">\n",
              "  <thead>\n",
              "    <tr style=\"text-align: right;\">\n",
              "      <th></th>\n",
              "      <th>totalHoras</th>\n",
              "      <th>quantia</th>\n",
              "      <th>clienteOrigem</th>\n",
              "      <th>saldoInicialOrigem</th>\n",
              "      <th>saldoFinalOrigem</th>\n",
              "      <th>clienteDestino</th>\n",
              "      <th>saldoInicialDestino</th>\n",
              "      <th>saldoFinalDestino</th>\n",
              "      <th>ehFraude</th>\n",
              "      <th>sinalizadaComoFraude</th>\n",
              "      <th>deposito</th>\n",
              "      <th>saque</th>\n",
              "      <th>debito</th>\n",
              "      <th>pagamento</th>\n",
              "      <th>transferencia</th>\n",
              "    </tr>\n",
              "  </thead>\n",
              "  <tbody>\n",
              "    <tr>\n",
              "      <th>0</th>\n",
              "      <td>1</td>\n",
              "      <td>9839.64</td>\n",
              "      <td>C1231006815</td>\n",
              "      <td>170136.0</td>\n",
              "      <td>160296.36</td>\n",
              "      <td>M1979787155</td>\n",
              "      <td>0.0</td>\n",
              "      <td>0.0</td>\n",
              "      <td>0</td>\n",
              "      <td>0</td>\n",
              "      <td>0</td>\n",
              "      <td>0</td>\n",
              "      <td>0</td>\n",
              "      <td>1</td>\n",
              "      <td>0</td>\n",
              "    </tr>\n",
              "    <tr>\n",
              "      <th>1</th>\n",
              "      <td>1</td>\n",
              "      <td>1864.28</td>\n",
              "      <td>C1666544295</td>\n",
              "      <td>21249.0</td>\n",
              "      <td>19384.72</td>\n",
              "      <td>M2044282225</td>\n",
              "      <td>0.0</td>\n",
              "      <td>0.0</td>\n",
              "      <td>0</td>\n",
              "      <td>0</td>\n",
              "      <td>0</td>\n",
              "      <td>0</td>\n",
              "      <td>0</td>\n",
              "      <td>1</td>\n",
              "      <td>0</td>\n",
              "    </tr>\n",
              "    <tr>\n",
              "      <th>2</th>\n",
              "      <td>1</td>\n",
              "      <td>181.00</td>\n",
              "      <td>C1305486145</td>\n",
              "      <td>181.0</td>\n",
              "      <td>0.00</td>\n",
              "      <td>C553264065</td>\n",
              "      <td>0.0</td>\n",
              "      <td>0.0</td>\n",
              "      <td>1</td>\n",
              "      <td>0</td>\n",
              "      <td>0</td>\n",
              "      <td>0</td>\n",
              "      <td>0</td>\n",
              "      <td>0</td>\n",
              "      <td>1</td>\n",
              "    </tr>\n",
              "  </tbody>\n",
              "</table>\n",
              "</div>\n",
              "      <button class=\"colab-df-convert\" onclick=\"convertToInteractive('df-0622a9da-f144-414c-b4a3-ccbb36e06c22')\"\n",
              "              title=\"Convert this dataframe to an interactive table.\"\n",
              "              style=\"display:none;\">\n",
              "        \n",
              "  <svg xmlns=\"http://www.w3.org/2000/svg\" height=\"24px\"viewBox=\"0 0 24 24\"\n",
              "       width=\"24px\">\n",
              "    <path d=\"M0 0h24v24H0V0z\" fill=\"none\"/>\n",
              "    <path d=\"M18.56 5.44l.94 2.06.94-2.06 2.06-.94-2.06-.94-.94-2.06-.94 2.06-2.06.94zm-11 1L8.5 8.5l.94-2.06 2.06-.94-2.06-.94L8.5 2.5l-.94 2.06-2.06.94zm10 10l.94 2.06.94-2.06 2.06-.94-2.06-.94-.94-2.06-.94 2.06-2.06.94z\"/><path d=\"M17.41 7.96l-1.37-1.37c-.4-.4-.92-.59-1.43-.59-.52 0-1.04.2-1.43.59L10.3 9.45l-7.72 7.72c-.78.78-.78 2.05 0 2.83L4 21.41c.39.39.9.59 1.41.59.51 0 1.02-.2 1.41-.59l7.78-7.78 2.81-2.81c.8-.78.8-2.07 0-2.86zM5.41 20L4 18.59l7.72-7.72 1.47 1.35L5.41 20z\"/>\n",
              "  </svg>\n",
              "      </button>\n",
              "      \n",
              "  <style>\n",
              "    .colab-df-container {\n",
              "      display:flex;\n",
              "      flex-wrap:wrap;\n",
              "      gap: 12px;\n",
              "    }\n",
              "\n",
              "    .colab-df-convert {\n",
              "      background-color: #E8F0FE;\n",
              "      border: none;\n",
              "      border-radius: 50%;\n",
              "      cursor: pointer;\n",
              "      display: none;\n",
              "      fill: #1967D2;\n",
              "      height: 32px;\n",
              "      padding: 0 0 0 0;\n",
              "      width: 32px;\n",
              "    }\n",
              "\n",
              "    .colab-df-convert:hover {\n",
              "      background-color: #E2EBFA;\n",
              "      box-shadow: 0px 1px 2px rgba(60, 64, 67, 0.3), 0px 1px 3px 1px rgba(60, 64, 67, 0.15);\n",
              "      fill: #174EA6;\n",
              "    }\n",
              "\n",
              "    [theme=dark] .colab-df-convert {\n",
              "      background-color: #3B4455;\n",
              "      fill: #D2E3FC;\n",
              "    }\n",
              "\n",
              "    [theme=dark] .colab-df-convert:hover {\n",
              "      background-color: #434B5C;\n",
              "      box-shadow: 0px 1px 3px 1px rgba(0, 0, 0, 0.15);\n",
              "      filter: drop-shadow(0px 1px 2px rgba(0, 0, 0, 0.3));\n",
              "      fill: #FFFFFF;\n",
              "    }\n",
              "  </style>\n",
              "\n",
              "      <script>\n",
              "        const buttonEl =\n",
              "          document.querySelector('#df-0622a9da-f144-414c-b4a3-ccbb36e06c22 button.colab-df-convert');\n",
              "        buttonEl.style.display =\n",
              "          google.colab.kernel.accessAllowed ? 'block' : 'none';\n",
              "\n",
              "        async function convertToInteractive(key) {\n",
              "          const element = document.querySelector('#df-0622a9da-f144-414c-b4a3-ccbb36e06c22');\n",
              "          const dataTable =\n",
              "            await google.colab.kernel.invokeFunction('convertToInteractive',\n",
              "                                                     [key], {});\n",
              "          if (!dataTable) return;\n",
              "\n",
              "          const docLinkHtml = 'Like what you see? Visit the ' +\n",
              "            '<a target=\"_blank\" href=https://colab.research.google.com/notebooks/data_table.ipynb>data table notebook</a>'\n",
              "            + ' to learn more about interactive tables.';\n",
              "          element.innerHTML = '';\n",
              "          dataTable['output_type'] = 'display_data';\n",
              "          await google.colab.output.renderOutput(dataTable, element);\n",
              "          const docLink = document.createElement('div');\n",
              "          docLink.innerHTML = docLinkHtml;\n",
              "          element.appendChild(docLink);\n",
              "        }\n",
              "      </script>\n",
              "    </div>\n",
              "  </div>\n",
              "  "
            ],
            "text/plain": [
              "   totalHoras  quantia clienteOrigem  ...  debito  pagamento transferencia\n",
              "0           1  9839.64   C1231006815  ...       0          1             0\n",
              "1           1  1864.28   C1666544295  ...       0          1             0\n",
              "2           1   181.00   C1305486145  ...       0          0             1\n",
              "\n",
              "[3 rows x 15 columns]"
            ]
          },
          "metadata": {},
          "execution_count": 14
        }
      ],
      "source": [
        "df3 = df3.rename(\n",
        "    columns={\"CASH_IN\":\"deposito\", \"CASH_OUT\": \"saque\", \"DEBIT\": \"debito\",\n",
        "             \"PAYMENT\": \"pagamento\", \"TRANSFER\": \"transferencia\",\n",
        "             })\n",
        "df3.head(3)"
      ]
    },
    {
      "cell_type": "markdown",
      "metadata": {
        "id": "wJS-K8En6PlJ"
      },
      "source": [
        "Criando uma nova coluna. Percebi que na metade das transações marcadas como fraude, o valor de saldoFinalOrigem acaba ficando menor que o valor de saldoFinalDestino."
      ]
    },
    {
      "cell_type": "code",
      "execution_count": 15,
      "metadata": {
        "id": "xwT0GV-16PlJ",
        "outputId": "65e91126-9877-4837-87b1-25a9455646e0",
        "colab": {
          "base_uri": "https://localhost:8080/"
        }
      },
      "outputs": [
        {
          "output_type": "stream",
          "name": "stdout",
          "text": [
            "(Soma das fraudes: 8213)\n",
            "Soma das fraudes onde o saldoFinalDestino é maior que saldoFinalOrigem: 4122\n"
          ]
        }
      ],
      "source": [
        "print(f'(Soma das fraudes: {df3.ehFraude.loc[df3.ehFraude == 1].count()})')\n",
        "print(f'Soma das fraudes onde o saldoFinalDestino é maior que saldoFinalOrigem: {df3.ehFraude.loc[(df3.saldoFinalDestino > df3.saldoFinalOrigem) & df3.ehFraude == 1].count()}')"
      ]
    },
    {
      "cell_type": "code",
      "execution_count": 16,
      "metadata": {
        "id": "xiGaeaLQ6PlK"
      },
      "outputs": [],
      "source": [
        "df3['saldoFinalDestinoMenosSaldoFinalOrigem'] = df3['saldoFinalDestino'] - df3['saldoFinalOrigem']"
      ]
    },
    {
      "cell_type": "markdown",
      "metadata": {
        "id": "DEDJveUb6PlK"
      },
      "source": [
        "Criando outra nova coluna com o número de transações que o clienteOrigem iniciou no período e outra com o número de transações que um clienteDestino pode ter participado."
      ]
    },
    {
      "cell_type": "code",
      "execution_count": 17,
      "metadata": {
        "id": "e0t7E8jJ6PlL"
      },
      "outputs": [],
      "source": [
        "clienteOrigemNP = df3.clienteOrigem.to_numpy()\n",
        "clienteDestinoNP = df3.clienteDestino.to_numpy()"
      ]
    },
    {
      "cell_type": "code",
      "execution_count": 18,
      "metadata": {
        "id": "CN5M9eiX6PlL"
      },
      "outputs": [],
      "source": [
        "from collections import Counter"
      ]
    },
    {
      "cell_type": "code",
      "execution_count": 19,
      "metadata": {
        "id": "tV_ExcRX6PlM"
      },
      "outputs": [],
      "source": [
        "contadorCO = Counter(clienteOrigemNP)\n",
        "contadorCD = Counter(clienteDestinoNP)"
      ]
    },
    {
      "cell_type": "code",
      "execution_count": 20,
      "metadata": {
        "id": "d3KGrw7C6PlM",
        "outputId": "89883808-887e-42b1-ddb9-d48a416e769b",
        "colab": {
          "base_uri": "https://localhost:8080/",
          "height": 394
        }
      },
      "outputs": [
        {
          "output_type": "execute_result",
          "data": {
            "text/html": [
              "\n",
              "  <div id=\"df-26e41c78-e3b9-4cf0-838e-fb1dbd8bb70c\">\n",
              "    <div class=\"colab-df-container\">\n",
              "      <div>\n",
              "<style scoped>\n",
              "    .dataframe tbody tr th:only-of-type {\n",
              "        vertical-align: middle;\n",
              "    }\n",
              "\n",
              "    .dataframe tbody tr th {\n",
              "        vertical-align: top;\n",
              "    }\n",
              "\n",
              "    .dataframe thead th {\n",
              "        text-align: right;\n",
              "    }\n",
              "</style>\n",
              "<table border=\"1\" class=\"dataframe\">\n",
              "  <thead>\n",
              "    <tr style=\"text-align: right;\">\n",
              "      <th></th>\n",
              "      <th>contador</th>\n",
              "    </tr>\n",
              "    <tr>\n",
              "      <th>index</th>\n",
              "      <th></th>\n",
              "    </tr>\n",
              "  </thead>\n",
              "  <tbody>\n",
              "    <tr>\n",
              "      <th>C1231006815</th>\n",
              "      <td>1</td>\n",
              "    </tr>\n",
              "    <tr>\n",
              "      <th>C1666544295</th>\n",
              "      <td>1</td>\n",
              "    </tr>\n",
              "    <tr>\n",
              "      <th>C1305486145</th>\n",
              "      <td>1</td>\n",
              "    </tr>\n",
              "    <tr>\n",
              "      <th>C840083671</th>\n",
              "      <td>1</td>\n",
              "    </tr>\n",
              "    <tr>\n",
              "      <th>C2048537720</th>\n",
              "      <td>1</td>\n",
              "    </tr>\n",
              "    <tr>\n",
              "      <th>C90045638</th>\n",
              "      <td>1</td>\n",
              "    </tr>\n",
              "    <tr>\n",
              "      <th>C154988899</th>\n",
              "      <td>1</td>\n",
              "    </tr>\n",
              "    <tr>\n",
              "      <th>C1912850431</th>\n",
              "      <td>1</td>\n",
              "    </tr>\n",
              "    <tr>\n",
              "      <th>C1265012928</th>\n",
              "      <td>1</td>\n",
              "    </tr>\n",
              "    <tr>\n",
              "      <th>C712410124</th>\n",
              "      <td>1</td>\n",
              "    </tr>\n",
              "  </tbody>\n",
              "</table>\n",
              "</div>\n",
              "      <button class=\"colab-df-convert\" onclick=\"convertToInteractive('df-26e41c78-e3b9-4cf0-838e-fb1dbd8bb70c')\"\n",
              "              title=\"Convert this dataframe to an interactive table.\"\n",
              "              style=\"display:none;\">\n",
              "        \n",
              "  <svg xmlns=\"http://www.w3.org/2000/svg\" height=\"24px\"viewBox=\"0 0 24 24\"\n",
              "       width=\"24px\">\n",
              "    <path d=\"M0 0h24v24H0V0z\" fill=\"none\"/>\n",
              "    <path d=\"M18.56 5.44l.94 2.06.94-2.06 2.06-.94-2.06-.94-.94-2.06-.94 2.06-2.06.94zm-11 1L8.5 8.5l.94-2.06 2.06-.94-2.06-.94L8.5 2.5l-.94 2.06-2.06.94zm10 10l.94 2.06.94-2.06 2.06-.94-2.06-.94-.94-2.06-.94 2.06-2.06.94z\"/><path d=\"M17.41 7.96l-1.37-1.37c-.4-.4-.92-.59-1.43-.59-.52 0-1.04.2-1.43.59L10.3 9.45l-7.72 7.72c-.78.78-.78 2.05 0 2.83L4 21.41c.39.39.9.59 1.41.59.51 0 1.02-.2 1.41-.59l7.78-7.78 2.81-2.81c.8-.78.8-2.07 0-2.86zM5.41 20L4 18.59l7.72-7.72 1.47 1.35L5.41 20z\"/>\n",
              "  </svg>\n",
              "      </button>\n",
              "      \n",
              "  <style>\n",
              "    .colab-df-container {\n",
              "      display:flex;\n",
              "      flex-wrap:wrap;\n",
              "      gap: 12px;\n",
              "    }\n",
              "\n",
              "    .colab-df-convert {\n",
              "      background-color: #E8F0FE;\n",
              "      border: none;\n",
              "      border-radius: 50%;\n",
              "      cursor: pointer;\n",
              "      display: none;\n",
              "      fill: #1967D2;\n",
              "      height: 32px;\n",
              "      padding: 0 0 0 0;\n",
              "      width: 32px;\n",
              "    }\n",
              "\n",
              "    .colab-df-convert:hover {\n",
              "      background-color: #E2EBFA;\n",
              "      box-shadow: 0px 1px 2px rgba(60, 64, 67, 0.3), 0px 1px 3px 1px rgba(60, 64, 67, 0.15);\n",
              "      fill: #174EA6;\n",
              "    }\n",
              "\n",
              "    [theme=dark] .colab-df-convert {\n",
              "      background-color: #3B4455;\n",
              "      fill: #D2E3FC;\n",
              "    }\n",
              "\n",
              "    [theme=dark] .colab-df-convert:hover {\n",
              "      background-color: #434B5C;\n",
              "      box-shadow: 0px 1px 3px 1px rgba(0, 0, 0, 0.15);\n",
              "      filter: drop-shadow(0px 1px 2px rgba(0, 0, 0, 0.3));\n",
              "      fill: #FFFFFF;\n",
              "    }\n",
              "  </style>\n",
              "\n",
              "      <script>\n",
              "        const buttonEl =\n",
              "          document.querySelector('#df-26e41c78-e3b9-4cf0-838e-fb1dbd8bb70c button.colab-df-convert');\n",
              "        buttonEl.style.display =\n",
              "          google.colab.kernel.accessAllowed ? 'block' : 'none';\n",
              "\n",
              "        async function convertToInteractive(key) {\n",
              "          const element = document.querySelector('#df-26e41c78-e3b9-4cf0-838e-fb1dbd8bb70c');\n",
              "          const dataTable =\n",
              "            await google.colab.kernel.invokeFunction('convertToInteractive',\n",
              "                                                     [key], {});\n",
              "          if (!dataTable) return;\n",
              "\n",
              "          const docLinkHtml = 'Like what you see? Visit the ' +\n",
              "            '<a target=\"_blank\" href=https://colab.research.google.com/notebooks/data_table.ipynb>data table notebook</a>'\n",
              "            + ' to learn more about interactive tables.';\n",
              "          element.innerHTML = '';\n",
              "          dataTable['output_type'] = 'display_data';\n",
              "          await google.colab.output.renderOutput(dataTable, element);\n",
              "          const docLink = document.createElement('div');\n",
              "          docLink.innerHTML = docLinkHtml;\n",
              "          element.appendChild(docLink);\n",
              "        }\n",
              "      </script>\n",
              "    </div>\n",
              "  </div>\n",
              "  "
            ],
            "text/plain": [
              "             contador\n",
              "index                \n",
              "C1231006815         1\n",
              "C1666544295         1\n",
              "C1305486145         1\n",
              "C840083671          1\n",
              "C2048537720         1\n",
              "C90045638           1\n",
              "C154988899          1\n",
              "C1912850431         1\n",
              "C1265012928         1\n",
              "C712410124          1"
            ]
          },
          "metadata": {},
          "execution_count": 20
        }
      ],
      "source": [
        "df_contadorCO = pd.DataFrame.from_dict(contadorCO, orient='index').reset_index()\n",
        "df_contadorCO = df_contadorCO.rename(columns={ 0:'contador'})\n",
        "df_contadorCO.set_index('index',inplace=True)\n",
        "df_contadorCO.head(10)"
      ]
    },
    {
      "cell_type": "code",
      "execution_count": 21,
      "metadata": {
        "id": "W2DW0Y-w6PlN",
        "outputId": "5e6f94a6-74d4-4d7d-adf3-fdf5ee057235",
        "colab": {
          "base_uri": "https://localhost:8080/",
          "height": 394
        }
      },
      "outputs": [
        {
          "output_type": "execute_result",
          "data": {
            "text/html": [
              "\n",
              "  <div id=\"df-9bb556dc-76d6-4c45-8a0f-81b5c9a4f546\">\n",
              "    <div class=\"colab-df-container\">\n",
              "      <div>\n",
              "<style scoped>\n",
              "    .dataframe tbody tr th:only-of-type {\n",
              "        vertical-align: middle;\n",
              "    }\n",
              "\n",
              "    .dataframe tbody tr th {\n",
              "        vertical-align: top;\n",
              "    }\n",
              "\n",
              "    .dataframe thead th {\n",
              "        text-align: right;\n",
              "    }\n",
              "</style>\n",
              "<table border=\"1\" class=\"dataframe\">\n",
              "  <thead>\n",
              "    <tr style=\"text-align: right;\">\n",
              "      <th></th>\n",
              "      <th>contador</th>\n",
              "    </tr>\n",
              "    <tr>\n",
              "      <th>index</th>\n",
              "      <th></th>\n",
              "    </tr>\n",
              "  </thead>\n",
              "  <tbody>\n",
              "    <tr>\n",
              "      <th>M1979787155</th>\n",
              "      <td>1</td>\n",
              "    </tr>\n",
              "    <tr>\n",
              "      <th>M2044282225</th>\n",
              "      <td>1</td>\n",
              "    </tr>\n",
              "    <tr>\n",
              "      <th>C553264065</th>\n",
              "      <td>44</td>\n",
              "    </tr>\n",
              "    <tr>\n",
              "      <th>C38997010</th>\n",
              "      <td>41</td>\n",
              "    </tr>\n",
              "    <tr>\n",
              "      <th>M1230701703</th>\n",
              "      <td>1</td>\n",
              "    </tr>\n",
              "    <tr>\n",
              "      <th>M573487274</th>\n",
              "      <td>1</td>\n",
              "    </tr>\n",
              "    <tr>\n",
              "      <th>M408069119</th>\n",
              "      <td>1</td>\n",
              "    </tr>\n",
              "    <tr>\n",
              "      <th>M633326333</th>\n",
              "      <td>1</td>\n",
              "    </tr>\n",
              "    <tr>\n",
              "      <th>M1176932104</th>\n",
              "      <td>1</td>\n",
              "    </tr>\n",
              "    <tr>\n",
              "      <th>C195600860</th>\n",
              "      <td>34</td>\n",
              "    </tr>\n",
              "  </tbody>\n",
              "</table>\n",
              "</div>\n",
              "      <button class=\"colab-df-convert\" onclick=\"convertToInteractive('df-9bb556dc-76d6-4c45-8a0f-81b5c9a4f546')\"\n",
              "              title=\"Convert this dataframe to an interactive table.\"\n",
              "              style=\"display:none;\">\n",
              "        \n",
              "  <svg xmlns=\"http://www.w3.org/2000/svg\" height=\"24px\"viewBox=\"0 0 24 24\"\n",
              "       width=\"24px\">\n",
              "    <path d=\"M0 0h24v24H0V0z\" fill=\"none\"/>\n",
              "    <path d=\"M18.56 5.44l.94 2.06.94-2.06 2.06-.94-2.06-.94-.94-2.06-.94 2.06-2.06.94zm-11 1L8.5 8.5l.94-2.06 2.06-.94-2.06-.94L8.5 2.5l-.94 2.06-2.06.94zm10 10l.94 2.06.94-2.06 2.06-.94-2.06-.94-.94-2.06-.94 2.06-2.06.94z\"/><path d=\"M17.41 7.96l-1.37-1.37c-.4-.4-.92-.59-1.43-.59-.52 0-1.04.2-1.43.59L10.3 9.45l-7.72 7.72c-.78.78-.78 2.05 0 2.83L4 21.41c.39.39.9.59 1.41.59.51 0 1.02-.2 1.41-.59l7.78-7.78 2.81-2.81c.8-.78.8-2.07 0-2.86zM5.41 20L4 18.59l7.72-7.72 1.47 1.35L5.41 20z\"/>\n",
              "  </svg>\n",
              "      </button>\n",
              "      \n",
              "  <style>\n",
              "    .colab-df-container {\n",
              "      display:flex;\n",
              "      flex-wrap:wrap;\n",
              "      gap: 12px;\n",
              "    }\n",
              "\n",
              "    .colab-df-convert {\n",
              "      background-color: #E8F0FE;\n",
              "      border: none;\n",
              "      border-radius: 50%;\n",
              "      cursor: pointer;\n",
              "      display: none;\n",
              "      fill: #1967D2;\n",
              "      height: 32px;\n",
              "      padding: 0 0 0 0;\n",
              "      width: 32px;\n",
              "    }\n",
              "\n",
              "    .colab-df-convert:hover {\n",
              "      background-color: #E2EBFA;\n",
              "      box-shadow: 0px 1px 2px rgba(60, 64, 67, 0.3), 0px 1px 3px 1px rgba(60, 64, 67, 0.15);\n",
              "      fill: #174EA6;\n",
              "    }\n",
              "\n",
              "    [theme=dark] .colab-df-convert {\n",
              "      background-color: #3B4455;\n",
              "      fill: #D2E3FC;\n",
              "    }\n",
              "\n",
              "    [theme=dark] .colab-df-convert:hover {\n",
              "      background-color: #434B5C;\n",
              "      box-shadow: 0px 1px 3px 1px rgba(0, 0, 0, 0.15);\n",
              "      filter: drop-shadow(0px 1px 2px rgba(0, 0, 0, 0.3));\n",
              "      fill: #FFFFFF;\n",
              "    }\n",
              "  </style>\n",
              "\n",
              "      <script>\n",
              "        const buttonEl =\n",
              "          document.querySelector('#df-9bb556dc-76d6-4c45-8a0f-81b5c9a4f546 button.colab-df-convert');\n",
              "        buttonEl.style.display =\n",
              "          google.colab.kernel.accessAllowed ? 'block' : 'none';\n",
              "\n",
              "        async function convertToInteractive(key) {\n",
              "          const element = document.querySelector('#df-9bb556dc-76d6-4c45-8a0f-81b5c9a4f546');\n",
              "          const dataTable =\n",
              "            await google.colab.kernel.invokeFunction('convertToInteractive',\n",
              "                                                     [key], {});\n",
              "          if (!dataTable) return;\n",
              "\n",
              "          const docLinkHtml = 'Like what you see? Visit the ' +\n",
              "            '<a target=\"_blank\" href=https://colab.research.google.com/notebooks/data_table.ipynb>data table notebook</a>'\n",
              "            + ' to learn more about interactive tables.';\n",
              "          element.innerHTML = '';\n",
              "          dataTable['output_type'] = 'display_data';\n",
              "          await google.colab.output.renderOutput(dataTable, element);\n",
              "          const docLink = document.createElement('div');\n",
              "          docLink.innerHTML = docLinkHtml;\n",
              "          element.appendChild(docLink);\n",
              "        }\n",
              "      </script>\n",
              "    </div>\n",
              "  </div>\n",
              "  "
            ],
            "text/plain": [
              "             contador\n",
              "index                \n",
              "M1979787155         1\n",
              "M2044282225         1\n",
              "C553264065         44\n",
              "C38997010          41\n",
              "M1230701703         1\n",
              "M573487274          1\n",
              "M408069119          1\n",
              "M633326333          1\n",
              "M1176932104         1\n",
              "C195600860         34"
            ]
          },
          "metadata": {},
          "execution_count": 21
        }
      ],
      "source": [
        "df_contadorCD = pd.DataFrame.from_dict(contadorCD, orient='index').reset_index()\n",
        "df_contadorCD = df_contadorCD.rename(columns={0:'contador'})\n",
        "df_contadorCD.set_index('index',inplace=True)\n",
        "df_contadorCD.head(10)"
      ]
    },
    {
      "cell_type": "code",
      "execution_count": 22,
      "metadata": {
        "id": "edodksZ26PlN",
        "outputId": "1a410662-0347-4044-8f97-19ecd4c1c8f6",
        "colab": {
          "base_uri": "https://localhost:8080/"
        }
      },
      "outputs": [
        {
          "output_type": "stream",
          "name": "stdout",
          "text": [
            "1\n",
            "44\n"
          ]
        }
      ],
      "source": [
        "print(contadorCO['C1305486145'])\n",
        "print(contadorCD['C553264065'])"
      ]
    },
    {
      "cell_type": "code",
      "execution_count": 23,
      "metadata": {
        "id": "c3SSCc0H6PlO"
      },
      "outputs": [],
      "source": [
        "def retorna_transacoes_por_periodo_cliente_origem(df):\n",
        "    return contadorCO[df.clienteOrigem]"
      ]
    },
    {
      "cell_type": "code",
      "execution_count": 24,
      "metadata": {
        "scrolled": true,
        "id": "xpUL2Evx6PlP",
        "outputId": "ac7f3abc-11ae-4a59-8185-463842f5016e",
        "colab": {
          "base_uri": "https://localhost:8080/"
        }
      },
      "outputs": [
        {
          "output_type": "stream",
          "name": "stdout",
          "text": [
            "CPU times: user 1min 34s, sys: 1.62 s, total: 1min 36s\n",
            "Wall time: 1min 36s\n"
          ]
        }
      ],
      "source": [
        "%%time\n",
        "df3['transacoesClienteOrigemPeriodo'] = df3.apply(retorna_transacoes_por_periodo_cliente_origem, axis=1)"
      ]
    },
    {
      "cell_type": "markdown",
      "metadata": {
        "id": "IJyyMM5H6PlQ"
      },
      "source": [
        "Criando outra coluna para o número de transações que o clienteDestino participou."
      ]
    },
    {
      "cell_type": "code",
      "execution_count": 25,
      "metadata": {
        "id": "N73M3FpG6PlR"
      },
      "outputs": [],
      "source": [
        "def retorna_transacoes_por_periodo_cliente_destino(df):\n",
        "    return contadorCD[df.clienteDestino]"
      ]
    },
    {
      "cell_type": "code",
      "execution_count": 26,
      "metadata": {
        "id": "LLDCPjIq6PlS",
        "outputId": "c31633b0-1f40-471d-fa3e-70feb0c21e1e",
        "colab": {
          "base_uri": "https://localhost:8080/"
        }
      },
      "outputs": [
        {
          "output_type": "stream",
          "name": "stdout",
          "text": [
            "CPU times: user 1min 36s, sys: 1.21 s, total: 1min 37s\n",
            "Wall time: 1min 37s\n"
          ]
        }
      ],
      "source": [
        "%%time\n",
        "df3['transacoesClienteDestinoPeriodo'] = df3.apply(retorna_transacoes_por_periodo_cliente_destino, axis=1)"
      ]
    },
    {
      "cell_type": "markdown",
      "metadata": {
        "id": "FyFmX5u06PlS"
      },
      "source": [
        "Exportando o dataset com as novas features em csv para não ter que ficar horas esperando para montá-lo novamente:"
      ]
    },
    {
      "cell_type": "code",
      "execution_count": 27,
      "metadata": {
        "id": "khBFQyKP6PlT",
        "outputId": "68ce28d0-e8f8-4b56-88c4-8c8d67116db4",
        "colab": {
          "base_uri": "https://localhost:8080/"
        }
      },
      "outputs": [
        {
          "output_type": "stream",
          "name": "stdout",
          "text": [
            "CPU times: user 4 µs, sys: 0 ns, total: 4 µs\n",
            "Wall time: 8.11 µs\n"
          ]
        }
      ],
      "source": [
        "%%time\n",
        "#df3.to_csv('df3_novas_features.csv', index=False)"
      ]
    },
    {
      "cell_type": "markdown",
      "metadata": {
        "id": "-AkMoRDF6PlT"
      },
      "source": [
        "Testando as novas features:"
      ]
    },
    {
      "cell_type": "code",
      "execution_count": 28,
      "metadata": {
        "id": "gKvWnzbg6PlU",
        "outputId": "de685a13-8118-430f-d074-183723e37f3c",
        "colab": {
          "base_uri": "https://localhost:8080/",
          "height": 322
        }
      },
      "outputs": [
        {
          "output_type": "stream",
          "name": "stdout",
          "text": [
            "Quantas transações o cliente C553264065 recebeu: 44\n",
            "No dicionário do contador: 44\n",
            "Em linhas do novo dataframe:\n"
          ]
        },
        {
          "output_type": "execute_result",
          "data": {
            "text/html": [
              "\n",
              "  <div id=\"df-720bdccf-b694-4c6e-9484-f25d3902bdff\">\n",
              "    <div class=\"colab-df-container\">\n",
              "      <div>\n",
              "<style scoped>\n",
              "    .dataframe tbody tr th:only-of-type {\n",
              "        vertical-align: middle;\n",
              "    }\n",
              "\n",
              "    .dataframe tbody tr th {\n",
              "        vertical-align: top;\n",
              "    }\n",
              "\n",
              "    .dataframe thead th {\n",
              "        text-align: right;\n",
              "    }\n",
              "</style>\n",
              "<table border=\"1\" class=\"dataframe\">\n",
              "  <thead>\n",
              "    <tr style=\"text-align: right;\">\n",
              "      <th></th>\n",
              "      <th>totalHoras</th>\n",
              "      <th>quantia</th>\n",
              "      <th>clienteOrigem</th>\n",
              "      <th>saldoInicialOrigem</th>\n",
              "      <th>saldoFinalOrigem</th>\n",
              "      <th>clienteDestino</th>\n",
              "      <th>saldoInicialDestino</th>\n",
              "      <th>saldoFinalDestino</th>\n",
              "      <th>ehFraude</th>\n",
              "      <th>sinalizadaComoFraude</th>\n",
              "      <th>deposito</th>\n",
              "      <th>saque</th>\n",
              "      <th>debito</th>\n",
              "      <th>pagamento</th>\n",
              "      <th>transferencia</th>\n",
              "      <th>saldoFinalDestinoMenosSaldoFinalOrigem</th>\n",
              "      <th>transacoesClienteOrigemPeriodo</th>\n",
              "      <th>transacoesClienteDestinoPeriodo</th>\n",
              "    </tr>\n",
              "  </thead>\n",
              "  <tbody>\n",
              "    <tr>\n",
              "      <th>2</th>\n",
              "      <td>1</td>\n",
              "      <td>181.00</td>\n",
              "      <td>C1305486145</td>\n",
              "      <td>181.00</td>\n",
              "      <td>0.00</td>\n",
              "      <td>C553264065</td>\n",
              "      <td>0.00</td>\n",
              "      <td>0.00</td>\n",
              "      <td>1</td>\n",
              "      <td>0</td>\n",
              "      <td>0</td>\n",
              "      <td>0</td>\n",
              "      <td>0</td>\n",
              "      <td>0</td>\n",
              "      <td>1</td>\n",
              "      <td>0.00</td>\n",
              "      <td>1</td>\n",
              "      <td>44</td>\n",
              "    </tr>\n",
              "    <tr>\n",
              "      <th>6167</th>\n",
              "      <td>6</td>\n",
              "      <td>109985.65</td>\n",
              "      <td>C570434649</td>\n",
              "      <td>41851.00</td>\n",
              "      <td>0.00</td>\n",
              "      <td>C553264065</td>\n",
              "      <td>0.00</td>\n",
              "      <td>109985.65</td>\n",
              "      <td>0</td>\n",
              "      <td>0</td>\n",
              "      <td>0</td>\n",
              "      <td>0</td>\n",
              "      <td>0</td>\n",
              "      <td>0</td>\n",
              "      <td>1</td>\n",
              "      <td>109985.65</td>\n",
              "      <td>1</td>\n",
              "      <td>44</td>\n",
              "    </tr>\n",
              "    <tr>\n",
              "      <th>7903</th>\n",
              "      <td>7</td>\n",
              "      <td>10256.20</td>\n",
              "      <td>C111105514</td>\n",
              "      <td>3766080.24</td>\n",
              "      <td>3776336.45</td>\n",
              "      <td>C553264065</td>\n",
              "      <td>109985.65</td>\n",
              "      <td>99729.44</td>\n",
              "      <td>0</td>\n",
              "      <td>0</td>\n",
              "      <td>1</td>\n",
              "      <td>0</td>\n",
              "      <td>0</td>\n",
              "      <td>0</td>\n",
              "      <td>0</td>\n",
              "      <td>-3676607.01</td>\n",
              "      <td>2</td>\n",
              "      <td>44</td>\n",
              "    </tr>\n",
              "    <tr>\n",
              "      <th>16381</th>\n",
              "      <td>8</td>\n",
              "      <td>111622.39</td>\n",
              "      <td>C1457214570</td>\n",
              "      <td>2347.00</td>\n",
              "      <td>0.00</td>\n",
              "      <td>C553264065</td>\n",
              "      <td>99729.44</td>\n",
              "      <td>5254.44</td>\n",
              "      <td>0</td>\n",
              "      <td>0</td>\n",
              "      <td>0</td>\n",
              "      <td>1</td>\n",
              "      <td>0</td>\n",
              "      <td>0</td>\n",
              "      <td>0</td>\n",
              "      <td>5254.44</td>\n",
              "      <td>1</td>\n",
              "      <td>44</td>\n",
              "    </tr>\n",
              "    <tr>\n",
              "      <th>20003</th>\n",
              "      <td>8</td>\n",
              "      <td>206097.39</td>\n",
              "      <td>C161724858</td>\n",
              "      <td>1991.12</td>\n",
              "      <td>208088.52</td>\n",
              "      <td>C553264065</td>\n",
              "      <td>211351.84</td>\n",
              "      <td>5254.44</td>\n",
              "      <td>0</td>\n",
              "      <td>0</td>\n",
              "      <td>1</td>\n",
              "      <td>0</td>\n",
              "      <td>0</td>\n",
              "      <td>0</td>\n",
              "      <td>0</td>\n",
              "      <td>-202834.08</td>\n",
              "      <td>1</td>\n",
              "      <td>44</td>\n",
              "    </tr>\n",
              "  </tbody>\n",
              "</table>\n",
              "</div>\n",
              "      <button class=\"colab-df-convert\" onclick=\"convertToInteractive('df-720bdccf-b694-4c6e-9484-f25d3902bdff')\"\n",
              "              title=\"Convert this dataframe to an interactive table.\"\n",
              "              style=\"display:none;\">\n",
              "        \n",
              "  <svg xmlns=\"http://www.w3.org/2000/svg\" height=\"24px\"viewBox=\"0 0 24 24\"\n",
              "       width=\"24px\">\n",
              "    <path d=\"M0 0h24v24H0V0z\" fill=\"none\"/>\n",
              "    <path d=\"M18.56 5.44l.94 2.06.94-2.06 2.06-.94-2.06-.94-.94-2.06-.94 2.06-2.06.94zm-11 1L8.5 8.5l.94-2.06 2.06-.94-2.06-.94L8.5 2.5l-.94 2.06-2.06.94zm10 10l.94 2.06.94-2.06 2.06-.94-2.06-.94-.94-2.06-.94 2.06-2.06.94z\"/><path d=\"M17.41 7.96l-1.37-1.37c-.4-.4-.92-.59-1.43-.59-.52 0-1.04.2-1.43.59L10.3 9.45l-7.72 7.72c-.78.78-.78 2.05 0 2.83L4 21.41c.39.39.9.59 1.41.59.51 0 1.02-.2 1.41-.59l7.78-7.78 2.81-2.81c.8-.78.8-2.07 0-2.86zM5.41 20L4 18.59l7.72-7.72 1.47 1.35L5.41 20z\"/>\n",
              "  </svg>\n",
              "      </button>\n",
              "      \n",
              "  <style>\n",
              "    .colab-df-container {\n",
              "      display:flex;\n",
              "      flex-wrap:wrap;\n",
              "      gap: 12px;\n",
              "    }\n",
              "\n",
              "    .colab-df-convert {\n",
              "      background-color: #E8F0FE;\n",
              "      border: none;\n",
              "      border-radius: 50%;\n",
              "      cursor: pointer;\n",
              "      display: none;\n",
              "      fill: #1967D2;\n",
              "      height: 32px;\n",
              "      padding: 0 0 0 0;\n",
              "      width: 32px;\n",
              "    }\n",
              "\n",
              "    .colab-df-convert:hover {\n",
              "      background-color: #E2EBFA;\n",
              "      box-shadow: 0px 1px 2px rgba(60, 64, 67, 0.3), 0px 1px 3px 1px rgba(60, 64, 67, 0.15);\n",
              "      fill: #174EA6;\n",
              "    }\n",
              "\n",
              "    [theme=dark] .colab-df-convert {\n",
              "      background-color: #3B4455;\n",
              "      fill: #D2E3FC;\n",
              "    }\n",
              "\n",
              "    [theme=dark] .colab-df-convert:hover {\n",
              "      background-color: #434B5C;\n",
              "      box-shadow: 0px 1px 3px 1px rgba(0, 0, 0, 0.15);\n",
              "      filter: drop-shadow(0px 1px 2px rgba(0, 0, 0, 0.3));\n",
              "      fill: #FFFFFF;\n",
              "    }\n",
              "  </style>\n",
              "\n",
              "      <script>\n",
              "        const buttonEl =\n",
              "          document.querySelector('#df-720bdccf-b694-4c6e-9484-f25d3902bdff button.colab-df-convert');\n",
              "        buttonEl.style.display =\n",
              "          google.colab.kernel.accessAllowed ? 'block' : 'none';\n",
              "\n",
              "        async function convertToInteractive(key) {\n",
              "          const element = document.querySelector('#df-720bdccf-b694-4c6e-9484-f25d3902bdff');\n",
              "          const dataTable =\n",
              "            await google.colab.kernel.invokeFunction('convertToInteractive',\n",
              "                                                     [key], {});\n",
              "          if (!dataTable) return;\n",
              "\n",
              "          const docLinkHtml = 'Like what you see? Visit the ' +\n",
              "            '<a target=\"_blank\" href=https://colab.research.google.com/notebooks/data_table.ipynb>data table notebook</a>'\n",
              "            + ' to learn more about interactive tables.';\n",
              "          element.innerHTML = '';\n",
              "          dataTable['output_type'] = 'display_data';\n",
              "          await google.colab.output.renderOutput(dataTable, element);\n",
              "          const docLink = document.createElement('div');\n",
              "          docLink.innerHTML = docLinkHtml;\n",
              "          element.appendChild(docLink);\n",
              "        }\n",
              "      </script>\n",
              "    </div>\n",
              "  </div>\n",
              "  "
            ],
            "text/plain": [
              "       totalHoras  ...  transacoesClienteDestinoPeriodo\n",
              "2               1  ...                               44\n",
              "6167            6  ...                               44\n",
              "7903            7  ...                               44\n",
              "16381           8  ...                               44\n",
              "20003           8  ...                               44\n",
              "\n",
              "[5 rows x 18 columns]"
            ]
          },
          "metadata": {},
          "execution_count": 28
        }
      ],
      "source": [
        "total = df3.clienteDestino.loc[df3['clienteDestino'] == 'C553264065'].count()\n",
        "total_contadorCD = contadorCD['C553264065']\n",
        "print(f'Quantas transações o cliente C553264065 recebeu: {total}')\n",
        "print(f'No dicionário do contador: {total_contadorCD}')\n",
        "print(f'Em linhas do novo dataframe:')\n",
        "df3.loc[df3['clienteDestino'] == 'C553264065'].head(5)"
      ]
    },
    {
      "cell_type": "markdown",
      "metadata": {
        "id": "6Q5OYGDyXi--"
      },
      "source": [
        "# Análise exploratória dos dados"
      ]
    },
    {
      "cell_type": "markdown",
      "metadata": {
        "id": "MkDT-r9xhoVD"
      },
      "source": [
        "Visualização das Features x ehFraude"
      ]
    },
    {
      "cell_type": "code",
      "execution_count": 29,
      "metadata": {
        "id": "tY3XS7bEpfEp"
      },
      "outputs": [],
      "source": [
        "import seaborn as sns\n",
        "import matplotlib.pyplot as plt\n",
        "#sns.pairplot(df3, x_vars=['ehFraude'], y_vars=['saldoInicialOrigemPorQuantia'], hue='ehFraude');"
      ]
    },
    {
      "cell_type": "markdown",
      "metadata": {
        "id": "irU7oHea6PlV"
      },
      "source": [
        "<div>\n",
        "    <div  style=\"display: flex;\">\n",
        "        <img src=\"https://github.com/casjunior93/Tera---Desafio-de-classificacao/blob/main/graficos/totalHoras-ehFraude.png?raw=1\" style=\"height: 250px;\">\n",
        "        <img src=\"https://github.com/casjunior93/Tera---Desafio-de-classificacao/blob/main/graficos/quantia-ehFraude.png?raw=1\" style=\"height: 250px;\">\n",
        "        <img src=\"https://github.com/casjunior93/Tera---Desafio-de-classificacao/blob/main/graficos/saldoInicialOrigem-ehFraude.png?raw=1\" style=\"height: 250px;\">\n",
        "    </div>\n",
        "    <div style=\"display: flex;\">\n",
        "        <img src=\"https://github.com/casjunior93/Tera---Desafio-de-classificacao/blob/main/graficos/saldoFinalOrigem-ehFraude.png?raw=1\" style=\"height: 250px;\">\n",
        "        <img src=\"https://github.com/casjunior93/Tera---Desafio-de-classificacao/blob/main/graficos/saldoInicialDestino-ehFraude.png?raw=1\" style=\"height: 250px;\">\n",
        "        <img src=\"https://github.com/casjunior93/Tera---Desafio-de-classificacao/blob/main/graficos/saldoFinalDestino-ehFraude.png?raw=1\" style=\"height: 250px;\">\n",
        "    </div>\n",
        "    <div style=\"display: flex;\">\n",
        "        <img src=\"https://github.com/casjunior93/Tera---Desafio-de-classificacao/blob/main/graficos/saldoFinalDestinoMenosSaldoFinalOrigem-ehFraude.png?raw=1\" style=\"height: 250px;\">\n",
        "    </div>\n",
        "</div>"
      ]
    },
    {
      "cell_type": "markdown",
      "metadata": {
        "id": "LAmCgdhi6PlV"
      },
      "source": [
        "Visualização da discrepância entre as classes da feature ehFraude. Será necessário um balanceamento."
      ]
    },
    {
      "cell_type": "code",
      "execution_count": 30,
      "metadata": {
        "id": "yyTI_CS06PlW",
        "outputId": "dac8ddf8-588c-473d-b220-1bde06edbfec",
        "colab": {
          "base_uri": "https://localhost:8080/",
          "height": 290
        }
      },
      "outputs": [
        {
          "output_type": "display_data",
          "data": {
            "image/png": "[encoded data removed]",
            "text/plain": [
              "<Figure size 432x288 with 1 Axes>"
            ]
          },
          "metadata": {
            "needs_background": "light"
          }
        }
      ],
      "source": [
        "g = sns.countplot(df3.ehFraude)\n",
        "g.set_xticklabels(['Não é fraude', 'É fraude'])\n",
        "plt.show();"
      ]
    },
    {
      "cell_type": "markdown",
      "metadata": {
        "id": "iMpvaYSh6PlW"
      },
      "source": [
        "Identificando correlações entre variáveis através de um mapa de calor."
      ]
    },
    {
      "cell_type": "code",
      "execution_count": 31,
      "metadata": {
        "id": "3YVoR7X26PlX",
        "outputId": "73037d19-ecf7-4c4c-d51a-1dac428ef16b",
        "colab": {
          "base_uri": "https://localhost:8080/",
          "height": 1000
        }
      },
      "outputs": [
        {
          "output_type": "display_data",
          "data": {
            "image/png": "[encoded data removed]",
            "text/plain": [
              "<Figure size 3600x1800 with 2 Axes>"
            ]
          },
          "metadata": {
            "needs_background": "light"
          }
        }
      ],
      "source": [
        "import numpy as np\n",
        "\n",
        "mask = np.triu(np.ones_like(df3.corr(), dtype=np.bool))\n",
        "plt.figure(figsize=(50,25))\n",
        "sns.heatmap(df3.corr(), mask=mask, square = True, annot=True, vmin=-1, vmax=1, linewidths=1.5)\n",
        "plt.show();"
      ]
    },
    {
      "cell_type": "markdown",
      "metadata": {
        "id": "LcnoUlZ86PlX"
      },
      "source": [
        "As features saldoFinalOrigem e saldoInicialOrigem tem um forte correlação (~1) enquanto saldoFinalDestino e saldoInicialDestino também tem uma forte correlação (0.98). A feature saldoFinalDestinoMenosSaldoFinalOrigem que criei também tem uma alta correlação com as features saldoInicialDestino e saldoFinalDestino, 0.74 e 0.77, respectivamente."
      ]
    },
    {
      "cell_type": "markdown",
      "metadata": {
        "id": "ZAIeS26X6PlX"
      },
      "source": [
        "# Dividindo o dataset em treino e teste"
      ]
    },
    {
      "cell_type": "markdown",
      "metadata": {
        "id": "R9U8RY276PlY"
      },
      "source": [
        "Definindo as colunas que vamos usar e a variável target."
      ]
    },
    {
      "cell_type": "code",
      "execution_count": 32,
      "metadata": {
        "id": "vpTiOEzl6PlY"
      },
      "outputs": [],
      "source": [
        "variaveis = df3[[\"totalHoras\", \"quantia\", \"saldoFinalOrigem\", \"saldoFinalDestino\", \"sinalizadaComoFraude\", \"saque\", \"deposito\", \"pagamento\", \"debito\", \"transferencia\", \"transacoesClienteDestinoPeriodo\", \"transacoesClienteOrigemPeriodo\"]]\n",
        "target = df3.ehFraude"
      ]
    },
    {
      "cell_type": "code",
      "execution_count": 33,
      "metadata": {
        "id": "BjrUESve6PlY"
      },
      "outputs": [],
      "source": [
        "from sklearn.model_selection import train_test_split\n",
        "\n",
        "X_train, X_test, y_train, y_test = train_test_split(variaveis, target, test_size=0.25, random_state=101)"
      ]
    },
    {
      "cell_type": "markdown",
      "metadata": {
        "id": "K3NmkHnw6PlZ"
      },
      "source": [
        "# Balanceamento da base de treino"
      ]
    },
    {
      "cell_type": "markdown",
      "metadata": {
        "id": "aUkzK-OM6PlZ"
      },
      "source": [
        "Importando os recursos necessários"
      ]
    },
    {
      "cell_type": "code",
      "execution_count": 34,
      "metadata": {
        "id": "rj5ce1Gx6PlZ"
      },
      "outputs": [],
      "source": [
        "from sklearn.linear_model import LogisticRegression\n",
        "from sklearn.datasets import make_classification\n",
        "from sklearn.metrics import confusion_matrix\n",
        "from sklearn.metrics import classification_report\n",
        "from sklearn import metrics"
      ]
    },
    {
      "cell_type": "markdown",
      "metadata": {
        "id": "DMgyRZGu6PlZ"
      },
      "source": [
        "## Logistic Regression - Baseline"
      ]
    },
    {
      "cell_type": "code",
      "execution_count": 35,
      "metadata": {
        "id": "dzlsdAP26Pla",
        "outputId": "22e8d274-6345-4deb-84b1-c01e1c37bbc3",
        "colab": {
          "base_uri": "https://localhost:8080/"
        }
      },
      "outputs": [
        {
          "output_type": "execute_result",
          "data": {
            "text/plain": [
              "array([[1588450,     188],\n",
              "       [   1891,     126]])"
            ]
          },
          "metadata": {},
          "execution_count": 35
        }
      ],
      "source": [
        "logreg_baseline = LogisticRegression(max_iter=200)\n",
        "logreg_baseline.fit(X_train, y_train)\n",
        "y_pred_baseline = logreg_baseline.predict(X_test)\n",
        "confusion_matrix(y_test, y_pred_baseline)"
      ]
    },
    {
      "cell_type": "code",
      "execution_count": 36,
      "metadata": {
        "id": "CLRTlK-P6Pla",
        "outputId": "c703215d-33fc-4c4d-cba6-a84f90f38fd4",
        "colab": {
          "base_uri": "https://localhost:8080/"
        }
      },
      "outputs": [
        {
          "output_type": "stream",
          "name": "stdout",
          "text": [
            "              precision    recall  f1-score   support\n",
            "\n",
            "  Não Fraude       1.00      1.00      1.00   1588638\n",
            "      Fraude       0.40      0.06      0.11      2017\n",
            "\n",
            "    accuracy                           1.00   1590655\n",
            "   macro avg       0.70      0.53      0.55   1590655\n",
            "weighted avg       1.00      1.00      1.00   1590655\n",
            "\n"
          ]
        }
      ],
      "source": [
        "print(classification_report(y_test, y_pred_baseline, target_names=['Não Fraude', 'Fraude']))"
      ]
    },
    {
      "cell_type": "code",
      "execution_count": 37,
      "metadata": {
        "id": "zTK4Pei06Pla",
        "outputId": "359c19a3-3fdd-4c4e-a1c0-881e5f084183",
        "colab": {
          "base_uri": "https://localhost:8080/",
          "height": 279
        }
      },
      "outputs": [
        {
          "output_type": "display_data",
          "data": {
            "image/png": "[encoded data removed]",
            "text/plain": [
              "<Figure size 432x288 with 1 Axes>"
            ]
          },
          "metadata": {
            "needs_background": "light"
          }
        }
      ],
      "source": [
        "metrics.plot_roc_curve(logreg_baseline, X_train, y_train, name='Baseline')\n",
        "plt.show()"
      ]
    },
    {
      "cell_type": "code",
      "execution_count": 38,
      "metadata": {
        "id": "fPSoFLuH6Plb",
        "outputId": "79ac94cf-e3fd-44aa-a5c6-5dc43bbdd42a",
        "colab": {
          "base_uri": "https://localhost:8080/",
          "height": 279
        }
      },
      "outputs": [
        {
          "output_type": "display_data",
          "data": {
            "image/png": "[encoded data removed]",
            "text/plain": [
              "<Figure size 432x288 with 1 Axes>"
            ]
          },
          "metadata": {
            "needs_background": "light"
          }
        }
      ],
      "source": [
        "metrics.plot_roc_curve(logreg_baseline, X_test, y_test, name='Baseline')\n",
        "plt.show()"
      ]
    },
    {
      "cell_type": "markdown",
      "metadata": {
        "id": "_Lo_XHPg6Plb"
      },
      "source": [
        "## Logistic Regression - Classes Weights ('balanced')"
      ]
    },
    {
      "cell_type": "code",
      "execution_count": 39,
      "metadata": {
        "id": "sa9Td6ZE6Plc",
        "outputId": "814ab777-6bac-4f3b-eaba-aa9009bcaa3b",
        "colab": {
          "base_uri": "https://localhost:8080/"
        }
      },
      "outputs": [
        {
          "output_type": "execute_result",
          "data": {
            "text/plain": [
              "array([[726996, 861642],\n",
              "       [   197,   1820]])"
            ]
          },
          "metadata": {},
          "execution_count": 39
        }
      ],
      "source": [
        "logreg_balanced = LogisticRegression(class_weight='balanced')\n",
        "logreg_balanced.fit(X_train, y_train)\n",
        "y_pred = logreg_balanced.predict(X_test)\n",
        "confusion_matrix(y_test, y_pred)"
      ]
    },
    {
      "cell_type": "code",
      "execution_count": 40,
      "metadata": {
        "id": "E6wJnt4q6Plc",
        "outputId": "e7a74eca-af74-4caa-d631-0a7189be3a9c",
        "colab": {
          "base_uri": "https://localhost:8080/"
        }
      },
      "outputs": [
        {
          "output_type": "stream",
          "name": "stdout",
          "text": [
            "              precision    recall  f1-score   support\n",
            "\n",
            "  Não Fraude       1.00      0.46      0.63   1588638\n",
            "      Fraude       0.00      0.90      0.00      2017\n",
            "\n",
            "    accuracy                           0.46   1590655\n",
            "   macro avg       0.50      0.68      0.32   1590655\n",
            "weighted avg       1.00      0.46      0.63   1590655\n",
            "\n"
          ]
        }
      ],
      "source": [
        "print(classification_report(y_test, y_pred, target_names=['Não Fraude', 'Fraude']))"
      ]
    },
    {
      "cell_type": "code",
      "execution_count": 41,
      "metadata": {
        "id": "nysn20YD6Plc",
        "outputId": "be2adc64-16b7-445e-bac6-f06cf8e62034",
        "colab": {
          "base_uri": "https://localhost:8080/",
          "height": 279
        }
      },
      "outputs": [
        {
          "output_type": "display_data",
          "data": {
            "image/png": "[encoded data removed]",
            "text/plain": [
              "<Figure size 432x288 with 1 Axes>"
            ]
          },
          "metadata": {
            "needs_background": "light"
          }
        }
      ],
      "source": [
        "metrics.plot_roc_curve(logreg_balanced, X_train, y_train, name='Baseline')\n",
        "plt.show()"
      ]
    },
    {
      "cell_type": "code",
      "execution_count": 42,
      "metadata": {
        "id": "ti1z1ktF6Pld",
        "outputId": "b05d942f-0207-496e-8f15-98f41f3ee509",
        "colab": {
          "base_uri": "https://localhost:8080/",
          "height": 279
        }
      },
      "outputs": [
        {
          "output_type": "display_data",
          "data": {
            "image/png": "[encoded data removed]",
            "text/plain": [
              "<Figure size 432x288 with 1 Axes>"
            ]
          },
          "metadata": {
            "needs_background": "light"
          }
        }
      ],
      "source": [
        "metrics.plot_roc_curve(logreg_balanced, X_test, y_test, name='Baseline')\n",
        "plt.show()"
      ]
    },
    {
      "cell_type": "markdown",
      "metadata": {
        "id": "NbH0xkIM6Pld"
      },
      "source": [
        "## Logistic Regression - Classes Weights (custom)"
      ]
    },
    {
      "cell_type": "code",
      "execution_count": 43,
      "metadata": {
        "id": "QQZoPAD36Pld",
        "outputId": "5c52e5ca-d689-49a1-a06d-63fbbd5af3ad",
        "colab": {
          "base_uri": "https://localhost:8080/"
        }
      },
      "outputs": [
        {
          "output_type": "execute_result",
          "data": {
            "text/plain": [
              "array([[1583050,    5588],\n",
              "       [   1718,     299]])"
            ]
          },
          "metadata": {},
          "execution_count": 43
        }
      ],
      "source": [
        "logreg_balanced_custom = LogisticRegression(class_weight={0: 0.15,1: 0.85})\n",
        "logreg_balanced_custom.fit(X_train, y_train)\n",
        "y_pred = logreg_balanced_custom.predict(X_test)\n",
        "confusion_matrix(y_test, y_pred)"
      ]
    },
    {
      "cell_type": "code",
      "execution_count": 44,
      "metadata": {
        "id": "dq93WzON6Ple",
        "outputId": "1344d981-c0c0-47d7-c21b-f56ca79f7293",
        "colab": {
          "base_uri": "https://localhost:8080/"
        }
      },
      "outputs": [
        {
          "output_type": "stream",
          "name": "stdout",
          "text": [
            "              precision    recall  f1-score   support\n",
            "\n",
            "  Não Fraude       1.00      1.00      1.00   1588638\n",
            "      Fraude       0.05      0.15      0.08      2017\n",
            "\n",
            "    accuracy                           1.00   1590655\n",
            "   macro avg       0.52      0.57      0.54   1590655\n",
            "weighted avg       1.00      1.00      1.00   1590655\n",
            "\n"
          ]
        }
      ],
      "source": [
        "print(classification_report(y_test, y_pred, target_names=['Não Fraude', 'Fraude']))"
      ]
    },
    {
      "cell_type": "code",
      "execution_count": 45,
      "metadata": {
        "id": "9TeGZwE66Ple",
        "outputId": "9b9a73bb-97bc-4a9c-cae8-85ad197e23b1",
        "colab": {
          "base_uri": "https://localhost:8080/",
          "height": 279
        }
      },
      "outputs": [
        {
          "output_type": "display_data",
          "data": {
            "image/png": "[encoded data removed]",
            "text/plain": [
              "<Figure size 432x288 with 1 Axes>"
            ]
          },
          "metadata": {
            "needs_background": "light"
          }
        }
      ],
      "source": [
        "metrics.plot_roc_curve(logreg_balanced_custom, X_test, y_test, name='Baseline')\n",
        "plt.show()"
      ]
    },
    {
      "cell_type": "markdown",
      "metadata": {
        "id": "TiUhzvcx6Ple"
      },
      "source": [
        "## Logistic Regression - Over-sampling"
      ]
    },
    {
      "cell_type": "markdown",
      "metadata": {
        "tags": [],
        "id": "Wg_kxlTX6Ple"
      },
      "source": [
        "### Random"
      ]
    },
    {
      "cell_type": "code",
      "execution_count": 46,
      "metadata": {
        "scrolled": true,
        "id": "PkfdoQbB6Plf"
      },
      "outputs": [],
      "source": [
        "from imblearn.over_sampling import RandomOverSampler"
      ]
    },
    {
      "cell_type": "code",
      "execution_count": 47,
      "metadata": {
        "id": "F9HO5DQl6Plf",
        "outputId": "9bb64d5e-4710-4d45-b2ce-23e0cf794c49",
        "colab": {
          "base_uri": "https://localhost:8080/"
        }
      },
      "outputs": [
        {
          "output_type": "stream",
          "name": "stdout",
          "text": [
            "Resultado após o oversampling Counter({0: 4765769, 1: 1048469})\n"
          ]
        }
      ],
      "source": [
        "sm = RandomOverSampler(random_state=42, sampling_strategy=0.22)\n",
        "X_over, y_over = sm.fit_resample(X_train, y_train)\n",
        "print('Resultado após o oversampling %s' % Counter(y_over))"
      ]
    },
    {
      "cell_type": "code",
      "execution_count": 48,
      "metadata": {
        "id": "7ws2raUi6Plg",
        "outputId": "73ff5035-6180-44c3-84ab-7e9a25989370",
        "colab": {
          "base_uri": "https://localhost:8080/"
        }
      },
      "outputs": [
        {
          "output_type": "execute_result",
          "data": {
            "text/plain": [
              "array([[1532022,   56616],\n",
              "       [   1243,     774]])"
            ]
          },
          "metadata": {},
          "execution_count": 48
        }
      ],
      "source": [
        "logreg_random = LogisticRegression()\n",
        "logreg_random.fit(X_over, y_over)\n",
        "y_pred = logreg_random.predict(X_test)\n",
        "confusion_matrix(y_test, y_pred)"
      ]
    },
    {
      "cell_type": "code",
      "execution_count": 49,
      "metadata": {
        "id": "CiS8yw0F6Plh",
        "outputId": "7ddc69de-2ea8-4b50-f926-bf37f0d3e189",
        "colab": {
          "base_uri": "https://localhost:8080/"
        }
      },
      "outputs": [
        {
          "output_type": "stream",
          "name": "stdout",
          "text": [
            "              precision    recall  f1-score   support\n",
            "\n",
            "  Não Fraude       1.00      0.96      0.98   1588638\n",
            "      Fraude       0.01      0.38      0.03      2017\n",
            "\n",
            "    accuracy                           0.96   1590655\n",
            "   macro avg       0.51      0.67      0.50   1590655\n",
            "weighted avg       1.00      0.96      0.98   1590655\n",
            "\n"
          ]
        }
      ],
      "source": [
        "print(classification_report(y_test, y_pred, target_names=['Não Fraude', 'Fraude']))"
      ]
    },
    {
      "cell_type": "code",
      "execution_count": 50,
      "metadata": {
        "id": "WbifiWeE6Pli",
        "outputId": "5c954bf1-9398-4bc9-cb09-b846e8cc35e2",
        "colab": {
          "base_uri": "https://localhost:8080/",
          "height": 295
        }
      },
      "outputs": [
        {
          "output_type": "display_data",
          "data": {
            "image/png": "[encoded data removed]",
            "text/plain": [
              "<Figure size 432x288 with 1 Axes>"
            ]
          },
          "metadata": {
            "needs_background": "light"
          }
        }
      ],
      "source": [
        "metrics.plot_roc_curve(logreg_random, X_test, y_test)\n",
        "plt.title(\"Dataset com Over-Sampling Randômico\")\n",
        "plt.show()"
      ]
    },
    {
      "cell_type": "markdown",
      "metadata": {
        "id": "yXapbABU6Plj"
      },
      "source": [
        "### ADASYN"
      ]
    },
    {
      "cell_type": "code",
      "execution_count": 51,
      "metadata": {
        "id": "LvRVzjP16Plj",
        "outputId": "93c1f051-1b09-4b3c-ca75-b0b863aad7e8",
        "colab": {
          "base_uri": "https://localhost:8080/"
        }
      },
      "outputs": [
        {
          "output_type": "stream",
          "name": "stdout",
          "text": [
            "Resultado após o oversampling Counter({0: 4765769, 1: 1049660})\n"
          ]
        }
      ],
      "source": [
        "from imblearn.over_sampling import ADASYN\n",
        "\n",
        "sm = ADASYN(random_state=42, sampling_strategy=0.22)\n",
        "X_over, y_over = sm.fit_resample(X_train, y_train)\n",
        "print('Resultado após o oversampling %s' % Counter(y_over))"
      ]
    },
    {
      "cell_type": "code",
      "execution_count": 52,
      "metadata": {
        "id": "T3unAn706Plk"
      },
      "outputs": [],
      "source": [
        "logreg_adasyn = LogisticRegression()\n",
        "logreg_adasyn.fit(X_over, y_over)\n",
        "y_pred = logreg_adasyn.predict(X_test)"
      ]
    },
    {
      "cell_type": "code",
      "execution_count": 53,
      "metadata": {
        "id": "6uNedGRi6Plk",
        "outputId": "3dbbd907-84f7-49dc-ba3b-4432d645b9f9",
        "colab": {
          "base_uri": "https://localhost:8080/"
        }
      },
      "outputs": [
        {
          "output_type": "execute_result",
          "data": {
            "text/plain": [
              "array([[1540927,   47711],\n",
              "       [   1295,     722]])"
            ]
          },
          "metadata": {},
          "execution_count": 53
        }
      ],
      "source": [
        "confusion_matrix(y_test, y_pred)"
      ]
    },
    {
      "cell_type": "code",
      "execution_count": 54,
      "metadata": {
        "id": "hALQcC1i6Plk",
        "outputId": "d7ca825b-8770-4ad8-966e-2cb58ff26a6a",
        "colab": {
          "base_uri": "https://localhost:8080/"
        }
      },
      "outputs": [
        {
          "output_type": "stream",
          "name": "stdout",
          "text": [
            "              precision    recall  f1-score   support\n",
            "\n",
            "  Não Fraude       1.00      0.97      0.98   1588638\n",
            "      Fraude       0.01      0.36      0.03      2017\n",
            "\n",
            "    accuracy                           0.97   1590655\n",
            "   macro avg       0.51      0.66      0.51   1590655\n",
            "weighted avg       1.00      0.97      0.98   1590655\n",
            "\n"
          ]
        }
      ],
      "source": [
        "print(classification_report(y_test, y_pred, target_names=['Não Fraude', 'Fraude']))"
      ]
    },
    {
      "cell_type": "code",
      "execution_count": 55,
      "metadata": {
        "id": "g32nZDPh6Pll",
        "outputId": "1db0f7ac-b0ca-432e-a441-60451e2abcdf",
        "colab": {
          "base_uri": "https://localhost:8080/",
          "height": 295
        }
      },
      "outputs": [
        {
          "output_type": "display_data",
          "data": {
            "image/png": "[encoded data removed]",
            "text/plain": [
              "<Figure size 432x288 with 1 Axes>"
            ]
          },
          "metadata": {
            "needs_background": "light"
          }
        }
      ],
      "source": [
        "metrics.plot_roc_curve(logreg_adasyn, X_test, y_test)\n",
        "plt.title(\"Dataset com Over-Sampling ADASYN\")\n",
        "plt.show()"
      ]
    },
    {
      "cell_type": "markdown",
      "metadata": {
        "id": "neccPZ2X6Pll"
      },
      "source": [
        "### SMOTE"
      ]
    },
    {
      "cell_type": "code",
      "execution_count": 56,
      "metadata": {
        "id": "Iunde1EX6Pll",
        "outputId": "4ba5fd30-22d4-4a8f-caee-1c8a32d47a55",
        "colab": {
          "base_uri": "https://localhost:8080/"
        }
      },
      "outputs": [
        {
          "output_type": "stream",
          "name": "stdout",
          "text": [
            "Resultado após o oversampling Counter({0: 4765769, 1: 1048469})\n"
          ]
        }
      ],
      "source": [
        "from imblearn.over_sampling import SMOTE\n",
        "\n",
        "sm = SMOTE(random_state=42, sampling_strategy=0.22)\n",
        "X_over, y_over = sm.fit_resample(X_train, y_train)\n",
        "print('Resultado após o oversampling %s' % Counter(y_over))"
      ]
    },
    {
      "cell_type": "code",
      "execution_count": 57,
      "metadata": {
        "id": "WRbeGReP6Pll",
        "outputId": "4a57ed65-b766-44a2-f2d2-87d9923d1674",
        "colab": {
          "base_uri": "https://localhost:8080/"
        }
      },
      "outputs": [
        {
          "output_type": "execute_result",
          "data": {
            "text/plain": [
              "array([[1532255,   56383],\n",
              "       [   1243,     774]])"
            ]
          },
          "metadata": {},
          "execution_count": 57
        }
      ],
      "source": [
        "logreg_smote = LogisticRegression()\n",
        "logreg_smote.fit(X_over, y_over)\n",
        "y_pred = logreg_smote.predict(X_test)\n",
        "confusion_matrix(y_test, y_pred)"
      ]
    },
    {
      "cell_type": "code",
      "execution_count": 58,
      "metadata": {
        "id": "Ds-rGUrq6Plm",
        "outputId": "6fcc22af-e603-4c22-ab35-dd7102038b12",
        "colab": {
          "base_uri": "https://localhost:8080/"
        }
      },
      "outputs": [
        {
          "output_type": "stream",
          "name": "stdout",
          "text": [
            "              precision    recall  f1-score   support\n",
            "\n",
            "  Não Fraude       1.00      0.96      0.98   1588638\n",
            "      Fraude       0.01      0.38      0.03      2017\n",
            "\n",
            "    accuracy                           0.96   1590655\n",
            "   macro avg       0.51      0.67      0.50   1590655\n",
            "weighted avg       1.00      0.96      0.98   1590655\n",
            "\n"
          ]
        }
      ],
      "source": [
        "print(classification_report(y_test, y_pred, target_names=['Não Fraude', 'Fraude']))"
      ]
    },
    {
      "cell_type": "code",
      "execution_count": 59,
      "metadata": {
        "id": "BmmovOBx6Plm",
        "outputId": "ac7853c3-ccd6-4fd2-daad-f8128b96c137",
        "colab": {
          "base_uri": "https://localhost:8080/",
          "height": 295
        }
      },
      "outputs": [
        {
          "output_type": "display_data",
          "data": {
            "image/png": "[encoded data removed]",
            "text/plain": [
              "<Figure size 432x288 with 1 Axes>"
            ]
          },
          "metadata": {
            "needs_background": "light"
          }
        }
      ],
      "source": [
        "metrics.plot_roc_curve(logreg_smote, X_test, y_test)\n",
        "plt.title(\"Dataset com Over-Sampling SMOTE\")\n",
        "plt.show()"
      ]
    },
    {
      "cell_type": "markdown",
      "metadata": {
        "id": "i4m-tzqF6Plm"
      },
      "source": [
        "## Logistic Regression - Under-sampling"
      ]
    },
    {
      "cell_type": "markdown",
      "metadata": {
        "id": "PFFBd_BV6Pln"
      },
      "source": [
        "### Cluster Centroids"
      ]
    },
    {
      "cell_type": "code",
      "execution_count": 60,
      "metadata": {
        "id": "l01lqqdL6Pln"
      },
      "outputs": [],
      "source": [
        "#from imblearn.under_sampling import ClusterCentroids \n",
        "\n",
        "#print('Antes %s' % Counter(y_train))\n",
        "#cc = ClusterCentroids(random_state=42, sampling_strategy=0.35)\n",
        "#X_under, y_under = cc.fit_resample(X_train, y_train)\n",
        "#print('Resultado após o under sampling %s' % Counter(y_under))"
      ]
    },
    {
      "cell_type": "code",
      "source": [
        "#logreg = LogisticRegression()\n",
        "#logreg.fit(X_under, y_under)\n",
        "#y_pred = logreg.predict(X_test)"
      ],
      "metadata": {
        "id": "TL-w2gUue0Cb"
      },
      "execution_count": 61,
      "outputs": []
    },
    {
      "cell_type": "code",
      "execution_count": 62,
      "metadata": {
        "id": "buLTF9Qd6Pln"
      },
      "outputs": [],
      "source": [
        "#confusion_matrix(y_test, y_pred)"
      ]
    },
    {
      "cell_type": "code",
      "execution_count": 63,
      "metadata": {
        "id": "qTKCU6hc6Plo"
      },
      "outputs": [],
      "source": [
        "#print(classification_report(y_test, y_pred, target_names=['Não Fraude', 'Fraude']))"
      ]
    },
    {
      "cell_type": "code",
      "execution_count": 64,
      "metadata": {
        "id": "etLeqf9p6Plo"
      },
      "outputs": [],
      "source": [
        "#logreg_balanced_disp = metrics.plot_roc_curve(logreg, X_test, y_test, name='Under-sampling - Centroids')"
      ]
    },
    {
      "cell_type": "markdown",
      "metadata": {
        "id": "MybOem3i6Plo"
      },
      "source": [
        "### Randômico"
      ]
    },
    {
      "cell_type": "code",
      "execution_count": 65,
      "metadata": {
        "id": "e7zx7ruO6Plo",
        "outputId": "50d86aa9-4997-40d7-da9d-4511b88b7869",
        "colab": {
          "base_uri": "https://localhost:8080/"
        }
      },
      "outputs": [
        {
          "output_type": "stream",
          "name": "stdout",
          "text": [
            "Antes Counter({0: 4765769, 1: 6196})\n",
            "Resultado após o under sampling Counter({0: 17702, 1: 6196})\n"
          ]
        }
      ],
      "source": [
        "from imblearn.under_sampling import RandomUnderSampler \n",
        "\n",
        "print('Antes %s' % Counter(y_train))\n",
        "cc = RandomUnderSampler(random_state=42, sampling_strategy=0.35)\n",
        "X_under, y_under = cc.fit_resample(X_train, y_train)\n",
        "print('Resultado após o under sampling %s' % Counter(y_under))"
      ]
    },
    {
      "cell_type": "code",
      "execution_count": 66,
      "metadata": {
        "id": "2Z-rHe5p6Plp"
      },
      "outputs": [],
      "source": [
        "logreg_under_random = LogisticRegression()\n",
        "logreg_under_random.fit(X_under, y_under)\n",
        "y_pred = logreg_under_random.predict(X_test)"
      ]
    },
    {
      "cell_type": "code",
      "execution_count": 67,
      "metadata": {
        "id": "4TL8Ma4u6Plp",
        "outputId": "4e9a3016-b05e-4090-f98d-50db6b8e2161",
        "colab": {
          "base_uri": "https://localhost:8080/"
        }
      },
      "outputs": [
        {
          "output_type": "execute_result",
          "data": {
            "text/plain": [
              "array([[1494358,   94280],\n",
              "       [   1086,     931]])"
            ]
          },
          "metadata": {},
          "execution_count": 67
        }
      ],
      "source": [
        "confusion_matrix(y_test, y_pred)"
      ]
    },
    {
      "cell_type": "code",
      "execution_count": 68,
      "metadata": {
        "id": "-e82_bJq6Plq",
        "outputId": "ea2d0e91-992a-498e-94eb-16391d443f58",
        "colab": {
          "base_uri": "https://localhost:8080/"
        }
      },
      "outputs": [
        {
          "output_type": "stream",
          "name": "stdout",
          "text": [
            "              precision    recall  f1-score   support\n",
            "\n",
            "  Não Fraude       1.00      0.94      0.97   1588638\n",
            "      Fraude       0.01      0.46      0.02      2017\n",
            "\n",
            "    accuracy                           0.94   1590655\n",
            "   macro avg       0.50      0.70      0.49   1590655\n",
            "weighted avg       1.00      0.94      0.97   1590655\n",
            "\n"
          ]
        }
      ],
      "source": [
        "print(classification_report(y_test, y_pred, target_names=['Não Fraude', 'Fraude']))"
      ]
    },
    {
      "cell_type": "code",
      "execution_count": 69,
      "metadata": {
        "id": "0ikXpVmB6Plq",
        "outputId": "7226c89e-380b-4977-e726-40b971c907ea",
        "colab": {
          "base_uri": "https://localhost:8080/",
          "height": 279
        }
      },
      "outputs": [
        {
          "output_type": "display_data",
          "data": {
            "image/png": "[encoded data removed]",
            "text/plain": [
              "<Figure size 432x288 with 1 Axes>"
            ]
          },
          "metadata": {
            "needs_background": "light"
          }
        }
      ],
      "source": [
        "logreg_balanced_disp = metrics.plot_roc_curve(logreg_under_random, X_test, y_test, \n",
        "                                              name='Random')"
      ]
    },
    {
      "cell_type": "markdown",
      "metadata": {
        "id": "H4pvyxsE6Plq"
      },
      "source": [
        "## Over sampling e Under sampling"
      ]
    },
    {
      "cell_type": "markdown",
      "metadata": {
        "id": "WT5Csp3v6Plr"
      },
      "source": [
        "### Proporção de 1:2"
      ]
    },
    {
      "cell_type": "code",
      "execution_count": 70,
      "metadata": {
        "id": "iGgicQZ06Plr",
        "outputId": "462af505-78ea-4fa2-916a-1c1978101a85",
        "colab": {
          "base_uri": "https://localhost:8080/"
        }
      },
      "outputs": [
        {
          "output_type": "stream",
          "name": "stdout",
          "text": [
            "Antes Counter({0: 4765769, 1: 6196})\n",
            "Resultado após a aplicação das duas estratégias combinadas Counter({0: 4459655, 1: 2168907})\n"
          ]
        }
      ],
      "source": [
        "from imblearn.combine import SMOTEENN \n",
        "\n",
        "sme = SMOTEENN(random_state=42, sampling_strategy=0.5)\n",
        "\n",
        "print('Antes %s' % Counter(y_train))\n",
        "\n",
        "X_res, y_res = sme.fit_resample(X_train, y_train)\n",
        "print('Resultado após a aplicação das duas estratégias combinadas %s' % Counter(y_res))"
      ]
    },
    {
      "cell_type": "code",
      "execution_count": 71,
      "metadata": {
        "id": "w4xKSo2t6Plr",
        "outputId": "e198d66d-471a-4ba0-fa12-f3c1cdbe9d4b",
        "colab": {
          "base_uri": "https://localhost:8080/"
        }
      },
      "outputs": [
        {
          "output_type": "execute_result",
          "data": {
            "text/plain": [
              "array([[1431544,  157094],\n",
              "       [    872,    1145]])"
            ]
          },
          "metadata": {},
          "execution_count": 71
        }
      ],
      "source": [
        "logreg_prop12 = LogisticRegression()\n",
        "logreg_prop12.fit(X_res, y_res)\n",
        "y_pred = logreg_prop12.predict(X_test)\n",
        "confusion_matrix(y_test, y_pred)"
      ]
    },
    {
      "cell_type": "code",
      "execution_count": 72,
      "metadata": {
        "id": "aVrvP8rI6Pls",
        "outputId": "fb30948f-9d6e-4034-adff-3aa1187ef011",
        "colab": {
          "base_uri": "https://localhost:8080/"
        }
      },
      "outputs": [
        {
          "output_type": "stream",
          "name": "stdout",
          "text": [
            "              precision    recall  f1-score   support\n",
            "\n",
            "  Não Fraude       1.00      0.90      0.95   1588638\n",
            "      Fraude       0.01      0.57      0.01      2017\n",
            "\n",
            "    accuracy                           0.90   1590655\n",
            "   macro avg       0.50      0.73      0.48   1590655\n",
            "weighted avg       1.00      0.90      0.95   1590655\n",
            "\n"
          ]
        }
      ],
      "source": [
        "print(classification_report(y_test, y_pred, target_names=['Não Fraude', 'Fraude']))"
      ]
    },
    {
      "cell_type": "code",
      "execution_count": 73,
      "metadata": {
        "id": "-E9ACzlk6Pls",
        "outputId": "ec246588-85e7-4e40-f106-a33d875106d2",
        "colab": {
          "base_uri": "https://localhost:8080/",
          "height": 279
        }
      },
      "outputs": [
        {
          "output_type": "display_data",
          "data": {
            "image/png": "[encoded data removed]",
            "text/plain": [
              "<Figure size 432x288 with 1 Axes>"
            ]
          },
          "metadata": {
            "needs_background": "light"
          }
        }
      ],
      "source": [
        "metrics.plot_roc_curve(logreg_prop12, X_test, y_test, name='Baseline')\n",
        "plt.show()"
      ]
    },
    {
      "cell_type": "markdown",
      "metadata": {
        "id": "_4e3idoz6Pls"
      },
      "source": [
        "### Proporção de 1:10"
      ]
    },
    {
      "cell_type": "code",
      "execution_count": 74,
      "metadata": {
        "id": "fJ15cNUT6Plt",
        "outputId": "8137cb24-4e0f-4d13-9609-01d12e81c732",
        "colab": {
          "base_uri": "https://localhost:8080/"
        }
      },
      "outputs": [
        {
          "output_type": "stream",
          "name": "stdout",
          "text": [
            "Antes Counter({0: 4765769, 1: 6196})\n",
            "Resultado após a aplicação das duas estratégias combinadas Counter({0: 4564644, 1: 331727})\n"
          ]
        }
      ],
      "source": [
        "from imblearn.combine import SMOTEENN \n",
        "\n",
        "sme = SMOTEENN(random_state=42, sampling_strategy=0.1)\n",
        "\n",
        "print('Antes %s' % Counter(y_train))\n",
        "\n",
        "X_res, y_res = sme.fit_resample(X_train, y_train)\n",
        "print('Resultado após a aplicação das duas estratégias combinadas %s' % Counter(y_res))"
      ]
    },
    {
      "cell_type": "code",
      "execution_count": 75,
      "metadata": {
        "id": "3fE9FWwA6Plu",
        "outputId": "53d97aad-7b45-4f8b-bf97-3a2a2b44ec31",
        "colab": {
          "base_uri": "https://localhost:8080/"
        }
      },
      "outputs": [
        {
          "output_type": "execute_result",
          "data": {
            "text/plain": [
              "array([[1546313,   42325],\n",
              "       [   1272,     745]])"
            ]
          },
          "metadata": {},
          "execution_count": 75
        }
      ],
      "source": [
        "logreg_prop110 = LogisticRegression()\n",
        "logreg_prop110.fit(X_res, y_res)\n",
        "y_pred = logreg_prop110.predict(X_test)\n",
        "confusion_matrix(y_test, y_pred)"
      ]
    },
    {
      "cell_type": "code",
      "execution_count": 76,
      "metadata": {
        "id": "P2k88OP86Plv",
        "outputId": "d1471a7e-0f7f-4090-d098-afd91dfdcda2",
        "colab": {
          "base_uri": "https://localhost:8080/"
        }
      },
      "outputs": [
        {
          "output_type": "stream",
          "name": "stdout",
          "text": [
            "              precision    recall  f1-score   support\n",
            "\n",
            "  Não Fraude       1.00      0.97      0.99   1588638\n",
            "      Fraude       0.02      0.37      0.03      2017\n",
            "\n",
            "    accuracy                           0.97   1590655\n",
            "   macro avg       0.51      0.67      0.51   1590655\n",
            "weighted avg       1.00      0.97      0.98   1590655\n",
            "\n"
          ]
        }
      ],
      "source": [
        "print(classification_report(y_test, y_pred, target_names=['Não Fraude', 'Fraude']))"
      ]
    },
    {
      "cell_type": "code",
      "execution_count": 78,
      "metadata": {
        "id": "GKCuVbu-6Plw",
        "outputId": "3378aa86-34cd-4cdc-be14-49e64e99f7a0",
        "colab": {
          "base_uri": "https://localhost:8080/",
          "height": 279
        }
      },
      "outputs": [
        {
          "output_type": "display_data",
          "data": {
            "image/png": "[encoded data removed]",
            "text/plain": [
              "<Figure size 432x288 with 1 Axes>"
            ]
          },
          "metadata": {
            "needs_background": "light"
          }
        }
      ],
      "source": [
        "metrics.plot_roc_curve(logreg_prop110, X_test, y_test, name='Baseline')\n",
        "plt.show()"
      ]
    },
    {
      "cell_type": "markdown",
      "source": [
        "# Sem balanceamento da base de treino"
      ],
      "metadata": {
        "id": "Q9727g466QSQ"
      }
    },
    {
      "cell_type": "code",
      "source": [
        "from sklearn.metrics import plot_confusion_matrix, accuracy_score, recall_score, precision_score, plot_roc_curve"
      ],
      "metadata": {
        "id": "Lr77dsB363Si"
      },
      "execution_count": 84,
      "outputs": []
    },
    {
      "cell_type": "markdown",
      "source": [
        "## Regressão logística"
      ],
      "metadata": {
        "id": "CF9bEi6k6lNq"
      }
    },
    {
      "cell_type": "code",
      "source": [
        "lr = LogisticRegression().fit(X_train, y_train)\n",
        "y_pred_lr = lr.predict(X_test)"
      ],
      "metadata": {
        "id": "YdtysDOq6rA2"
      },
      "execution_count": 82,
      "outputs": []
    },
    {
      "cell_type": "code",
      "source": [
        "plot_confusion_matrix(lr, X_test, y_test, cmap='Blues');"
      ],
      "metadata": {
        "colab": {
          "base_uri": "https://localhost:8080/",
          "height": 290
        },
        "id": "WzwkmSlm6r_q",
        "outputId": "18a931e3-2b3f-4d05-a31b-47f0af38413d"
      },
      "execution_count": 85,
      "outputs": [
        {
          "output_type": "display_data",
          "data": {
            "image/png": "[encoded data removed]",
            "text/plain": [
              "<Figure size 432x288 with 2 Axes>"
            ]
          },
          "metadata": {
            "needs_background": "light"
          }
        }
      ]
    },
    {
      "cell_type": "code",
      "source": [
        "print(f'Acurácia: {accuracy_score(y_test, y_pred_lr)}\\n\\Precisão: {precision_score(y_test, y_pred_lr)}\\n\\\n",
        "      Recall: {recall_score(y_test, y_pred_lr)}')"
      ],
      "metadata": {
        "colab": {
          "base_uri": "https://localhost:8080/"
        },
        "id": "EaDIsu9A7GnE",
        "outputId": "f98707ec-fab6-4f48-dee9-4065235d7b7b"
      },
      "execution_count": 86,
      "outputs": [
        {
          "output_type": "stream",
          "name": "stdout",
          "text": [
            "Acurácia: 0.9986929912520314\n",
            "\\Precisão: 0.4012738853503185\n",
            "      Recall: 0.06246901338621715\n"
          ]
        }
      ]
    },
    {
      "cell_type": "code",
      "source": [
        "plot_roc_curve(lr, X_test, y_test);"
      ],
      "metadata": {
        "colab": {
          "base_uri": "https://localhost:8080/",
          "height": 279
        },
        "id": "gX5PCcIU7QM2",
        "outputId": "d27555fa-104f-48b8-e2d9-85fe259c80ae"
      },
      "execution_count": 87,
      "outputs": [
        {
          "output_type": "display_data",
          "data": {
            "image/png": "[encoded data removed]",
            "text/plain": [
              "<Figure size 432x288 with 1 Axes>"
            ]
          },
          "metadata": {
            "needs_background": "light"
          }
        }
      ]
    },
    {
      "cell_type": "code",
      "source": [
        ""
      ],
      "metadata": {
        "id": "n61TZTIF7S-u"
      },
      "execution_count": null,
      "outputs": []
    },
    {
      "cell_type": "markdown",
      "source": [
        "## SVM"
      ],
      "metadata": {
        "id": "uTl3X2tD7WbM"
      }
    },
    {
      "cell_type": "code",
      "source": [
        "from sklearn.svm import SVC\n",
        "\n",
        "svm = SVC()\n",
        "svm.fit(X_train, y_train)\n",
        "\n",
        "y_pred_svm = svm.predict(X_test)"
      ],
      "metadata": {
        "id": "TqHAg2Fx7aO0"
      },
      "execution_count": null,
      "outputs": []
    },
    {
      "cell_type": "code",
      "source": [
        "plot_confusion_matrix(svm, X_test, y_test, cmap='Blues');"
      ],
      "metadata": {
        "id": "DgXBVE4q7dOW"
      },
      "execution_count": null,
      "outputs": []
    },
    {
      "cell_type": "code",
      "source": [
        "print(f'Acurácia: {accuracy_score(y_test, y_pred_svm)}\\n\\Precisão: {precision_score(y_test, y_pred_svm)}\\n\\\n",
        "      Recall: {recall_score(y_test, y_pred_svm)}')"
      ],
      "metadata": {
        "id": "EJ5C2rZX7fI8"
      },
      "execution_count": null,
      "outputs": []
    },
    {
      "cell_type": "code",
      "source": [
        "plot_roc_curve(svm, X_test, y_test);"
      ],
      "metadata": {
        "id": "-iwtsx5F7hPj"
      },
      "execution_count": null,
      "outputs": []
    },
    {
      "cell_type": "markdown",
      "source": [
        "## KNN"
      ],
      "metadata": {
        "id": "p6E58Ouf7l_k"
      }
    },
    {
      "cell_type": "code",
      "source": [
        "from sklearn.neighbors import KNeighborsClassifier\n",
        "\n",
        "knn = KNeighborsClassifier(n_neighbors=3)\n",
        "knn.fit(X_train, y_train)\n",
        "y_pred_knn = knn.predict(X_test)"
      ],
      "metadata": {
        "id": "XTXmNcrB7i_p"
      },
      "execution_count": null,
      "outputs": []
    },
    {
      "cell_type": "code",
      "source": [
        "plot_confusion_matrix(knn, X_test, y_test, cmap='Blues')"
      ],
      "metadata": {
        "id": "xaZtsX-l7o_h"
      },
      "execution_count": null,
      "outputs": []
    },
    {
      "cell_type": "code",
      "source": [
        "print(f'Acurácia: {accuracy_score(y_test, y_pred_knn)}\\n\\Precisão: {precision_score(y_test, y_pred_knn)}\\n\\\n",
        "      Recall: {recall_score(y_test, y_pred_knn)}')"
      ],
      "metadata": {
        "id": "xXogws__7rE5"
      },
      "execution_count": null,
      "outputs": []
    },
    {
      "cell_type": "code",
      "source": [
        "plot_roc_curve(knn, X_test, y_test);"
      ],
      "metadata": {
        "id": "Bg4T0bnN7s3e"
      },
      "execution_count": null,
      "outputs": []
    },
    {
      "cell_type": "markdown",
      "source": [
        "## Naive Bayes"
      ],
      "metadata": {
        "id": "tEGb9sNc7xV1"
      }
    },
    {
      "cell_type": "code",
      "source": [
        "from sklearn.naive_bayes import GaussianNB\n",
        "\n",
        "nb = GaussianNB()\n",
        "nb.fit(X_train, y_train)\n",
        "y_pred_nb = nb.predict(X_test)"
      ],
      "metadata": {
        "id": "RKCOu9qr7uUI"
      },
      "execution_count": null,
      "outputs": []
    },
    {
      "cell_type": "code",
      "source": [
        "plot_confusion_matrix(nb, X_test, y_test, cmap='Blues');"
      ],
      "metadata": {
        "id": "8LUjKXuW70Pp"
      },
      "execution_count": null,
      "outputs": []
    },
    {
      "cell_type": "code",
      "source": [
        "print(f'Acurácia: {accuracy_score(y_test, y_pred_nb)}\\n\\Precisão: {precision_score(y_test, y_pred_nb)}\\n\\\n",
        "      Recall: {recall_score(y_test, y_pred_nb)}')"
      ],
      "metadata": {
        "id": "wtKiF4ov71y7"
      },
      "execution_count": null,
      "outputs": []
    },
    {
      "cell_type": "code",
      "source": [
        "plot_roc_curve(nb, X_test, y_test);"
      ],
      "metadata": {
        "id": "ypWhwGmO73vc"
      },
      "execution_count": null,
      "outputs": []
    },
    {
      "cell_type": "markdown",
      "source": [
        "## Árvore de decisão"
      ],
      "metadata": {
        "id": "e1UHkKjh76Rd"
      }
    },
    {
      "cell_type": "code",
      "source": [
        "from sklearn.tree import DecisionTreeClassifier, plot_tree\n",
        "\n",
        "dtree = DecisionTreeClassifier(max_depth=3)\n",
        "dtree.fit(X_train, y_train)\n",
        "y_pred_dtree = nb.predict(X_test)"
      ],
      "metadata": {
        "id": "8G_pFmri75bP"
      },
      "execution_count": null,
      "outputs": []
    },
    {
      "cell_type": "code",
      "source": [
        "plot_confusion_matrix(dtree, X_test, y_test, cmap='Blues');"
      ],
      "metadata": {
        "id": "Ahr80sZO799a"
      },
      "execution_count": null,
      "outputs": []
    },
    {
      "cell_type": "code",
      "source": [
        "print(f'Acurácia: {accuracy_score(y_test, y_pred_dtree)}\\n\\Precisão: {precision_score(y_test, y_pred_dtree)}\\n\\\n",
        "      Recall: {recall_score(y_test, y_pred_dtree)}')"
      ],
      "metadata": {
        "id": "RmEYzBgo7_ws"
      },
      "execution_count": null,
      "outputs": []
    },
    {
      "cell_type": "code",
      "source": [
        "plot_roc_curve(dtree, X_test, y_test);"
      ],
      "metadata": {
        "id": "EMX9Va9t8BXn"
      },
      "execution_count": null,
      "outputs": []
    },
    {
      "cell_type": "markdown",
      "source": [
        "## Comparando os modelos sem balanceamento:"
      ],
      "metadata": {
        "id": "K1koazJp8JbY"
      }
    },
    {
      "cell_type": "code",
      "source": [
        "classifiers = [lr, svm, knn, nb, dtree]\n",
        "ax = plt.gca()\n",
        "for i in classifiers:\n",
        "    plot_roc_curve(i, X_test, y_test, ax=ax)"
      ],
      "metadata": {
        "id": "IootTHAw8CwC"
      },
      "execution_count": null,
      "outputs": []
    },
    {
      "cell_type": "code",
      "source": [
        ""
      ],
      "metadata": {
        "id": "GD9ayLg48Mk9"
      },
      "execution_count": null,
      "outputs": []
    }
  ],
  "metadata": {
    "colab": {
      "collapsed_sections": [
        "DMgyRZGu6PlZ",
        "_Lo_XHPg6Plb",
        "NbH0xkIM6Pld",
        "TiUhzvcx6Ple",
        "Wg_kxlTX6Ple",
        "i4m-tzqF6Plm",
        "PFFBd_BV6Pln",
        "MybOem3i6Plo",
        "WT5Csp3v6Plr"
      ],
      "name": "Cópia de TERA - Desafio de Classificação.ipynb",
      "provenance": [],
      "include_colab_link": true
    },
    "kernelspec": {
      "display_name": "Python 3 (ipykernel)",
      "language": "python",
      "name": "python3"
    },
    "language_info": {
      "codemirror_mode": {
        "name": "ipython",
        "version": 3
      },
      "file_extension": ".py",
      "mimetype": "text/x-python",
      "name": "python",
      "nbconvert_exporter": "python",
      "pygments_lexer": "ipython3",
      "version": "3.9.7"
    }
  },
  "nbformat": 4,
  "nbformat_minor": 0
}