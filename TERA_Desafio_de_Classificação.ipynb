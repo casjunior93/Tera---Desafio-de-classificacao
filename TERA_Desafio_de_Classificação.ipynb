{
 "cells": [
  {
   "cell_type": "markdown",
   "metadata": {
    "colab_type": "text",
    "id": "view-in-github"
   },
   "source": [
    "<a href=\"https://colab.research.google.com/github/casjunior93/Tera---Desafio-de-classificacao/blob/main/TERA_Desafio_de_Classifica%C3%A7%C3%A3o.ipynb\" target=\"_parent\"><img src=\"https://colab.research.google.com/assets/colab-badge.svg\" alt=\"Open In Colab\"/></a>"
   ]
  },
  {
   "cell_type": "markdown",
   "metadata": {
    "id": "zVRVZ8x1cuiu"
   },
   "source": [
    "# **Desafio de Detecção e Redução de Fraudes no Setor Financeiro**"
   ]
  },
  {
   "cell_type": "markdown",
   "metadata": {
    "id": "6AuXuZcbcw2r"
   },
   "source": [
    "O desafio é propor uma solução para detecção e análise de fraudes que possam reduzir os riscos da empresa de crédito em que trabalho e garantir margens saudáveis.\n",
    "\n",
    "Link do dataset: https://drive.google.com/file/d/1zjK8zQK5zvhR_r2chWI5dCjeOwASlPfb/view"
   ]
  },
  {
   "cell_type": "markdown",
   "metadata": {
    "id": "Wlgu4C3gdjb8"
   },
   "source": [
    "Vou começar importando as bibliotecas iniciais:"
   ]
  },
  {
   "cell_type": "code",
   "execution_count": 1,
   "metadata": {
    "id": "Oabe_59mc_5d"
   },
   "outputs": [],
   "source": [
    "import pandas as pd\n",
    "import warnings\n",
    "warnings.filterwarnings('ignore')"
   ]
  },
  {
   "cell_type": "markdown",
   "metadata": {
    "id": "Nq8UgH0Gdxjz"
   },
   "source": [
    "Agora importo os dados:"
   ]
  },
  {
   "cell_type": "code",
   "execution_count": 2,
   "metadata": {
    "id": "QK9Hi-FyduwV"
   },
   "outputs": [],
   "source": [
    "df = pd.read_csv('./fraud_detection_dataset.csv')"
   ]
  },
  {
   "cell_type": "markdown",
   "metadata": {
    "id": "3yRcT8qaYcRx"
   },
   "source": [
    "Visualizo as dimensões do dataframe:"
   ]
  },
  {
   "cell_type": "code",
   "execution_count": 3,
   "metadata": {
    "colab": {
     "base_uri": "https://localhost:8080/"
    },
    "id": "kitKcSXXYWYi",
    "outputId": "2b105e13-21b1-4b3c-9bd4-ce871e329a28"
   },
   "outputs": [
    {
     "data": {
      "text/plain": [
       "(6362620, 11)"
      ]
     },
     "execution_count": 3,
     "metadata": {},
     "output_type": "execute_result"
    }
   ],
   "source": [
    "df.shape"
   ]
  },
  {
   "cell_type": "markdown",
   "metadata": {
    "id": "E1BpG80oeU91"
   },
   "source": [
    "Vou retornar 10 linhas aleatórias para visualizar o dataframe:"
   ]
  },
  {
   "cell_type": "code",
   "execution_count": 4,
   "metadata": {
    "colab": {
     "base_uri": "https://localhost:8080/",
     "height": 427
    },
    "id": "1ABq7uTAeB-P",
    "outputId": "cecc3032-692a-4801-b83d-c3b837eeea35"
   },
   "outputs": [
    {
     "data": {
      "text/html": [
       "<div>\n",
       "<style scoped>\n",
       "    .dataframe tbody tr th:only-of-type {\n",
       "        vertical-align: middle;\n",
       "    }\n",
       "\n",
       "    .dataframe tbody tr th {\n",
       "        vertical-align: top;\n",
       "    }\n",
       "\n",
       "    .dataframe thead th {\n",
       "        text-align: right;\n",
       "    }\n",
       "</style>\n",
       "<table border=\"1\" class=\"dataframe\">\n",
       "  <thead>\n",
       "    <tr style=\"text-align: right;\">\n",
       "      <th></th>\n",
       "      <th>step</th>\n",
       "      <th>type</th>\n",
       "      <th>amount</th>\n",
       "      <th>nameOrig</th>\n",
       "      <th>oldbalanceOrg</th>\n",
       "      <th>newbalanceOrig</th>\n",
       "      <th>nameDest</th>\n",
       "      <th>oldbalanceDest</th>\n",
       "      <th>newbalanceDest</th>\n",
       "      <th>isFraud</th>\n",
       "      <th>isFlaggedFraud</th>\n",
       "    </tr>\n",
       "  </thead>\n",
       "  <tbody>\n",
       "    <tr>\n",
       "      <th>1397337</th>\n",
       "      <td>139</td>\n",
       "      <td>PAYMENT</td>\n",
       "      <td>10143.99</td>\n",
       "      <td>C821566997</td>\n",
       "      <td>190133.84</td>\n",
       "      <td>179989.85</td>\n",
       "      <td>M1124019745</td>\n",
       "      <td>0.00</td>\n",
       "      <td>0.00</td>\n",
       "      <td>0</td>\n",
       "      <td>0</td>\n",
       "    </tr>\n",
       "    <tr>\n",
       "      <th>701738</th>\n",
       "      <td>37</td>\n",
       "      <td>CASH_OUT</td>\n",
       "      <td>43965.00</td>\n",
       "      <td>C387321567</td>\n",
       "      <td>78782.00</td>\n",
       "      <td>34817.00</td>\n",
       "      <td>C1488105543</td>\n",
       "      <td>0.00</td>\n",
       "      <td>43965.00</td>\n",
       "      <td>0</td>\n",
       "      <td>0</td>\n",
       "    </tr>\n",
       "    <tr>\n",
       "      <th>3436150</th>\n",
       "      <td>256</td>\n",
       "      <td>PAYMENT</td>\n",
       "      <td>9962.10</td>\n",
       "      <td>C1298074283</td>\n",
       "      <td>106236.00</td>\n",
       "      <td>96273.90</td>\n",
       "      <td>M1529370667</td>\n",
       "      <td>0.00</td>\n",
       "      <td>0.00</td>\n",
       "      <td>0</td>\n",
       "      <td>0</td>\n",
       "    </tr>\n",
       "    <tr>\n",
       "      <th>1285518</th>\n",
       "      <td>135</td>\n",
       "      <td>CASH_OUT</td>\n",
       "      <td>301737.55</td>\n",
       "      <td>C1917791518</td>\n",
       "      <td>481559.85</td>\n",
       "      <td>179822.29</td>\n",
       "      <td>C459184199</td>\n",
       "      <td>3779829.23</td>\n",
       "      <td>4081566.78</td>\n",
       "      <td>0</td>\n",
       "      <td>0</td>\n",
       "    </tr>\n",
       "    <tr>\n",
       "      <th>2715775</th>\n",
       "      <td>211</td>\n",
       "      <td>CASH_OUT</td>\n",
       "      <td>39252.81</td>\n",
       "      <td>C1533053630</td>\n",
       "      <td>0.00</td>\n",
       "      <td>0.00</td>\n",
       "      <td>C644072852</td>\n",
       "      <td>56882.69</td>\n",
       "      <td>96135.50</td>\n",
       "      <td>0</td>\n",
       "      <td>0</td>\n",
       "    </tr>\n",
       "    <tr>\n",
       "      <th>5068193</th>\n",
       "      <td>354</td>\n",
       "      <td>CASH_OUT</td>\n",
       "      <td>82158.59</td>\n",
       "      <td>C1285057072</td>\n",
       "      <td>160093.00</td>\n",
       "      <td>77934.41</td>\n",
       "      <td>C1910018633</td>\n",
       "      <td>1314342.90</td>\n",
       "      <td>1396501.49</td>\n",
       "      <td>0</td>\n",
       "      <td>0</td>\n",
       "    </tr>\n",
       "    <tr>\n",
       "      <th>1108634</th>\n",
       "      <td>130</td>\n",
       "      <td>CASH_OUT</td>\n",
       "      <td>435917.25</td>\n",
       "      <td>C2125204177</td>\n",
       "      <td>0.00</td>\n",
       "      <td>0.00</td>\n",
       "      <td>C2103029245</td>\n",
       "      <td>857708.09</td>\n",
       "      <td>956776.37</td>\n",
       "      <td>0</td>\n",
       "      <td>0</td>\n",
       "    </tr>\n",
       "    <tr>\n",
       "      <th>3875211</th>\n",
       "      <td>283</td>\n",
       "      <td>CASH_OUT</td>\n",
       "      <td>69728.73</td>\n",
       "      <td>C676211728</td>\n",
       "      <td>25749.00</td>\n",
       "      <td>0.00</td>\n",
       "      <td>C258972837</td>\n",
       "      <td>383193.82</td>\n",
       "      <td>452922.55</td>\n",
       "      <td>0</td>\n",
       "      <td>0</td>\n",
       "    </tr>\n",
       "    <tr>\n",
       "      <th>4320450</th>\n",
       "      <td>308</td>\n",
       "      <td>PAYMENT</td>\n",
       "      <td>181.65</td>\n",
       "      <td>C848626799</td>\n",
       "      <td>0.00</td>\n",
       "      <td>0.00</td>\n",
       "      <td>M1557449888</td>\n",
       "      <td>0.00</td>\n",
       "      <td>0.00</td>\n",
       "      <td>0</td>\n",
       "      <td>0</td>\n",
       "    </tr>\n",
       "    <tr>\n",
       "      <th>4011461</th>\n",
       "      <td>299</td>\n",
       "      <td>PAYMENT</td>\n",
       "      <td>18480.87</td>\n",
       "      <td>C2098618509</td>\n",
       "      <td>0.00</td>\n",
       "      <td>0.00</td>\n",
       "      <td>M453592445</td>\n",
       "      <td>0.00</td>\n",
       "      <td>0.00</td>\n",
       "      <td>0</td>\n",
       "      <td>0</td>\n",
       "    </tr>\n",
       "  </tbody>\n",
       "</table>\n",
       "</div>"
      ],
      "text/plain": [
       "         step      type     amount     nameOrig  oldbalanceOrg  \\\n",
       "1397337   139   PAYMENT   10143.99   C821566997      190133.84   \n",
       "701738     37  CASH_OUT   43965.00   C387321567       78782.00   \n",
       "3436150   256   PAYMENT    9962.10  C1298074283      106236.00   \n",
       "1285518   135  CASH_OUT  301737.55  C1917791518      481559.85   \n",
       "2715775   211  CASH_OUT   39252.81  C1533053630           0.00   \n",
       "5068193   354  CASH_OUT   82158.59  C1285057072      160093.00   \n",
       "1108634   130  CASH_OUT  435917.25  C2125204177           0.00   \n",
       "3875211   283  CASH_OUT   69728.73   C676211728       25749.00   \n",
       "4320450   308   PAYMENT     181.65   C848626799           0.00   \n",
       "4011461   299   PAYMENT   18480.87  C2098618509           0.00   \n",
       "\n",
       "         newbalanceOrig     nameDest  oldbalanceDest  newbalanceDest  isFraud  \\\n",
       "1397337       179989.85  M1124019745            0.00            0.00        0   \n",
       "701738         34817.00  C1488105543            0.00        43965.00        0   \n",
       "3436150        96273.90  M1529370667            0.00            0.00        0   \n",
       "1285518       179822.29   C459184199      3779829.23      4081566.78        0   \n",
       "2715775            0.00   C644072852        56882.69        96135.50        0   \n",
       "5068193        77934.41  C1910018633      1314342.90      1396501.49        0   \n",
       "1108634            0.00  C2103029245       857708.09       956776.37        0   \n",
       "3875211            0.00   C258972837       383193.82       452922.55        0   \n",
       "4320450            0.00  M1557449888            0.00            0.00        0   \n",
       "4011461            0.00   M453592445            0.00            0.00        0   \n",
       "\n",
       "         isFlaggedFraud  \n",
       "1397337               0  \n",
       "701738                0  \n",
       "3436150               0  \n",
       "1285518               0  \n",
       "2715775               0  \n",
       "5068193               0  \n",
       "1108634               0  \n",
       "3875211               0  \n",
       "4320450               0  \n",
       "4011461               0  "
      ]
     },
     "execution_count": 4,
     "metadata": {},
     "output_type": "execute_result"
    }
   ],
   "source": [
    "df.sample(10)"
   ]
  },
  {
   "cell_type": "markdown",
   "metadata": {
    "id": "aFV46AkEee5O"
   },
   "source": [
    "## Conhecendo as features deste dataset:"
   ]
  },
  {
   "cell_type": "markdown",
   "metadata": {
    "id": "BQVm2kesepRb"
   },
   "source": [
    "* `step` - Passo: representa o total de horas transcorrido desde o início da simulação. Esta feature vai variar entre 1 e 744 (30 dias);\n",
    "\n",
    "* `type` - Tipo: tipo de transação (depósito, saque, débito, pagamento e transferência);\n",
    "\n",
    "* `amount` - Quantia: total que foi transacionado;\n",
    "\n",
    "* `nameOrig` - ClienteOrigem: cliente que iniciou a transação\n",
    "\n",
    "* `oldbalanceOrg` - SaldoInicialOrigem: saldo da conta de origem antes da transação;\n",
    "\n",
    "* `newbalanceOrig` - SaldoFinalOrigem: saldo da conta de origem após a transação;\n",
    "\n",
    "* `nameDest` - ClienteDestino: cliente de destino da transação;\n",
    "\n",
    "* `oldbalanceDest` - SaldoInicialDestino: saldo da conta de destino antes da transação;\n",
    "\n",
    "* `newbalanceDest` - SaldoFinalDestino: saldo da conta de destino após a transação;\n",
    "\n",
    "* `isFraud` - ÉFraude: flag que define se a transação é fraudulenta ou não. Nesta simulação o objetivo da fraude é assumir a conta do usuário, esvaziá-la transferindo para outra conta e então sacando o dinheiro.\n",
    "\n",
    "* `isFlaggedFraud` - SinalizadaComoFraude: automaticamente marcadas pelo banco como fraude por tentarem transferir mais de 200.000 em uma única transação."
   ]
  },
  {
   "cell_type": "markdown",
   "metadata": {
    "id": "VtHX3AuWe7Lt"
   },
   "source": [
    "# Pré-análise dos dados com SeetViz"
   ]
  },
  {
   "cell_type": "markdown",
   "metadata": {
    "id": "PaN7Km6CqJTl"
   },
   "source": [
    "Primeiro vou renomear as tabelas para facilitar a análise."
   ]
  },
  {
   "cell_type": "code",
   "execution_count": 5,
   "metadata": {
    "colab": {
     "base_uri": "https://localhost:8080/",
     "height": 207
    },
    "id": "Jmf8Pu9SqQUZ",
    "outputId": "ab94a29e-7ac7-42d5-c5b5-9a7fb8dff6a0"
   },
   "outputs": [
    {
     "data": {
      "text/html": [
       "<div>\n",
       "<style scoped>\n",
       "    .dataframe tbody tr th:only-of-type {\n",
       "        vertical-align: middle;\n",
       "    }\n",
       "\n",
       "    .dataframe tbody tr th {\n",
       "        vertical-align: top;\n",
       "    }\n",
       "\n",
       "    .dataframe thead th {\n",
       "        text-align: right;\n",
       "    }\n",
       "</style>\n",
       "<table border=\"1\" class=\"dataframe\">\n",
       "  <thead>\n",
       "    <tr style=\"text-align: right;\">\n",
       "      <th></th>\n",
       "      <th>totalHoras</th>\n",
       "      <th>tipoTransacao</th>\n",
       "      <th>quantia</th>\n",
       "      <th>clienteOrigem</th>\n",
       "      <th>saldoInicialOrigem</th>\n",
       "      <th>saldoFinalOrigem</th>\n",
       "      <th>clienteDestino</th>\n",
       "      <th>saldoInicialDestino</th>\n",
       "      <th>saldoFinalDestino</th>\n",
       "      <th>ehFraude</th>\n",
       "      <th>sinalizadaComoFraude</th>\n",
       "    </tr>\n",
       "  </thead>\n",
       "  <tbody>\n",
       "    <tr>\n",
       "      <th>0</th>\n",
       "      <td>1</td>\n",
       "      <td>PAYMENT</td>\n",
       "      <td>9839.64</td>\n",
       "      <td>C1231006815</td>\n",
       "      <td>170136.0</td>\n",
       "      <td>160296.36</td>\n",
       "      <td>M1979787155</td>\n",
       "      <td>0.0</td>\n",
       "      <td>0.0</td>\n",
       "      <td>0</td>\n",
       "      <td>0</td>\n",
       "    </tr>\n",
       "    <tr>\n",
       "      <th>1</th>\n",
       "      <td>1</td>\n",
       "      <td>PAYMENT</td>\n",
       "      <td>1864.28</td>\n",
       "      <td>C1666544295</td>\n",
       "      <td>21249.0</td>\n",
       "      <td>19384.72</td>\n",
       "      <td>M2044282225</td>\n",
       "      <td>0.0</td>\n",
       "      <td>0.0</td>\n",
       "      <td>0</td>\n",
       "      <td>0</td>\n",
       "    </tr>\n",
       "    <tr>\n",
       "      <th>2</th>\n",
       "      <td>1</td>\n",
       "      <td>TRANSFER</td>\n",
       "      <td>181.00</td>\n",
       "      <td>C1305486145</td>\n",
       "      <td>181.0</td>\n",
       "      <td>0.00</td>\n",
       "      <td>C553264065</td>\n",
       "      <td>0.0</td>\n",
       "      <td>0.0</td>\n",
       "      <td>1</td>\n",
       "      <td>0</td>\n",
       "    </tr>\n",
       "  </tbody>\n",
       "</table>\n",
       "</div>"
      ],
      "text/plain": [
       "   totalHoras tipoTransacao  quantia clienteOrigem  saldoInicialOrigem  \\\n",
       "0           1       PAYMENT  9839.64   C1231006815            170136.0   \n",
       "1           1       PAYMENT  1864.28   C1666544295             21249.0   \n",
       "2           1      TRANSFER   181.00   C1305486145               181.0   \n",
       "\n",
       "   saldoFinalOrigem clienteDestino  saldoInicialDestino  saldoFinalDestino  \\\n",
       "0         160296.36    M1979787155                  0.0                0.0   \n",
       "1          19384.72    M2044282225                  0.0                0.0   \n",
       "2              0.00     C553264065                  0.0                0.0   \n",
       "\n",
       "   ehFraude  sinalizadaComoFraude  \n",
       "0         0                     0  \n",
       "1         0                     0  \n",
       "2         1                     0  "
      ]
     },
     "execution_count": 5,
     "metadata": {},
     "output_type": "execute_result"
    }
   ],
   "source": [
    "df = df.rename(\n",
    "    columns={\"step\":\"totalHoras\", \"type\": \"tipoTransacao\", \"amount\": \"quantia\",\n",
    "             \"nameOrig\": \"clienteOrigem\", \"oldbalanceOrg\": \"saldoInicialOrigem\",\n",
    "             \"newbalanceOrig\": \"saldoFinalOrigem\", \"nameDest\": \"clienteDestino\",\n",
    "             \"oldbalanceDest\": \"saldoInicialDestino\", \"newbalanceDest\": \"saldoFinalDestino\",\n",
    "             \"isFraud\": \"ehFraude\", \"isFlaggedFraud\": \"sinalizadaComoFraude\"\n",
    "\n",
    "             })\n",
    "df.head(3)"
   ]
  },
  {
   "cell_type": "markdown",
   "metadata": {
    "id": "OKqsqg7Lt_2o"
   },
   "source": [
    "Agora importo o SweetViz"
   ]
  },
  {
   "cell_type": "code",
   "execution_count": 6,
   "metadata": {
    "colab": {
     "base_uri": "https://localhost:8080/"
    },
    "id": "JQIaOF_Df7kc",
    "outputId": "28eb488a-4594-4bac-cb62-8a0a954b040d"
   },
   "outputs": [],
   "source": [
    "#!pip install sweetviz\n",
    "#import sweetviz"
   ]
  },
  {
   "cell_type": "markdown",
   "metadata": {
    "id": "DHgYnKsfkA33"
   },
   "source": [
    "O SeetViz gera um relatório em HTML com várias informações sobre as features do dataset."
   ]
  },
  {
   "cell_type": "code",
   "execution_count": 7,
   "metadata": {
    "id": "ZvBqlCdZkqj5"
   },
   "outputs": [],
   "source": [
    "#analise=sweetviz.analyze(df)\n",
    "#analise.show_html()"
   ]
  },
  {
   "cell_type": "markdown",
   "metadata": {
    "id": "0x7_zh_wuC9l"
   },
   "source": [
    "Ao analisar o relatório do SweetViz, vi que o dataset tem 3 features categóricas (tipoTransacao, ehFraude e sinalizadaComoFraude), 6 numéricas (totalHoras, quantia, saldoInicialOrigem, saldoFinalOrigem, saldoInicialDestino e saldoFinalDestino) e 2 textuais (clienteOrigem, clienteDestino). Nenhuma feature tem valores faltantes."
   ]
  },
  {
   "cell_type": "markdown",
   "metadata": {
    "id": "LUnvtAZfyCMk"
   },
   "source": [
    "# Tratamento de Dados"
   ]
  },
  {
   "cell_type": "markdown",
   "metadata": {
    "id": "guJ7c7bmyErB"
   },
   "source": [
    "Vou tratar a feature categórica tipoTransacao com o método get_dummies do Pandas."
   ]
  },
  {
   "cell_type": "code",
   "execution_count": 8,
   "metadata": {
    "colab": {
     "base_uri": "https://localhost:8080/"
    },
    "id": "V8Gck2wKyqW0",
    "outputId": "7cbd5ab0-4125-40b8-ecd8-4757b8534c09"
   },
   "outputs": [
    {
     "data": {
      "text/plain": [
       "array(['PAYMENT', 'TRANSFER', 'CASH_OUT', 'DEBIT', 'CASH_IN'],\n",
       "      dtype=object)"
      ]
     },
     "execution_count": 8,
     "metadata": {},
     "output_type": "execute_result"
    }
   ],
   "source": [
    "df.tipoTransacao.unique()"
   ]
  },
  {
   "cell_type": "code",
   "execution_count": 9,
   "metadata": {
    "id": "xONY_P65k3vu"
   },
   "outputs": [],
   "source": [
    "df2 = pd.get_dummies(df.tipoTransacao)"
   ]
  },
  {
   "cell_type": "markdown",
   "metadata": {
    "id": "cUNSU_1xyxcx"
   },
   "source": [
    "A coluna tipoTransacao tem 5 valores únicos. Com o método get_dummies será criado uma coluna em um novo dataframe para cada valor único. Para cada transação, o tipo dessa transação vai receber o valor 1."
   ]
  },
  {
   "cell_type": "code",
   "execution_count": 10,
   "metadata": {
    "colab": {
     "base_uri": "https://localhost:8080/",
     "height": 206
    },
    "id": "_BPdGXb_wAAG",
    "outputId": "fc73ffc4-5efd-46cb-86d9-05ac98d8c10e"
   },
   "outputs": [
    {
     "data": {
      "text/html": [
       "<div>\n",
       "<style scoped>\n",
       "    .dataframe tbody tr th:only-of-type {\n",
       "        vertical-align: middle;\n",
       "    }\n",
       "\n",
       "    .dataframe tbody tr th {\n",
       "        vertical-align: top;\n",
       "    }\n",
       "\n",
       "    .dataframe thead th {\n",
       "        text-align: right;\n",
       "    }\n",
       "</style>\n",
       "<table border=\"1\" class=\"dataframe\">\n",
       "  <thead>\n",
       "    <tr style=\"text-align: right;\">\n",
       "      <th></th>\n",
       "      <th>CASH_IN</th>\n",
       "      <th>CASH_OUT</th>\n",
       "      <th>DEBIT</th>\n",
       "      <th>PAYMENT</th>\n",
       "      <th>TRANSFER</th>\n",
       "    </tr>\n",
       "  </thead>\n",
       "  <tbody>\n",
       "    <tr>\n",
       "      <th>0</th>\n",
       "      <td>0</td>\n",
       "      <td>0</td>\n",
       "      <td>0</td>\n",
       "      <td>1</td>\n",
       "      <td>0</td>\n",
       "    </tr>\n",
       "    <tr>\n",
       "      <th>1</th>\n",
       "      <td>0</td>\n",
       "      <td>0</td>\n",
       "      <td>0</td>\n",
       "      <td>1</td>\n",
       "      <td>0</td>\n",
       "    </tr>\n",
       "    <tr>\n",
       "      <th>2</th>\n",
       "      <td>0</td>\n",
       "      <td>0</td>\n",
       "      <td>0</td>\n",
       "      <td>0</td>\n",
       "      <td>1</td>\n",
       "    </tr>\n",
       "    <tr>\n",
       "      <th>3</th>\n",
       "      <td>0</td>\n",
       "      <td>1</td>\n",
       "      <td>0</td>\n",
       "      <td>0</td>\n",
       "      <td>0</td>\n",
       "    </tr>\n",
       "    <tr>\n",
       "      <th>4</th>\n",
       "      <td>0</td>\n",
       "      <td>0</td>\n",
       "      <td>0</td>\n",
       "      <td>1</td>\n",
       "      <td>0</td>\n",
       "    </tr>\n",
       "  </tbody>\n",
       "</table>\n",
       "</div>"
      ],
      "text/plain": [
       "   CASH_IN  CASH_OUT  DEBIT  PAYMENT  TRANSFER\n",
       "0        0         0      0        1         0\n",
       "1        0         0      0        1         0\n",
       "2        0         0      0        0         1\n",
       "3        0         1      0        0         0\n",
       "4        0         0      0        1         0"
      ]
     },
     "execution_count": 10,
     "metadata": {},
     "output_type": "execute_result"
    }
   ],
   "source": [
    "df2.head()"
   ]
  },
  {
   "cell_type": "markdown",
   "metadata": {
    "id": "PdOJs5RAzrGs"
   },
   "source": [
    "Agora concateno o df2 com o dataframe original df."
   ]
  },
  {
   "cell_type": "code",
   "execution_count": 11,
   "metadata": {
    "colab": {
     "base_uri": "https://localhost:8080/",
     "height": 427
    },
    "id": "fXLbwuoQzmgl",
    "outputId": "3cc5f5f3-e5fe-4708-d9ad-b9c5eb231b20"
   },
   "outputs": [
    {
     "data": {
      "text/html": [
       "<div>\n",
       "<style scoped>\n",
       "    .dataframe tbody tr th:only-of-type {\n",
       "        vertical-align: middle;\n",
       "    }\n",
       "\n",
       "    .dataframe tbody tr th {\n",
       "        vertical-align: top;\n",
       "    }\n",
       "\n",
       "    .dataframe thead th {\n",
       "        text-align: right;\n",
       "    }\n",
       "</style>\n",
       "<table border=\"1\" class=\"dataframe\">\n",
       "  <thead>\n",
       "    <tr style=\"text-align: right;\">\n",
       "      <th></th>\n",
       "      <th>totalHoras</th>\n",
       "      <th>tipoTransacao</th>\n",
       "      <th>quantia</th>\n",
       "      <th>clienteOrigem</th>\n",
       "      <th>saldoInicialOrigem</th>\n",
       "      <th>saldoFinalOrigem</th>\n",
       "      <th>clienteDestino</th>\n",
       "      <th>saldoInicialDestino</th>\n",
       "      <th>saldoFinalDestino</th>\n",
       "      <th>ehFraude</th>\n",
       "      <th>sinalizadaComoFraude</th>\n",
       "      <th>CASH_IN</th>\n",
       "      <th>CASH_OUT</th>\n",
       "      <th>DEBIT</th>\n",
       "      <th>PAYMENT</th>\n",
       "      <th>TRANSFER</th>\n",
       "    </tr>\n",
       "  </thead>\n",
       "  <tbody>\n",
       "    <tr>\n",
       "      <th>5957207</th>\n",
       "      <td>405</td>\n",
       "      <td>PAYMENT</td>\n",
       "      <td>46166.51</td>\n",
       "      <td>C795805676</td>\n",
       "      <td>0.00</td>\n",
       "      <td>0.00</td>\n",
       "      <td>M556184646</td>\n",
       "      <td>0.00</td>\n",
       "      <td>0.00</td>\n",
       "      <td>0</td>\n",
       "      <td>0</td>\n",
       "      <td>0</td>\n",
       "      <td>0</td>\n",
       "      <td>0</td>\n",
       "      <td>1</td>\n",
       "      <td>0</td>\n",
       "    </tr>\n",
       "    <tr>\n",
       "      <th>5320634</th>\n",
       "      <td>374</td>\n",
       "      <td>CASH_OUT</td>\n",
       "      <td>250695.59</td>\n",
       "      <td>C660968590</td>\n",
       "      <td>12529.00</td>\n",
       "      <td>0.00</td>\n",
       "      <td>C2125844132</td>\n",
       "      <td>919354.88</td>\n",
       "      <td>1170050.48</td>\n",
       "      <td>0</td>\n",
       "      <td>0</td>\n",
       "      <td>0</td>\n",
       "      <td>1</td>\n",
       "      <td>0</td>\n",
       "      <td>0</td>\n",
       "      <td>0</td>\n",
       "    </tr>\n",
       "    <tr>\n",
       "      <th>4109754</th>\n",
       "      <td>302</td>\n",
       "      <td>CASH_IN</td>\n",
       "      <td>330633.11</td>\n",
       "      <td>C1354813689</td>\n",
       "      <td>2103314.95</td>\n",
       "      <td>2433948.05</td>\n",
       "      <td>C679506522</td>\n",
       "      <td>1916102.50</td>\n",
       "      <td>1585469.39</td>\n",
       "      <td>0</td>\n",
       "      <td>0</td>\n",
       "      <td>1</td>\n",
       "      <td>0</td>\n",
       "      <td>0</td>\n",
       "      <td>0</td>\n",
       "      <td>0</td>\n",
       "    </tr>\n",
       "    <tr>\n",
       "      <th>6093761</th>\n",
       "      <td>522</td>\n",
       "      <td>CASH_OUT</td>\n",
       "      <td>11250.20</td>\n",
       "      <td>C485988686</td>\n",
       "      <td>1564.00</td>\n",
       "      <td>0.00</td>\n",
       "      <td>C1385655501</td>\n",
       "      <td>0.00</td>\n",
       "      <td>11250.20</td>\n",
       "      <td>0</td>\n",
       "      <td>0</td>\n",
       "      <td>0</td>\n",
       "      <td>1</td>\n",
       "      <td>0</td>\n",
       "      <td>0</td>\n",
       "      <td>0</td>\n",
       "    </tr>\n",
       "    <tr>\n",
       "      <th>3608662</th>\n",
       "      <td>265</td>\n",
       "      <td>TRANSFER</td>\n",
       "      <td>506100.96</td>\n",
       "      <td>C1078396594</td>\n",
       "      <td>24799.48</td>\n",
       "      <td>0.00</td>\n",
       "      <td>C244625639</td>\n",
       "      <td>2349726.37</td>\n",
       "      <td>2855827.32</td>\n",
       "      <td>0</td>\n",
       "      <td>0</td>\n",
       "      <td>0</td>\n",
       "      <td>0</td>\n",
       "      <td>0</td>\n",
       "      <td>0</td>\n",
       "      <td>1</td>\n",
       "    </tr>\n",
       "    <tr>\n",
       "      <th>2337248</th>\n",
       "      <td>189</td>\n",
       "      <td>CASH_OUT</td>\n",
       "      <td>186112.07</td>\n",
       "      <td>C1303184482</td>\n",
       "      <td>0.00</td>\n",
       "      <td>0.00</td>\n",
       "      <td>C1378734258</td>\n",
       "      <td>806057.54</td>\n",
       "      <td>992169.61</td>\n",
       "      <td>0</td>\n",
       "      <td>0</td>\n",
       "      <td>0</td>\n",
       "      <td>1</td>\n",
       "      <td>0</td>\n",
       "      <td>0</td>\n",
       "      <td>0</td>\n",
       "    </tr>\n",
       "    <tr>\n",
       "      <th>1282775</th>\n",
       "      <td>135</td>\n",
       "      <td>CASH_OUT</td>\n",
       "      <td>486833.93</td>\n",
       "      <td>C1586060502</td>\n",
       "      <td>5556.00</td>\n",
       "      <td>0.00</td>\n",
       "      <td>C250266041</td>\n",
       "      <td>4524.31</td>\n",
       "      <td>491358.25</td>\n",
       "      <td>0</td>\n",
       "      <td>0</td>\n",
       "      <td>0</td>\n",
       "      <td>1</td>\n",
       "      <td>0</td>\n",
       "      <td>0</td>\n",
       "      <td>0</td>\n",
       "    </tr>\n",
       "    <tr>\n",
       "      <th>2925001</th>\n",
       "      <td>229</td>\n",
       "      <td>CASH_OUT</td>\n",
       "      <td>140108.26</td>\n",
       "      <td>C57261458</td>\n",
       "      <td>0.00</td>\n",
       "      <td>0.00</td>\n",
       "      <td>C1809709987</td>\n",
       "      <td>736753.22</td>\n",
       "      <td>876861.47</td>\n",
       "      <td>0</td>\n",
       "      <td>0</td>\n",
       "      <td>0</td>\n",
       "      <td>1</td>\n",
       "      <td>0</td>\n",
       "      <td>0</td>\n",
       "      <td>0</td>\n",
       "    </tr>\n",
       "    <tr>\n",
       "      <th>4345252</th>\n",
       "      <td>308</td>\n",
       "      <td>CASH_IN</td>\n",
       "      <td>1494.38</td>\n",
       "      <td>C186964807</td>\n",
       "      <td>12717.00</td>\n",
       "      <td>14211.38</td>\n",
       "      <td>C464905636</td>\n",
       "      <td>406531.80</td>\n",
       "      <td>405037.42</td>\n",
       "      <td>0</td>\n",
       "      <td>0</td>\n",
       "      <td>1</td>\n",
       "      <td>0</td>\n",
       "      <td>0</td>\n",
       "      <td>0</td>\n",
       "      <td>0</td>\n",
       "    </tr>\n",
       "    <tr>\n",
       "      <th>225302</th>\n",
       "      <td>14</td>\n",
       "      <td>CASH_OUT</td>\n",
       "      <td>255490.61</td>\n",
       "      <td>C927774494</td>\n",
       "      <td>12214.00</td>\n",
       "      <td>0.00</td>\n",
       "      <td>C2087524386</td>\n",
       "      <td>0.00</td>\n",
       "      <td>255490.61</td>\n",
       "      <td>0</td>\n",
       "      <td>0</td>\n",
       "      <td>0</td>\n",
       "      <td>1</td>\n",
       "      <td>0</td>\n",
       "      <td>0</td>\n",
       "      <td>0</td>\n",
       "    </tr>\n",
       "  </tbody>\n",
       "</table>\n",
       "</div>"
      ],
      "text/plain": [
       "         totalHoras tipoTransacao    quantia clienteOrigem  \\\n",
       "5957207         405       PAYMENT   46166.51    C795805676   \n",
       "5320634         374      CASH_OUT  250695.59    C660968590   \n",
       "4109754         302       CASH_IN  330633.11   C1354813689   \n",
       "6093761         522      CASH_OUT   11250.20    C485988686   \n",
       "3608662         265      TRANSFER  506100.96   C1078396594   \n",
       "2337248         189      CASH_OUT  186112.07   C1303184482   \n",
       "1282775         135      CASH_OUT  486833.93   C1586060502   \n",
       "2925001         229      CASH_OUT  140108.26     C57261458   \n",
       "4345252         308       CASH_IN    1494.38    C186964807   \n",
       "225302           14      CASH_OUT  255490.61    C927774494   \n",
       "\n",
       "         saldoInicialOrigem  saldoFinalOrigem clienteDestino  \\\n",
       "5957207                0.00              0.00     M556184646   \n",
       "5320634            12529.00              0.00    C2125844132   \n",
       "4109754          2103314.95        2433948.05     C679506522   \n",
       "6093761             1564.00              0.00    C1385655501   \n",
       "3608662            24799.48              0.00     C244625639   \n",
       "2337248                0.00              0.00    C1378734258   \n",
       "1282775             5556.00              0.00     C250266041   \n",
       "2925001                0.00              0.00    C1809709987   \n",
       "4345252            12717.00          14211.38     C464905636   \n",
       "225302             12214.00              0.00    C2087524386   \n",
       "\n",
       "         saldoInicialDestino  saldoFinalDestino  ehFraude  \\\n",
       "5957207                 0.00               0.00         0   \n",
       "5320634            919354.88         1170050.48         0   \n",
       "4109754           1916102.50         1585469.39         0   \n",
       "6093761                 0.00           11250.20         0   \n",
       "3608662           2349726.37         2855827.32         0   \n",
       "2337248            806057.54          992169.61         0   \n",
       "1282775              4524.31          491358.25         0   \n",
       "2925001            736753.22          876861.47         0   \n",
       "4345252            406531.80          405037.42         0   \n",
       "225302                  0.00          255490.61         0   \n",
       "\n",
       "         sinalizadaComoFraude  CASH_IN  CASH_OUT  DEBIT  PAYMENT  TRANSFER  \n",
       "5957207                     0        0         0      0        1         0  \n",
       "5320634                     0        0         1      0        0         0  \n",
       "4109754                     0        1         0      0        0         0  \n",
       "6093761                     0        0         1      0        0         0  \n",
       "3608662                     0        0         0      0        0         1  \n",
       "2337248                     0        0         1      0        0         0  \n",
       "1282775                     0        0         1      0        0         0  \n",
       "2925001                     0        0         1      0        0         0  \n",
       "4345252                     0        1         0      0        0         0  \n",
       "225302                      0        0         1      0        0         0  "
      ]
     },
     "execution_count": 11,
     "metadata": {},
     "output_type": "execute_result"
    }
   ],
   "source": [
    "df3 = pd.concat([df, df2], axis='columns')\n",
    "df3.sample(10)"
   ]
  },
  {
   "cell_type": "markdown",
   "metadata": {
    "id": "M1BLzMxI1g6y"
   },
   "source": [
    "Agora vou dropar a coluna tipoTransacao."
   ]
  },
  {
   "cell_type": "code",
   "execution_count": 12,
   "metadata": {
    "colab": {
     "base_uri": "https://localhost:8080/",
     "height": 207
    },
    "id": "9FWmgLJRz8cq",
    "outputId": "60a3ec8b-b10f-4eab-d3b9-d558675e67eb"
   },
   "outputs": [
    {
     "data": {
      "text/html": [
       "<div>\n",
       "<style scoped>\n",
       "    .dataframe tbody tr th:only-of-type {\n",
       "        vertical-align: middle;\n",
       "    }\n",
       "\n",
       "    .dataframe tbody tr th {\n",
       "        vertical-align: top;\n",
       "    }\n",
       "\n",
       "    .dataframe thead th {\n",
       "        text-align: right;\n",
       "    }\n",
       "</style>\n",
       "<table border=\"1\" class=\"dataframe\">\n",
       "  <thead>\n",
       "    <tr style=\"text-align: right;\">\n",
       "      <th></th>\n",
       "      <th>totalHoras</th>\n",
       "      <th>quantia</th>\n",
       "      <th>clienteOrigem</th>\n",
       "      <th>saldoInicialOrigem</th>\n",
       "      <th>saldoFinalOrigem</th>\n",
       "      <th>clienteDestino</th>\n",
       "      <th>saldoInicialDestino</th>\n",
       "      <th>saldoFinalDestino</th>\n",
       "      <th>ehFraude</th>\n",
       "      <th>sinalizadaComoFraude</th>\n",
       "      <th>CASH_IN</th>\n",
       "      <th>CASH_OUT</th>\n",
       "      <th>DEBIT</th>\n",
       "      <th>PAYMENT</th>\n",
       "      <th>TRANSFER</th>\n",
       "    </tr>\n",
       "  </thead>\n",
       "  <tbody>\n",
       "    <tr>\n",
       "      <th>1784668</th>\n",
       "      <td>162</td>\n",
       "      <td>17689.07</td>\n",
       "      <td>C297583221</td>\n",
       "      <td>275936.18</td>\n",
       "      <td>258247.11</td>\n",
       "      <td>M1811267228</td>\n",
       "      <td>0.00</td>\n",
       "      <td>0.00</td>\n",
       "      <td>0</td>\n",
       "      <td>0</td>\n",
       "      <td>0</td>\n",
       "      <td>0</td>\n",
       "      <td>0</td>\n",
       "      <td>1</td>\n",
       "      <td>0</td>\n",
       "    </tr>\n",
       "    <tr>\n",
       "      <th>4605415</th>\n",
       "      <td>329</td>\n",
       "      <td>229300.19</td>\n",
       "      <td>C988517906</td>\n",
       "      <td>136.00</td>\n",
       "      <td>0.00</td>\n",
       "      <td>C1498893177</td>\n",
       "      <td>0.00</td>\n",
       "      <td>229300.19</td>\n",
       "      <td>0</td>\n",
       "      <td>0</td>\n",
       "      <td>0</td>\n",
       "      <td>1</td>\n",
       "      <td>0</td>\n",
       "      <td>0</td>\n",
       "      <td>0</td>\n",
       "    </tr>\n",
       "    <tr>\n",
       "      <th>4446239</th>\n",
       "      <td>323</td>\n",
       "      <td>207763.20</td>\n",
       "      <td>C414206865</td>\n",
       "      <td>2251619.33</td>\n",
       "      <td>2459382.53</td>\n",
       "      <td>C14132216</td>\n",
       "      <td>553844.61</td>\n",
       "      <td>346081.41</td>\n",
       "      <td>0</td>\n",
       "      <td>0</td>\n",
       "      <td>1</td>\n",
       "      <td>0</td>\n",
       "      <td>0</td>\n",
       "      <td>0</td>\n",
       "      <td>0</td>\n",
       "    </tr>\n",
       "  </tbody>\n",
       "</table>\n",
       "</div>"
      ],
      "text/plain": [
       "         totalHoras    quantia clienteOrigem  saldoInicialOrigem  \\\n",
       "1784668         162   17689.07    C297583221           275936.18   \n",
       "4605415         329  229300.19    C988517906              136.00   \n",
       "4446239         323  207763.20    C414206865          2251619.33   \n",
       "\n",
       "         saldoFinalOrigem clienteDestino  saldoInicialDestino  \\\n",
       "1784668         258247.11    M1811267228                 0.00   \n",
       "4605415              0.00    C1498893177                 0.00   \n",
       "4446239        2459382.53      C14132216            553844.61   \n",
       "\n",
       "         saldoFinalDestino  ehFraude  sinalizadaComoFraude  CASH_IN  CASH_OUT  \\\n",
       "1784668               0.00         0                     0        0         0   \n",
       "4605415          229300.19         0                     0        0         1   \n",
       "4446239          346081.41         0                     0        1         0   \n",
       "\n",
       "         DEBIT  PAYMENT  TRANSFER  \n",
       "1784668      0        1         0  \n",
       "4605415      0        0         0  \n",
       "4446239      0        0         0  "
      ]
     },
     "execution_count": 12,
     "metadata": {},
     "output_type": "execute_result"
    }
   ],
   "source": [
    "df3.drop('tipoTransacao', axis='columns', inplace=True)\n",
    "df3.sample(3)"
   ]
  },
  {
   "cell_type": "markdown",
   "metadata": {
    "id": "-Mg-2Yu8gJU7"
   },
   "source": [
    "E renomear as novas colunas"
   ]
  },
  {
   "cell_type": "code",
   "execution_count": 13,
   "metadata": {
    "colab": {
     "base_uri": "https://localhost:8080/",
     "height": 207
    },
    "id": "gVWt7vILgH2b",
    "outputId": "33bc5f8f-8839-4f4c-cf2c-e360f718d17f",
    "scrolled": false
   },
   "outputs": [
    {
     "data": {
      "text/html": [
       "<div>\n",
       "<style scoped>\n",
       "    .dataframe tbody tr th:only-of-type {\n",
       "        vertical-align: middle;\n",
       "    }\n",
       "\n",
       "    .dataframe tbody tr th {\n",
       "        vertical-align: top;\n",
       "    }\n",
       "\n",
       "    .dataframe thead th {\n",
       "        text-align: right;\n",
       "    }\n",
       "</style>\n",
       "<table border=\"1\" class=\"dataframe\">\n",
       "  <thead>\n",
       "    <tr style=\"text-align: right;\">\n",
       "      <th></th>\n",
       "      <th>totalHoras</th>\n",
       "      <th>quantia</th>\n",
       "      <th>clienteOrigem</th>\n",
       "      <th>saldoInicialOrigem</th>\n",
       "      <th>saldoFinalOrigem</th>\n",
       "      <th>clienteDestino</th>\n",
       "      <th>saldoInicialDestino</th>\n",
       "      <th>saldoFinalDestino</th>\n",
       "      <th>ehFraude</th>\n",
       "      <th>sinalizadaComoFraude</th>\n",
       "      <th>deposito</th>\n",
       "      <th>saque</th>\n",
       "      <th>debito</th>\n",
       "      <th>pagamento</th>\n",
       "      <th>transferencia</th>\n",
       "    </tr>\n",
       "  </thead>\n",
       "  <tbody>\n",
       "    <tr>\n",
       "      <th>0</th>\n",
       "      <td>1</td>\n",
       "      <td>9839.64</td>\n",
       "      <td>C1231006815</td>\n",
       "      <td>170136.0</td>\n",
       "      <td>160296.36</td>\n",
       "      <td>M1979787155</td>\n",
       "      <td>0.0</td>\n",
       "      <td>0.0</td>\n",
       "      <td>0</td>\n",
       "      <td>0</td>\n",
       "      <td>0</td>\n",
       "      <td>0</td>\n",
       "      <td>0</td>\n",
       "      <td>1</td>\n",
       "      <td>0</td>\n",
       "    </tr>\n",
       "    <tr>\n",
       "      <th>1</th>\n",
       "      <td>1</td>\n",
       "      <td>1864.28</td>\n",
       "      <td>C1666544295</td>\n",
       "      <td>21249.0</td>\n",
       "      <td>19384.72</td>\n",
       "      <td>M2044282225</td>\n",
       "      <td>0.0</td>\n",
       "      <td>0.0</td>\n",
       "      <td>0</td>\n",
       "      <td>0</td>\n",
       "      <td>0</td>\n",
       "      <td>0</td>\n",
       "      <td>0</td>\n",
       "      <td>1</td>\n",
       "      <td>0</td>\n",
       "    </tr>\n",
       "    <tr>\n",
       "      <th>2</th>\n",
       "      <td>1</td>\n",
       "      <td>181.00</td>\n",
       "      <td>C1305486145</td>\n",
       "      <td>181.0</td>\n",
       "      <td>0.00</td>\n",
       "      <td>C553264065</td>\n",
       "      <td>0.0</td>\n",
       "      <td>0.0</td>\n",
       "      <td>1</td>\n",
       "      <td>0</td>\n",
       "      <td>0</td>\n",
       "      <td>0</td>\n",
       "      <td>0</td>\n",
       "      <td>0</td>\n",
       "      <td>1</td>\n",
       "    </tr>\n",
       "  </tbody>\n",
       "</table>\n",
       "</div>"
      ],
      "text/plain": [
       "   totalHoras  quantia clienteOrigem  saldoInicialOrigem  saldoFinalOrigem  \\\n",
       "0           1  9839.64   C1231006815            170136.0         160296.36   \n",
       "1           1  1864.28   C1666544295             21249.0          19384.72   \n",
       "2           1   181.00   C1305486145               181.0              0.00   \n",
       "\n",
       "  clienteDestino  saldoInicialDestino  saldoFinalDestino  ehFraude  \\\n",
       "0    M1979787155                  0.0                0.0         0   \n",
       "1    M2044282225                  0.0                0.0         0   \n",
       "2     C553264065                  0.0                0.0         1   \n",
       "\n",
       "   sinalizadaComoFraude  deposito  saque  debito  pagamento  transferencia  \n",
       "0                     0         0      0       0          1              0  \n",
       "1                     0         0      0       0          1              0  \n",
       "2                     0         0      0       0          0              1  "
      ]
     },
     "execution_count": 13,
     "metadata": {},
     "output_type": "execute_result"
    }
   ],
   "source": [
    "df3 = df3.rename(\n",
    "    columns={\"CASH_IN\":\"deposito\", \"CASH_OUT\": \"saque\", \"DEBIT\": \"debito\",\n",
    "             \"PAYMENT\": \"pagamento\", \"TRANSFER\": \"transferencia\",\n",
    "             })\n",
    "df3.head(3)"
   ]
  },
  {
   "cell_type": "markdown",
   "metadata": {},
   "source": [
    "Criando uma nova coluna. Percebi que na metade das transações marcadas como fraude, o valor de saldoFinalOrigem acaba ficando menor que o valor de saldoFinalDestino."
   ]
  },
  {
   "cell_type": "code",
   "execution_count": 14,
   "metadata": {},
   "outputs": [
    {
     "name": "stdout",
     "output_type": "stream",
     "text": [
      "(Soma das fraudes: 8213)\n",
      "Soma das fraudes onde o saldoFinalDestino é maior que saldoFinalOrigem: 4122\n"
     ]
    }
   ],
   "source": [
    "print(f'(Soma das fraudes: {df3.ehFraude.loc[df3.ehFraude == 1].count()})')\n",
    "print(f'Soma das fraudes onde o saldoFinalDestino é maior que saldoFinalOrigem: {df3.ehFraude.loc[(df3.saldoFinalDestino > df3.saldoFinalOrigem) & df3.ehFraude == 1].count()}')"
   ]
  },
  {
   "cell_type": "code",
   "execution_count": 15,
   "metadata": {},
   "outputs": [],
   "source": [
    "df3['saldoFinalDestinoMenosSaldoFinalOrigem'] = df3['saldoFinalDestino'] - df3['saldoFinalOrigem']"
   ]
  },
  {
   "cell_type": "markdown",
   "metadata": {},
   "source": [
    "Criando outra nova coluna com o número de transações que o clienteOrigem iniciou no período e outra com o número de transações que um clienteDestino pode ter participado."
   ]
  },
  {
   "cell_type": "code",
   "execution_count": 16,
   "metadata": {},
   "outputs": [],
   "source": [
    "clienteOrigemNP = df3.clienteOrigem.to_numpy()\n",
    "clienteDestinoNP = df3.clienteDestino.to_numpy()"
   ]
  },
  {
   "cell_type": "code",
   "execution_count": 17,
   "metadata": {},
   "outputs": [],
   "source": [
    "from collections import Counter"
   ]
  },
  {
   "cell_type": "code",
   "execution_count": 18,
   "metadata": {},
   "outputs": [],
   "source": [
    "contadorCO = Counter(clienteOrigemNP)\n",
    "contadorCD = Counter(clienteDestinoNP)"
   ]
  },
  {
   "cell_type": "code",
   "execution_count": 34,
   "metadata": {},
   "outputs": [
    {
     "data": {
      "text/html": [
       "<div>\n",
       "<style scoped>\n",
       "    .dataframe tbody tr th:only-of-type {\n",
       "        vertical-align: middle;\n",
       "    }\n",
       "\n",
       "    .dataframe tbody tr th {\n",
       "        vertical-align: top;\n",
       "    }\n",
       "\n",
       "    .dataframe thead th {\n",
       "        text-align: right;\n",
       "    }\n",
       "</style>\n",
       "<table border=\"1\" class=\"dataframe\">\n",
       "  <thead>\n",
       "    <tr style=\"text-align: right;\">\n",
       "      <th></th>\n",
       "      <th>contador</th>\n",
       "    </tr>\n",
       "    <tr>\n",
       "      <th>index</th>\n",
       "      <th></th>\n",
       "    </tr>\n",
       "  </thead>\n",
       "  <tbody>\n",
       "    <tr>\n",
       "      <th>C1231006815</th>\n",
       "      <td>1</td>\n",
       "    </tr>\n",
       "    <tr>\n",
       "      <th>C1666544295</th>\n",
       "      <td>1</td>\n",
       "    </tr>\n",
       "    <tr>\n",
       "      <th>C1305486145</th>\n",
       "      <td>1</td>\n",
       "    </tr>\n",
       "    <tr>\n",
       "      <th>C840083671</th>\n",
       "      <td>1</td>\n",
       "    </tr>\n",
       "    <tr>\n",
       "      <th>C2048537720</th>\n",
       "      <td>1</td>\n",
       "    </tr>\n",
       "    <tr>\n",
       "      <th>C90045638</th>\n",
       "      <td>1</td>\n",
       "    </tr>\n",
       "    <tr>\n",
       "      <th>C154988899</th>\n",
       "      <td>1</td>\n",
       "    </tr>\n",
       "    <tr>\n",
       "      <th>C1912850431</th>\n",
       "      <td>1</td>\n",
       "    </tr>\n",
       "    <tr>\n",
       "      <th>C1265012928</th>\n",
       "      <td>1</td>\n",
       "    </tr>\n",
       "    <tr>\n",
       "      <th>C712410124</th>\n",
       "      <td>1</td>\n",
       "    </tr>\n",
       "  </tbody>\n",
       "</table>\n",
       "</div>"
      ],
      "text/plain": [
       "             contador\n",
       "index                \n",
       "C1231006815         1\n",
       "C1666544295         1\n",
       "C1305486145         1\n",
       "C840083671          1\n",
       "C2048537720         1\n",
       "C90045638           1\n",
       "C154988899          1\n",
       "C1912850431         1\n",
       "C1265012928         1\n",
       "C712410124          1"
      ]
     },
     "execution_count": 34,
     "metadata": {},
     "output_type": "execute_result"
    }
   ],
   "source": [
    "df_contadorCO = pd.DataFrame.from_dict(contadorCO, orient='index').reset_index()\n",
    "df_contadorCO = df_contadorCO.rename(columns={ 0:'contador'})\n",
    "df_contadorCO.set_index('index',inplace=True)\n",
    "df_contadorCO.head(10)"
   ]
  },
  {
   "cell_type": "code",
   "execution_count": 33,
   "metadata": {},
   "outputs": [
    {
     "data": {
      "text/html": [
       "<div>\n",
       "<style scoped>\n",
       "    .dataframe tbody tr th:only-of-type {\n",
       "        vertical-align: middle;\n",
       "    }\n",
       "\n",
       "    .dataframe tbody tr th {\n",
       "        vertical-align: top;\n",
       "    }\n",
       "\n",
       "    .dataframe thead th {\n",
       "        text-align: right;\n",
       "    }\n",
       "</style>\n",
       "<table border=\"1\" class=\"dataframe\">\n",
       "  <thead>\n",
       "    <tr style=\"text-align: right;\">\n",
       "      <th></th>\n",
       "      <th>contador</th>\n",
       "    </tr>\n",
       "    <tr>\n",
       "      <th>index</th>\n",
       "      <th></th>\n",
       "    </tr>\n",
       "  </thead>\n",
       "  <tbody>\n",
       "    <tr>\n",
       "      <th>M1979787155</th>\n",
       "      <td>1</td>\n",
       "    </tr>\n",
       "    <tr>\n",
       "      <th>M2044282225</th>\n",
       "      <td>1</td>\n",
       "    </tr>\n",
       "    <tr>\n",
       "      <th>C553264065</th>\n",
       "      <td>44</td>\n",
       "    </tr>\n",
       "    <tr>\n",
       "      <th>C38997010</th>\n",
       "      <td>41</td>\n",
       "    </tr>\n",
       "    <tr>\n",
       "      <th>M1230701703</th>\n",
       "      <td>1</td>\n",
       "    </tr>\n",
       "    <tr>\n",
       "      <th>M573487274</th>\n",
       "      <td>1</td>\n",
       "    </tr>\n",
       "    <tr>\n",
       "      <th>M408069119</th>\n",
       "      <td>1</td>\n",
       "    </tr>\n",
       "    <tr>\n",
       "      <th>M633326333</th>\n",
       "      <td>1</td>\n",
       "    </tr>\n",
       "    <tr>\n",
       "      <th>M1176932104</th>\n",
       "      <td>1</td>\n",
       "    </tr>\n",
       "    <tr>\n",
       "      <th>C195600860</th>\n",
       "      <td>34</td>\n",
       "    </tr>\n",
       "  </tbody>\n",
       "</table>\n",
       "</div>"
      ],
      "text/plain": [
       "             contador\n",
       "index                \n",
       "M1979787155         1\n",
       "M2044282225         1\n",
       "C553264065         44\n",
       "C38997010          41\n",
       "M1230701703         1\n",
       "M573487274          1\n",
       "M408069119          1\n",
       "M633326333          1\n",
       "M1176932104         1\n",
       "C195600860         34"
      ]
     },
     "execution_count": 33,
     "metadata": {},
     "output_type": "execute_result"
    }
   ],
   "source": [
    "df_contadorCD = pd.DataFrame.from_dict(contadorCD, orient='index').reset_index()\n",
    "df_contadorCD = df_contadorCD.rename(columns={0:'contador'})\n",
    "df_contadorCD.set_index('index',inplace=True)\n",
    "df_contadorCD.head(10)"
   ]
  },
  {
   "cell_type": "code",
   "execution_count": 21,
   "metadata": {},
   "outputs": [
    {
     "name": "stdout",
     "output_type": "stream",
     "text": [
      "1\n",
      "44\n"
     ]
    }
   ],
   "source": [
    "print(contadorCO['C1305486145'])\n",
    "print(contadorCD['C553264065'])"
   ]
  },
  {
   "cell_type": "code",
   "execution_count": 22,
   "metadata": {},
   "outputs": [],
   "source": [
    "def retorna_transacoes_por_periodo_cliente_origem(df):\n",
    "    return contadorCO[df.clienteOrigem]"
   ]
  },
  {
   "cell_type": "code",
   "execution_count": 26,
   "metadata": {
    "scrolled": true
   },
   "outputs": [
    {
     "name": "stdout",
     "output_type": "stream",
     "text": [
      "Wall time: 2min 53s\n"
     ]
    }
   ],
   "source": [
    "%%time\n",
    "df3['transacoesClienteOrigemPeriodo'] = df3.apply(retorna_transacoes_por_periodo_cliente_origem, axis=1)"
   ]
  },
  {
   "cell_type": "markdown",
   "metadata": {},
   "source": [
    "Criando outra coluna para o número de transações que o clienteDestino participou."
   ]
  },
  {
   "cell_type": "code",
   "execution_count": 27,
   "metadata": {},
   "outputs": [],
   "source": [
    "def retorna_transacoes_por_periodo_cliente_destino(df):\n",
    "    return contadorCD[df.clienteDestino]"
   ]
  },
  {
   "cell_type": "code",
   "execution_count": 28,
   "metadata": {},
   "outputs": [
    {
     "name": "stdout",
     "output_type": "stream",
     "text": [
      "Wall time: 2min 49s\n"
     ]
    }
   ],
   "source": [
    "%%time\n",
    "df3['transacoesClienteDestinoPeriodo'] = df3.apply(retorna_transacoes_por_periodo_cliente_destino, axis=1)"
   ]
  },
  {
   "cell_type": "markdown",
   "metadata": {},
   "source": [
    "Exportando o dataset com as novas features em csv para não ter que ficar horas esperando para montá-lo novamente:"
   ]
  },
  {
   "cell_type": "code",
   "execution_count": 29,
   "metadata": {},
   "outputs": [
    {
     "name": "stdout",
     "output_type": "stream",
     "text": [
      "Wall time: 1min 38s\n"
     ]
    }
   ],
   "source": [
    "%%time\n",
    "df3.to_csv('df3_novas_features.csv', index=False)"
   ]
  },
  {
   "cell_type": "markdown",
   "metadata": {},
   "source": [
    "Testando as novas features:"
   ]
  },
  {
   "cell_type": "code",
   "execution_count": 49,
   "metadata": {},
   "outputs": [
    {
     "name": "stdout",
     "output_type": "stream",
     "text": [
      "Quantas transações o cliente C553264065 recebeu: 44\n",
      "No dicionário do contador: 44\n",
      "Em linhas do novo dataframe:\n"
     ]
    },
    {
     "data": {
      "text/html": [
       "<div>\n",
       "<style scoped>\n",
       "    .dataframe tbody tr th:only-of-type {\n",
       "        vertical-align: middle;\n",
       "    }\n",
       "\n",
       "    .dataframe tbody tr th {\n",
       "        vertical-align: top;\n",
       "    }\n",
       "\n",
       "    .dataframe thead th {\n",
       "        text-align: right;\n",
       "    }\n",
       "</style>\n",
       "<table border=\"1\" class=\"dataframe\">\n",
       "  <thead>\n",
       "    <tr style=\"text-align: right;\">\n",
       "      <th></th>\n",
       "      <th>totalHoras</th>\n",
       "      <th>quantia</th>\n",
       "      <th>clienteOrigem</th>\n",
       "      <th>saldoInicialOrigem</th>\n",
       "      <th>saldoFinalOrigem</th>\n",
       "      <th>clienteDestino</th>\n",
       "      <th>saldoInicialDestino</th>\n",
       "      <th>saldoFinalDestino</th>\n",
       "      <th>ehFraude</th>\n",
       "      <th>sinalizadaComoFraude</th>\n",
       "      <th>deposito</th>\n",
       "      <th>saque</th>\n",
       "      <th>debito</th>\n",
       "      <th>pagamento</th>\n",
       "      <th>transferencia</th>\n",
       "      <th>saldoFinalDestinoMenosSaldoFinalOrigem</th>\n",
       "      <th>transacoesClienteOrigemPeriodo</th>\n",
       "      <th>transacoesClienteDestinoPeriodo</th>\n",
       "    </tr>\n",
       "  </thead>\n",
       "  <tbody>\n",
       "    <tr>\n",
       "      <th>2</th>\n",
       "      <td>1</td>\n",
       "      <td>181.00</td>\n",
       "      <td>C1305486145</td>\n",
       "      <td>181.00</td>\n",
       "      <td>0.00</td>\n",
       "      <td>C553264065</td>\n",
       "      <td>0.00</td>\n",
       "      <td>0.00</td>\n",
       "      <td>1</td>\n",
       "      <td>0</td>\n",
       "      <td>0</td>\n",
       "      <td>0</td>\n",
       "      <td>0</td>\n",
       "      <td>0</td>\n",
       "      <td>1</td>\n",
       "      <td>0.00</td>\n",
       "      <td>1</td>\n",
       "      <td>44</td>\n",
       "    </tr>\n",
       "    <tr>\n",
       "      <th>6167</th>\n",
       "      <td>6</td>\n",
       "      <td>109985.65</td>\n",
       "      <td>C570434649</td>\n",
       "      <td>41851.00</td>\n",
       "      <td>0.00</td>\n",
       "      <td>C553264065</td>\n",
       "      <td>0.00</td>\n",
       "      <td>109985.65</td>\n",
       "      <td>0</td>\n",
       "      <td>0</td>\n",
       "      <td>0</td>\n",
       "      <td>0</td>\n",
       "      <td>0</td>\n",
       "      <td>0</td>\n",
       "      <td>1</td>\n",
       "      <td>109985.65</td>\n",
       "      <td>1</td>\n",
       "      <td>44</td>\n",
       "    </tr>\n",
       "    <tr>\n",
       "      <th>7903</th>\n",
       "      <td>7</td>\n",
       "      <td>10256.20</td>\n",
       "      <td>C111105514</td>\n",
       "      <td>3766080.24</td>\n",
       "      <td>3776336.45</td>\n",
       "      <td>C553264065</td>\n",
       "      <td>109985.65</td>\n",
       "      <td>99729.44</td>\n",
       "      <td>0</td>\n",
       "      <td>0</td>\n",
       "      <td>1</td>\n",
       "      <td>0</td>\n",
       "      <td>0</td>\n",
       "      <td>0</td>\n",
       "      <td>0</td>\n",
       "      <td>-3676607.01</td>\n",
       "      <td>2</td>\n",
       "      <td>44</td>\n",
       "    </tr>\n",
       "    <tr>\n",
       "      <th>16381</th>\n",
       "      <td>8</td>\n",
       "      <td>111622.39</td>\n",
       "      <td>C1457214570</td>\n",
       "      <td>2347.00</td>\n",
       "      <td>0.00</td>\n",
       "      <td>C553264065</td>\n",
       "      <td>99729.44</td>\n",
       "      <td>5254.44</td>\n",
       "      <td>0</td>\n",
       "      <td>0</td>\n",
       "      <td>0</td>\n",
       "      <td>1</td>\n",
       "      <td>0</td>\n",
       "      <td>0</td>\n",
       "      <td>0</td>\n",
       "      <td>5254.44</td>\n",
       "      <td>1</td>\n",
       "      <td>44</td>\n",
       "    </tr>\n",
       "    <tr>\n",
       "      <th>20003</th>\n",
       "      <td>8</td>\n",
       "      <td>206097.39</td>\n",
       "      <td>C161724858</td>\n",
       "      <td>1991.12</td>\n",
       "      <td>208088.52</td>\n",
       "      <td>C553264065</td>\n",
       "      <td>211351.84</td>\n",
       "      <td>5254.44</td>\n",
       "      <td>0</td>\n",
       "      <td>0</td>\n",
       "      <td>1</td>\n",
       "      <td>0</td>\n",
       "      <td>0</td>\n",
       "      <td>0</td>\n",
       "      <td>0</td>\n",
       "      <td>-202834.08</td>\n",
       "      <td>1</td>\n",
       "      <td>44</td>\n",
       "    </tr>\n",
       "  </tbody>\n",
       "</table>\n",
       "</div>"
      ],
      "text/plain": [
       "       totalHoras    quantia clienteOrigem  saldoInicialOrigem  \\\n",
       "2               1     181.00   C1305486145              181.00   \n",
       "6167            6  109985.65    C570434649            41851.00   \n",
       "7903            7   10256.20    C111105514          3766080.24   \n",
       "16381           8  111622.39   C1457214570             2347.00   \n",
       "20003           8  206097.39    C161724858             1991.12   \n",
       "\n",
       "       saldoFinalOrigem clienteDestino  saldoInicialDestino  \\\n",
       "2                  0.00     C553264065                 0.00   \n",
       "6167               0.00     C553264065                 0.00   \n",
       "7903         3776336.45     C553264065            109985.65   \n",
       "16381              0.00     C553264065             99729.44   \n",
       "20003         208088.52     C553264065            211351.84   \n",
       "\n",
       "       saldoFinalDestino  ehFraude  sinalizadaComoFraude  deposito  saque  \\\n",
       "2                   0.00         1                     0         0      0   \n",
       "6167           109985.65         0                     0         0      0   \n",
       "7903            99729.44         0                     0         1      0   \n",
       "16381            5254.44         0                     0         0      1   \n",
       "20003            5254.44         0                     0         1      0   \n",
       "\n",
       "       debito  pagamento  transferencia  \\\n",
       "2           0          0              1   \n",
       "6167        0          0              1   \n",
       "7903        0          0              0   \n",
       "16381       0          0              0   \n",
       "20003       0          0              0   \n",
       "\n",
       "       saldoFinalDestinoMenosSaldoFinalOrigem  transacoesClienteOrigemPeriodo  \\\n",
       "2                                        0.00                               1   \n",
       "6167                                109985.65                               1   \n",
       "7903                              -3676607.01                               2   \n",
       "16381                                 5254.44                               1   \n",
       "20003                              -202834.08                               1   \n",
       "\n",
       "       transacoesClienteDestinoPeriodo  \n",
       "2                                   44  \n",
       "6167                                44  \n",
       "7903                                44  \n",
       "16381                               44  \n",
       "20003                               44  "
      ]
     },
     "execution_count": 49,
     "metadata": {},
     "output_type": "execute_result"
    }
   ],
   "source": [
    "total = df3.clienteDestino.loc[df3['clienteDestino'] == 'C553264065'].count()\n",
    "total_contadorCD = contadorCD['C553264065']\n",
    "print(f'Quantas transações o cliente C553264065 recebeu: {total}')\n",
    "print(f'No dicionário do contador: {total_contadorCD}')\n",
    "print(f'Em linhas do novo dataframe:')\n",
    "df3.loc[df3['clienteDestino'] == 'C553264065'].head(5)"
   ]
  },
  {
   "cell_type": "markdown",
   "metadata": {
    "id": "6Q5OYGDyXi--"
   },
   "source": [
    "# Análise exploratória dos dados"
   ]
  },
  {
   "cell_type": "markdown",
   "metadata": {
    "id": "MkDT-r9xhoVD"
   },
   "source": [
    "Visualização das Features x ehFraude"
   ]
  },
  {
   "cell_type": "code",
   "execution_count": 30,
   "metadata": {
    "id": "tY3XS7bEpfEp"
   },
   "outputs": [],
   "source": [
    "import seaborn as sns\n",
    "import matplotlib.pyplot as plt\n",
    "#sns.pairplot(df3, x_vars=['ehFraude'], y_vars=['saldoInicialOrigemPorQuantia'], hue='ehFraude');"
   ]
  },
  {
   "cell_type": "markdown",
   "metadata": {},
   "source": [
    "<div>\n",
    "    <div  style=\"display: flex;\">\n",
    "        <img src=\"./graficos/totalHoras-ehFraude.png\" style=\"height: 250px;\">\n",
    "        <img src=\"./graficos/quantia-ehFraude.png\" style=\"height: 250px;\">\n",
    "        <img src=\"./graficos/saldoInicialOrigem-ehFraude.png\" style=\"height: 250px;\">\n",
    "    </div>\n",
    "    <div style=\"display: flex;\">\n",
    "        <img src=\"./graficos/saldoFinalOrigem-ehFraude.png\" style=\"height: 250px;\">\n",
    "        <img src=\"./graficos/saldoInicialDestino-ehFraude.png\" style=\"height: 250px;\">\n",
    "        <img src=\"./graficos/saldoFinalDestino-ehFraude.png\" style=\"height: 250px;\">\n",
    "    </div>\n",
    "    <div style=\"display: flex;\">\n",
    "        <img src=\"./graficos/saldoFinalDestinoMenosSaldoFinalOrigem-ehFraude.png\" style=\"height: 250px;\">\n",
    "    </div>\n",
    "</div>"
   ]
  },
  {
   "cell_type": "markdown",
   "metadata": {},
   "source": [
    "Visualização da discrepância entre as classes da feature ehFraude. Será necessário um balanceamento."
   ]
  },
  {
   "cell_type": "code",
   "execution_count": 31,
   "metadata": {},
   "outputs": [
    {
     "data": {
      "image/png": "[encoded data removed]",
      "text/plain": [
       "<Figure size 432x288 with 1 Axes>"
      ]
     },
     "metadata": {
      "needs_background": "light"
     },
     "output_type": "display_data"
    }
   ],
   "source": [
    "g = sns.countplot(df3.ehFraude)\n",
    "g.set_xticklabels(['Não é fraude', 'É fraude'])\n",
    "plt.show();"
   ]
  },
  {
   "cell_type": "markdown",
   "metadata": {},
   "source": [
    "Identificando correlações entre variáveis através de um mapa de calor."
   ]
  },
  {
   "cell_type": "code",
   "execution_count": 32,
   "metadata": {},
   "outputs": [
    {
     "data": {
      "image/png": "[encoded data removed]",
      "text/plain": [
       "<Figure size 3600x1800 with 2 Axes>"
      ]
     },
     "metadata": {
      "needs_background": "light"
     },
     "output_type": "display_data"
    }
   ],
   "source": [
    "import numpy as np\n",
    "\n",
    "mask = np.triu(np.ones_like(df3.corr(), dtype=np.bool))\n",
    "plt.figure(figsize=(50,25))\n",
    "sns.heatmap(df3.corr(), mask=mask, square = True, annot=True, vmin=-1, vmax=1, linewidths=1.5)\n",
    "plt.show();"
   ]
  },
  {
   "cell_type": "markdown",
   "metadata": {},
   "source": [
    "As features saldoFinalOrigem e saldoInicialOrigem tem um forte correlação (~1) enquanto saldoFinalDestino e saldoInicialDestino também tem uma forte correlação (0.98). A feature saldoFinalDestinoMenosSaldoFinalOrigem que criei também tem uma alta correlação com as features "
   ]
  }
 ],
 "metadata": {
  "colab": {
   "authorship_tag": "ABX9TyMMlO4JxWK6PvB/rk1gFuQR",
   "collapsed_sections": [],
   "include_colab_link": true,
   "mount_file_id": "1Xd-cKCvSj_ViwjjR7uO4H5f7hf62CjZa",
   "name": "TERA - Desafio de Classificação.ipynb",
   "provenance": []
  },
  "kernelspec": {
   "display_name": "Python 3 (ipykernel)",
   "language": "python",
   "name": "python3"
  },
  "language_info": {
   "codemirror_mode": {
    "name": "ipython",
    "version": 3
   },
   "file_extension": ".py",
   "mimetype": "text/x-python",
   "name": "python",
   "nbconvert_exporter": "python",
   "pygments_lexer": "ipython3",
   "version": "3.9.7"
  }
 },
 "nbformat": 4,
 "nbformat_minor": 1
}
