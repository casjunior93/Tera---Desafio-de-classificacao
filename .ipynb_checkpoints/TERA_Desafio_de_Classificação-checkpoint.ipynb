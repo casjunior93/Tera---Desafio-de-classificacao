{
 "cells": [
  {
   "cell_type": "markdown",
   "metadata": {
    "colab_type": "text",
    "id": "view-in-github"
   },
   "source": [
    "<a href=\"https://colab.research.google.com/github/casjunior93/Tera---Desafio-de-classificacao/blob/main/TERA_Desafio_de_Classifica%C3%A7%C3%A3o.ipynb\" target=\"_parent\"><img src=\"https://colab.research.google.com/assets/colab-badge.svg\" alt=\"Open In Colab\"/></a>"
   ]
  },
  {
   "cell_type": "markdown",
   "metadata": {
    "id": "zVRVZ8x1cuiu"
   },
   "source": [
    "# **Desafio de Detecção e Redução de Fraudes no Setor Financeiro**"
   ]
  },
  {
   "cell_type": "markdown",
   "metadata": {
    "id": "6AuXuZcbcw2r"
   },
   "source": [
    "O desafio é propor uma solução para detecção e análise de fraudes que possam reduzir os riscos da empresa de crédito em que trabalho e garantir margens saudáveis.\n",
    "\n",
    "Link do dataset: https://drive.google.com/file/d/1zjK8zQK5zvhR_r2chWI5dCjeOwASlPfb/view"
   ]
  },
  {
   "cell_type": "markdown",
   "metadata": {
    "id": "Wlgu4C3gdjb8"
   },
   "source": [
    "Vou começar importando as bibliotecas iniciais:"
   ]
  },
  {
   "cell_type": "code",
   "execution_count": 1,
   "metadata": {
    "id": "Oabe_59mc_5d"
   },
   "outputs": [],
   "source": [
    "import pandas as pd\n",
    "import warnings\n",
    "warnings.filterwarnings('ignore')"
   ]
  },
  {
   "cell_type": "markdown",
   "metadata": {
    "id": "Nq8UgH0Gdxjz"
   },
   "source": [
    "Agora importo os dados:"
   ]
  },
  {
   "cell_type": "code",
   "execution_count": 2,
   "metadata": {
    "id": "QK9Hi-FyduwV"
   },
   "outputs": [],
   "source": [
    "df = pd.read_csv('./fraud_detection_dataset.csv')"
   ]
  },
  {
   "cell_type": "markdown",
   "metadata": {
    "id": "3yRcT8qaYcRx"
   },
   "source": [
    "Visualizo as dimensões do dataframe:"
   ]
  },
  {
   "cell_type": "code",
   "execution_count": 3,
   "metadata": {
    "colab": {
     "base_uri": "https://localhost:8080/"
    },
    "id": "kitKcSXXYWYi",
    "outputId": "2b105e13-21b1-4b3c-9bd4-ce871e329a28"
   },
   "outputs": [
    {
     "data": {
      "text/plain": [
       "(6362620, 11)"
      ]
     },
     "execution_count": 3,
     "metadata": {},
     "output_type": "execute_result"
    }
   ],
   "source": [
    "df.shape"
   ]
  },
  {
   "cell_type": "markdown",
   "metadata": {
    "id": "E1BpG80oeU91"
   },
   "source": [
    "Vou retornar 10 linhas aleatórias para visualizar o dataframe:"
   ]
  },
  {
   "cell_type": "code",
   "execution_count": 4,
   "metadata": {
    "colab": {
     "base_uri": "https://localhost:8080/",
     "height": 427
    },
    "id": "1ABq7uTAeB-P",
    "outputId": "cecc3032-692a-4801-b83d-c3b837eeea35"
   },
   "outputs": [
    {
     "data": {
      "text/html": [
       "<div>\n",
       "<style scoped>\n",
       "    .dataframe tbody tr th:only-of-type {\n",
       "        vertical-align: middle;\n",
       "    }\n",
       "\n",
       "    .dataframe tbody tr th {\n",
       "        vertical-align: top;\n",
       "    }\n",
       "\n",
       "    .dataframe thead th {\n",
       "        text-align: right;\n",
       "    }\n",
       "</style>\n",
       "<table border=\"1\" class=\"dataframe\">\n",
       "  <thead>\n",
       "    <tr style=\"text-align: right;\">\n",
       "      <th></th>\n",
       "      <th>step</th>\n",
       "      <th>type</th>\n",
       "      <th>amount</th>\n",
       "      <th>nameOrig</th>\n",
       "      <th>oldbalanceOrg</th>\n",
       "      <th>newbalanceOrig</th>\n",
       "      <th>nameDest</th>\n",
       "      <th>oldbalanceDest</th>\n",
       "      <th>newbalanceDest</th>\n",
       "      <th>isFraud</th>\n",
       "      <th>isFlaggedFraud</th>\n",
       "    </tr>\n",
       "  </thead>\n",
       "  <tbody>\n",
       "    <tr>\n",
       "      <th>1698737</th>\n",
       "      <td>159</td>\n",
       "      <td>CASH_IN</td>\n",
       "      <td>159976.08</td>\n",
       "      <td>C1795157218</td>\n",
       "      <td>1705449.32</td>\n",
       "      <td>1865425.40</td>\n",
       "      <td>C189166677</td>\n",
       "      <td>330501.31</td>\n",
       "      <td>170525.23</td>\n",
       "      <td>0</td>\n",
       "      <td>0</td>\n",
       "    </tr>\n",
       "    <tr>\n",
       "      <th>5195304</th>\n",
       "      <td>369</td>\n",
       "      <td>CASH_OUT</td>\n",
       "      <td>141647.07</td>\n",
       "      <td>C253547760</td>\n",
       "      <td>0.00</td>\n",
       "      <td>0.00</td>\n",
       "      <td>C490170296</td>\n",
       "      <td>3309245.27</td>\n",
       "      <td>3450892.33</td>\n",
       "      <td>0</td>\n",
       "      <td>0</td>\n",
       "    </tr>\n",
       "    <tr>\n",
       "      <th>5989933</th>\n",
       "      <td>416</td>\n",
       "      <td>TRANSFER</td>\n",
       "      <td>490653.59</td>\n",
       "      <td>C1864382479</td>\n",
       "      <td>2074.00</td>\n",
       "      <td>0.00</td>\n",
       "      <td>C1389292475</td>\n",
       "      <td>1194566.09</td>\n",
       "      <td>1685219.68</td>\n",
       "      <td>0</td>\n",
       "      <td>0</td>\n",
       "    </tr>\n",
       "    <tr>\n",
       "      <th>3870638</th>\n",
       "      <td>283</td>\n",
       "      <td>PAYMENT</td>\n",
       "      <td>24635.51</td>\n",
       "      <td>C38583914</td>\n",
       "      <td>199486.84</td>\n",
       "      <td>174851.32</td>\n",
       "      <td>M48028112</td>\n",
       "      <td>0.00</td>\n",
       "      <td>0.00</td>\n",
       "      <td>0</td>\n",
       "      <td>0</td>\n",
       "    </tr>\n",
       "    <tr>\n",
       "      <th>3083369</th>\n",
       "      <td>235</td>\n",
       "      <td>CASH_IN</td>\n",
       "      <td>346826.68</td>\n",
       "      <td>C672274609</td>\n",
       "      <td>10764242.01</td>\n",
       "      <td>11111068.69</td>\n",
       "      <td>C1778810358</td>\n",
       "      <td>11763773.39</td>\n",
       "      <td>11416946.71</td>\n",
       "      <td>0</td>\n",
       "      <td>0</td>\n",
       "    </tr>\n",
       "    <tr>\n",
       "      <th>4822434</th>\n",
       "      <td>346</td>\n",
       "      <td>CASH_OUT</td>\n",
       "      <td>107764.21</td>\n",
       "      <td>C73126493</td>\n",
       "      <td>0.00</td>\n",
       "      <td>0.00</td>\n",
       "      <td>C1949981249</td>\n",
       "      <td>1483604.65</td>\n",
       "      <td>1591368.86</td>\n",
       "      <td>0</td>\n",
       "      <td>0</td>\n",
       "    </tr>\n",
       "    <tr>\n",
       "      <th>6349901</th>\n",
       "      <td>695</td>\n",
       "      <td>PAYMENT</td>\n",
       "      <td>2359.30</td>\n",
       "      <td>C643082170</td>\n",
       "      <td>21719.00</td>\n",
       "      <td>19359.70</td>\n",
       "      <td>M1531125668</td>\n",
       "      <td>0.00</td>\n",
       "      <td>0.00</td>\n",
       "      <td>0</td>\n",
       "      <td>0</td>\n",
       "    </tr>\n",
       "    <tr>\n",
       "      <th>2621650</th>\n",
       "      <td>208</td>\n",
       "      <td>CASH_OUT</td>\n",
       "      <td>21847.19</td>\n",
       "      <td>C1512761986</td>\n",
       "      <td>0.00</td>\n",
       "      <td>0.00</td>\n",
       "      <td>C932736431</td>\n",
       "      <td>5241083.44</td>\n",
       "      <td>5347850.47</td>\n",
       "      <td>0</td>\n",
       "      <td>0</td>\n",
       "    </tr>\n",
       "    <tr>\n",
       "      <th>4092259</th>\n",
       "      <td>301</td>\n",
       "      <td>TRANSFER</td>\n",
       "      <td>4883040.60</td>\n",
       "      <td>C1508399570</td>\n",
       "      <td>0.00</td>\n",
       "      <td>0.00</td>\n",
       "      <td>C57983395</td>\n",
       "      <td>8623642.26</td>\n",
       "      <td>13506682.87</td>\n",
       "      <td>0</td>\n",
       "      <td>0</td>\n",
       "    </tr>\n",
       "    <tr>\n",
       "      <th>5802225</th>\n",
       "      <td>401</td>\n",
       "      <td>CASH_OUT</td>\n",
       "      <td>127407.54</td>\n",
       "      <td>C1772991886</td>\n",
       "      <td>122248.00</td>\n",
       "      <td>0.00</td>\n",
       "      <td>C346337008</td>\n",
       "      <td>656424.65</td>\n",
       "      <td>783832.19</td>\n",
       "      <td>0</td>\n",
       "      <td>0</td>\n",
       "    </tr>\n",
       "  </tbody>\n",
       "</table>\n",
       "</div>"
      ],
      "text/plain": [
       "         step      type      amount     nameOrig  oldbalanceOrg  \\\n",
       "1698737   159   CASH_IN   159976.08  C1795157218     1705449.32   \n",
       "5195304   369  CASH_OUT   141647.07   C253547760           0.00   \n",
       "5989933   416  TRANSFER   490653.59  C1864382479        2074.00   \n",
       "3870638   283   PAYMENT    24635.51    C38583914      199486.84   \n",
       "3083369   235   CASH_IN   346826.68   C672274609    10764242.01   \n",
       "4822434   346  CASH_OUT   107764.21    C73126493           0.00   \n",
       "6349901   695   PAYMENT     2359.30   C643082170       21719.00   \n",
       "2621650   208  CASH_OUT    21847.19  C1512761986           0.00   \n",
       "4092259   301  TRANSFER  4883040.60  C1508399570           0.00   \n",
       "5802225   401  CASH_OUT   127407.54  C1772991886      122248.00   \n",
       "\n",
       "         newbalanceOrig     nameDest  oldbalanceDest  newbalanceDest  isFraud  \\\n",
       "1698737      1865425.40   C189166677       330501.31       170525.23        0   \n",
       "5195304            0.00   C490170296      3309245.27      3450892.33        0   \n",
       "5989933            0.00  C1389292475      1194566.09      1685219.68        0   \n",
       "3870638       174851.32    M48028112            0.00            0.00        0   \n",
       "3083369     11111068.69  C1778810358     11763773.39     11416946.71        0   \n",
       "4822434            0.00  C1949981249      1483604.65      1591368.86        0   \n",
       "6349901        19359.70  M1531125668            0.00            0.00        0   \n",
       "2621650            0.00   C932736431      5241083.44      5347850.47        0   \n",
       "4092259            0.00    C57983395      8623642.26     13506682.87        0   \n",
       "5802225            0.00   C346337008       656424.65       783832.19        0   \n",
       "\n",
       "         isFlaggedFraud  \n",
       "1698737               0  \n",
       "5195304               0  \n",
       "5989933               0  \n",
       "3870638               0  \n",
       "3083369               0  \n",
       "4822434               0  \n",
       "6349901               0  \n",
       "2621650               0  \n",
       "4092259               0  \n",
       "5802225               0  "
      ]
     },
     "execution_count": 4,
     "metadata": {},
     "output_type": "execute_result"
    }
   ],
   "source": [
    "df.sample(10)"
   ]
  },
  {
   "cell_type": "markdown",
   "metadata": {
    "id": "aFV46AkEee5O"
   },
   "source": [
    "## Conhecendo as features deste dataset:"
   ]
  },
  {
   "cell_type": "markdown",
   "metadata": {
    "id": "BQVm2kesepRb"
   },
   "source": [
    "* `step` - Passo: representa o total de horas transcorrido desde o início da simulação. Esta feature vai variar entre 1 e 744 (30 dias);\n",
    "\n",
    "* `type` - Tipo: tipo de transação (depósito, saque, débito, pagamento e transferência);\n",
    "\n",
    "* `amount` - Quantia: total que foi transacionado;\n",
    "\n",
    "* `nameOrig` - ClienteOrigem: cliente que iniciou a transação\n",
    "\n",
    "* `oldbalanceOrg` - SaldoInicialOrigem: saldo da conta de origem antes da transação;\n",
    "\n",
    "* `newbalanceOrig` - SaldoFinalOrigem: saldo da conta de origem após a transação;\n",
    "\n",
    "* `nameDest` - ClienteDestino: cliente de destino da transação;\n",
    "\n",
    "* `oldbalanceDest` - SaldoInicialDestino: saldo da conta de destino antes da transação;\n",
    "\n",
    "* `newbalanceDest` - SaldoFinalDestino: saldo da conta de destino após a transação;\n",
    "\n",
    "* `isFraud` - ÉFraude: flag que define se a transação é fraudulenta ou não. Nesta simulação o objetivo da fraude é assumir a conta do usuário, esvaziá-la transferindo para outra conta e então sacando o dinheiro.\n",
    "\n",
    "* `isFlaggedFraud` - SinalizadaComoFraude: automaticamente marcadas pelo banco como fraude por tentarem transferir mais de 200.000 em uma única transação."
   ]
  },
  {
   "cell_type": "markdown",
   "metadata": {
    "id": "VtHX3AuWe7Lt"
   },
   "source": [
    "# Pré-análise dos dados com SeetViz"
   ]
  },
  {
   "cell_type": "markdown",
   "metadata": {
    "id": "PaN7Km6CqJTl"
   },
   "source": [
    "Primeiro vou renomear as tabelas para facilitar a análise."
   ]
  },
  {
   "cell_type": "code",
   "execution_count": 5,
   "metadata": {
    "colab": {
     "base_uri": "https://localhost:8080/",
     "height": 207
    },
    "id": "Jmf8Pu9SqQUZ",
    "outputId": "ab94a29e-7ac7-42d5-c5b5-9a7fb8dff6a0"
   },
   "outputs": [
    {
     "data": {
      "text/html": [
       "<div>\n",
       "<style scoped>\n",
       "    .dataframe tbody tr th:only-of-type {\n",
       "        vertical-align: middle;\n",
       "    }\n",
       "\n",
       "    .dataframe tbody tr th {\n",
       "        vertical-align: top;\n",
       "    }\n",
       "\n",
       "    .dataframe thead th {\n",
       "        text-align: right;\n",
       "    }\n",
       "</style>\n",
       "<table border=\"1\" class=\"dataframe\">\n",
       "  <thead>\n",
       "    <tr style=\"text-align: right;\">\n",
       "      <th></th>\n",
       "      <th>totalHoras</th>\n",
       "      <th>tipoTransacao</th>\n",
       "      <th>quantia</th>\n",
       "      <th>clienteOrigem</th>\n",
       "      <th>saldoInicialOrigem</th>\n",
       "      <th>saldoFinalOrigem</th>\n",
       "      <th>clienteDestino</th>\n",
       "      <th>saldoInicialDestino</th>\n",
       "      <th>saldoFinalDestino</th>\n",
       "      <th>ehFraude</th>\n",
       "      <th>sinalizadaComoFraude</th>\n",
       "    </tr>\n",
       "  </thead>\n",
       "  <tbody>\n",
       "    <tr>\n",
       "      <th>0</th>\n",
       "      <td>1</td>\n",
       "      <td>PAYMENT</td>\n",
       "      <td>9839.64</td>\n",
       "      <td>C1231006815</td>\n",
       "      <td>170136.0</td>\n",
       "      <td>160296.36</td>\n",
       "      <td>M1979787155</td>\n",
       "      <td>0.0</td>\n",
       "      <td>0.0</td>\n",
       "      <td>0</td>\n",
       "      <td>0</td>\n",
       "    </tr>\n",
       "    <tr>\n",
       "      <th>1</th>\n",
       "      <td>1</td>\n",
       "      <td>PAYMENT</td>\n",
       "      <td>1864.28</td>\n",
       "      <td>C1666544295</td>\n",
       "      <td>21249.0</td>\n",
       "      <td>19384.72</td>\n",
       "      <td>M2044282225</td>\n",
       "      <td>0.0</td>\n",
       "      <td>0.0</td>\n",
       "      <td>0</td>\n",
       "      <td>0</td>\n",
       "    </tr>\n",
       "    <tr>\n",
       "      <th>2</th>\n",
       "      <td>1</td>\n",
       "      <td>TRANSFER</td>\n",
       "      <td>181.00</td>\n",
       "      <td>C1305486145</td>\n",
       "      <td>181.0</td>\n",
       "      <td>0.00</td>\n",
       "      <td>C553264065</td>\n",
       "      <td>0.0</td>\n",
       "      <td>0.0</td>\n",
       "      <td>1</td>\n",
       "      <td>0</td>\n",
       "    </tr>\n",
       "  </tbody>\n",
       "</table>\n",
       "</div>"
      ],
      "text/plain": [
       "   totalHoras tipoTransacao  quantia clienteOrigem  saldoInicialOrigem  \\\n",
       "0           1       PAYMENT  9839.64   C1231006815            170136.0   \n",
       "1           1       PAYMENT  1864.28   C1666544295             21249.0   \n",
       "2           1      TRANSFER   181.00   C1305486145               181.0   \n",
       "\n",
       "   saldoFinalOrigem clienteDestino  saldoInicialDestino  saldoFinalDestino  \\\n",
       "0         160296.36    M1979787155                  0.0                0.0   \n",
       "1          19384.72    M2044282225                  0.0                0.0   \n",
       "2              0.00     C553264065                  0.0                0.0   \n",
       "\n",
       "   ehFraude  sinalizadaComoFraude  \n",
       "0         0                     0  \n",
       "1         0                     0  \n",
       "2         1                     0  "
      ]
     },
     "execution_count": 5,
     "metadata": {},
     "output_type": "execute_result"
    }
   ],
   "source": [
    "df = df.rename(\n",
    "    columns={\"step\":\"totalHoras\", \"type\": \"tipoTransacao\", \"amount\": \"quantia\",\n",
    "             \"nameOrig\": \"clienteOrigem\", \"oldbalanceOrg\": \"saldoInicialOrigem\",\n",
    "             \"newbalanceOrig\": \"saldoFinalOrigem\", \"nameDest\": \"clienteDestino\",\n",
    "             \"oldbalanceDest\": \"saldoInicialDestino\", \"newbalanceDest\": \"saldoFinalDestino\",\n",
    "             \"isFraud\": \"ehFraude\", \"isFlaggedFraud\": \"sinalizadaComoFraude\"\n",
    "\n",
    "             })\n",
    "df.head(3)"
   ]
  },
  {
   "cell_type": "markdown",
   "metadata": {
    "id": "OKqsqg7Lt_2o"
   },
   "source": [
    "Agora importo o SweetViz"
   ]
  },
  {
   "cell_type": "code",
   "execution_count": 6,
   "metadata": {
    "colab": {
     "base_uri": "https://localhost:8080/"
    },
    "id": "JQIaOF_Df7kc",
    "outputId": "28eb488a-4594-4bac-cb62-8a0a954b040d"
   },
   "outputs": [
    {
     "name": "stdout",
     "output_type": "stream",
     "text": [
      "Collecting sweetviz\n",
      "  Using cached sweetviz-2.1.3-py3-none-any.whl (15.1 MB)\n",
      "Requirement already satisfied: tqdm>=4.43.0 in c:\\users\\carlo\\anaconda3\\lib\\site-packages (from sweetviz) (4.62.3)\n",
      "Requirement already satisfied: matplotlib>=3.1.3 in c:\\users\\carlo\\anaconda3\\lib\\site-packages (from sweetviz) (3.4.3)\n",
      "Requirement already satisfied: jinja2>=2.11.1 in c:\\users\\carlo\\anaconda3\\lib\\site-packages (from sweetviz) (2.11.3)\n",
      "Collecting importlib-resources>=1.2.0\n",
      "  Using cached importlib_resources-5.4.0-py3-none-any.whl (28 kB)\n",
      "Requirement already satisfied: scipy>=1.3.2 in c:\\users\\carlo\\anaconda3\\lib\\site-packages (from sweetviz) (1.7.1)\n",
      "Requirement already satisfied: numpy>=1.16.0 in c:\\users\\carlo\\anaconda3\\lib\\site-packages (from sweetviz) (1.20.3)\n",
      "Requirement already satisfied: pandas!=1.0.0,!=1.0.1,!=1.0.2,>=0.25.3 in c:\\users\\carlo\\anaconda3\\lib\\site-packages (from sweetviz) (1.3.4)\n",
      "Requirement already satisfied: zipp>=3.1.0 in c:\\users\\carlo\\anaconda3\\lib\\site-packages (from importlib-resources>=1.2.0->sweetviz) (3.6.0)\n",
      "Requirement already satisfied: MarkupSafe>=0.23 in c:\\users\\carlo\\anaconda3\\lib\\site-packages (from jinja2>=2.11.1->sweetviz) (1.1.1)\n",
      "Requirement already satisfied: cycler>=0.10 in c:\\users\\carlo\\anaconda3\\lib\\site-packages (from matplotlib>=3.1.3->sweetviz) (0.10.0)\n",
      "Requirement already satisfied: pillow>=6.2.0 in c:\\users\\carlo\\anaconda3\\lib\\site-packages (from matplotlib>=3.1.3->sweetviz) (8.4.0)\n",
      "Requirement already satisfied: pyparsing>=2.2.1 in c:\\users\\carlo\\anaconda3\\lib\\site-packages (from matplotlib>=3.1.3->sweetviz) (3.0.4)\n",
      "Requirement already satisfied: python-dateutil>=2.7 in c:\\users\\carlo\\anaconda3\\lib\\site-packages (from matplotlib>=3.1.3->sweetviz) (2.8.2)\n",
      "Requirement already satisfied: kiwisolver>=1.0.1 in c:\\users\\carlo\\anaconda3\\lib\\site-packages (from matplotlib>=3.1.3->sweetviz) (1.3.1)\n",
      "Requirement already satisfied: six in c:\\users\\carlo\\anaconda3\\lib\\site-packages (from cycler>=0.10->matplotlib>=3.1.3->sweetviz) (1.16.0)\n",
      "Requirement already satisfied: pytz>=2017.3 in c:\\users\\carlo\\anaconda3\\lib\\site-packages (from pandas!=1.0.0,!=1.0.1,!=1.0.2,>=0.25.3->sweetviz) (2021.3)\n",
      "Requirement already satisfied: colorama in c:\\users\\carlo\\anaconda3\\lib\\site-packages (from tqdm>=4.43.0->sweetviz) (0.4.4)\n",
      "Installing collected packages: importlib-resources, sweetviz\n",
      "Successfully installed importlib-resources-5.4.0 sweetviz-2.1.3\n"
     ]
    }
   ],
   "source": [
    "!pip install sweetviz\n",
    "import sweetviz"
   ]
  },
  {
   "cell_type": "markdown",
   "metadata": {
    "id": "DHgYnKsfkA33"
   },
   "source": [
    "O SeetViz gera um relatório em HTML com várias informações sobre as features do dataset."
   ]
  },
  {
   "cell_type": "code",
   "execution_count": 7,
   "metadata": {
    "id": "ZvBqlCdZkqj5"
   },
   "outputs": [
    {
     "data": {
      "application/vnd.jupyter.widget-view+json": {
       "model_id": "3361a5adab80480fa0418949d53e752f",
       "version_major": 2,
       "version_minor": 0
      },
      "text/plain": [
       "                                             |                                             | [  0%]   00:00 ->…"
      ]
     },
     "metadata": {},
     "output_type": "display_data"
    },
    {
     "name": "stdout",
     "output_type": "stream",
     "text": [
      "Report SWEETVIZ_REPORT.html was generated! NOTEBOOK/COLAB USERS: the web browser MAY not pop up, regardless, the report IS saved in your notebook/colab files.\n"
     ]
    }
   ],
   "source": [
    "analise=sweetviz.analyze(df)\n",
    "analise.show_html()"
   ]
  },
  {
   "cell_type": "markdown",
   "metadata": {
    "id": "0x7_zh_wuC9l"
   },
   "source": [
    "Ao analisar o relatório do SweetViz, vi que o dataset tem 3 features categóricas (tipoTransacao, ehFraude e sinalizadaComoFraude), 6 numéricas (totalHoras, quantia, saldoInicialOrigem, saldoFinalOrigem, saldoInicialDestino e saldoFinalDestino) e 2 textuais (clienteOrigem, clienteDestino). Nenhuma feature tem valores faltantes."
   ]
  },
  {
   "cell_type": "markdown",
   "metadata": {
    "id": "LUnvtAZfyCMk"
   },
   "source": [
    "# Tratamento de Dados"
   ]
  },
  {
   "cell_type": "markdown",
   "metadata": {
    "id": "guJ7c7bmyErB"
   },
   "source": [
    "Vou tratar a feature categórica tipoTransacao com o método get_dummies do Pandas."
   ]
  },
  {
   "cell_type": "code",
   "execution_count": 8,
   "metadata": {
    "colab": {
     "base_uri": "https://localhost:8080/"
    },
    "id": "V8Gck2wKyqW0",
    "outputId": "7cbd5ab0-4125-40b8-ecd8-4757b8534c09"
   },
   "outputs": [
    {
     "data": {
      "text/plain": [
       "array(['PAYMENT', 'TRANSFER', 'CASH_OUT', 'DEBIT', 'CASH_IN'],\n",
       "      dtype=object)"
      ]
     },
     "execution_count": 8,
     "metadata": {},
     "output_type": "execute_result"
    }
   ],
   "source": [
    "df.tipoTransacao.unique()"
   ]
  },
  {
   "cell_type": "code",
   "execution_count": 9,
   "metadata": {
    "id": "xONY_P65k3vu"
   },
   "outputs": [],
   "source": [
    "df2 = pd.get_dummies(df.tipoTransacao)"
   ]
  },
  {
   "cell_type": "markdown",
   "metadata": {
    "id": "cUNSU_1xyxcx"
   },
   "source": [
    "A coluna tipoTransacao tem 5 valores únicos. Com o método get_dummies será criado uma coluna em um novo dataframe para cada valor único. Para cada transação, o tipo dessa transação vai receber o valor 1."
   ]
  },
  {
   "cell_type": "code",
   "execution_count": 10,
   "metadata": {
    "colab": {
     "base_uri": "https://localhost:8080/",
     "height": 206
    },
    "id": "_BPdGXb_wAAG",
    "outputId": "fc73ffc4-5efd-46cb-86d9-05ac98d8c10e"
   },
   "outputs": [
    {
     "data": {
      "text/html": [
       "<div>\n",
       "<style scoped>\n",
       "    .dataframe tbody tr th:only-of-type {\n",
       "        vertical-align: middle;\n",
       "    }\n",
       "\n",
       "    .dataframe tbody tr th {\n",
       "        vertical-align: top;\n",
       "    }\n",
       "\n",
       "    .dataframe thead th {\n",
       "        text-align: right;\n",
       "    }\n",
       "</style>\n",
       "<table border=\"1\" class=\"dataframe\">\n",
       "  <thead>\n",
       "    <tr style=\"text-align: right;\">\n",
       "      <th></th>\n",
       "      <th>CASH_IN</th>\n",
       "      <th>CASH_OUT</th>\n",
       "      <th>DEBIT</th>\n",
       "      <th>PAYMENT</th>\n",
       "      <th>TRANSFER</th>\n",
       "    </tr>\n",
       "  </thead>\n",
       "  <tbody>\n",
       "    <tr>\n",
       "      <th>0</th>\n",
       "      <td>0</td>\n",
       "      <td>0</td>\n",
       "      <td>0</td>\n",
       "      <td>1</td>\n",
       "      <td>0</td>\n",
       "    </tr>\n",
       "    <tr>\n",
       "      <th>1</th>\n",
       "      <td>0</td>\n",
       "      <td>0</td>\n",
       "      <td>0</td>\n",
       "      <td>1</td>\n",
       "      <td>0</td>\n",
       "    </tr>\n",
       "    <tr>\n",
       "      <th>2</th>\n",
       "      <td>0</td>\n",
       "      <td>0</td>\n",
       "      <td>0</td>\n",
       "      <td>0</td>\n",
       "      <td>1</td>\n",
       "    </tr>\n",
       "    <tr>\n",
       "      <th>3</th>\n",
       "      <td>0</td>\n",
       "      <td>1</td>\n",
       "      <td>0</td>\n",
       "      <td>0</td>\n",
       "      <td>0</td>\n",
       "    </tr>\n",
       "    <tr>\n",
       "      <th>4</th>\n",
       "      <td>0</td>\n",
       "      <td>0</td>\n",
       "      <td>0</td>\n",
       "      <td>1</td>\n",
       "      <td>0</td>\n",
       "    </tr>\n",
       "  </tbody>\n",
       "</table>\n",
       "</div>"
      ],
      "text/plain": [
       "   CASH_IN  CASH_OUT  DEBIT  PAYMENT  TRANSFER\n",
       "0        0         0      0        1         0\n",
       "1        0         0      0        1         0\n",
       "2        0         0      0        0         1\n",
       "3        0         1      0        0         0\n",
       "4        0         0      0        1         0"
      ]
     },
     "execution_count": 10,
     "metadata": {},
     "output_type": "execute_result"
    }
   ],
   "source": [
    "df2.head()"
   ]
  },
  {
   "cell_type": "markdown",
   "metadata": {
    "id": "PdOJs5RAzrGs"
   },
   "source": [
    "Agora concateno o df2 com o dataframe original df."
   ]
  },
  {
   "cell_type": "code",
   "execution_count": 11,
   "metadata": {
    "colab": {
     "base_uri": "https://localhost:8080/",
     "height": 427
    },
    "id": "fXLbwuoQzmgl",
    "outputId": "3cc5f5f3-e5fe-4708-d9ad-b9c5eb231b20"
   },
   "outputs": [
    {
     "data": {
      "text/html": [
       "<div>\n",
       "<style scoped>\n",
       "    .dataframe tbody tr th:only-of-type {\n",
       "        vertical-align: middle;\n",
       "    }\n",
       "\n",
       "    .dataframe tbody tr th {\n",
       "        vertical-align: top;\n",
       "    }\n",
       "\n",
       "    .dataframe thead th {\n",
       "        text-align: right;\n",
       "    }\n",
       "</style>\n",
       "<table border=\"1\" class=\"dataframe\">\n",
       "  <thead>\n",
       "    <tr style=\"text-align: right;\">\n",
       "      <th></th>\n",
       "      <th>totalHoras</th>\n",
       "      <th>tipoTransacao</th>\n",
       "      <th>quantia</th>\n",
       "      <th>clienteOrigem</th>\n",
       "      <th>saldoInicialOrigem</th>\n",
       "      <th>saldoFinalOrigem</th>\n",
       "      <th>clienteDestino</th>\n",
       "      <th>saldoInicialDestino</th>\n",
       "      <th>saldoFinalDestino</th>\n",
       "      <th>ehFraude</th>\n",
       "      <th>sinalizadaComoFraude</th>\n",
       "      <th>CASH_IN</th>\n",
       "      <th>CASH_OUT</th>\n",
       "      <th>DEBIT</th>\n",
       "      <th>PAYMENT</th>\n",
       "      <th>TRANSFER</th>\n",
       "    </tr>\n",
       "  </thead>\n",
       "  <tbody>\n",
       "    <tr>\n",
       "      <th>4591910</th>\n",
       "      <td>328</td>\n",
       "      <td>CASH_OUT</td>\n",
       "      <td>74732.27</td>\n",
       "      <td>C1638500860</td>\n",
       "      <td>0.00</td>\n",
       "      <td>0.00</td>\n",
       "      <td>C1773661485</td>\n",
       "      <td>2013490.52</td>\n",
       "      <td>2088222.79</td>\n",
       "      <td>0</td>\n",
       "      <td>0</td>\n",
       "      <td>0</td>\n",
       "      <td>1</td>\n",
       "      <td>0</td>\n",
       "      <td>0</td>\n",
       "      <td>0</td>\n",
       "    </tr>\n",
       "    <tr>\n",
       "      <th>6301859</th>\n",
       "      <td>683</td>\n",
       "      <td>CASH_OUT</td>\n",
       "      <td>10273.89</td>\n",
       "      <td>C348667662</td>\n",
       "      <td>25016.00</td>\n",
       "      <td>14742.11</td>\n",
       "      <td>C649059088</td>\n",
       "      <td>5099398.21</td>\n",
       "      <td>5109672.11</td>\n",
       "      <td>0</td>\n",
       "      <td>0</td>\n",
       "      <td>0</td>\n",
       "      <td>1</td>\n",
       "      <td>0</td>\n",
       "      <td>0</td>\n",
       "      <td>0</td>\n",
       "    </tr>\n",
       "    <tr>\n",
       "      <th>2794464</th>\n",
       "      <td>216</td>\n",
       "      <td>PAYMENT</td>\n",
       "      <td>11495.74</td>\n",
       "      <td>C291555111</td>\n",
       "      <td>0.00</td>\n",
       "      <td>0.00</td>\n",
       "      <td>M2136982741</td>\n",
       "      <td>0.00</td>\n",
       "      <td>0.00</td>\n",
       "      <td>0</td>\n",
       "      <td>0</td>\n",
       "      <td>0</td>\n",
       "      <td>0</td>\n",
       "      <td>0</td>\n",
       "      <td>1</td>\n",
       "      <td>0</td>\n",
       "    </tr>\n",
       "    <tr>\n",
       "      <th>2033304</th>\n",
       "      <td>180</td>\n",
       "      <td>CASH_IN</td>\n",
       "      <td>201304.64</td>\n",
       "      <td>C217208137</td>\n",
       "      <td>8043360.59</td>\n",
       "      <td>8244665.24</td>\n",
       "      <td>C935931165</td>\n",
       "      <td>501824.24</td>\n",
       "      <td>300519.60</td>\n",
       "      <td>0</td>\n",
       "      <td>0</td>\n",
       "      <td>1</td>\n",
       "      <td>0</td>\n",
       "      <td>0</td>\n",
       "      <td>0</td>\n",
       "      <td>0</td>\n",
       "    </tr>\n",
       "    <tr>\n",
       "      <th>4135596</th>\n",
       "      <td>303</td>\n",
       "      <td>CASH_IN</td>\n",
       "      <td>47758.61</td>\n",
       "      <td>C687768647</td>\n",
       "      <td>647755.00</td>\n",
       "      <td>695513.61</td>\n",
       "      <td>C401195472</td>\n",
       "      <td>162978.35</td>\n",
       "      <td>115219.74</td>\n",
       "      <td>0</td>\n",
       "      <td>0</td>\n",
       "      <td>1</td>\n",
       "      <td>0</td>\n",
       "      <td>0</td>\n",
       "      <td>0</td>\n",
       "      <td>0</td>\n",
       "    </tr>\n",
       "    <tr>\n",
       "      <th>3150474</th>\n",
       "      <td>236</td>\n",
       "      <td>PAYMENT</td>\n",
       "      <td>6627.33</td>\n",
       "      <td>C1353520377</td>\n",
       "      <td>0.00</td>\n",
       "      <td>0.00</td>\n",
       "      <td>M684520136</td>\n",
       "      <td>0.00</td>\n",
       "      <td>0.00</td>\n",
       "      <td>0</td>\n",
       "      <td>0</td>\n",
       "      <td>0</td>\n",
       "      <td>0</td>\n",
       "      <td>0</td>\n",
       "      <td>1</td>\n",
       "      <td>0</td>\n",
       "    </tr>\n",
       "    <tr>\n",
       "      <th>2897224</th>\n",
       "      <td>228</td>\n",
       "      <td>CASH_OUT</td>\n",
       "      <td>267460.19</td>\n",
       "      <td>C223597792</td>\n",
       "      <td>72683.00</td>\n",
       "      <td>0.00</td>\n",
       "      <td>C655332539</td>\n",
       "      <td>0.00</td>\n",
       "      <td>267460.19</td>\n",
       "      <td>0</td>\n",
       "      <td>0</td>\n",
       "      <td>0</td>\n",
       "      <td>1</td>\n",
       "      <td>0</td>\n",
       "      <td>0</td>\n",
       "      <td>0</td>\n",
       "    </tr>\n",
       "    <tr>\n",
       "      <th>3362554</th>\n",
       "      <td>254</td>\n",
       "      <td>TRANSFER</td>\n",
       "      <td>37656.15</td>\n",
       "      <td>C1322346948</td>\n",
       "      <td>42432.24</td>\n",
       "      <td>4776.09</td>\n",
       "      <td>C1388889194</td>\n",
       "      <td>2376865.83</td>\n",
       "      <td>2414521.98</td>\n",
       "      <td>0</td>\n",
       "      <td>0</td>\n",
       "      <td>0</td>\n",
       "      <td>0</td>\n",
       "      <td>0</td>\n",
       "      <td>0</td>\n",
       "      <td>1</td>\n",
       "    </tr>\n",
       "    <tr>\n",
       "      <th>5965482</th>\n",
       "      <td>406</td>\n",
       "      <td>CASH_OUT</td>\n",
       "      <td>300451.17</td>\n",
       "      <td>C602547443</td>\n",
       "      <td>32730.00</td>\n",
       "      <td>0.00</td>\n",
       "      <td>C1912216027</td>\n",
       "      <td>285564.98</td>\n",
       "      <td>586016.16</td>\n",
       "      <td>0</td>\n",
       "      <td>0</td>\n",
       "      <td>0</td>\n",
       "      <td>1</td>\n",
       "      <td>0</td>\n",
       "      <td>0</td>\n",
       "      <td>0</td>\n",
       "    </tr>\n",
       "    <tr>\n",
       "      <th>2326264</th>\n",
       "      <td>188</td>\n",
       "      <td>PAYMENT</td>\n",
       "      <td>11346.69</td>\n",
       "      <td>C460282416</td>\n",
       "      <td>4236.76</td>\n",
       "      <td>0.00</td>\n",
       "      <td>M1855573304</td>\n",
       "      <td>0.00</td>\n",
       "      <td>0.00</td>\n",
       "      <td>0</td>\n",
       "      <td>0</td>\n",
       "      <td>0</td>\n",
       "      <td>0</td>\n",
       "      <td>0</td>\n",
       "      <td>1</td>\n",
       "      <td>0</td>\n",
       "    </tr>\n",
       "  </tbody>\n",
       "</table>\n",
       "</div>"
      ],
      "text/plain": [
       "         totalHoras tipoTransacao    quantia clienteOrigem  \\\n",
       "4591910         328      CASH_OUT   74732.27   C1638500860   \n",
       "6301859         683      CASH_OUT   10273.89    C348667662   \n",
       "2794464         216       PAYMENT   11495.74    C291555111   \n",
       "2033304         180       CASH_IN  201304.64    C217208137   \n",
       "4135596         303       CASH_IN   47758.61    C687768647   \n",
       "3150474         236       PAYMENT    6627.33   C1353520377   \n",
       "2897224         228      CASH_OUT  267460.19    C223597792   \n",
       "3362554         254      TRANSFER   37656.15   C1322346948   \n",
       "5965482         406      CASH_OUT  300451.17    C602547443   \n",
       "2326264         188       PAYMENT   11346.69    C460282416   \n",
       "\n",
       "         saldoInicialOrigem  saldoFinalOrigem clienteDestino  \\\n",
       "4591910                0.00              0.00    C1773661485   \n",
       "6301859            25016.00          14742.11     C649059088   \n",
       "2794464                0.00              0.00    M2136982741   \n",
       "2033304          8043360.59        8244665.24     C935931165   \n",
       "4135596           647755.00         695513.61     C401195472   \n",
       "3150474                0.00              0.00     M684520136   \n",
       "2897224            72683.00              0.00     C655332539   \n",
       "3362554            42432.24           4776.09    C1388889194   \n",
       "5965482            32730.00              0.00    C1912216027   \n",
       "2326264             4236.76              0.00    M1855573304   \n",
       "\n",
       "         saldoInicialDestino  saldoFinalDestino  ehFraude  \\\n",
       "4591910           2013490.52         2088222.79         0   \n",
       "6301859           5099398.21         5109672.11         0   \n",
       "2794464                 0.00               0.00         0   \n",
       "2033304            501824.24          300519.60         0   \n",
       "4135596            162978.35          115219.74         0   \n",
       "3150474                 0.00               0.00         0   \n",
       "2897224                 0.00          267460.19         0   \n",
       "3362554           2376865.83         2414521.98         0   \n",
       "5965482            285564.98          586016.16         0   \n",
       "2326264                 0.00               0.00         0   \n",
       "\n",
       "         sinalizadaComoFraude  CASH_IN  CASH_OUT  DEBIT  PAYMENT  TRANSFER  \n",
       "4591910                     0        0         1      0        0         0  \n",
       "6301859                     0        0         1      0        0         0  \n",
       "2794464                     0        0         0      0        1         0  \n",
       "2033304                     0        1         0      0        0         0  \n",
       "4135596                     0        1         0      0        0         0  \n",
       "3150474                     0        0         0      0        1         0  \n",
       "2897224                     0        0         1      0        0         0  \n",
       "3362554                     0        0         0      0        0         1  \n",
       "5965482                     0        0         1      0        0         0  \n",
       "2326264                     0        0         0      0        1         0  "
      ]
     },
     "execution_count": 11,
     "metadata": {},
     "output_type": "execute_result"
    }
   ],
   "source": [
    "df3 = pd.concat([df, df2], axis='columns')\n",
    "df3.sample(10)"
   ]
  },
  {
   "cell_type": "markdown",
   "metadata": {
    "id": "M1BLzMxI1g6y"
   },
   "source": [
    "Agora vou dropar a coluna tipoTransacao."
   ]
  },
  {
   "cell_type": "code",
   "execution_count": 12,
   "metadata": {
    "colab": {
     "base_uri": "https://localhost:8080/",
     "height": 207
    },
    "id": "9FWmgLJRz8cq",
    "outputId": "60a3ec8b-b10f-4eab-d3b9-d558675e67eb"
   },
   "outputs": [
    {
     "data": {
      "text/html": [
       "<div>\n",
       "<style scoped>\n",
       "    .dataframe tbody tr th:only-of-type {\n",
       "        vertical-align: middle;\n",
       "    }\n",
       "\n",
       "    .dataframe tbody tr th {\n",
       "        vertical-align: top;\n",
       "    }\n",
       "\n",
       "    .dataframe thead th {\n",
       "        text-align: right;\n",
       "    }\n",
       "</style>\n",
       "<table border=\"1\" class=\"dataframe\">\n",
       "  <thead>\n",
       "    <tr style=\"text-align: right;\">\n",
       "      <th></th>\n",
       "      <th>totalHoras</th>\n",
       "      <th>tipoTransacao</th>\n",
       "      <th>quantia</th>\n",
       "      <th>clienteOrigem</th>\n",
       "      <th>saldoInicialOrigem</th>\n",
       "      <th>saldoFinalOrigem</th>\n",
       "      <th>clienteDestino</th>\n",
       "      <th>saldoInicialDestino</th>\n",
       "      <th>saldoFinalDestino</th>\n",
       "      <th>ehFraude</th>\n",
       "      <th>sinalizadaComoFraude</th>\n",
       "      <th>CASH_IN</th>\n",
       "      <th>CASH_OUT</th>\n",
       "      <th>DEBIT</th>\n",
       "      <th>PAYMENT</th>\n",
       "      <th>TRANSFER</th>\n",
       "    </tr>\n",
       "  </thead>\n",
       "  <tbody>\n",
       "    <tr>\n",
       "      <th>1812540</th>\n",
       "      <td>163</td>\n",
       "      <td>CASH_OUT</td>\n",
       "      <td>147543.24</td>\n",
       "      <td>C1135445485</td>\n",
       "      <td>10626.0</td>\n",
       "      <td>0.00</td>\n",
       "      <td>C522598594</td>\n",
       "      <td>0.00</td>\n",
       "      <td>147543.24</td>\n",
       "      <td>0</td>\n",
       "      <td>0</td>\n",
       "      <td>0</td>\n",
       "      <td>1</td>\n",
       "      <td>0</td>\n",
       "      <td>0</td>\n",
       "      <td>0</td>\n",
       "    </tr>\n",
       "    <tr>\n",
       "      <th>3498295</th>\n",
       "      <td>259</td>\n",
       "      <td>CASH_OUT</td>\n",
       "      <td>76550.86</td>\n",
       "      <td>C1586757897</td>\n",
       "      <td>945086.0</td>\n",
       "      <td>868535.14</td>\n",
       "      <td>C1458027184</td>\n",
       "      <td>57654.77</td>\n",
       "      <td>134205.63</td>\n",
       "      <td>0</td>\n",
       "      <td>0</td>\n",
       "      <td>0</td>\n",
       "      <td>1</td>\n",
       "      <td>0</td>\n",
       "      <td>0</td>\n",
       "      <td>0</td>\n",
       "    </tr>\n",
       "    <tr>\n",
       "      <th>899801</th>\n",
       "      <td>42</td>\n",
       "      <td>PAYMENT</td>\n",
       "      <td>5101.54</td>\n",
       "      <td>C927479307</td>\n",
       "      <td>449699.0</td>\n",
       "      <td>444597.46</td>\n",
       "      <td>M710676268</td>\n",
       "      <td>0.00</td>\n",
       "      <td>0.00</td>\n",
       "      <td>0</td>\n",
       "      <td>0</td>\n",
       "      <td>0</td>\n",
       "      <td>0</td>\n",
       "      <td>0</td>\n",
       "      <td>1</td>\n",
       "      <td>0</td>\n",
       "    </tr>\n",
       "  </tbody>\n",
       "</table>\n",
       "</div>"
      ],
      "text/plain": [
       "         totalHoras tipoTransacao    quantia clienteOrigem  \\\n",
       "1812540         163      CASH_OUT  147543.24   C1135445485   \n",
       "3498295         259      CASH_OUT   76550.86   C1586757897   \n",
       "899801           42       PAYMENT    5101.54    C927479307   \n",
       "\n",
       "         saldoInicialOrigem  saldoFinalOrigem clienteDestino  \\\n",
       "1812540             10626.0              0.00     C522598594   \n",
       "3498295            945086.0         868535.14    C1458027184   \n",
       "899801             449699.0         444597.46     M710676268   \n",
       "\n",
       "         saldoInicialDestino  saldoFinalDestino  ehFraude  \\\n",
       "1812540                 0.00          147543.24         0   \n",
       "3498295             57654.77          134205.63         0   \n",
       "899801                  0.00               0.00         0   \n",
       "\n",
       "         sinalizadaComoFraude  CASH_IN  CASH_OUT  DEBIT  PAYMENT  TRANSFER  \n",
       "1812540                     0        0         1      0        0         0  \n",
       "3498295                     0        0         1      0        0         0  \n",
       "899801                      0        0         0      0        1         0  "
      ]
     },
     "execution_count": 12,
     "metadata": {},
     "output_type": "execute_result"
    }
   ],
   "source": [
    "#df3.drop('tipoTransacao', axis='columns', inplace=True)\n",
    "df3.sample(3)"
   ]
  },
  {
   "cell_type": "markdown",
   "metadata": {
    "id": "-Mg-2Yu8gJU7"
   },
   "source": [
    "E renomear as novas colunas"
   ]
  },
  {
   "cell_type": "code",
   "execution_count": 13,
   "metadata": {
    "colab": {
     "base_uri": "https://localhost:8080/",
     "height": 207
    },
    "id": "gVWt7vILgH2b",
    "outputId": "33bc5f8f-8839-4f4c-cf2c-e360f718d17f"
   },
   "outputs": [
    {
     "data": {
      "text/html": [
       "<div>\n",
       "<style scoped>\n",
       "    .dataframe tbody tr th:only-of-type {\n",
       "        vertical-align: middle;\n",
       "    }\n",
       "\n",
       "    .dataframe tbody tr th {\n",
       "        vertical-align: top;\n",
       "    }\n",
       "\n",
       "    .dataframe thead th {\n",
       "        text-align: right;\n",
       "    }\n",
       "</style>\n",
       "<table border=\"1\" class=\"dataframe\">\n",
       "  <thead>\n",
       "    <tr style=\"text-align: right;\">\n",
       "      <th></th>\n",
       "      <th>totalHoras</th>\n",
       "      <th>tipoTransacao</th>\n",
       "      <th>quantia</th>\n",
       "      <th>clienteOrigem</th>\n",
       "      <th>saldoInicialOrigem</th>\n",
       "      <th>saldoFinalOrigem</th>\n",
       "      <th>clienteDestino</th>\n",
       "      <th>saldoInicialDestino</th>\n",
       "      <th>saldoFinalDestino</th>\n",
       "      <th>ehFraude</th>\n",
       "      <th>sinalizadaComoFraude</th>\n",
       "      <th>deposito</th>\n",
       "      <th>saque</th>\n",
       "      <th>debito</th>\n",
       "      <th>pagamento</th>\n",
       "      <th>transferencia</th>\n",
       "    </tr>\n",
       "  </thead>\n",
       "  <tbody>\n",
       "    <tr>\n",
       "      <th>0</th>\n",
       "      <td>1</td>\n",
       "      <td>PAYMENT</td>\n",
       "      <td>9839.64</td>\n",
       "      <td>C1231006815</td>\n",
       "      <td>170136.0</td>\n",
       "      <td>160296.36</td>\n",
       "      <td>M1979787155</td>\n",
       "      <td>0.0</td>\n",
       "      <td>0.0</td>\n",
       "      <td>0</td>\n",
       "      <td>0</td>\n",
       "      <td>0</td>\n",
       "      <td>0</td>\n",
       "      <td>0</td>\n",
       "      <td>1</td>\n",
       "      <td>0</td>\n",
       "    </tr>\n",
       "    <tr>\n",
       "      <th>1</th>\n",
       "      <td>1</td>\n",
       "      <td>PAYMENT</td>\n",
       "      <td>1864.28</td>\n",
       "      <td>C1666544295</td>\n",
       "      <td>21249.0</td>\n",
       "      <td>19384.72</td>\n",
       "      <td>M2044282225</td>\n",
       "      <td>0.0</td>\n",
       "      <td>0.0</td>\n",
       "      <td>0</td>\n",
       "      <td>0</td>\n",
       "      <td>0</td>\n",
       "      <td>0</td>\n",
       "      <td>0</td>\n",
       "      <td>1</td>\n",
       "      <td>0</td>\n",
       "    </tr>\n",
       "    <tr>\n",
       "      <th>2</th>\n",
       "      <td>1</td>\n",
       "      <td>TRANSFER</td>\n",
       "      <td>181.00</td>\n",
       "      <td>C1305486145</td>\n",
       "      <td>181.0</td>\n",
       "      <td>0.00</td>\n",
       "      <td>C553264065</td>\n",
       "      <td>0.0</td>\n",
       "      <td>0.0</td>\n",
       "      <td>1</td>\n",
       "      <td>0</td>\n",
       "      <td>0</td>\n",
       "      <td>0</td>\n",
       "      <td>0</td>\n",
       "      <td>0</td>\n",
       "      <td>1</td>\n",
       "    </tr>\n",
       "  </tbody>\n",
       "</table>\n",
       "</div>"
      ],
      "text/plain": [
       "   totalHoras tipoTransacao  quantia clienteOrigem  saldoInicialOrigem  \\\n",
       "0           1       PAYMENT  9839.64   C1231006815            170136.0   \n",
       "1           1       PAYMENT  1864.28   C1666544295             21249.0   \n",
       "2           1      TRANSFER   181.00   C1305486145               181.0   \n",
       "\n",
       "   saldoFinalOrigem clienteDestino  saldoInicialDestino  saldoFinalDestino  \\\n",
       "0         160296.36    M1979787155                  0.0                0.0   \n",
       "1          19384.72    M2044282225                  0.0                0.0   \n",
       "2              0.00     C553264065                  0.0                0.0   \n",
       "\n",
       "   ehFraude  sinalizadaComoFraude  deposito  saque  debito  pagamento  \\\n",
       "0         0                     0         0      0       0          1   \n",
       "1         0                     0         0      0       0          1   \n",
       "2         1                     0         0      0       0          0   \n",
       "\n",
       "   transferencia  \n",
       "0              0  \n",
       "1              0  \n",
       "2              1  "
      ]
     },
     "execution_count": 13,
     "metadata": {},
     "output_type": "execute_result"
    }
   ],
   "source": [
    "df3 = df3.rename(\n",
    "    columns={\"CASH_IN\":\"deposito\", \"CASH_OUT\": \"saque\", \"DEBIT\": \"debito\",\n",
    "             \"PAYMENT\": \"pagamento\", \"TRANSFER\": \"transferencia\",\n",
    "             })\n",
    "df3.head(3)"
   ]
  },
  {
   "cell_type": "markdown",
   "metadata": {
    "id": "6Q5OYGDyXi--"
   },
   "source": [
    "# Análise exploratória dos dados"
   ]
  },
  {
   "cell_type": "markdown",
   "metadata": {
    "id": "MkDT-r9xhoVD"
   },
   "source": []
  },
  {
   "cell_type": "code",
   "execution_count": 14,
   "metadata": {
    "id": "tY3XS7bEpfEp"
   },
   "outputs": [],
   "source": [
    "import seaborn as sns"
   ]
  },
  {
   "cell_type": "code",
   "execution_count": 15,
   "metadata": {
    "colab": {
     "base_uri": "https://localhost:8080/",
     "height": 197
    },
    "id": "LZjApgwGnOuu",
    "outputId": "2e9461c1-ed6f-4b3e-d901-ae1581ac3027"
   },
   "outputs": [
    {
     "data": {
      "image/png": "[encoded data removed]",
      "text/plain": [
       "<Figure size 319.236x250 with 1 Axes>"
      ]
     },
     "metadata": {},
     "output_type": "display_data"
    }
   ],
   "source": [
    "sns.pairplot(df3, x_vars=['ehFraude'], y_vars=['totalHoras'], hue='ehFraude');"
   ]
  },
  {
   "cell_type": "code",
   "execution_count": 16,
   "metadata": {
    "colab": {
     "base_uri": "https://localhost:8080/",
     "height": 197
    },
    "id": "zmjb6WxfsslS",
    "outputId": "710e7d48-69b7-45b3-a1ae-3127e7a95f1d"
   },
   "outputs": [
    {
     "data": {
      "image/png": "[encoded data removed]",
      "text/plain": [
       "<Figure size 319.236x250 with 1 Axes>"
      ]
     },
     "metadata": {},
     "output_type": "display_data"
    }
   ],
   "source": [
    "sns.pairplot(df3, x_vars=['ehFraude'], y_vars=['quantia'], hue='ehFraude');"
   ]
  },
  {
   "cell_type": "code",
   "execution_count": 17,
   "metadata": {
    "id": "3IXSRVtsnR7r"
   },
   "outputs": [
    {
     "data": {
      "image/png": "[encoded data removed]",
      "text/plain": [
       "<Figure size 319.236x250 with 1 Axes>"
      ]
     },
     "metadata": {},
     "output_type": "display_data"
    }
   ],
   "source": [
    "sns.pairplot(df3, x_vars=['ehFraude'], y_vars=[ 'saldoInicialOrigem'], hue='ehFraude');"
   ]
  },
  {
   "cell_type": "code",
   "execution_count": 18,
   "metadata": {
    "id": "ia-rRZS7vEv4"
   },
   "outputs": [
    {
     "data": {
      "image/png": "[encoded data removed]",
      "text/plain": [
       "<Figure size 319.236x250 with 1 Axes>"
      ]
     },
     "metadata": {},
     "output_type": "display_data"
    }
   ],
   "source": [
    "sns.pairplot(df3, x_vars=['ehFraude'], y_vars=[ 'saldoFinalOrigem'], hue='ehFraude');"
   ]
  },
  {
   "cell_type": "code",
   "execution_count": 19,
   "metadata": {
    "id": "6HIzkIKAp2Dy"
   },
   "outputs": [
    {
     "data": {
      "image/png": "[encoded data removed]",
      "text/plain": [
       "<Figure size 319.236x250 with 1 Axes>"
      ]
     },
     "metadata": {},
     "output_type": "display_data"
    }
   ],
   "source": [
    "sns.pairplot(df3, x_vars=['ehFraude'], y_vars=['saldoInicialDestino'], hue='ehFraude');"
   ]
  },
  {
   "cell_type": "code",
   "execution_count": 20,
   "metadata": {
    "id": "Xp4iw_K3vp6l"
   },
   "outputs": [
    {
     "data": {
      "image/png": "[encoded data removed]",
      "text/plain": [
       "<Figure size 319.236x250 with 1 Axes>"
      ]
     },
     "metadata": {},
     "output_type": "display_data"
    }
   ],
   "source": [
    "sns.pairplot(df3, x_vars=['ehFraude'], y_vars=['saldoFinalDestino'], hue='ehFraude');"
   ]
  },
  {
   "cell_type": "code",
   "execution_count": 21,
   "metadata": {
    "id": "IqkynfygqGPQ"
   },
   "outputs": [
    {
     "data": {
      "image/png": "[encoded data removed]",
      "text/plain": [
       "<Figure size 319.236x250 with 1 Axes>"
      ]
     },
     "metadata": {},
     "output_type": "display_data"
    }
   ],
   "source": [
    "sns.pairplot(df3, x_vars=['ehFraude'], y_vars=['sinalizadaComoFraude'], hue='ehFraude');"
   ]
  },
  {
   "cell_type": "code",
   "execution_count": 22,
   "metadata": {
    "id": "9dBHoMe_vvOd"
   },
   "outputs": [
    {
     "data": {
      "image/png": "[encoded data removed]",
      "text/plain": [
       "<Figure size 319.236x250 with 1 Axes>"
      ]
     },
     "metadata": {},
     "output_type": "display_data"
    }
   ],
   "source": [
    "sns.pairplot(df3, x_vars=['ehFraude'], y_vars=['deposito'], hue='ehFraude');"
   ]
  },
  {
   "cell_type": "code",
   "execution_count": 23,
   "metadata": {
    "id": "x7vZgKAlqOqk"
   },
   "outputs": [
    {
     "data": {
      "image/png": "[encoded data removed]",
      "text/plain": [
       "<Figure size 319.236x250 with 1 Axes>"
      ]
     },
     "metadata": {},
     "output_type": "display_data"
    }
   ],
   "source": [
    "sns.pairplot(df3, x_vars=['ehFraude'], y_vars=['saque'], hue='ehFraude');"
   ]
  },
  {
   "cell_type": "code",
   "execution_count": 24,
   "metadata": {
    "id": "whtPXIg_v0n6"
   },
   "outputs": [
    {
     "data": {
      "image/png": "[encoded data removed]",
      "text/plain": [
       "<Figure size 319.236x250 with 1 Axes>"
      ]
     },
     "metadata": {},
     "output_type": "display_data"
    }
   ],
   "source": [
    "sns.pairplot(df3, x_vars=['ehFraude'], y_vars=['debito'], hue='ehFraude');"
   ]
  },
  {
   "cell_type": "code",
   "execution_count": 25,
   "metadata": {
    "id": "_lKs8UREqUsw"
   },
   "outputs": [
    {
     "data": {
      "image/png": "[encoded data removed]",
      "text/plain": [
       "<Figure size 319.236x250 with 1 Axes>"
      ]
     },
     "metadata": {},
     "output_type": "display_data"
    }
   ],
   "source": [
    "sns.pairplot(df3, x_vars=['ehFraude'], y_vars=['pagamento'], hue='ehFraude');"
   ]
  },
  {
   "cell_type": "code",
   "execution_count": 26,
   "metadata": {
    "id": "TDICgUUHv4u2"
   },
   "outputs": [
    {
     "data": {
      "image/png": "[encoded data removed]",
      "text/plain": [
       "<Figure size 319.236x250 with 1 Axes>"
      ]
     },
     "metadata": {},
     "output_type": "display_data"
    }
   ],
   "source": [
    "sns.pairplot(df3, x_vars=['ehFraude'], y_vars=['transferencia'], hue='ehFraude');"
   ]
  }
 ],
 "metadata": {
  "colab": {
   "authorship_tag": "ABX9TyMMlO4JxWK6PvB/rk1gFuQR",
   "collapsed_sections": [],
   "include_colab_link": true,
   "mount_file_id": "1Xd-cKCvSj_ViwjjR7uO4H5f7hf62CjZa",
   "name": "TERA - Desafio de Classificação.ipynb",
   "provenance": []
  },
  "kernelspec": {
   "display_name": "Python 3 (ipykernel)",
   "language": "python",
   "name": "python3"
  },
  "language_info": {
   "codemirror_mode": {
    "name": "ipython",
    "version": 3
   },
   "file_extension": ".py",
   "mimetype": "text/x-python",
   "name": "python",
   "nbconvert_exporter": "python",
   "pygments_lexer": "ipython3",
   "version": "3.9.7"
  }
 },
 "nbformat": 4,
 "nbformat_minor": 1
}
